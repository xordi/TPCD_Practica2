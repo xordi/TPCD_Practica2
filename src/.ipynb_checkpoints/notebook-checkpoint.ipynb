{
 "cells": [
  {
   "cell_type": "markdown",
   "metadata": {},
   "source": [
    "# Pràctica 2: Neteja i anàlisi de dades\n",
    "\n",
    "## 1. Dataset\n",
    "\n",
    "El dataset emprat en aquesta pràctica és el generat a la PRA1 de l'assignatura, on vam recollir les dades de la web de Fotocasa dels pisos en lloguer a la ciutat de Barcelona (a data d'octubre de 2020), mitjançant scraping.\n",
    "\n",
    "L'objectiu de l'anàlisi de les dades d'aquest dataset és respondre a les següents qüestions:\n",
    "\n",
    "- Quines són les variables del dataset que influeixen de manera més significativa sobre el preu?\n",
    "- Hi ha diferències significatives en els preus de lloguer entre els diferents barris de la ciutat?\n",
    "- Hi ha diferències significatives en els preus de lloguer entre les diferents agències?\n",
    "- Es pot crear un model de regressió que permeti predir el preu d'un habitatge en base a les seves característiques?"
   ]
  },
  {
   "cell_type": "markdown",
   "metadata": {},
   "source": [
    "## 2. Selecció de dades"
   ]
  },
  {
   "cell_type": "markdown",
   "metadata": {},
   "source": [
    "Primerament, determinarem quines són les variables del nostre dataset i el seu tipus. Seguidament, eliminarem aquelles que no aportin informació útil de cara a la nostra anàlisi. Finalment, farem una eliminació de files duplicades."
   ]
  },
  {
   "cell_type": "code",
   "execution_count": 1,
   "metadata": {},
   "outputs": [],
   "source": [
    "import pandas as pd\n",
    "\n",
    "apartments = pd.read_csv('../csv/data_final.csv')"
   ]
  },
  {
   "cell_type": "markdown",
   "metadata": {},
   "source": [
    "### Eliminació de dimensions"
   ]
  },
  {
   "cell_type": "code",
   "execution_count": 2,
   "metadata": {
    "scrolled": false
   },
   "outputs": [
    {
     "data": {
      "text/plain": [
       "id                       int64\n",
       "address                 object\n",
       "bathrooms                int64\n",
       "building_subtype        object\n",
       "building_type           object\n",
       "conservation_state     float64\n",
       "date                    object\n",
       "discount                 int64\n",
       "floor_elevator           int64\n",
       "is_new_construction       bool\n",
       "latitude               float64\n",
       "link                    object\n",
       "longitude              float64\n",
       "price                  float64\n",
       "realestate              object\n",
       "realestate_id            int64\n",
       "rooms                    int64\n",
       "sqft_m2                  int64\n",
       "neighbourhood           object\n",
       "neighb_meanprice       float64\n",
       "dtype: object"
      ]
     },
     "execution_count": 2,
     "metadata": {},
     "output_type": "execute_result"
    }
   ],
   "source": [
    "apartments.dtypes"
   ]
  },
  {
   "cell_type": "markdown",
   "metadata": {},
   "source": [
    "Donats els objectius de la nostra anàlisi, hi ha certes columnes del dataset que podem eliminar:\n",
    "\n",
    "- __id__, que simplement conté l'índex de la fila dintre del dataset, de moment la deixem per si hem de sel·leccionar files per aquest índex.\n",
    "- __address__, que conté la direcció del pis. Ja tenim el barri disponible a la columna __neighbourhood__ i per tant, aquest camp aporta informació innecessària a la nostra anàlisi.\n",
    "- __date__, que conté la data en la que es va recollir la mostra. Solament la vam recollir un dia específic i per tant, no aporta cap informació rellevant a l'anàlisi actual.\n",
    "- __realestate_id__, que conté l'identificador de l'agència que oferta el pis en lloguer. Ens preferim quedar amb el nom ja que ens permetrà visualitzar la informació de manera més clara"
   ]
  },
  {
   "cell_type": "code",
   "execution_count": 3,
   "metadata": {},
   "outputs": [],
   "source": [
    "apartments = apartments.drop(columns=['address', 'date', 'realestate_id'])"
   ]
  },
  {
   "cell_type": "markdown",
   "metadata": {},
   "source": [
    "### Eliminació de files duplicades"
   ]
  },
  {
   "cell_type": "markdown",
   "metadata": {},
   "source": [
    "L'eliminació de files duplicades la portarem a terme en base a la variable __link__. Si tenim dues o més observacions del mateix pis de la web de Fotocasa, ens quedarem únicament amb la primera:"
   ]
  },
  {
   "cell_type": "code",
   "execution_count": 4,
   "metadata": {},
   "outputs": [
    {
     "data": {
      "text/html": [
       "<div>\n",
       "<style scoped>\n",
       "    .dataframe tbody tr th:only-of-type {\n",
       "        vertical-align: middle;\n",
       "    }\n",
       "\n",
       "    .dataframe tbody tr th {\n",
       "        vertical-align: top;\n",
       "    }\n",
       "\n",
       "    .dataframe thead th {\n",
       "        text-align: right;\n",
       "    }\n",
       "</style>\n",
       "<table border=\"1\" class=\"dataframe\">\n",
       "  <thead>\n",
       "    <tr style=\"text-align: right;\">\n",
       "      <th></th>\n",
       "      <th>id</th>\n",
       "      <th>bathrooms</th>\n",
       "      <th>building_subtype</th>\n",
       "      <th>building_type</th>\n",
       "      <th>conservation_state</th>\n",
       "      <th>discount</th>\n",
       "      <th>floor_elevator</th>\n",
       "      <th>is_new_construction</th>\n",
       "      <th>latitude</th>\n",
       "      <th>link</th>\n",
       "      <th>longitude</th>\n",
       "      <th>price</th>\n",
       "      <th>realestate</th>\n",
       "      <th>rooms</th>\n",
       "      <th>sqft_m2</th>\n",
       "      <th>neighbourhood</th>\n",
       "      <th>neighb_meanprice</th>\n",
       "    </tr>\n",
       "  </thead>\n",
       "  <tbody>\n",
       "    <tr>\n",
       "      <th>39</th>\n",
       "      <td>39</td>\n",
       "      <td>1</td>\n",
       "      <td>Apartment</td>\n",
       "      <td>Flat</td>\n",
       "      <td>NaN</td>\n",
       "      <td>0</td>\n",
       "      <td>0</td>\n",
       "      <td>False</td>\n",
       "      <td>41.38071</td>\n",
       "      <td>/es/alquiler/vivienda/barcelona-capital/el-rav...</td>\n",
       "      <td>2.168707</td>\n",
       "      <td>525.0</td>\n",
       "      <td>INVERSIONES INMOBILIARIAS Y FINANCIERAS SANT A...</td>\n",
       "      <td>0</td>\n",
       "      <td>35</td>\n",
       "      <td>el raval</td>\n",
       "      <td>14.323614</td>\n",
       "    </tr>\n",
       "    <tr>\n",
       "      <th>40</th>\n",
       "      <td>40</td>\n",
       "      <td>1</td>\n",
       "      <td>Apartment</td>\n",
       "      <td>Flat</td>\n",
       "      <td>NaN</td>\n",
       "      <td>0</td>\n",
       "      <td>0</td>\n",
       "      <td>False</td>\n",
       "      <td>41.38071</td>\n",
       "      <td>/es/alquiler/vivienda/barcelona-capital/el-rav...</td>\n",
       "      <td>2.168707</td>\n",
       "      <td>525.0</td>\n",
       "      <td>INVERSIONES INMOBILIARIAS Y FINANCIERAS SANT A...</td>\n",
       "      <td>0</td>\n",
       "      <td>35</td>\n",
       "      <td>el raval</td>\n",
       "      <td>14.323614</td>\n",
       "    </tr>\n",
       "    <tr>\n",
       "      <th>41</th>\n",
       "      <td>41</td>\n",
       "      <td>1</td>\n",
       "      <td>Apartment</td>\n",
       "      <td>Flat</td>\n",
       "      <td>NaN</td>\n",
       "      <td>0</td>\n",
       "      <td>0</td>\n",
       "      <td>False</td>\n",
       "      <td>41.38071</td>\n",
       "      <td>/es/alquiler/vivienda/barcelona-capital/el-rav...</td>\n",
       "      <td>2.168707</td>\n",
       "      <td>525.0</td>\n",
       "      <td>INVERSIONES INMOBILIARIAS Y FINANCIERAS SANT A...</td>\n",
       "      <td>0</td>\n",
       "      <td>35</td>\n",
       "      <td>el raval</td>\n",
       "      <td>14.323614</td>\n",
       "    </tr>\n",
       "    <tr>\n",
       "      <th>42</th>\n",
       "      <td>42</td>\n",
       "      <td>1</td>\n",
       "      <td>Apartment</td>\n",
       "      <td>Flat</td>\n",
       "      <td>NaN</td>\n",
       "      <td>0</td>\n",
       "      <td>0</td>\n",
       "      <td>False</td>\n",
       "      <td>41.38071</td>\n",
       "      <td>/es/alquiler/vivienda/barcelona-capital/el-rav...</td>\n",
       "      <td>2.168707</td>\n",
       "      <td>525.0</td>\n",
       "      <td>INVERSIONES INMOBILIARIAS Y FINANCIERAS SANT A...</td>\n",
       "      <td>0</td>\n",
       "      <td>35</td>\n",
       "      <td>el raval</td>\n",
       "      <td>14.323614</td>\n",
       "    </tr>\n",
       "    <tr>\n",
       "      <th>43</th>\n",
       "      <td>43</td>\n",
       "      <td>1</td>\n",
       "      <td>Apartment</td>\n",
       "      <td>Flat</td>\n",
       "      <td>NaN</td>\n",
       "      <td>0</td>\n",
       "      <td>0</td>\n",
       "      <td>False</td>\n",
       "      <td>41.38071</td>\n",
       "      <td>/es/alquiler/vivienda/barcelona-capital/el-rav...</td>\n",
       "      <td>2.168707</td>\n",
       "      <td>525.0</td>\n",
       "      <td>INVERSIONES INMOBILIARIAS Y FINANCIERAS SANT A...</td>\n",
       "      <td>0</td>\n",
       "      <td>35</td>\n",
       "      <td>el raval</td>\n",
       "      <td>14.323614</td>\n",
       "    </tr>\n",
       "    <tr>\n",
       "      <th>...</th>\n",
       "      <td>...</td>\n",
       "      <td>...</td>\n",
       "      <td>...</td>\n",
       "      <td>...</td>\n",
       "      <td>...</td>\n",
       "      <td>...</td>\n",
       "      <td>...</td>\n",
       "      <td>...</td>\n",
       "      <td>...</td>\n",
       "      <td>...</td>\n",
       "      <td>...</td>\n",
       "      <td>...</td>\n",
       "      <td>...</td>\n",
       "      <td>...</td>\n",
       "      <td>...</td>\n",
       "      <td>...</td>\n",
       "      <td>...</td>\n",
       "    </tr>\n",
       "    <tr>\n",
       "      <th>11803</th>\n",
       "      <td>11803</td>\n",
       "      <td>2</td>\n",
       "      <td>Attic</td>\n",
       "      <td>Flat</td>\n",
       "      <td>1.0</td>\n",
       "      <td>200</td>\n",
       "      <td>1</td>\n",
       "      <td>False</td>\n",
       "      <td>41.39394</td>\n",
       "      <td>/es/alquiler/vivienda/barcelona-capital/aire-a...</td>\n",
       "      <td>2.121359</td>\n",
       "      <td>3700.0</td>\n",
       "      <td>Stipek Ferrer Premium Properties</td>\n",
       "      <td>4</td>\n",
       "      <td>280</td>\n",
       "      <td>sarrià</td>\n",
       "      <td>16.866645</td>\n",
       "    </tr>\n",
       "    <tr>\n",
       "      <th>11804</th>\n",
       "      <td>11804</td>\n",
       "      <td>2</td>\n",
       "      <td>Attic</td>\n",
       "      <td>Flat</td>\n",
       "      <td>1.0</td>\n",
       "      <td>200</td>\n",
       "      <td>1</td>\n",
       "      <td>False</td>\n",
       "      <td>41.39394</td>\n",
       "      <td>/es/alquiler/vivienda/barcelona-capital/aire-a...</td>\n",
       "      <td>2.121359</td>\n",
       "      <td>3700.0</td>\n",
       "      <td>Stipek Ferrer Premium Properties</td>\n",
       "      <td>4</td>\n",
       "      <td>280</td>\n",
       "      <td>sarrià</td>\n",
       "      <td>16.866645</td>\n",
       "    </tr>\n",
       "    <tr>\n",
       "      <th>12007</th>\n",
       "      <td>12007</td>\n",
       "      <td>5</td>\n",
       "      <td>Flat</td>\n",
       "      <td>Flat</td>\n",
       "      <td>2.0</td>\n",
       "      <td>0</td>\n",
       "      <td>1</td>\n",
       "      <td>False</td>\n",
       "      <td>41.39514</td>\n",
       "      <td>/es/alquiler/vivienda/barcelona-capital/aire-a...</td>\n",
       "      <td>2.141838</td>\n",
       "      <td>5300.0</td>\n",
       "      <td>Max Ricart</td>\n",
       "      <td>6</td>\n",
       "      <td>280</td>\n",
       "      <td>sant gervasi - galvany</td>\n",
       "      <td>15.275452</td>\n",
       "    </tr>\n",
       "    <tr>\n",
       "      <th>12061</th>\n",
       "      <td>12061</td>\n",
       "      <td>2</td>\n",
       "      <td>Apartment</td>\n",
       "      <td>Flat</td>\n",
       "      <td>NaN</td>\n",
       "      <td>594</td>\n",
       "      <td>0</td>\n",
       "      <td>False</td>\n",
       "      <td>41.39498</td>\n",
       "      <td>/es/alquiler/vivienda/barcelona-capital/aire-a...</td>\n",
       "      <td>2.147670</td>\n",
       "      <td>6073.0</td>\n",
       "      <td>Homelike</td>\n",
       "      <td>4</td>\n",
       "      <td>100</td>\n",
       "      <td>sant gervasi - galvany</td>\n",
       "      <td>15.275452</td>\n",
       "    </tr>\n",
       "    <tr>\n",
       "      <th>12116</th>\n",
       "      <td>12116</td>\n",
       "      <td>7</td>\n",
       "      <td>House_Chalet</td>\n",
       "      <td>Flat</td>\n",
       "      <td>2.0</td>\n",
       "      <td>0</td>\n",
       "      <td>0</td>\n",
       "      <td>False</td>\n",
       "      <td>41.39722</td>\n",
       "      <td>/es/alquiler/vivienda/barcelona-capital/aire-a...</td>\n",
       "      <td>2.137248</td>\n",
       "      <td>9000.0</td>\n",
       "      <td>FINQUES CANO PUJOL</td>\n",
       "      <td>8</td>\n",
       "      <td>560</td>\n",
       "      <td>sant gervasi - galvany</td>\n",
       "      <td>15.275452</td>\n",
       "    </tr>\n",
       "  </tbody>\n",
       "</table>\n",
       "<p>2268 rows × 17 columns</p>\n",
       "</div>"
      ],
      "text/plain": [
       "          id  bathrooms building_subtype building_type  conservation_state  \\\n",
       "39        39          1        Apartment          Flat                 NaN   \n",
       "40        40          1        Apartment          Flat                 NaN   \n",
       "41        41          1        Apartment          Flat                 NaN   \n",
       "42        42          1        Apartment          Flat                 NaN   \n",
       "43        43          1        Apartment          Flat                 NaN   \n",
       "...      ...        ...              ...           ...                 ...   \n",
       "11803  11803          2            Attic          Flat                 1.0   \n",
       "11804  11804          2            Attic          Flat                 1.0   \n",
       "12007  12007          5             Flat          Flat                 2.0   \n",
       "12061  12061          2        Apartment          Flat                 NaN   \n",
       "12116  12116          7     House_Chalet          Flat                 2.0   \n",
       "\n",
       "       discount  floor_elevator  is_new_construction  latitude  \\\n",
       "39            0               0                False  41.38071   \n",
       "40            0               0                False  41.38071   \n",
       "41            0               0                False  41.38071   \n",
       "42            0               0                False  41.38071   \n",
       "43            0               0                False  41.38071   \n",
       "...         ...             ...                  ...       ...   \n",
       "11803       200               1                False  41.39394   \n",
       "11804       200               1                False  41.39394   \n",
       "12007         0               1                False  41.39514   \n",
       "12061       594               0                False  41.39498   \n",
       "12116         0               0                False  41.39722   \n",
       "\n",
       "                                                    link  longitude   price  \\\n",
       "39     /es/alquiler/vivienda/barcelona-capital/el-rav...   2.168707   525.0   \n",
       "40     /es/alquiler/vivienda/barcelona-capital/el-rav...   2.168707   525.0   \n",
       "41     /es/alquiler/vivienda/barcelona-capital/el-rav...   2.168707   525.0   \n",
       "42     /es/alquiler/vivienda/barcelona-capital/el-rav...   2.168707   525.0   \n",
       "43     /es/alquiler/vivienda/barcelona-capital/el-rav...   2.168707   525.0   \n",
       "...                                                  ...        ...     ...   \n",
       "11803  /es/alquiler/vivienda/barcelona-capital/aire-a...   2.121359  3700.0   \n",
       "11804  /es/alquiler/vivienda/barcelona-capital/aire-a...   2.121359  3700.0   \n",
       "12007  /es/alquiler/vivienda/barcelona-capital/aire-a...   2.141838  5300.0   \n",
       "12061  /es/alquiler/vivienda/barcelona-capital/aire-a...   2.147670  6073.0   \n",
       "12116  /es/alquiler/vivienda/barcelona-capital/aire-a...   2.137248  9000.0   \n",
       "\n",
       "                                              realestate  rooms  sqft_m2  \\\n",
       "39     INVERSIONES INMOBILIARIAS Y FINANCIERAS SANT A...      0       35   \n",
       "40     INVERSIONES INMOBILIARIAS Y FINANCIERAS SANT A...      0       35   \n",
       "41     INVERSIONES INMOBILIARIAS Y FINANCIERAS SANT A...      0       35   \n",
       "42     INVERSIONES INMOBILIARIAS Y FINANCIERAS SANT A...      0       35   \n",
       "43     INVERSIONES INMOBILIARIAS Y FINANCIERAS SANT A...      0       35   \n",
       "...                                                  ...    ...      ...   \n",
       "11803                   Stipek Ferrer Premium Properties      4      280   \n",
       "11804                   Stipek Ferrer Premium Properties      4      280   \n",
       "12007                                         Max Ricart      6      280   \n",
       "12061                                           Homelike      4      100   \n",
       "12116                                 FINQUES CANO PUJOL      8      560   \n",
       "\n",
       "                neighbourhood  neighb_meanprice  \n",
       "39                   el raval         14.323614  \n",
       "40                   el raval         14.323614  \n",
       "41                   el raval         14.323614  \n",
       "42                   el raval         14.323614  \n",
       "43                   el raval         14.323614  \n",
       "...                       ...               ...  \n",
       "11803                  sarrià         16.866645  \n",
       "11804                  sarrià         16.866645  \n",
       "12007  sant gervasi - galvany         15.275452  \n",
       "12061  sant gervasi - galvany         15.275452  \n",
       "12116  sant gervasi - galvany         15.275452  \n",
       "\n",
       "[2268 rows x 17 columns]"
      ]
     },
     "execution_count": 4,
     "metadata": {},
     "output_type": "execute_result"
    }
   ],
   "source": [
    "apartments.loc[apartments.duplicated('link')]"
   ]
  },
  {
   "cell_type": "code",
   "execution_count": 5,
   "metadata": {},
   "outputs": [],
   "source": [
    "apartments = apartments.drop_duplicates('link')"
   ]
  },
  {
   "cell_type": "markdown",
   "metadata": {},
   "source": [
    "### Tipus de dades\n",
    "\n",
    "Si observem els tipus de dades anteriors, es pot veure com __conservation_state__, __building_subtype__ y __building_type__ poden ser variables categòriques, o com __floor_elevator__ és en realitat una variable booleana. Podem aplicar la conversió sobre aquestes variables amb l'objectiu de millorar l'anàlisi:"
   ]
  },
  {
   "cell_type": "code",
   "execution_count": 6,
   "metadata": {},
   "outputs": [],
   "source": [
    "apartments = apartments.astype({\n",
    "    'conservation_state': 'category',\n",
    "    'building_subtype': 'category',\n",
    "    'building_type': 'category',\n",
    "    'floor_elevator': 'bool',\n",
    "    'neighbourhood':'category'\n",
    "})"
   ]
  },
  {
   "cell_type": "markdown",
   "metadata": {},
   "source": [
    "## 3. Neteja de dades"
   ]
  },
  {
   "cell_type": "markdown",
   "metadata": {},
   "source": [
    "### Valors buits\n",
    "\n",
    "Anem a determinar quins són els valors buits de cadascuna de les columnes:"
   ]
  },
  {
   "cell_type": "code",
   "execution_count": 7,
   "metadata": {},
   "outputs": [
    {
     "data": {
      "text/plain": [
       "id                        0\n",
       "bathrooms                 0\n",
       "building_subtype          0\n",
       "building_type             0\n",
       "conservation_state     5340\n",
       "discount                  0\n",
       "floor_elevator            0\n",
       "is_new_construction       0\n",
       "latitude                  0\n",
       "link                      0\n",
       "longitude                 0\n",
       "price                     4\n",
       "realestate              106\n",
       "rooms                     0\n",
       "sqft_m2                   0\n",
       "neighbourhood             1\n",
       "neighb_meanprice          1\n",
       "dtype: int64"
      ]
     },
     "execution_count": 7,
     "metadata": {},
     "output_type": "execute_result"
    }
   ],
   "source": [
    "apartments.isna().sum()"
   ]
  },
  {
   "cell_type": "markdown",
   "metadata": {},
   "source": [
    "Veiem que molts habitatges no tenen informació sobre l'estat de conservació. Omplirem amb -1 aquells que no en tinguin:"
   ]
  },
  {
   "cell_type": "code",
   "execution_count": 8,
   "metadata": {},
   "outputs": [],
   "source": [
    "apartments['conservation_state'] = apartments['conservation_state'].cat.add_categories(-1)\n",
    "\n",
    "apartments['conservation_state'] = apartments['conservation_state'].fillna(-1)"
   ]
  },
  {
   "cell_type": "markdown",
   "metadata": {},
   "source": [
    "Donat que volem respondre a la pregunta de si hi ha diferències de preu entre les diferents agències, eliminem les observacions que no tenen agència:"
   ]
  },
  {
   "cell_type": "code",
   "execution_count": 9,
   "metadata": {
    "scrolled": true
   },
   "outputs": [
    {
     "data": {
      "text/plain": [
       "id                     0\n",
       "bathrooms              0\n",
       "building_subtype       0\n",
       "building_type          0\n",
       "conservation_state     0\n",
       "discount               0\n",
       "floor_elevator         0\n",
       "is_new_construction    0\n",
       "latitude               0\n",
       "link                   0\n",
       "longitude              0\n",
       "price                  4\n",
       "realestate             0\n",
       "rooms                  0\n",
       "sqft_m2                0\n",
       "neighbourhood          1\n",
       "neighb_meanprice       1\n",
       "dtype: int64"
      ]
     },
     "execution_count": 9,
     "metadata": {},
     "output_type": "execute_result"
    }
   ],
   "source": [
    "apartments = apartments.dropna(subset=['realestate'])\n",
    "apartments.isna().sum()"
   ]
  },
  {
   "cell_type": "markdown",
   "metadata": {},
   "source": [
    "Pel que fa al preu, es tracta de poques observacions que tenen un valor buit per aquesta variable. Com que l'objectiu d'aquesta anàlisi gira entorn al preu, decidim inserir la informació de forma manual consultant la web de Fotocasa:"
   ]
  },
  {
   "cell_type": "code",
   "execution_count": 10,
   "metadata": {},
   "outputs": [
    {
     "data": {
      "text/plain": [
       "12154    /es/alquiler/vivienda/barcelona-capital/calefa...\n",
       "12155    /es/alquiler/vivienda/barcelona-capital/ascens...\n",
       "12156    /es/alquiler/vivienda/barcelona-capital/aire-a...\n",
       "12157    /es/alquiler/vivienda/barcelona-capital/aire-a...\n",
       "Name: link, dtype: object"
      ]
     },
     "execution_count": 10,
     "metadata": {},
     "output_type": "execute_result"
    }
   ],
   "source": [
    "apartments[apartments.price.isna()]['link']"
   ]
  },
  {
   "cell_type": "markdown",
   "metadata": {},
   "source": [
    "Les quatre observacions, un cop consultat el link al web de Fotocasa, corresponen a habitatges que no tenen preu, indicant-ho al web com pre \"a consultar\". Com necessitem treballar amb els preus, procedirem a eliminiar aquestes dades."
   ]
  },
  {
   "cell_type": "code",
   "execution_count": 11,
   "metadata": {},
   "outputs": [],
   "source": [
    "apartments = apartments.dropna(subset=['price'])"
   ]
  },
  {
   "cell_type": "markdown",
   "metadata": {},
   "source": [
    "Finalment, ens queda omplir manualment les observacions que no tenen barri, de nou, mitjançant l'enllaç de Fotocasa per veure si podem determinar aquesta informació:"
   ]
  },
  {
   "cell_type": "code",
   "execution_count": 12,
   "metadata": {
    "scrolled": true
   },
   "outputs": [
    {
     "data": {
      "text/html": [
       "<div>\n",
       "<style scoped>\n",
       "    .dataframe tbody tr th:only-of-type {\n",
       "        vertical-align: middle;\n",
       "    }\n",
       "\n",
       "    .dataframe tbody tr th {\n",
       "        vertical-align: top;\n",
       "    }\n",
       "\n",
       "    .dataframe thead th {\n",
       "        text-align: right;\n",
       "    }\n",
       "</style>\n",
       "<table border=\"1\" class=\"dataframe\">\n",
       "  <thead>\n",
       "    <tr style=\"text-align: right;\">\n",
       "      <th></th>\n",
       "      <th>id</th>\n",
       "      <th>bathrooms</th>\n",
       "      <th>building_subtype</th>\n",
       "      <th>building_type</th>\n",
       "      <th>conservation_state</th>\n",
       "      <th>discount</th>\n",
       "      <th>floor_elevator</th>\n",
       "      <th>is_new_construction</th>\n",
       "      <th>latitude</th>\n",
       "      <th>link</th>\n",
       "      <th>longitude</th>\n",
       "      <th>price</th>\n",
       "      <th>realestate</th>\n",
       "      <th>rooms</th>\n",
       "      <th>sqft_m2</th>\n",
       "      <th>neighbourhood</th>\n",
       "      <th>neighb_meanprice</th>\n",
       "    </tr>\n",
       "  </thead>\n",
       "  <tbody>\n",
       "    <tr>\n",
       "      <th>1384</th>\n",
       "      <td>1384</td>\n",
       "      <td>1</td>\n",
       "      <td>Flat</td>\n",
       "      <td>Flat</td>\n",
       "      <td>-1.0</td>\n",
       "      <td>0</td>\n",
       "      <td>False</td>\n",
       "      <td>False</td>\n",
       "      <td>41.35395</td>\n",
       "      <td>/es/alquiler/vivienda/barcelona-capital/la-mar...</td>\n",
       "      <td>2.148532</td>\n",
       "      <td>750.0</td>\n",
       "      <td>FINCAS LAFONT</td>\n",
       "      <td>3</td>\n",
       "      <td>70</td>\n",
       "      <td>NaN</td>\n",
       "      <td>NaN</td>\n",
       "    </tr>\n",
       "  </tbody>\n",
       "</table>\n",
       "</div>"
      ],
      "text/plain": [
       "        id  bathrooms building_subtype building_type conservation_state  \\\n",
       "1384  1384          1             Flat          Flat               -1.0   \n",
       "\n",
       "      discount  floor_elevator  is_new_construction  latitude  \\\n",
       "1384         0           False                False  41.35395   \n",
       "\n",
       "                                                   link  longitude  price  \\\n",
       "1384  /es/alquiler/vivienda/barcelona-capital/la-mar...   2.148532  750.0   \n",
       "\n",
       "         realestate  rooms  sqft_m2 neighbourhood  neighb_meanprice  \n",
       "1384  FINCAS LAFONT      3       70           NaN               NaN  "
      ]
     },
     "execution_count": 12,
     "metadata": {},
     "output_type": "execute_result"
    }
   ],
   "source": [
    "apartments[apartments.neighbourhood.isna()]"
   ]
  },
  {
   "cell_type": "markdown",
   "metadata": {},
   "source": [
    "Veiem que es correspon amb el barri de \"La marina de Port\", així que li assignem el preu mitjà d'aquest barri."
   ]
  },
  {
   "cell_type": "code",
   "execution_count": 13,
   "metadata": {},
   "outputs": [],
   "source": [
    "mean_price_marina = float(apartments[apartments['neighbourhood']=='la marina de port'].head(1)['neighb_meanprice'])\n",
    "\n",
    "apartments.loc[apartments.id ==1384, 'neighbourhood'] = 'la marina de port'\n",
    "apartments.loc[apartments.id ==1384, 'neighb_meanprice'] = mean_price_marina\n",
    "\n"
   ]
  },
  {
   "cell_type": "markdown",
   "metadata": {},
   "source": [
    "Podem observar que ara el dataset no té valors buits:"
   ]
  },
  {
   "cell_type": "code",
   "execution_count": 14,
   "metadata": {
    "scrolled": true
   },
   "outputs": [
    {
     "data": {
      "text/plain": [
       "id                     0\n",
       "bathrooms              0\n",
       "building_subtype       0\n",
       "building_type          0\n",
       "conservation_state     0\n",
       "discount               0\n",
       "floor_elevator         0\n",
       "is_new_construction    0\n",
       "latitude               0\n",
       "link                   0\n",
       "longitude              0\n",
       "price                  0\n",
       "realestate             0\n",
       "rooms                  0\n",
       "sqft_m2                0\n",
       "neighbourhood          0\n",
       "neighb_meanprice       0\n",
       "dtype: int64"
      ]
     },
     "execution_count": 14,
     "metadata": {},
     "output_type": "execute_result"
    }
   ],
   "source": [
    "apartments.isna().sum()"
   ]
  },
  {
   "cell_type": "markdown",
   "metadata": {},
   "source": [
    "Podem eliminar l'id:"
   ]
  },
  {
   "cell_type": "code",
   "execution_count": 15,
   "metadata": {},
   "outputs": [],
   "source": [
    "apartments = apartments.drop(columns=['id'])"
   ]
  },
  {
   "cell_type": "markdown",
   "metadata": {},
   "source": [
    "### Outliers"
   ]
  },
  {
   "cell_type": "markdown",
   "metadata": {},
   "source": [
    "El que primer farem, serà visualitzar a gràfics de tipus boxplot cadascuna de les variables quantitatives per tal de determinar si tenim o no outliers:"
   ]
  },
  {
   "cell_type": "code",
   "execution_count": 16,
   "metadata": {
    "scrolled": false
   },
   "outputs": [
    {
     "data": {
      "image/png": "[encoded data removed]",
      "text/plain": [
       "<Figure size 1152x720 with 8 Axes>"
      ]
     },
     "metadata": {
      "needs_background": "light"
     },
     "output_type": "display_data"
    }
   ],
   "source": [
    "import matplotlib.pyplot as plt\n",
    "import matplotlib.colors as colors\n",
    "import numpy as np\n",
    "import math\n",
    "\n",
    "fig = plt.figure(figsize=(16,10))\n",
    "numeric_attributes = apartments.select_dtypes(include=np.number).columns\n",
    "for idx, column in enumerate(numeric_attributes):\n",
    "    ax = fig.add_subplot(2, math.ceil(len(numeric_attributes)/2), idx+1)\n",
    "    ax.boxplot(apartments[[column]], labels=[column])"
   ]
  },
  {
   "cell_type": "markdown",
   "metadata": {},
   "source": [
    "Sembla evident que tenim prou valors extrems al dataset per a cadascuna de les variables quantitatives. El que cal és determinar si aquests valors són reals i per tant els hem de tenir en compte a l'anàlisi, o d'altra banda podem eliminar aquells que considerem outliers."
   ]
  },
  {
   "cell_type": "markdown",
   "metadata": {},
   "source": [
    "#### Price\n",
    "Si seleccionam els 5 preus més alts del dataset, podem comprovar com es tracta de valors vàlids quan accedim al detall a la pàgina de Fotocasa:"
   ]
  },
  {
   "cell_type": "code",
   "execution_count": 17,
   "metadata": {
    "scrolled": true
   },
   "outputs": [
    {
     "data": {
      "text/html": [
       "<div>\n",
       "<style scoped>\n",
       "    .dataframe tbody tr th:only-of-type {\n",
       "        vertical-align: middle;\n",
       "    }\n",
       "\n",
       "    .dataframe tbody tr th {\n",
       "        vertical-align: top;\n",
       "    }\n",
       "\n",
       "    .dataframe thead th {\n",
       "        text-align: right;\n",
       "    }\n",
       "</style>\n",
       "<table border=\"1\" class=\"dataframe\">\n",
       "  <thead>\n",
       "    <tr style=\"text-align: right;\">\n",
       "      <th></th>\n",
       "      <th>link</th>\n",
       "      <th>rooms</th>\n",
       "      <th>bathrooms</th>\n",
       "      <th>realestate</th>\n",
       "      <th>sqft_m2</th>\n",
       "      <th>price</th>\n",
       "    </tr>\n",
       "  </thead>\n",
       "  <tbody>\n",
       "    <tr>\n",
       "      <th>12153</th>\n",
       "      <td>/es/alquiler/vivienda/barcelona-capital/aire-a...</td>\n",
       "      <td>4</td>\n",
       "      <td>4</td>\n",
       "      <td>VIP PISOS</td>\n",
       "      <td>600</td>\n",
       "      <td>29000.0</td>\n",
       "    </tr>\n",
       "    <tr>\n",
       "      <th>12152</th>\n",
       "      <td>/es/alquiler/vivienda/barcelona-capital/aire-a...</td>\n",
       "      <td>8</td>\n",
       "      <td>7</td>\n",
       "      <td>Homelike</td>\n",
       "      <td>550</td>\n",
       "      <td>28279.0</td>\n",
       "    </tr>\n",
       "    <tr>\n",
       "      <th>12151</th>\n",
       "      <td>/es/alquiler/vivienda/barcelona-capital/aire-a...</td>\n",
       "      <td>21</td>\n",
       "      <td>21</td>\n",
       "      <td>ENGEL &amp; VOELKERS</td>\n",
       "      <td>2500</td>\n",
       "      <td>25000.0</td>\n",
       "    </tr>\n",
       "    <tr>\n",
       "      <th>12150</th>\n",
       "      <td>/es/alquiler/vivienda/barcelona-capital/aire-a...</td>\n",
       "      <td>3</td>\n",
       "      <td>2</td>\n",
       "      <td>Homelike</td>\n",
       "      <td>85</td>\n",
       "      <td>23092.0</td>\n",
       "    </tr>\n",
       "    <tr>\n",
       "      <th>12149</th>\n",
       "      <td>/es/alquiler/vivienda/barcelona-capital/aire-a...</td>\n",
       "      <td>2</td>\n",
       "      <td>1</td>\n",
       "      <td>Homelike</td>\n",
       "      <td>54</td>\n",
       "      <td>22839.0</td>\n",
       "    </tr>\n",
       "  </tbody>\n",
       "</table>\n",
       "</div>"
      ],
      "text/plain": [
       "                                                    link  rooms  bathrooms  \\\n",
       "12153  /es/alquiler/vivienda/barcelona-capital/aire-a...      4          4   \n",
       "12152  /es/alquiler/vivienda/barcelona-capital/aire-a...      8          7   \n",
       "12151  /es/alquiler/vivienda/barcelona-capital/aire-a...     21         21   \n",
       "12150  /es/alquiler/vivienda/barcelona-capital/aire-a...      3          2   \n",
       "12149  /es/alquiler/vivienda/barcelona-capital/aire-a...      2          1   \n",
       "\n",
       "             realestate  sqft_m2    price  \n",
       "12153         VIP PISOS      600  29000.0  \n",
       "12152          Homelike      550  28279.0  \n",
       "12151  ENGEL & VOELKERS     2500  25000.0  \n",
       "12150          Homelike       85  23092.0  \n",
       "12149          Homelike       54  22839.0  "
      ]
     },
     "execution_count": 17,
     "metadata": {},
     "output_type": "execute_result"
    }
   ],
   "source": [
    "apartments.sort_values('price', ascending=False).head()[['link', 'rooms', 'bathrooms', 'realestate', 'sqft_m2', 'price']]"
   ]
  },
  {
   "cell_type": "markdown",
   "metadata": {},
   "source": [
    "Sembla per tant que existeixen uns pocs pisos al dataset amb preus molt elevants, i característiques com nombre d'habitacions, metres quadrats o nombre de banys amb valors que tot i semblar extrems, són vàlids. Per aquest motiu, decidim __mantenir__ aquestes observacions per tal de dur a terme l'anàlisi de dades."
   ]
  },
  {
   "cell_type": "markdown",
   "metadata": {},
   "source": [
    "#### Latitude i Longitude\n",
    "\n",
    "Si s'examinen les variables latitude i longitude, hi veiem valors sospitosos. La latitud és un valor que oscil·la entre -90 i 90, mentre que la longitud ho fa entre -180 i 180. Per tant, qualsevol observació d'aquestes variables fora d'aquest rang es podria considerar un outlier. D'altra banda, esperem que tots els habitages es trobin a la ciutat de Barcelona, per tant, que tinguin coordenades molt semblants."
   ]
  },
  {
   "cell_type": "code",
   "execution_count": 18,
   "metadata": {},
   "outputs": [
    {
     "data": {
      "text/html": [
       "<div>\n",
       "<style scoped>\n",
       "    .dataframe tbody tr th:only-of-type {\n",
       "        vertical-align: middle;\n",
       "    }\n",
       "\n",
       "    .dataframe tbody tr th {\n",
       "        vertical-align: top;\n",
       "    }\n",
       "\n",
       "    .dataframe thead th {\n",
       "        text-align: right;\n",
       "    }\n",
       "</style>\n",
       "<table border=\"1\" class=\"dataframe\">\n",
       "  <thead>\n",
       "    <tr style=\"text-align: right;\">\n",
       "      <th></th>\n",
       "      <th>link</th>\n",
       "      <th>latitude</th>\n",
       "      <th>longitude</th>\n",
       "      <th>neighbourhood</th>\n",
       "      <th>price</th>\n",
       "    </tr>\n",
       "  </thead>\n",
       "  <tbody>\n",
       "    <tr>\n",
       "      <th>3979</th>\n",
       "      <td>/es/alquiler/vivienda/barcelona-capital/aire-a...</td>\n",
       "      <td>41436.0</td>\n",
       "      <td>2.173259</td>\n",
       "      <td>porta</td>\n",
       "      <td>950.0</td>\n",
       "    </tr>\n",
       "    <tr>\n",
       "      <th>4177</th>\n",
       "      <td>/es/alquiler/vivienda/barcelona-capital/aire-a...</td>\n",
       "      <td>41428.0</td>\n",
       "      <td>2.189229</td>\n",
       "      <td>la sagrera</td>\n",
       "      <td>955.0</td>\n",
       "    </tr>\n",
       "    <tr>\n",
       "      <th>1266</th>\n",
       "      <td>/es/alquiler/vivienda/barcelona-capital/ascens...</td>\n",
       "      <td>41424.0</td>\n",
       "      <td>2.151020</td>\n",
       "      <td>la teixonera</td>\n",
       "      <td>750.0</td>\n",
       "    </tr>\n",
       "    <tr>\n",
       "      <th>3694</th>\n",
       "      <td>/es/alquiler/vivienda/barcelona-capital/aire-a...</td>\n",
       "      <td>41422.0</td>\n",
       "      <td>2.188695</td>\n",
       "      <td>sant antoni</td>\n",
       "      <td>910.0</td>\n",
       "    </tr>\n",
       "    <tr>\n",
       "      <th>6027</th>\n",
       "      <td>/es/alquiler/vivienda/barcelona-capital/calefa...</td>\n",
       "      <td>41418.0</td>\n",
       "      <td>2.171966</td>\n",
       "      <td>el guinardó</td>\n",
       "      <td>1100.0</td>\n",
       "    </tr>\n",
       "    <tr>\n",
       "      <th>...</th>\n",
       "      <td>...</td>\n",
       "      <td>...</td>\n",
       "      <td>...</td>\n",
       "      <td>...</td>\n",
       "      <td>...</td>\n",
       "    </tr>\n",
       "    <tr>\n",
       "      <th>4181</th>\n",
       "      <td>/es/alquiler/vivienda/barcelona-capital/aire-a...</td>\n",
       "      <td>41373.0</td>\n",
       "      <td>2.157460</td>\n",
       "      <td>el poble sec - aei parc montjuïc</td>\n",
       "      <td>955.0</td>\n",
       "    </tr>\n",
       "    <tr>\n",
       "      <th>6920</th>\n",
       "      <td>/es/alquiler/vivienda/barcelona-capital/aire-a...</td>\n",
       "      <td>41372.0</td>\n",
       "      <td>2.138111</td>\n",
       "      <td>la bordeta</td>\n",
       "      <td>1200.0</td>\n",
       "    </tr>\n",
       "    <tr>\n",
       "      <th>7003</th>\n",
       "      <td>/es/alquiler/vivienda/barcelona-capital/aire-a...</td>\n",
       "      <td>41372.0</td>\n",
       "      <td>2.127435</td>\n",
       "      <td>sants</td>\n",
       "      <td>1200.0</td>\n",
       "    </tr>\n",
       "    <tr>\n",
       "      <th>2567</th>\n",
       "      <td>/es/alquiler/vivienda/barcelona-capital/aire-a...</td>\n",
       "      <td>41372.0</td>\n",
       "      <td>2.147444</td>\n",
       "      <td>la font de la guatlla</td>\n",
       "      <td>850.0</td>\n",
       "    </tr>\n",
       "    <tr>\n",
       "      <th>171</th>\n",
       "      <td>/es/alquiler/vivienda/barcelona-capital/amuebl...</td>\n",
       "      <td>41371.0</td>\n",
       "      <td>2.148023</td>\n",
       "      <td>la font de la guatlla</td>\n",
       "      <td>580.0</td>\n",
       "    </tr>\n",
       "  </tbody>\n",
       "</table>\n",
       "<p>87 rows × 5 columns</p>\n",
       "</div>"
      ],
      "text/plain": [
       "                                                   link  latitude  longitude  \\\n",
       "3979  /es/alquiler/vivienda/barcelona-capital/aire-a...   41436.0   2.173259   \n",
       "4177  /es/alquiler/vivienda/barcelona-capital/aire-a...   41428.0   2.189229   \n",
       "1266  /es/alquiler/vivienda/barcelona-capital/ascens...   41424.0   2.151020   \n",
       "3694  /es/alquiler/vivienda/barcelona-capital/aire-a...   41422.0   2.188695   \n",
       "6027  /es/alquiler/vivienda/barcelona-capital/calefa...   41418.0   2.171966   \n",
       "...                                                 ...       ...        ...   \n",
       "4181  /es/alquiler/vivienda/barcelona-capital/aire-a...   41373.0   2.157460   \n",
       "6920  /es/alquiler/vivienda/barcelona-capital/aire-a...   41372.0   2.138111   \n",
       "7003  /es/alquiler/vivienda/barcelona-capital/aire-a...   41372.0   2.127435   \n",
       "2567  /es/alquiler/vivienda/barcelona-capital/aire-a...   41372.0   2.147444   \n",
       "171   /es/alquiler/vivienda/barcelona-capital/amuebl...   41371.0   2.148023   \n",
       "\n",
       "                         neighbourhood   price  \n",
       "3979                             porta   950.0  \n",
       "4177                        la sagrera   955.0  \n",
       "1266                      la teixonera   750.0  \n",
       "3694                       sant antoni   910.0  \n",
       "6027                       el guinardó  1100.0  \n",
       "...                                ...     ...  \n",
       "4181  el poble sec - aei parc montjuïc   955.0  \n",
       "6920                        la bordeta  1200.0  \n",
       "7003                             sants  1200.0  \n",
       "2567             la font de la guatlla   850.0  \n",
       "171              la font de la guatlla   580.0  \n",
       "\n",
       "[87 rows x 5 columns]"
      ]
     },
     "execution_count": 18,
     "metadata": {},
     "output_type": "execute_result"
    }
   ],
   "source": [
    "apartments[(apartments['latitude'] > 90) | (apartments['latitude'] < -90)].sort_values('latitude', ascending=False).head(100)[['link', 'latitude', 'longitude', 'neighbourhood', 'price']]"
   ]
  },
  {
   "cell_type": "markdown",
   "metadata": {},
   "source": [
    "Pel que fa a __latitude__, sembla que existeix un error a l'hora d'interpretar els decimals. Les observacions que tenim pels pisos de Barcelona, tenen una latitud que oscil·la entre els següents valors:"
   ]
  },
  {
   "cell_type": "code",
   "execution_count": 19,
   "metadata": {},
   "outputs": [
    {
     "data": {
      "text/plain": [
       "41.46262"
      ]
     },
     "execution_count": 19,
     "metadata": {},
     "output_type": "execute_result"
    }
   ],
   "source": [
    "apartments[(apartments['latitude']) < 90]['latitude'].max()"
   ]
  },
  {
   "cell_type": "code",
   "execution_count": 20,
   "metadata": {},
   "outputs": [
    {
     "data": {
      "text/plain": [
       "41.35395"
      ]
     },
     "execution_count": 20,
     "metadata": {},
     "output_type": "execute_result"
    }
   ],
   "source": [
    "apartments[(apartments['latitude']) < 90]['latitude'].min()"
   ]
  },
  {
   "cell_type": "markdown",
   "metadata": {},
   "source": [
    "Podem corregir fàcilment els valors incorrectes, ja que tots són superiors a 41370, dividint  el valor de __latitude__ entre 1000 per a aquestes observacions:"
   ]
  },
  {
   "cell_type": "code",
   "execution_count": 21,
   "metadata": {
    "scrolled": true
   },
   "outputs": [
    {
     "data": {
      "text/html": [
       "<div>\n",
       "<style scoped>\n",
       "    .dataframe tbody tr th:only-of-type {\n",
       "        vertical-align: middle;\n",
       "    }\n",
       "\n",
       "    .dataframe tbody tr th {\n",
       "        vertical-align: top;\n",
       "    }\n",
       "\n",
       "    .dataframe thead th {\n",
       "        text-align: right;\n",
       "    }\n",
       "</style>\n",
       "<table border=\"1\" class=\"dataframe\">\n",
       "  <thead>\n",
       "    <tr style=\"text-align: right;\">\n",
       "      <th></th>\n",
       "      <th>link</th>\n",
       "      <th>latitude</th>\n",
       "      <th>longitude</th>\n",
       "      <th>neighbourhood</th>\n",
       "      <th>price</th>\n",
       "    </tr>\n",
       "  </thead>\n",
       "  <tbody>\n",
       "    <tr>\n",
       "      <th>228</th>\n",
       "      <td>/es/alquiler/vivienda/barcelona-capital/terraz...</td>\n",
       "      <td>41.46262</td>\n",
       "      <td>2.180195</td>\n",
       "      <td>ciutat meridiana</td>\n",
       "      <td>600.0</td>\n",
       "    </tr>\n",
       "    <tr>\n",
       "      <th>15</th>\n",
       "      <td>/es/alquiler/vivienda/barcelona-capital/terraz...</td>\n",
       "      <td>41.45524</td>\n",
       "      <td>2.174660</td>\n",
       "      <td>torre baró</td>\n",
       "      <td>490.0</td>\n",
       "    </tr>\n",
       "    <tr>\n",
       "      <th>609</th>\n",
       "      <td>/es/alquiler/vivienda/barcelona-capital/terraz...</td>\n",
       "      <td>41.45345</td>\n",
       "      <td>2.190106</td>\n",
       "      <td>la trinitat vella</td>\n",
       "      <td>675.0</td>\n",
       "    </tr>\n",
       "    <tr>\n",
       "      <th>978</th>\n",
       "      <td>/es/alquiler/vivienda/barcelona-capital/amuebl...</td>\n",
       "      <td>41.45231</td>\n",
       "      <td>2.191007</td>\n",
       "      <td>la trinitat vella</td>\n",
       "      <td>715.0</td>\n",
       "    </tr>\n",
       "    <tr>\n",
       "      <th>509</th>\n",
       "      <td>/es/alquiler/vivienda/barcelona-capital/aire-a...</td>\n",
       "      <td>41.45208</td>\n",
       "      <td>2.192924</td>\n",
       "      <td>la trinitat vella</td>\n",
       "      <td>650.0</td>\n",
       "    </tr>\n",
       "    <tr>\n",
       "      <th>578</th>\n",
       "      <td>/es/alquiler/vivienda/barcelona-capital/aire-a...</td>\n",
       "      <td>41.45131</td>\n",
       "      <td>2.190549</td>\n",
       "      <td>la trinitat vella</td>\n",
       "      <td>664.0</td>\n",
       "    </tr>\n",
       "    <tr>\n",
       "      <th>296</th>\n",
       "      <td>/es/alquiler/vivienda/barcelona-capital/terraz...</td>\n",
       "      <td>41.45129</td>\n",
       "      <td>2.189722</td>\n",
       "      <td>la trinitat vella</td>\n",
       "      <td>647.0</td>\n",
       "    </tr>\n",
       "    <tr>\n",
       "      <th>222</th>\n",
       "      <td>/es/alquiler/vivienda/barcelona-capital/terraz...</td>\n",
       "      <td>41.45118</td>\n",
       "      <td>2.189822</td>\n",
       "      <td>la trinitat vella</td>\n",
       "      <td>600.0</td>\n",
       "    </tr>\n",
       "    <tr>\n",
       "      <th>1344</th>\n",
       "      <td>/es/alquiler/vivienda/barcelona-capital/no-amu...</td>\n",
       "      <td>41.45047</td>\n",
       "      <td>2.191933</td>\n",
       "      <td>la trinitat vella</td>\n",
       "      <td>750.0</td>\n",
       "    </tr>\n",
       "    <tr>\n",
       "      <th>7797</th>\n",
       "      <td>/es/alquiler/vivienda/barcelona-capital/calefa...</td>\n",
       "      <td>41.44968</td>\n",
       "      <td>2.190399</td>\n",
       "      <td>la trinitat vella</td>\n",
       "      <td>1250.0</td>\n",
       "    </tr>\n",
       "  </tbody>\n",
       "</table>\n",
       "</div>"
      ],
      "text/plain": [
       "                                                   link  latitude  longitude  \\\n",
       "228   /es/alquiler/vivienda/barcelona-capital/terraz...  41.46262   2.180195   \n",
       "15    /es/alquiler/vivienda/barcelona-capital/terraz...  41.45524   2.174660   \n",
       "609   /es/alquiler/vivienda/barcelona-capital/terraz...  41.45345   2.190106   \n",
       "978   /es/alquiler/vivienda/barcelona-capital/amuebl...  41.45231   2.191007   \n",
       "509   /es/alquiler/vivienda/barcelona-capital/aire-a...  41.45208   2.192924   \n",
       "578   /es/alquiler/vivienda/barcelona-capital/aire-a...  41.45131   2.190549   \n",
       "296   /es/alquiler/vivienda/barcelona-capital/terraz...  41.45129   2.189722   \n",
       "222   /es/alquiler/vivienda/barcelona-capital/terraz...  41.45118   2.189822   \n",
       "1344  /es/alquiler/vivienda/barcelona-capital/no-amu...  41.45047   2.191933   \n",
       "7797  /es/alquiler/vivienda/barcelona-capital/calefa...  41.44968   2.190399   \n",
       "\n",
       "          neighbourhood   price  \n",
       "228    ciutat meridiana   600.0  \n",
       "15           torre baró   490.0  \n",
       "609   la trinitat vella   675.0  \n",
       "978   la trinitat vella   715.0  \n",
       "509   la trinitat vella   650.0  \n",
       "578   la trinitat vella   664.0  \n",
       "296   la trinitat vella   647.0  \n",
       "222   la trinitat vella   600.0  \n",
       "1344  la trinitat vella   750.0  \n",
       "7797  la trinitat vella  1250.0  "
      ]
     },
     "execution_count": 21,
     "metadata": {},
     "output_type": "execute_result"
    }
   ],
   "source": [
    "apartments.loc[apartments['latitude'] > 41370, 'latitude'] = apartments['latitude']/1000\n",
    "apartments.sort_values('latitude', ascending=False).head(10)[['link', 'latitude', 'longitude', 'neighbourhood', 'price']]"
   ]
  },
  {
   "cell_type": "markdown",
   "metadata": {},
   "source": [
    "Podem aplicar el mateix procés per al camp __longitude__:"
   ]
  },
  {
   "cell_type": "code",
   "execution_count": 22,
   "metadata": {
    "scrolled": false
   },
   "outputs": [
    {
     "data": {
      "text/html": [
       "<div>\n",
       "<style scoped>\n",
       "    .dataframe tbody tr th:only-of-type {\n",
       "        vertical-align: middle;\n",
       "    }\n",
       "\n",
       "    .dataframe tbody tr th {\n",
       "        vertical-align: top;\n",
       "    }\n",
       "\n",
       "    .dataframe thead th {\n",
       "        text-align: right;\n",
       "    }\n",
       "</style>\n",
       "<table border=\"1\" class=\"dataframe\">\n",
       "  <thead>\n",
       "    <tr style=\"text-align: right;\">\n",
       "      <th></th>\n",
       "      <th>link</th>\n",
       "      <th>latitude</th>\n",
       "      <th>longitude</th>\n",
       "      <th>neighbourhood</th>\n",
       "      <th>price</th>\n",
       "    </tr>\n",
       "  </thead>\n",
       "  <tbody>\n",
       "    <tr>\n",
       "      <th>4023</th>\n",
       "      <td>/es/alquiler/vivienda/barcelona-capital/aire-a...</td>\n",
       "      <td>41.39861</td>\n",
       "      <td>2206.0</td>\n",
       "      <td>el poblenou</td>\n",
       "      <td>950.0</td>\n",
       "    </tr>\n",
       "    <tr>\n",
       "      <th>1430</th>\n",
       "      <td>/es/alquiler/vivienda/barcelona-capital/ascens...</td>\n",
       "      <td>41.41937</td>\n",
       "      <td>2188.0</td>\n",
       "      <td>navas</td>\n",
       "      <td>750.0</td>\n",
       "    </tr>\n",
       "    <tr>\n",
       "      <th>3229</th>\n",
       "      <td>/es/alquiler/vivienda/barcelona-capital/calefa...</td>\n",
       "      <td>41.38230</td>\n",
       "      <td>2188.0</td>\n",
       "      <td>la barceloneta</td>\n",
       "      <td>900.0</td>\n",
       "    </tr>\n",
       "    <tr>\n",
       "      <th>2042</th>\n",
       "      <td>/es/alquiler/vivienda/barcelona-capital/aire-a...</td>\n",
       "      <td>41.43369</td>\n",
       "      <td>2186.0</td>\n",
       "      <td>sant andreu</td>\n",
       "      <td>800.0</td>\n",
       "    </tr>\n",
       "    <tr>\n",
       "      <th>411</th>\n",
       "      <td>/es/alquiler/vivienda/barcelona-capital/sant-p...</td>\n",
       "      <td>41.38697</td>\n",
       "      <td>2177.0</td>\n",
       "      <td>sant pere, santa caterina i la ribera</td>\n",
       "      <td>650.0</td>\n",
       "    </tr>\n",
       "    <tr>\n",
       "      <th>4265</th>\n",
       "      <td>/es/alquiler/vivienda/barcelona-capital/aire-a...</td>\n",
       "      <td>41.38697</td>\n",
       "      <td>2177.0</td>\n",
       "      <td>sant pere, santa caterina i la ribera</td>\n",
       "      <td>975.0</td>\n",
       "    </tr>\n",
       "    <tr>\n",
       "      <th>5685</th>\n",
       "      <td>/es/alquiler/vivienda/barcelona-capital/calefa...</td>\n",
       "      <td>41.40808</td>\n",
       "      <td>2169.0</td>\n",
       "      <td>el baix guinardó</td>\n",
       "      <td>1090.0</td>\n",
       "    </tr>\n",
       "    <tr>\n",
       "      <th>5683</th>\n",
       "      <td>/es/alquiler/vivienda/barcelona-capital/calefa...</td>\n",
       "      <td>41.40816</td>\n",
       "      <td>2169.0</td>\n",
       "      <td>el baix guinardó</td>\n",
       "      <td>1090.0</td>\n",
       "    </tr>\n",
       "    <tr>\n",
       "      <th>2899</th>\n",
       "      <td>/es/alquiler/vivienda/barcelona-capital/ascens...</td>\n",
       "      <td>41.37688</td>\n",
       "      <td>2168.0</td>\n",
       "      <td>el raval</td>\n",
       "      <td>855.0</td>\n",
       "    </tr>\n",
       "    <tr>\n",
       "      <th>896</th>\n",
       "      <td>/es/alquiler/vivienda/barcelona-capital/can-ba...</td>\n",
       "      <td>41.41630</td>\n",
       "      <td>2164.0</td>\n",
       "      <td>can baró</td>\n",
       "      <td>700.0</td>\n",
       "    </tr>\n",
       "    <tr>\n",
       "      <th>8972</th>\n",
       "      <td>/es/alquiler/vivienda/barcelona-capital/aire-a...</td>\n",
       "      <td>41.39114</td>\n",
       "      <td>2164.0</td>\n",
       "      <td>la dreta de l'eixample</td>\n",
       "      <td>1490.0</td>\n",
       "    </tr>\n",
       "    <tr>\n",
       "      <th>1140</th>\n",
       "      <td>/es/alquiler/vivienda/barcelona-capital/ascens...</td>\n",
       "      <td>41.38768</td>\n",
       "      <td>2161.0</td>\n",
       "      <td>l'antiga esquerra de l'eixample</td>\n",
       "      <td>738.0</td>\n",
       "    </tr>\n",
       "    <tr>\n",
       "      <th>8145</th>\n",
       "      <td>/es/alquiler/vivienda/barcelona-capital/aire-a...</td>\n",
       "      <td>41.39986</td>\n",
       "      <td>2159.0</td>\n",
       "      <td>la vila de gràcia</td>\n",
       "      <td>1300.0</td>\n",
       "    </tr>\n",
       "    <tr>\n",
       "      <th>7232</th>\n",
       "      <td>/es/alquiler/vivienda/barcelona-capital/terraz...</td>\n",
       "      <td>41.40638</td>\n",
       "      <td>2146.0</td>\n",
       "      <td>el putxet i el farró</td>\n",
       "      <td>1200.0</td>\n",
       "    </tr>\n",
       "    <tr>\n",
       "      <th>7437</th>\n",
       "      <td>/es/alquiler/vivienda/barcelona-capital/calefa...</td>\n",
       "      <td>41.40638</td>\n",
       "      <td>2146.0</td>\n",
       "      <td>el putxet i el farró</td>\n",
       "      <td>1200.0</td>\n",
       "    </tr>\n",
       "    <tr>\n",
       "      <th>10100</th>\n",
       "      <td>/es/alquiler/vivienda/barcelona-capital/aire-a...</td>\n",
       "      <td>41.40403</td>\n",
       "      <td>2142.0</td>\n",
       "      <td>el putxet i el farró</td>\n",
       "      <td>1750.0</td>\n",
       "    </tr>\n",
       "    <tr>\n",
       "      <th>9729</th>\n",
       "      <td>/es/alquiler/vivienda/barcelona-capital/aire-a...</td>\n",
       "      <td>41.39605</td>\n",
       "      <td>2137.0</td>\n",
       "      <td>sant gervasi - galvany</td>\n",
       "      <td>1650.0</td>\n",
       "    </tr>\n",
       "    <tr>\n",
       "      <th>10196</th>\n",
       "      <td>/es/alquiler/vivienda/barcelona-capital/aire-a...</td>\n",
       "      <td>41.38006</td>\n",
       "      <td>2111.0</td>\n",
       "      <td>la maternitat i sant ramon</td>\n",
       "      <td>1800.0</td>\n",
       "    </tr>\n",
       "  </tbody>\n",
       "</table>\n",
       "</div>"
      ],
      "text/plain": [
       "                                                    link  latitude  longitude  \\\n",
       "4023   /es/alquiler/vivienda/barcelona-capital/aire-a...  41.39861     2206.0   \n",
       "1430   /es/alquiler/vivienda/barcelona-capital/ascens...  41.41937     2188.0   \n",
       "3229   /es/alquiler/vivienda/barcelona-capital/calefa...  41.38230     2188.0   \n",
       "2042   /es/alquiler/vivienda/barcelona-capital/aire-a...  41.43369     2186.0   \n",
       "411    /es/alquiler/vivienda/barcelona-capital/sant-p...  41.38697     2177.0   \n",
       "4265   /es/alquiler/vivienda/barcelona-capital/aire-a...  41.38697     2177.0   \n",
       "5685   /es/alquiler/vivienda/barcelona-capital/calefa...  41.40808     2169.0   \n",
       "5683   /es/alquiler/vivienda/barcelona-capital/calefa...  41.40816     2169.0   \n",
       "2899   /es/alquiler/vivienda/barcelona-capital/ascens...  41.37688     2168.0   \n",
       "896    /es/alquiler/vivienda/barcelona-capital/can-ba...  41.41630     2164.0   \n",
       "8972   /es/alquiler/vivienda/barcelona-capital/aire-a...  41.39114     2164.0   \n",
       "1140   /es/alquiler/vivienda/barcelona-capital/ascens...  41.38768     2161.0   \n",
       "8145   /es/alquiler/vivienda/barcelona-capital/aire-a...  41.39986     2159.0   \n",
       "7232   /es/alquiler/vivienda/barcelona-capital/terraz...  41.40638     2146.0   \n",
       "7437   /es/alquiler/vivienda/barcelona-capital/calefa...  41.40638     2146.0   \n",
       "10100  /es/alquiler/vivienda/barcelona-capital/aire-a...  41.40403     2142.0   \n",
       "9729   /es/alquiler/vivienda/barcelona-capital/aire-a...  41.39605     2137.0   \n",
       "10196  /es/alquiler/vivienda/barcelona-capital/aire-a...  41.38006     2111.0   \n",
       "\n",
       "                               neighbourhood   price  \n",
       "4023                             el poblenou   950.0  \n",
       "1430                                   navas   750.0  \n",
       "3229                          la barceloneta   900.0  \n",
       "2042                             sant andreu   800.0  \n",
       "411    sant pere, santa caterina i la ribera   650.0  \n",
       "4265   sant pere, santa caterina i la ribera   975.0  \n",
       "5685                        el baix guinardó  1090.0  \n",
       "5683                        el baix guinardó  1090.0  \n",
       "2899                                el raval   855.0  \n",
       "896                                 can baró   700.0  \n",
       "8972                  la dreta de l'eixample  1490.0  \n",
       "1140         l'antiga esquerra de l'eixample   738.0  \n",
       "8145                       la vila de gràcia  1300.0  \n",
       "7232                    el putxet i el farró  1200.0  \n",
       "7437                    el putxet i el farró  1200.0  \n",
       "10100                   el putxet i el farró  1750.0  \n",
       "9729                  sant gervasi - galvany  1650.0  \n",
       "10196             la maternitat i sant ramon  1800.0  "
      ]
     },
     "execution_count": 22,
     "metadata": {},
     "output_type": "execute_result"
    }
   ],
   "source": [
    "apartments[(apartments['longitude'] > 180) | (apartments['longitude'] < -180)].sort_values('longitude', ascending=False).head(100)[['link', 'latitude', 'longitude', 'neighbourhood', 'price']]"
   ]
  },
  {
   "cell_type": "markdown",
   "metadata": {},
   "source": [
    "Les observacions pels pisos de Barcelona tenen una longitud que oscil·la entre els següents valors:"
   ]
  },
  {
   "cell_type": "code",
   "execution_count": 23,
   "metadata": {},
   "outputs": [
    {
     "data": {
      "text/plain": [
       "2.224126"
      ]
     },
     "execution_count": 23,
     "metadata": {},
     "output_type": "execute_result"
    }
   ],
   "source": [
    "apartments[(apartments['longitude']) < 180]['longitude'].max()"
   ]
  },
  {
   "cell_type": "code",
   "execution_count": 24,
   "metadata": {},
   "outputs": [
    {
     "data": {
      "text/plain": [
       "2.0915220000000003"
      ]
     },
     "execution_count": 24,
     "metadata": {},
     "output_type": "execute_result"
    }
   ],
   "source": [
    "apartments[(apartments['longitude']) < 180]['longitude'].min()"
   ]
  },
  {
   "cell_type": "markdown",
   "metadata": {},
   "source": [
    "De nou, si dividim els valors de __longitude__ superiors a 2110 entre 1000, corregirem els valors d'aquestes observacions:"
   ]
  },
  {
   "cell_type": "code",
   "execution_count": 25,
   "metadata": {},
   "outputs": [
    {
     "data": {
      "text/html": [
       "<div>\n",
       "<style scoped>\n",
       "    .dataframe tbody tr th:only-of-type {\n",
       "        vertical-align: middle;\n",
       "    }\n",
       "\n",
       "    .dataframe tbody tr th {\n",
       "        vertical-align: top;\n",
       "    }\n",
       "\n",
       "    .dataframe thead th {\n",
       "        text-align: right;\n",
       "    }\n",
       "</style>\n",
       "<table border=\"1\" class=\"dataframe\">\n",
       "  <thead>\n",
       "    <tr style=\"text-align: right;\">\n",
       "      <th></th>\n",
       "      <th>link</th>\n",
       "      <th>latitude</th>\n",
       "      <th>longitude</th>\n",
       "      <th>neighbourhood</th>\n",
       "      <th>price</th>\n",
       "    </tr>\n",
       "  </thead>\n",
       "  <tbody>\n",
       "    <tr>\n",
       "      <th>8502</th>\n",
       "      <td>/es/alquiler/vivienda/barcelona-capital/aire-a...</td>\n",
       "      <td>41.41129</td>\n",
       "      <td>2.224126</td>\n",
       "      <td>el besòs i el maresme</td>\n",
       "      <td>1350.0</td>\n",
       "    </tr>\n",
       "    <tr>\n",
       "      <th>10272</th>\n",
       "      <td>/es/alquiler/vivienda/barcelona-capital/aire-a...</td>\n",
       "      <td>41.41315</td>\n",
       "      <td>2.222797</td>\n",
       "      <td>el besòs i el maresme</td>\n",
       "      <td>1800.0</td>\n",
       "    </tr>\n",
       "    <tr>\n",
       "      <th>11252</th>\n",
       "      <td>/es/alquiler/vivienda/barcelona-capital/aire-a...</td>\n",
       "      <td>41.41155</td>\n",
       "      <td>2.221454</td>\n",
       "      <td>el besòs i el maresme</td>\n",
       "      <td>2600.0</td>\n",
       "    </tr>\n",
       "    <tr>\n",
       "      <th>10433</th>\n",
       "      <td>/es/alquiler/vivienda/barcelona-capital/aire-a...</td>\n",
       "      <td>41.41163</td>\n",
       "      <td>2.220950</td>\n",
       "      <td>el besòs i el maresme</td>\n",
       "      <td>1900.0</td>\n",
       "    </tr>\n",
       "    <tr>\n",
       "      <th>10232</th>\n",
       "      <td>/es/alquiler/vivienda/barcelona-capital/aire-a...</td>\n",
       "      <td>41.41353</td>\n",
       "      <td>2.220937</td>\n",
       "      <td>el besòs i el maresme</td>\n",
       "      <td>1800.0</td>\n",
       "    </tr>\n",
       "    <tr>\n",
       "      <th>9594</th>\n",
       "      <td>/es/alquiler/vivienda/barcelona-capital/aire-a...</td>\n",
       "      <td>41.41261</td>\n",
       "      <td>2.220891</td>\n",
       "      <td>el besòs i el maresme</td>\n",
       "      <td>1600.0</td>\n",
       "    </tr>\n",
       "    <tr>\n",
       "      <th>8157</th>\n",
       "      <td>/es/alquiler/vivienda/barcelona-capital/aire-a...</td>\n",
       "      <td>41.41361</td>\n",
       "      <td>2.220773</td>\n",
       "      <td>el besòs i el maresme</td>\n",
       "      <td>1300.0</td>\n",
       "    </tr>\n",
       "    <tr>\n",
       "      <th>11048</th>\n",
       "      <td>/es/alquiler/vivienda/barcelona-capital/calefa...</td>\n",
       "      <td>41.41253</td>\n",
       "      <td>2.220563</td>\n",
       "      <td>el besòs i el maresme</td>\n",
       "      <td>2400.0</td>\n",
       "    </tr>\n",
       "    <tr>\n",
       "      <th>8611</th>\n",
       "      <td>/es/alquiler/vivienda/barcelona-capital/aire-a...</td>\n",
       "      <td>41.40981</td>\n",
       "      <td>2.220171</td>\n",
       "      <td>diagonal mar i el front marítim del poblenou</td>\n",
       "      <td>1400.0</td>\n",
       "    </tr>\n",
       "    <tr>\n",
       "      <th>11098</th>\n",
       "      <td>/es/alquiler/vivienda/barcelona-capital/aire-a...</td>\n",
       "      <td>41.41261</td>\n",
       "      <td>2.220109</td>\n",
       "      <td>el besòs i el maresme</td>\n",
       "      <td>2500.0</td>\n",
       "    </tr>\n",
       "  </tbody>\n",
       "</table>\n",
       "</div>"
      ],
      "text/plain": [
       "                                                    link  latitude  longitude  \\\n",
       "8502   /es/alquiler/vivienda/barcelona-capital/aire-a...  41.41129   2.224126   \n",
       "10272  /es/alquiler/vivienda/barcelona-capital/aire-a...  41.41315   2.222797   \n",
       "11252  /es/alquiler/vivienda/barcelona-capital/aire-a...  41.41155   2.221454   \n",
       "10433  /es/alquiler/vivienda/barcelona-capital/aire-a...  41.41163   2.220950   \n",
       "10232  /es/alquiler/vivienda/barcelona-capital/aire-a...  41.41353   2.220937   \n",
       "9594   /es/alquiler/vivienda/barcelona-capital/aire-a...  41.41261   2.220891   \n",
       "8157   /es/alquiler/vivienda/barcelona-capital/aire-a...  41.41361   2.220773   \n",
       "11048  /es/alquiler/vivienda/barcelona-capital/calefa...  41.41253   2.220563   \n",
       "8611   /es/alquiler/vivienda/barcelona-capital/aire-a...  41.40981   2.220171   \n",
       "11098  /es/alquiler/vivienda/barcelona-capital/aire-a...  41.41261   2.220109   \n",
       "\n",
       "                                      neighbourhood   price  \n",
       "8502                          el besòs i el maresme  1350.0  \n",
       "10272                         el besòs i el maresme  1800.0  \n",
       "11252                         el besòs i el maresme  2600.0  \n",
       "10433                         el besòs i el maresme  1900.0  \n",
       "10232                         el besòs i el maresme  1800.0  \n",
       "9594                          el besòs i el maresme  1600.0  \n",
       "8157                          el besòs i el maresme  1300.0  \n",
       "11048                         el besòs i el maresme  2400.0  \n",
       "8611   diagonal mar i el front marítim del poblenou  1400.0  \n",
       "11098                         el besòs i el maresme  2500.0  "
      ]
     },
     "execution_count": 25,
     "metadata": {},
     "output_type": "execute_result"
    }
   ],
   "source": [
    "apartments.loc[apartments['longitude'] > 2110, 'longitude'] = apartments['longitude']/1000\n",
    "apartments.sort_values('longitude', ascending=False).head(10)[['link', 'latitude', 'longitude', 'neighbourhood', 'price']]"
   ]
  },
  {
   "cell_type": "markdown",
   "metadata": {},
   "source": [
    "#### Bathrooms"
   ]
  },
  {
   "cell_type": "markdown",
   "metadata": {},
   "source": [
    "Per a aquest camp, tot i que hem comentat que hi ha valors alts que considerem vàlids, si observem el boxplot veiem que hi ha una observació que té un valor molt extrem:"
   ]
  },
  {
   "cell_type": "code",
   "execution_count": 26,
   "metadata": {},
   "outputs": [
    {
     "data": {
      "text/html": [
       "<div>\n",
       "<style scoped>\n",
       "    .dataframe tbody tr th:only-of-type {\n",
       "        vertical-align: middle;\n",
       "    }\n",
       "\n",
       "    .dataframe tbody tr th {\n",
       "        vertical-align: top;\n",
       "    }\n",
       "\n",
       "    .dataframe thead th {\n",
       "        text-align: right;\n",
       "    }\n",
       "</style>\n",
       "<table border=\"1\" class=\"dataframe\">\n",
       "  <thead>\n",
       "    <tr style=\"text-align: right;\">\n",
       "      <th></th>\n",
       "      <th>link</th>\n",
       "      <th>bathrooms</th>\n",
       "      <th>rooms</th>\n",
       "      <th>sqft_m2</th>\n",
       "      <th>price</th>\n",
       "    </tr>\n",
       "  </thead>\n",
       "  <tbody>\n",
       "    <tr>\n",
       "      <th>10875</th>\n",
       "      <td>/es/alquiler/vivienda/barcelona-capital/aire-a...</td>\n",
       "      <td>1901</td>\n",
       "      <td>3</td>\n",
       "      <td>135</td>\n",
       "      <td>2200.0</td>\n",
       "    </tr>\n",
       "  </tbody>\n",
       "</table>\n",
       "</div>"
      ],
      "text/plain": [
       "                                                    link  bathrooms  rooms  \\\n",
       "10875  /es/alquiler/vivienda/barcelona-capital/aire-a...       1901      3   \n",
       "\n",
       "       sqft_m2   price  \n",
       "10875      135  2200.0  "
      ]
     },
     "execution_count": 26,
     "metadata": {},
     "output_type": "execute_result"
    }
   ],
   "source": [
    "apartments[apartments['bathrooms'] > 100][['link', 'bathrooms', 'rooms', 'sqft_m2', 'price']]\n"
   ]
  },
  {
   "cell_type": "markdown",
   "metadata": {},
   "source": [
    "A la web de Fotocasa, s'indica també aquest valor. Tot i això, no és lògic tenir 1901 banys a un pis de 135 metres quadrats de 3 habitacions i per tant, decidim eliminar aquesta observació:"
   ]
  },
  {
   "cell_type": "code",
   "execution_count": 27,
   "metadata": {},
   "outputs": [],
   "source": [
    "apartments = apartments.drop(index=10875)"
   ]
  },
  {
   "cell_type": "code",
   "execution_count": 28,
   "metadata": {},
   "outputs": [
    {
     "data": {
      "text/plain": [
       "21"
      ]
     },
     "execution_count": 28,
     "metadata": {},
     "output_type": "execute_result"
    }
   ],
   "source": [
    "apartments.bathrooms.max()"
   ]
  },
  {
   "cell_type": "markdown",
   "metadata": {},
   "source": [
    "#### Superfície:"
   ]
  },
  {
   "cell_type": "code",
   "execution_count": 29,
   "metadata": {},
   "outputs": [],
   "source": [
    "apartments = apartments[apartments['sqft_m2'] != 0]"
   ]
  },
  {
   "cell_type": "markdown",
   "metadata": {},
   "source": [
    "### Transformació de dades\n",
    "\n",
    "Afegirem una nova variable que calculi la diferència de cada habitatge sobre el preu mig del barri:"
   ]
  },
  {
   "cell_type": "code",
   "execution_count": 30,
   "metadata": {},
   "outputs": [],
   "source": [
    "apartments['diff_mitjana'] = ((apartments['price']/(apartments.neighb_meanprice*apartments.sqft_m2))-1)*100"
   ]
  },
  {
   "cell_type": "markdown",
   "metadata": {},
   "source": [
    "### Fitxer csv amb les dades finals a analitzar"
   ]
  },
  {
   "cell_type": "code",
   "execution_count": 31,
   "metadata": {},
   "outputs": [],
   "source": [
    "apartments.to_csv('../csv/data_clean.csv')"
   ]
  },
  {
   "cell_type": "markdown",
   "metadata": {},
   "source": [
    "## 4. Anàlisi"
   ]
  },
  {
   "cell_type": "markdown",
   "metadata": {},
   "source": [
    "### Grups a comparar\n",
    "\n",
    "- Es vol comparar si hi ha diferències de preus estadísticament significatives entre els diferents barris. Cada barri serà, per tant, un grup diferent.\n",
    "- Es vol comparar si hi ha diferències de preus estadísticament significatives entre les diferents agències. Cada agència serà, per tant, un grup diferent."
   ]
  },
  {
   "cell_type": "markdown",
   "metadata": {},
   "source": [
    "### Comprovació de la normalitat de la variable price\n",
    "\n",
    "Atès que les anàlisi d'estadística inferencial que portarem a terme impliquen en tots els casos la variable __price__, serà necessari comprovar prèviament la normalitat d'aquesta variable per tal de saber si hem d'aplicar proves paramètriques o no paramètriques. "
   ]
  },
  {
   "cell_type": "markdown",
   "metadata": {},
   "source": [
    "Anem a visualitzar l'histograma i el gràfic Q-Q de la variable price per tenir una orientació visual de si aquesta variable segueix o no una distribució normal:"
   ]
  },
  {
   "cell_type": "code",
   "execution_count": 32,
   "metadata": {},
   "outputs": [
    {
     "data": {
      "image/png": "[encoded data removed]",
      "text/plain": [
       "<Figure size 1152x576 with 2 Axes>"
      ]
     },
     "metadata": {
      "needs_background": "light"
     },
     "output_type": "display_data"
    }
   ],
   "source": [
    "from scipy import stats\n",
    "\n",
    "fig = plt.figure(figsize=(16,8))\n",
    "\n",
    "ax = fig.add_subplot(1, 2, 1)\n",
    "ax.hist(apartments.price, 500, density=True)\n",
    "\n",
    "ax = fig.add_subplot(1, 2, 2)\n",
    "stats.probplot(apartments.price, dist='norm', plot=plt)\n",
    "pass"
   ]
  },
  {
   "cell_type": "markdown",
   "metadata": {},
   "source": [
    "A simple vista, no sembla que la variable __price__ segueixi una distribució normal. Per tal de comprovar-ho, portarem a terme la prova de Kolmogorov-Smirnov. El motiu de portar a terme aquesta prova i no la de Shapiro-Wilk, és perquè amb la implementació de Scipy, per un nombre de mostres superior a 5000, el p-value pot no esser precís."
   ]
  },
  {
   "cell_type": "code",
   "execution_count": 33,
   "metadata": {},
   "outputs": [
    {
     "data": {
      "text/plain": [
       "KstestResult(statistic=0.2449490400964482, pvalue=0.0)"
      ]
     },
     "execution_count": 33,
     "metadata": {},
     "output_type": "execute_result"
    }
   ],
   "source": [
    "stats.kstest(apartments.price, 'norm', args=(apartments.price.mean(), apartments.price.std()))"
   ]
  },
  {
   "cell_type": "markdown",
   "metadata": {},
   "source": [
    "Podem veure que el p-value és 0 en el nostre cas, més petit que el valor de significació escollit: 0.05. Per tant podem rebutjar la hipòtesi nul·la i concloure que la variable __price no segueix una distribució normal__."
   ]
  },
  {
   "cell_type": "markdown",
   "metadata": {},
   "source": [
    "### Comprovació de l'homoscedasticitat de la variable price per als diferents grups\n",
    "\n",
    "Per comprovar l'homoscedasticitat de la variable __price__ per als diferents grups que volem comparar, emprarem el test de Fligner-Killeen, ja que prèviament hem observat que aquesta variable no segueix una distribució normal."
   ]
  },
  {
   "cell_type": "markdown",
   "metadata": {},
   "source": [
    "#### Homoscedasticitat dels preus dels barris"
   ]
  },
  {
   "cell_type": "code",
   "execution_count": 34,
   "metadata": {},
   "outputs": [
    {
     "data": {
      "text/plain": [
       "FlignerResult(statistic=2104.733108385882, pvalue=0.0)"
      ]
     },
     "execution_count": 34,
     "metadata": {},
     "output_type": "execute_result"
    }
   ],
   "source": [
    "neighbourhood_grouped_samples = apartments.groupby('neighbourhood')['price'].apply(pd.Series.tolist).tolist()\n",
    "stats.fligner(*neighbourhood_grouped_samples)"
   ]
  },
  {
   "cell_type": "markdown",
   "metadata": {},
   "source": [
    "Donat el p-value és < 0.05 (el valor de significació escollit), podem concloure doncs que __price__ presenta variàncies estadísticament diferents entre els barris de Barcelona."
   ]
  },
  {
   "cell_type": "markdown",
   "metadata": {},
   "source": [
    "####  Homoscedasticitat dels preus de les agències"
   ]
  },
  {
   "cell_type": "code",
   "execution_count": 35,
   "metadata": {},
   "outputs": [
    {
     "data": {
      "text/plain": [
       "FlignerResult(statistic=3493.643125045974, pvalue=1.0719141814502517e-260)"
      ]
     },
     "execution_count": 35,
     "metadata": {},
     "output_type": "execute_result"
    }
   ],
   "source": [
    "realestate_grouped_samples = apartments.groupby('realestate')['price'].apply(pd.Series.tolist).tolist()\n",
    "stats.fligner(*realestate_grouped_samples)"
   ]
  },
  {
   "cell_type": "markdown",
   "metadata": {},
   "source": [
    "Donat que el p-value és < 0.05 (el valor de significació escollit), podem concloure que __price__ presenta variàncies estadísticament diferents entre les agències immoniliaries."
   ]
  },
  {
   "cell_type": "markdown",
   "metadata": {},
   "source": [
    "### Comprovació de mitjanes de la variable price per als diferents grups\n",
    "\n",
    "Ja hem vist com la variable __price__ no segueix una distribució normal, i com per als grups que es volen analitzar, la variància de __price__ entre ells presenta diferències estadísticament significants. Donat tot això, haurem d'emprar proves no paramètriques, en concret el test de Kruskal-Wallis, per tal de saber si la mitjana entre els diferents grups (que són més de dos tant en el cas dels barris com en el cas de les agències) presenta diferències estadísticament significants."
   ]
  },
  {
   "cell_type": "markdown",
   "metadata": {},
   "source": [
    "#### Comparació de mitjanes de preus entre els diferents barris"
   ]
  },
  {
   "cell_type": "code",
   "execution_count": 36,
   "metadata": {},
   "outputs": [
    {
     "data": {
      "text/plain": [
       "KruskalResult(statistic=2637.6757596495586, pvalue=0.0)"
      ]
     },
     "execution_count": 36,
     "metadata": {},
     "output_type": "execute_result"
    }
   ],
   "source": [
    "stats.kruskal(*neighbourhood_grouped_samples)"
   ]
  },
  {
   "cell_type": "markdown",
   "metadata": {},
   "source": [
    "Donat que el p-value és < 0.05 (el valor de significació escollit), podem concloure que hi ha difències de preu estadísticament significatives entre els barris de Barcelona."
   ]
  },
  {
   "cell_type": "markdown",
   "metadata": {},
   "source": [
    "#### Comparació de mitjanes de preus entre les diferents agències"
   ]
  },
  {
   "cell_type": "code",
   "execution_count": 37,
   "metadata": {},
   "outputs": [
    {
     "data": {
      "text/plain": [
       "KruskalResult(statistic=4887.593854046478, pvalue=0.0)"
      ]
     },
     "execution_count": 37,
     "metadata": {},
     "output_type": "execute_result"
    }
   ],
   "source": [
    "stats.kruskal(*realestate_grouped_samples)"
   ]
  },
  {
   "cell_type": "markdown",
   "metadata": {},
   "source": [
    "Donat que el p-value és < 0.05 (el valor de significació escollit), podem concloure que hi ha diferències de preu estadísticament significatives entre les ofertes de les diferents agències."
   ]
  },
  {
   "cell_type": "markdown",
   "metadata": {},
   "source": [
    "### Model de regressió:"
   ]
  },
  {
   "cell_type": "markdown",
   "metadata": {},
   "source": [
    "Anem a construïr un mode de regressió lineal que ens permeti fer prediccions sobre el preu dels habitatges. Per fer això, primer haure de fer unes tranformacions a les dades per que siguin manejables.\n",
    "\n",
    "#### Codificació de les variables quantitatives\n",
    "En un model de regressió no podem treballar directament amb dades categóriques. Hem de codificar-les per poder-les incloure en el nostre model. Optarem per One-Hot-Encoding, que ens permet introduïr variables dummy per cada una de les categòries d'una variable.\n"
   ]
  },
  {
   "cell_type": "code",
   "execution_count": 38,
   "metadata": {},
   "outputs": [
    {
     "data": {
      "text/plain": [
       "ENGEL & VOELKERS                         836\n",
       "Homelike                                 760\n",
       "APROPERTIES REAL ESTATE Nº Aicat 6388    481\n",
       "SH BARCELONA                             381\n",
       "AREA CASA                                332\n",
       "                                        ... \n",
       "Tecnocasa - Llull                          1\n",
       "CAFINSER                                   1\n",
       "IELSIA                                     1\n",
       "TORESFA                                    1\n",
       "ICASA GRUP                                 1\n",
       "Name: realestate, Length: 1046, dtype: int64"
      ]
     },
     "execution_count": 38,
     "metadata": {},
     "output_type": "execute_result"
    }
   ],
   "source": [
    "apartments.realestate.value_counts()"
   ]
  },
  {
   "cell_type": "markdown",
   "metadata": {},
   "source": [
    "Veiem que per la variable realestate tenim moltes categóries. Per reduir-ne el número, les classificarem segons el nombre d'habitatges que posen en lloguer. Anem a veure com es distribuexi la quantitat d'habitatges que té cada immobiliària."
   ]
  },
  {
   "cell_type": "code",
   "execution_count": 39,
   "metadata": {},
   "outputs": [
    {
     "data": {
      "text/html": [
       "<div>\n",
       "<style scoped>\n",
       "    .dataframe tbody tr th:only-of-type {\n",
       "        vertical-align: middle;\n",
       "    }\n",
       "\n",
       "    .dataframe tbody tr th {\n",
       "        vertical-align: top;\n",
       "    }\n",
       "\n",
       "    .dataframe thead th {\n",
       "        text-align: right;\n",
       "    }\n",
       "</style>\n",
       "<table border=\"1\" class=\"dataframe\">\n",
       "  <thead>\n",
       "    <tr style=\"text-align: right;\">\n",
       "      <th></th>\n",
       "      <th>counts</th>\n",
       "    </tr>\n",
       "  </thead>\n",
       "  <tbody>\n",
       "    <tr>\n",
       "      <th>count</th>\n",
       "      <td>1046.000000</td>\n",
       "    </tr>\n",
       "    <tr>\n",
       "      <th>mean</th>\n",
       "      <td>9.334608</td>\n",
       "    </tr>\n",
       "    <tr>\n",
       "      <th>std</th>\n",
       "      <td>42.954420</td>\n",
       "    </tr>\n",
       "    <tr>\n",
       "      <th>min</th>\n",
       "      <td>1.000000</td>\n",
       "    </tr>\n",
       "    <tr>\n",
       "      <th>25%</th>\n",
       "      <td>1.000000</td>\n",
       "    </tr>\n",
       "    <tr>\n",
       "      <th>50%</th>\n",
       "      <td>3.000000</td>\n",
       "    </tr>\n",
       "    <tr>\n",
       "      <th>75%</th>\n",
       "      <td>7.000000</td>\n",
       "    </tr>\n",
       "    <tr>\n",
       "      <th>max</th>\n",
       "      <td>836.000000</td>\n",
       "    </tr>\n",
       "  </tbody>\n",
       "</table>\n",
       "</div>"
      ],
      "text/plain": [
       "            counts\n",
       "count  1046.000000\n",
       "mean      9.334608\n",
       "std      42.954420\n",
       "min       1.000000\n",
       "25%       1.000000\n",
       "50%       3.000000\n",
       "75%       7.000000\n",
       "max     836.000000"
      ]
     },
     "execution_count": 39,
     "metadata": {},
     "output_type": "execute_result"
    }
   ],
   "source": [
    "counts_realestate = apartments.realestate.value_counts().to_frame().reset_index()\n",
    "counts_realestate.columns = ['realestate', 'counts']\n",
    "\n",
    "counts_realestate.describe()"
   ]
  },
  {
   "cell_type": "code",
   "execution_count": 40,
   "metadata": {},
   "outputs": [
    {
     "data": {
      "text/plain": [
       "<AxesSubplot:>"
      ]
     },
     "execution_count": 40,
     "metadata": {},
     "output_type": "execute_result"
    },
    {
     "data": {
      "image/png": "[encoded data removed]",
      "text/plain": [
       "<Figure size 432x288 with 1 Axes>"
      ]
     },
     "metadata": {
      "needs_background": "light"
     },
     "output_type": "display_data"
    }
   ],
   "source": [
    "counts_realestate.boxplot()"
   ]
  },
  {
   "cell_type": "markdown",
   "metadata": {},
   "source": [
    "Explorant les dades hem vist que TECNOCASA apareix disgregada en diferents oficines. Comencem per assignar-li la mateixa immobiliària"
   ]
  },
  {
   "cell_type": "code",
   "execution_count": 41,
   "metadata": {},
   "outputs": [
    {
     "data": {
      "text/html": [
       "<div>\n",
       "<style scoped>\n",
       "    .dataframe tbody tr th:only-of-type {\n",
       "        vertical-align: middle;\n",
       "    }\n",
       "\n",
       "    .dataframe tbody tr th {\n",
       "        vertical-align: top;\n",
       "    }\n",
       "\n",
       "    .dataframe thead th {\n",
       "        text-align: right;\n",
       "    }\n",
       "</style>\n",
       "<table border=\"1\" class=\"dataframe\">\n",
       "  <thead>\n",
       "    <tr style=\"text-align: right;\">\n",
       "      <th></th>\n",
       "      <th>realestate</th>\n",
       "      <th>counts</th>\n",
       "    </tr>\n",
       "  </thead>\n",
       "  <tbody>\n",
       "    <tr>\n",
       "      <th>54</th>\n",
       "      <td>TECNOCASA RIERA ALTA MAR</td>\n",
       "      <td>24</td>\n",
       "    </tr>\n",
       "    <tr>\n",
       "      <th>120</th>\n",
       "      <td>TECNOCASA - ESTUDI AVINGUDA DE ROMA</td>\n",
       "      <td>13</td>\n",
       "    </tr>\n",
       "    <tr>\n",
       "      <th>195</th>\n",
       "      <td>TECNOCASA</td>\n",
       "      <td>9</td>\n",
       "    </tr>\n",
       "    <tr>\n",
       "      <th>367</th>\n",
       "      <td>TECNOCASA - ESTUDI MARINA 311</td>\n",
       "      <td>4</td>\n",
       "    </tr>\n",
       "    <tr>\n",
       "      <th>391</th>\n",
       "      <td>TECNOCASA-ESTUDI GRAN DE SANT ANDREU</td>\n",
       "      <td>4</td>\n",
       "    </tr>\n",
       "    <tr>\n",
       "      <th>484</th>\n",
       "      <td>TECNOCASA - PISOS BORNE MAR</td>\n",
       "      <td>3</td>\n",
       "    </tr>\n",
       "    <tr>\n",
       "      <th>504</th>\n",
       "      <td>TECNOCASA - PROJECTE LA PROSPERITAT</td>\n",
       "      <td>3</td>\n",
       "    </tr>\n",
       "    <tr>\n",
       "      <th>505</th>\n",
       "      <td>TECNOCASA - HOME GUINARDO</td>\n",
       "      <td>3</td>\n",
       "    </tr>\n",
       "    <tr>\n",
       "      <th>517</th>\n",
       "      <td>TECNOCASA AVDA. MISTRAL</td>\n",
       "      <td>3</td>\n",
       "    </tr>\n",
       "    <tr>\n",
       "      <th>558</th>\n",
       "      <td>TECNOCASA - ESTUDI CAP MARAGALL</td>\n",
       "      <td>2</td>\n",
       "    </tr>\n",
       "    <tr>\n",
       "      <th>591</th>\n",
       "      <td>TECNOCASA - ESTUDI PROJECTE SANT ANDREU</td>\n",
       "      <td>2</td>\n",
       "    </tr>\n",
       "    <tr>\n",
       "      <th>652</th>\n",
       "      <td>TECNOCASA ESTUDI MERIDIANA</td>\n",
       "      <td>2</td>\n",
       "    </tr>\n",
       "    <tr>\n",
       "      <th>733</th>\n",
       "      <td>TECNOCASA - ESTUDIO PROYECTO MARAGALL 2004</td>\n",
       "      <td>1</td>\n",
       "    </tr>\n",
       "    <tr>\n",
       "      <th>748</th>\n",
       "      <td>TECNOCASA -  ESTUDI NOU GAUDI</td>\n",
       "      <td>1</td>\n",
       "    </tr>\n",
       "    <tr>\n",
       "      <th>937</th>\n",
       "      <td>TECNOCASA - ESTUDI NAPOLS</td>\n",
       "      <td>1</td>\n",
       "    </tr>\n",
       "  </tbody>\n",
       "</table>\n",
       "</div>"
      ],
      "text/plain": [
       "                                     realestate  counts\n",
       "54                     TECNOCASA RIERA ALTA MAR      24\n",
       "120         TECNOCASA - ESTUDI AVINGUDA DE ROMA      13\n",
       "195                                   TECNOCASA       9\n",
       "367               TECNOCASA - ESTUDI MARINA 311       4\n",
       "391        TECNOCASA-ESTUDI GRAN DE SANT ANDREU       4\n",
       "484                 TECNOCASA - PISOS BORNE MAR       3\n",
       "504         TECNOCASA - PROJECTE LA PROSPERITAT       3\n",
       "505                   TECNOCASA - HOME GUINARDO       3\n",
       "517                     TECNOCASA AVDA. MISTRAL       3\n",
       "558             TECNOCASA - ESTUDI CAP MARAGALL       2\n",
       "591     TECNOCASA - ESTUDI PROJECTE SANT ANDREU       2\n",
       "652                  TECNOCASA ESTUDI MERIDIANA       2\n",
       "733  TECNOCASA - ESTUDIO PROYECTO MARAGALL 2004       1\n",
       "748               TECNOCASA -  ESTUDI NOU GAUDI       1\n",
       "937                   TECNOCASA - ESTUDI NAPOLS       1"
      ]
     },
     "execution_count": 41,
     "metadata": {},
     "output_type": "execute_result"
    }
   ],
   "source": [
    "counts_realestate[counts_realestate.realestate.astype(str).str.contains('TECNOCASA')]"
   ]
  },
  {
   "cell_type": "code",
   "execution_count": 42,
   "metadata": {},
   "outputs": [],
   "source": [
    "apartments.loc[apartments.realestate.astype(str).str.contains('TECNOCASA'),'realestate'] = 'TECNOCASA'\n",
    "counts_realestate = apartments.realestate.value_counts().to_frame().reset_index()\n",
    "counts_realestate.columns = ['realestate', 'counts']"
   ]
  },
  {
   "cell_type": "markdown",
   "metadata": {},
   "source": [
    "Farem la suposició on tots aquells valors de realstate que només tinguin un habitatge els etiquetarem com a porpietaris particulars."
   ]
  },
  {
   "cell_type": "code",
   "execution_count": 43,
   "metadata": {},
   "outputs": [],
   "source": [
    "particulars = counts_realestate[counts_realestate.counts==1].realestate\n",
    "apartments.loc[apartments.realestate.isin(particulars),\"realestate_size\"] = 'Particular'"
   ]
  },
  {
   "cell_type": "markdown",
   "metadata": {},
   "source": [
    "Entre 2 i 10, els classificarem com a petits propietaris."
   ]
  },
  {
   "cell_type": "code",
   "execution_count": 44,
   "metadata": {},
   "outputs": [],
   "source": [
    "petits_propietaris = counts_realestate[np.logical_and(counts_realestate.counts>1, counts_realestate.counts<=10)].realestate\n",
    "apartments.loc[apartments.realestate.isin(petits_propietaris),\"realestate_size\"] = 'Petit'"
   ]
  },
  {
   "cell_type": "markdown",
   "metadata": {},
   "source": [
    "Entre 11 i 50 els classificarem com a propietaris mitjans."
   ]
  },
  {
   "cell_type": "code",
   "execution_count": 45,
   "metadata": {},
   "outputs": [],
   "source": [
    "mitja = counts_realestate[np.logical_and(counts_realestate.counts>10, counts_realestate.counts<=50)].realestate\n",
    "apartments.loc[apartments.realestate.isin(mitja),\"realestate_size\"] = 'Mitja'"
   ]
  },
  {
   "cell_type": "markdown",
   "metadata": {},
   "source": [
    "Més de 50 i menys de 300 com a grans propietaris"
   ]
  },
  {
   "cell_type": "code",
   "execution_count": 46,
   "metadata": {},
   "outputs": [],
   "source": [
    "grans = counts_realestate[np.logical_and(counts_realestate.counts>50, counts_realestate.counts<=300)].realestate\n",
    "apartments.loc[apartments.realestate.isin(grans),\"realestate_size\"] = 'Grans'"
   ]
  },
  {
   "cell_type": "markdown",
   "metadata": {},
   "source": [
    "Més de 300, com a molt grans proietaris."
   ]
  },
  {
   "cell_type": "code",
   "execution_count": 47,
   "metadata": {},
   "outputs": [],
   "source": [
    "molt_grans = counts_realestate[counts_realestate.counts>300].realestate\n",
    "apartments.loc[apartments.realestate.isin(molt_grans),\"realestate_size\"] = 'Molt grans'"
   ]
  },
  {
   "cell_type": "markdown",
   "metadata": {},
   "source": [
    "Hem simplificat notablement la informació sobre les immobiliàries."
   ]
  },
  {
   "cell_type": "code",
   "execution_count": 48,
   "metadata": {},
   "outputs": [
    {
     "data": {
      "text/plain": [
       "Molt grans    2790\n",
       "Mitja         2619\n",
       "Petit         2276\n",
       "Grans         1721\n",
       "Particular     358\n",
       "Name: realestate_size, dtype: int64"
      ]
     },
     "execution_count": 48,
     "metadata": {},
     "output_type": "execute_result"
    }
   ],
   "source": [
    "apartments.realestate_size.astype('category')\n",
    "apartments.realestate_size.value_counts()\n"
   ]
  },
  {
   "cell_type": "markdown",
   "metadata": {},
   "source": [
    "Ara codifiquem les variables:"
   ]
  },
  {
   "cell_type": "code",
   "execution_count": 49,
   "metadata": {},
   "outputs": [
    {
     "data": {
      "text/html": [
       "<div>\n",
       "<style scoped>\n",
       "    .dataframe tbody tr th:only-of-type {\n",
       "        vertical-align: middle;\n",
       "    }\n",
       "\n",
       "    .dataframe tbody tr th {\n",
       "        vertical-align: top;\n",
       "    }\n",
       "\n",
       "    .dataframe thead th {\n",
       "        text-align: right;\n",
       "    }\n",
       "</style>\n",
       "<table border=\"1\" class=\"dataframe\">\n",
       "  <thead>\n",
       "    <tr style=\"text-align: right;\">\n",
       "      <th></th>\n",
       "      <th>building_subtype_Apartment</th>\n",
       "      <th>building_subtype_Attic</th>\n",
       "      <th>building_subtype_CountryHouse</th>\n",
       "      <th>building_subtype_Duplex</th>\n",
       "      <th>building_subtype_Flat</th>\n",
       "      <th>building_subtype_GroundFloorWithGarden</th>\n",
       "      <th>building_subtype_House_Chalet</th>\n",
       "      <th>building_subtype_Loft</th>\n",
       "      <th>building_subtype_SemiDetached</th>\n",
       "      <th>building_subtype_SemidetachedHouse</th>\n",
       "      <th>...</th>\n",
       "      <th>realestate_size_Molt grans</th>\n",
       "      <th>realestate_size_Particular</th>\n",
       "      <th>realestate_size_Petit</th>\n",
       "      <th>bathrooms</th>\n",
       "      <th>discount</th>\n",
       "      <th>latitude</th>\n",
       "      <th>longitude</th>\n",
       "      <th>price</th>\n",
       "      <th>rooms</th>\n",
       "      <th>sqft_m2</th>\n",
       "    </tr>\n",
       "  </thead>\n",
       "  <tbody>\n",
       "    <tr>\n",
       "      <th>0</th>\n",
       "      <td>0.0</td>\n",
       "      <td>0.0</td>\n",
       "      <td>0.0</td>\n",
       "      <td>0.0</td>\n",
       "      <td>0.0</td>\n",
       "      <td>0.0</td>\n",
       "      <td>0.0</td>\n",
       "      <td>0.0</td>\n",
       "      <td>0.0</td>\n",
       "      <td>0.0</td>\n",
       "      <td>...</td>\n",
       "      <td>0.0</td>\n",
       "      <td>0.0</td>\n",
       "      <td>1.0</td>\n",
       "      <td>1.0</td>\n",
       "      <td>0.0</td>\n",
       "      <td>41.37723</td>\n",
       "      <td>2.160380</td>\n",
       "      <td>320.0</td>\n",
       "      <td>0.0</td>\n",
       "      <td>15.0</td>\n",
       "    </tr>\n",
       "    <tr>\n",
       "      <th>1</th>\n",
       "      <td>0.0</td>\n",
       "      <td>0.0</td>\n",
       "      <td>0.0</td>\n",
       "      <td>0.0</td>\n",
       "      <td>1.0</td>\n",
       "      <td>0.0</td>\n",
       "      <td>0.0</td>\n",
       "      <td>0.0</td>\n",
       "      <td>0.0</td>\n",
       "      <td>0.0</td>\n",
       "      <td>...</td>\n",
       "      <td>0.0</td>\n",
       "      <td>0.0</td>\n",
       "      <td>1.0</td>\n",
       "      <td>1.0</td>\n",
       "      <td>0.0</td>\n",
       "      <td>41.43157</td>\n",
       "      <td>2.169108</td>\n",
       "      <td>400.0</td>\n",
       "      <td>2.0</td>\n",
       "      <td>63.0</td>\n",
       "    </tr>\n",
       "    <tr>\n",
       "      <th>2</th>\n",
       "      <td>0.0</td>\n",
       "      <td>0.0</td>\n",
       "      <td>0.0</td>\n",
       "      <td>0.0</td>\n",
       "      <td>0.0</td>\n",
       "      <td>0.0</td>\n",
       "      <td>0.0</td>\n",
       "      <td>0.0</td>\n",
       "      <td>0.0</td>\n",
       "      <td>0.0</td>\n",
       "      <td>...</td>\n",
       "      <td>0.0</td>\n",
       "      <td>0.0</td>\n",
       "      <td>1.0</td>\n",
       "      <td>1.0</td>\n",
       "      <td>0.0</td>\n",
       "      <td>41.37141</td>\n",
       "      <td>2.144235</td>\n",
       "      <td>430.0</td>\n",
       "      <td>0.0</td>\n",
       "      <td>17.0</td>\n",
       "    </tr>\n",
       "    <tr>\n",
       "      <th>3</th>\n",
       "      <td>0.0</td>\n",
       "      <td>0.0</td>\n",
       "      <td>0.0</td>\n",
       "      <td>0.0</td>\n",
       "      <td>1.0</td>\n",
       "      <td>0.0</td>\n",
       "      <td>0.0</td>\n",
       "      <td>0.0</td>\n",
       "      <td>0.0</td>\n",
       "      <td>0.0</td>\n",
       "      <td>...</td>\n",
       "      <td>0.0</td>\n",
       "      <td>0.0</td>\n",
       "      <td>1.0</td>\n",
       "      <td>2.0</td>\n",
       "      <td>0.0</td>\n",
       "      <td>41.36364</td>\n",
       "      <td>2.139371</td>\n",
       "      <td>450.0</td>\n",
       "      <td>1.0</td>\n",
       "      <td>29.0</td>\n",
       "    </tr>\n",
       "    <tr>\n",
       "      <th>4</th>\n",
       "      <td>1.0</td>\n",
       "      <td>0.0</td>\n",
       "      <td>0.0</td>\n",
       "      <td>0.0</td>\n",
       "      <td>0.0</td>\n",
       "      <td>0.0</td>\n",
       "      <td>0.0</td>\n",
       "      <td>0.0</td>\n",
       "      <td>0.0</td>\n",
       "      <td>0.0</td>\n",
       "      <td>...</td>\n",
       "      <td>0.0</td>\n",
       "      <td>0.0</td>\n",
       "      <td>1.0</td>\n",
       "      <td>1.0</td>\n",
       "      <td>0.0</td>\n",
       "      <td>41.38046</td>\n",
       "      <td>2.160540</td>\n",
       "      <td>450.0</td>\n",
       "      <td>0.0</td>\n",
       "      <td>25.0</td>\n",
       "    </tr>\n",
       "    <tr>\n",
       "      <th>...</th>\n",
       "      <td>...</td>\n",
       "      <td>...</td>\n",
       "      <td>...</td>\n",
       "      <td>...</td>\n",
       "      <td>...</td>\n",
       "      <td>...</td>\n",
       "      <td>...</td>\n",
       "      <td>...</td>\n",
       "      <td>...</td>\n",
       "      <td>...</td>\n",
       "      <td>...</td>\n",
       "      <td>...</td>\n",
       "      <td>...</td>\n",
       "      <td>...</td>\n",
       "      <td>...</td>\n",
       "      <td>...</td>\n",
       "      <td>...</td>\n",
       "      <td>...</td>\n",
       "      <td>...</td>\n",
       "      <td>...</td>\n",
       "      <td>...</td>\n",
       "    </tr>\n",
       "    <tr>\n",
       "      <th>9759</th>\n",
       "      <td>1.0</td>\n",
       "      <td>0.0</td>\n",
       "      <td>0.0</td>\n",
       "      <td>0.0</td>\n",
       "      <td>0.0</td>\n",
       "      <td>0.0</td>\n",
       "      <td>0.0</td>\n",
       "      <td>0.0</td>\n",
       "      <td>0.0</td>\n",
       "      <td>0.0</td>\n",
       "      <td>...</td>\n",
       "      <td>1.0</td>\n",
       "      <td>0.0</td>\n",
       "      <td>0.0</td>\n",
       "      <td>1.0</td>\n",
       "      <td>0.0</td>\n",
       "      <td>41.37645</td>\n",
       "      <td>2.142625</td>\n",
       "      <td>22839.0</td>\n",
       "      <td>2.0</td>\n",
       "      <td>54.0</td>\n",
       "    </tr>\n",
       "    <tr>\n",
       "      <th>9760</th>\n",
       "      <td>1.0</td>\n",
       "      <td>0.0</td>\n",
       "      <td>0.0</td>\n",
       "      <td>0.0</td>\n",
       "      <td>0.0</td>\n",
       "      <td>0.0</td>\n",
       "      <td>0.0</td>\n",
       "      <td>0.0</td>\n",
       "      <td>0.0</td>\n",
       "      <td>0.0</td>\n",
       "      <td>...</td>\n",
       "      <td>1.0</td>\n",
       "      <td>0.0</td>\n",
       "      <td>0.0</td>\n",
       "      <td>2.0</td>\n",
       "      <td>0.0</td>\n",
       "      <td>41.38043</td>\n",
       "      <td>2.152265</td>\n",
       "      <td>23092.0</td>\n",
       "      <td>3.0</td>\n",
       "      <td>85.0</td>\n",
       "    </tr>\n",
       "    <tr>\n",
       "      <th>9761</th>\n",
       "      <td>0.0</td>\n",
       "      <td>0.0</td>\n",
       "      <td>1.0</td>\n",
       "      <td>0.0</td>\n",
       "      <td>0.0</td>\n",
       "      <td>0.0</td>\n",
       "      <td>0.0</td>\n",
       "      <td>0.0</td>\n",
       "      <td>0.0</td>\n",
       "      <td>0.0</td>\n",
       "      <td>...</td>\n",
       "      <td>1.0</td>\n",
       "      <td>0.0</td>\n",
       "      <td>0.0</td>\n",
       "      <td>21.0</td>\n",
       "      <td>30000.0</td>\n",
       "      <td>41.42890</td>\n",
       "      <td>2.167005</td>\n",
       "      <td>25000.0</td>\n",
       "      <td>21.0</td>\n",
       "      <td>2500.0</td>\n",
       "    </tr>\n",
       "    <tr>\n",
       "      <th>9762</th>\n",
       "      <td>1.0</td>\n",
       "      <td>0.0</td>\n",
       "      <td>0.0</td>\n",
       "      <td>0.0</td>\n",
       "      <td>0.0</td>\n",
       "      <td>0.0</td>\n",
       "      <td>0.0</td>\n",
       "      <td>0.0</td>\n",
       "      <td>0.0</td>\n",
       "      <td>0.0</td>\n",
       "      <td>...</td>\n",
       "      <td>1.0</td>\n",
       "      <td>0.0</td>\n",
       "      <td>0.0</td>\n",
       "      <td>7.0</td>\n",
       "      <td>0.0</td>\n",
       "      <td>41.42745</td>\n",
       "      <td>2.167871</td>\n",
       "      <td>28279.0</td>\n",
       "      <td>8.0</td>\n",
       "      <td>550.0</td>\n",
       "    </tr>\n",
       "    <tr>\n",
       "      <th>9763</th>\n",
       "      <td>0.0</td>\n",
       "      <td>0.0</td>\n",
       "      <td>0.0</td>\n",
       "      <td>0.0</td>\n",
       "      <td>1.0</td>\n",
       "      <td>0.0</td>\n",
       "      <td>0.0</td>\n",
       "      <td>0.0</td>\n",
       "      <td>0.0</td>\n",
       "      <td>0.0</td>\n",
       "      <td>...</td>\n",
       "      <td>0.0</td>\n",
       "      <td>0.0</td>\n",
       "      <td>1.0</td>\n",
       "      <td>4.0</td>\n",
       "      <td>0.0</td>\n",
       "      <td>41.39231</td>\n",
       "      <td>2.145066</td>\n",
       "      <td>29000.0</td>\n",
       "      <td>4.0</td>\n",
       "      <td>600.0</td>\n",
       "    </tr>\n",
       "  </tbody>\n",
       "</table>\n",
       "<p>9764 rows × 99 columns</p>\n",
       "</div>"
      ],
      "text/plain": [
       "      building_subtype_Apartment  building_subtype_Attic  \\\n",
       "0                            0.0                     0.0   \n",
       "1                            0.0                     0.0   \n",
       "2                            0.0                     0.0   \n",
       "3                            0.0                     0.0   \n",
       "4                            1.0                     0.0   \n",
       "...                          ...                     ...   \n",
       "9759                         1.0                     0.0   \n",
       "9760                         1.0                     0.0   \n",
       "9761                         0.0                     0.0   \n",
       "9762                         1.0                     0.0   \n",
       "9763                         0.0                     0.0   \n",
       "\n",
       "      building_subtype_CountryHouse  building_subtype_Duplex  \\\n",
       "0                               0.0                      0.0   \n",
       "1                               0.0                      0.0   \n",
       "2                               0.0                      0.0   \n",
       "3                               0.0                      0.0   \n",
       "4                               0.0                      0.0   \n",
       "...                             ...                      ...   \n",
       "9759                            0.0                      0.0   \n",
       "9760                            0.0                      0.0   \n",
       "9761                            1.0                      0.0   \n",
       "9762                            0.0                      0.0   \n",
       "9763                            0.0                      0.0   \n",
       "\n",
       "      building_subtype_Flat  building_subtype_GroundFloorWithGarden  \\\n",
       "0                       0.0                                     0.0   \n",
       "1                       1.0                                     0.0   \n",
       "2                       0.0                                     0.0   \n",
       "3                       1.0                                     0.0   \n",
       "4                       0.0                                     0.0   \n",
       "...                     ...                                     ...   \n",
       "9759                    0.0                                     0.0   \n",
       "9760                    0.0                                     0.0   \n",
       "9761                    0.0                                     0.0   \n",
       "9762                    0.0                                     0.0   \n",
       "9763                    1.0                                     0.0   \n",
       "\n",
       "      building_subtype_House_Chalet  building_subtype_Loft  \\\n",
       "0                               0.0                    0.0   \n",
       "1                               0.0                    0.0   \n",
       "2                               0.0                    0.0   \n",
       "3                               0.0                    0.0   \n",
       "4                               0.0                    0.0   \n",
       "...                             ...                    ...   \n",
       "9759                            0.0                    0.0   \n",
       "9760                            0.0                    0.0   \n",
       "9761                            0.0                    0.0   \n",
       "9762                            0.0                    0.0   \n",
       "9763                            0.0                    0.0   \n",
       "\n",
       "      building_subtype_SemiDetached  building_subtype_SemidetachedHouse  ...  \\\n",
       "0                               0.0                                 0.0  ...   \n",
       "1                               0.0                                 0.0  ...   \n",
       "2                               0.0                                 0.0  ...   \n",
       "3                               0.0                                 0.0  ...   \n",
       "4                               0.0                                 0.0  ...   \n",
       "...                             ...                                 ...  ...   \n",
       "9759                            0.0                                 0.0  ...   \n",
       "9760                            0.0                                 0.0  ...   \n",
       "9761                            0.0                                 0.0  ...   \n",
       "9762                            0.0                                 0.0  ...   \n",
       "9763                            0.0                                 0.0  ...   \n",
       "\n",
       "      realestate_size_Molt grans  realestate_size_Particular  \\\n",
       "0                            0.0                         0.0   \n",
       "1                            0.0                         0.0   \n",
       "2                            0.0                         0.0   \n",
       "3                            0.0                         0.0   \n",
       "4                            0.0                         0.0   \n",
       "...                          ...                         ...   \n",
       "9759                         1.0                         0.0   \n",
       "9760                         1.0                         0.0   \n",
       "9761                         1.0                         0.0   \n",
       "9762                         1.0                         0.0   \n",
       "9763                         0.0                         0.0   \n",
       "\n",
       "      realestate_size_Petit  bathrooms  discount  latitude  longitude  \\\n",
       "0                       1.0        1.0       0.0  41.37723   2.160380   \n",
       "1                       1.0        1.0       0.0  41.43157   2.169108   \n",
       "2                       1.0        1.0       0.0  41.37141   2.144235   \n",
       "3                       1.0        2.0       0.0  41.36364   2.139371   \n",
       "4                       1.0        1.0       0.0  41.38046   2.160540   \n",
       "...                     ...        ...       ...       ...        ...   \n",
       "9759                    0.0        1.0       0.0  41.37645   2.142625   \n",
       "9760                    0.0        2.0       0.0  41.38043   2.152265   \n",
       "9761                    0.0       21.0   30000.0  41.42890   2.167005   \n",
       "9762                    0.0        7.0       0.0  41.42745   2.167871   \n",
       "9763                    1.0        4.0       0.0  41.39231   2.145066   \n",
       "\n",
       "        price  rooms  sqft_m2  \n",
       "0       320.0    0.0     15.0  \n",
       "1       400.0    2.0     63.0  \n",
       "2       430.0    0.0     17.0  \n",
       "3       450.0    1.0     29.0  \n",
       "4       450.0    0.0     25.0  \n",
       "...       ...    ...      ...  \n",
       "9759  22839.0    2.0     54.0  \n",
       "9760  23092.0    3.0     85.0  \n",
       "9761  25000.0   21.0   2500.0  \n",
       "9762  28279.0    8.0    550.0  \n",
       "9763  29000.0    4.0    600.0  \n",
       "\n",
       "[9764 rows x 99 columns]"
      ]
     },
     "execution_count": 49,
     "metadata": {},
     "output_type": "execute_result"
    }
   ],
   "source": [
    "from sklearn.compose import ColumnTransformer\n",
    "from sklearn.preprocessing import OneHotEncoder\n",
    "\n",
    "apartments_regression = apartments.drop(columns=['realestate','building_type','link','neighb_meanprice','diff_mitjana'])\n",
    "cat_labels = apartments_regression.select_dtypes(include=['object', 'category','bool']).columns.to_list()\n",
    "numeric_labels = apartments_regression.select_dtypes(include=['float64', 'int']).columns.to_list()\n",
    "\n",
    "preprocessor = ColumnTransformer([('encoder', OneHotEncoder(), cat_labels)],\n",
    "                    remainder='passthrough'\n",
    "               )\n",
    "apartments_regression_cod = preprocessor.fit_transform(apartments_regression)\n",
    "cat_labels_encoded = preprocessor.named_transformers_['encoder'].get_feature_names(cat_labels)\n",
    "new_labels = np.concatenate([cat_labels_encoded,numeric_labels])\n",
    "\n",
    "apartments_regression_cod = pd.DataFrame(apartments_regression_cod.todense(), columns=new_labels)\n",
    "apartments_regression_cod"
   ]
  },
  {
   "cell_type": "code",
   "execution_count": 50,
   "metadata": {},
   "outputs": [
    {
     "data": {
      "text/html": [
       "<table class=\"simpletable\">\n",
       "<caption>OLS Regression Results</caption>\n",
       "<tr>\n",
       "  <th>Dep. Variable:</th>          <td>price</td>      <th>  R-squared:         </th> <td>   0.595</td> \n",
       "</tr>\n",
       "<tr>\n",
       "  <th>Model:</th>                   <td>OLS</td>       <th>  Adj. R-squared:    </th> <td>   0.591</td> \n",
       "</tr>\n",
       "<tr>\n",
       "  <th>Method:</th>             <td>Least Squares</td>  <th>  F-statistic:       </th> <td>   154.6</td> \n",
       "</tr>\n",
       "<tr>\n",
       "  <th>Date:</th>             <td>Mon, 21 Dec 2020</td> <th>  Prob (F-statistic):</th>  <td>  0.00</td>  \n",
       "</tr>\n",
       "<tr>\n",
       "  <th>Time:</th>                 <td>19:32:26</td>     <th>  Log-Likelihood:    </th> <td> -79351.</td> \n",
       "</tr>\n",
       "<tr>\n",
       "  <th>No. Observations:</th>      <td>  9764</td>      <th>  AIC:               </th> <td>1.589e+05</td>\n",
       "</tr>\n",
       "<tr>\n",
       "  <th>Df Residuals:</th>          <td>  9671</td>      <th>  BIC:               </th> <td>1.596e+05</td>\n",
       "</tr>\n",
       "<tr>\n",
       "  <th>Df Model:</th>              <td>    92</td>      <th>                     </th>     <td> </td>    \n",
       "</tr>\n",
       "<tr>\n",
       "  <th>Covariance Type:</th>      <td>nonrobust</td>    <th>                     </th>     <td> </td>    \n",
       "</tr>\n",
       "</table>\n",
       "<table class=\"simpletable\">\n",
       "<tr>\n",
       "                               <td></td>                                 <th>coef</th>     <th>std err</th>      <th>t</th>      <th>P>|t|</th>  <th>[0.025</th>    <th>0.975]</th>  \n",
       "</tr>\n",
       "<tr>\n",
       "  <th>building_subtype_Apartment</th>                                 <td> 4211.8233</td> <td> 5729.218</td> <td>    0.735</td> <td> 0.462</td> <td>-7018.643</td> <td> 1.54e+04</td>\n",
       "</tr>\n",
       "<tr>\n",
       "  <th>building_subtype_Attic</th>                                     <td> 4117.7463</td> <td> 5729.957</td> <td>    0.719</td> <td> 0.472</td> <td>-7114.168</td> <td> 1.53e+04</td>\n",
       "</tr>\n",
       "<tr>\n",
       "  <th>building_subtype_CountryHouse</th>                              <td>-1.604e+04</td> <td> 5912.692</td> <td>   -2.713</td> <td> 0.007</td> <td>-2.76e+04</td> <td>-4450.380</td>\n",
       "</tr>\n",
       "<tr>\n",
       "  <th>building_subtype_Duplex</th>                                    <td> 3822.2003</td> <td> 5731.142</td> <td>    0.667</td> <td> 0.505</td> <td>-7412.038</td> <td> 1.51e+04</td>\n",
       "</tr>\n",
       "<tr>\n",
       "  <th>building_subtype_Flat</th>                                      <td> 3788.4442</td> <td> 5730.031</td> <td>    0.661</td> <td> 0.509</td> <td>-7443.617</td> <td>  1.5e+04</td>\n",
       "</tr>\n",
       "<tr>\n",
       "  <th>building_subtype_GroundFloorWithGarden</th>                     <td> 3884.5898</td> <td> 5726.958</td> <td>    0.678</td> <td> 0.498</td> <td>-7341.446</td> <td> 1.51e+04</td>\n",
       "</tr>\n",
       "<tr>\n",
       "  <th>building_subtype_House_Chalet</th>                              <td> 4368.3338</td> <td> 5737.173</td> <td>    0.761</td> <td> 0.446</td> <td>-6877.726</td> <td> 1.56e+04</td>\n",
       "</tr>\n",
       "<tr>\n",
       "  <th>building_subtype_Loft</th>                                      <td> 3989.0087</td> <td> 5728.314</td> <td>    0.696</td> <td> 0.486</td> <td>-7239.687</td> <td> 1.52e+04</td>\n",
       "</tr>\n",
       "<tr>\n",
       "  <th>building_subtype_SemiDetached</th>                              <td> 4825.7286</td> <td> 5742.887</td> <td>    0.840</td> <td> 0.401</td> <td>-6431.531</td> <td> 1.61e+04</td>\n",
       "</tr>\n",
       "<tr>\n",
       "  <th>building_subtype_SemidetachedHouse</th>                         <td> 3256.8293</td> <td> 5737.739</td> <td>    0.568</td> <td> 0.570</td> <td>-7990.340</td> <td> 1.45e+04</td>\n",
       "</tr>\n",
       "<tr>\n",
       "  <th>building_subtype_Study</th>                                     <td> 3812.6296</td> <td> 5730.310</td> <td>    0.665</td> <td> 0.506</td> <td>-7419.977</td> <td>  1.5e+04</td>\n",
       "</tr>\n",
       "<tr>\n",
       "  <th>conservation_state_-1.0</th>                                    <td> 4066.8750</td> <td> 1.05e+04</td> <td>    0.387</td> <td> 0.699</td> <td>-1.65e+04</td> <td> 2.47e+04</td>\n",
       "</tr>\n",
       "<tr>\n",
       "  <th>conservation_state_1.0</th>                                     <td> 4099.3003</td> <td> 1.05e+04</td> <td>    0.390</td> <td> 0.696</td> <td>-1.65e+04</td> <td> 2.47e+04</td>\n",
       "</tr>\n",
       "<tr>\n",
       "  <th>conservation_state_2.0</th>                                     <td> 4055.9893</td> <td> 1.05e+04</td> <td>    0.386</td> <td> 0.699</td> <td>-1.65e+04</td> <td> 2.47e+04</td>\n",
       "</tr>\n",
       "<tr>\n",
       "  <th>conservation_state_3.0</th>                                     <td> 4016.3879</td> <td> 1.05e+04</td> <td>    0.382</td> <td> 0.702</td> <td>-1.66e+04</td> <td> 2.46e+04</td>\n",
       "</tr>\n",
       "<tr>\n",
       "  <th>conservation_state_4.0</th>                                     <td> 3716.2390</td> <td> 1.05e+04</td> <td>    0.353</td> <td> 0.724</td> <td>-1.69e+04</td> <td> 2.43e+04</td>\n",
       "</tr>\n",
       "<tr>\n",
       "  <th>conservation_state_8.0</th>                                     <td> 4082.0489</td> <td> 1.05e+04</td> <td>    0.388</td> <td> 0.698</td> <td>-1.65e+04</td> <td> 2.47e+04</td>\n",
       "</tr>\n",
       "<tr>\n",
       "  <th>floor_elevator_False</th>                                       <td> 1.204e+04</td> <td> 3.15e+04</td> <td>    0.382</td> <td> 0.703</td> <td>-4.97e+04</td> <td> 7.38e+04</td>\n",
       "</tr>\n",
       "<tr>\n",
       "  <th>floor_elevator_True</th>                                        <td>   1.2e+04</td> <td> 3.15e+04</td> <td>    0.381</td> <td> 0.703</td> <td>-4.98e+04</td> <td> 7.38e+04</td>\n",
       "</tr>\n",
       "<tr>\n",
       "  <th>is_new_construction_False</th>                                  <td> 1.135e+04</td> <td> 3.15e+04</td> <td>    0.360</td> <td> 0.719</td> <td>-5.04e+04</td> <td> 7.31e+04</td>\n",
       "</tr>\n",
       "<tr>\n",
       "  <th>is_new_construction_True</th>                                   <td> 1.269e+04</td> <td> 3.15e+04</td> <td>    0.402</td> <td> 0.687</td> <td>-4.91e+04</td> <td> 7.45e+04</td>\n",
       "</tr>\n",
       "<tr>\n",
       "  <th>neighbourhood_can baró</th>                                     <td>  164.3599</td> <td>  986.007</td> <td>    0.167</td> <td> 0.868</td> <td>-1768.420</td> <td> 2097.139</td>\n",
       "</tr>\n",
       "<tr>\n",
       "  <th>neighbourhood_can peguera</th>                                  <td>  404.1565</td> <td> 1292.205</td> <td>    0.313</td> <td> 0.754</td> <td>-2128.836</td> <td> 2937.149</td>\n",
       "</tr>\n",
       "<tr>\n",
       "  <th>neighbourhood_canyelles</th>                                    <td>  133.2780</td> <td> 1175.588</td> <td>    0.113</td> <td> 0.910</td> <td>-2171.121</td> <td> 2437.677</td>\n",
       "</tr>\n",
       "<tr>\n",
       "  <th>neighbourhood_ciutat meridiana</th>                             <td>  326.0711</td> <td> 1343.437</td> <td>    0.243</td> <td> 0.808</td> <td>-2307.346</td> <td> 2959.488</td>\n",
       "</tr>\n",
       "<tr>\n",
       "  <th>neighbourhood_diagonal mar i el front marítim del poblenou</th> <td> 1387.0103</td> <td>  953.552</td> <td>    1.455</td> <td> 0.146</td> <td> -482.151</td> <td> 3256.172</td>\n",
       "</tr>\n",
       "<tr>\n",
       "  <th>neighbourhood_el baix guinardó</th>                             <td>  318.8832</td> <td>  959.239</td> <td>    0.332</td> <td> 0.740</td> <td>-1561.426</td> <td> 2199.193</td>\n",
       "</tr>\n",
       "<tr>\n",
       "  <th>neighbourhood_el barri gòtic</th>                               <td>  373.1920</td> <td>  892.265</td> <td>    0.418</td> <td> 0.676</td> <td>-1375.834</td> <td> 2122.218</td>\n",
       "</tr>\n",
       "<tr>\n",
       "  <th>neighbourhood_el besòs i el maresme</th>                        <td>  684.5552</td> <td>  978.451</td> <td>    0.700</td> <td> 0.484</td> <td>-1233.413</td> <td> 2602.523</td>\n",
       "</tr>\n",
       "<tr>\n",
       "  <th>neighbourhood_el bon pastor</th>                                <td>  548.7602</td> <td> 1118.618</td> <td>    0.491</td> <td> 0.624</td> <td>-1643.966</td> <td> 2741.486</td>\n",
       "</tr>\n",
       "<tr>\n",
       "  <th>neighbourhood_el camp d'en grassot i gràcia nova</th>           <td>  278.4870</td> <td>  946.572</td> <td>    0.294</td> <td> 0.769</td> <td>-1576.993</td> <td> 2133.967</td>\n",
       "</tr>\n",
       "<tr>\n",
       "  <th>neighbourhood_el camp de l'arpa del clot</th>                   <td>  363.9740</td> <td>  957.908</td> <td>    0.380</td> <td> 0.704</td> <td>-1513.726</td> <td> 2241.674</td>\n",
       "</tr>\n",
       "<tr>\n",
       "  <th>neighbourhood_el carmel</th>                                    <td>  149.7152</td> <td>  988.664</td> <td>    0.151</td> <td> 0.880</td> <td>-1788.273</td> <td> 2087.704</td>\n",
       "</tr>\n",
       "<tr>\n",
       "  <th>neighbourhood_el clot</th>                                      <td>  405.9271</td> <td>  959.511</td> <td>    0.423</td> <td> 0.672</td> <td>-1474.915</td> <td> 2286.770</td>\n",
       "</tr>\n",
       "<tr>\n",
       "  <th>neighbourhood_el coll</th>                                      <td>  137.1961</td> <td>  976.566</td> <td>    0.140</td> <td> 0.888</td> <td>-1777.078</td> <td> 2051.470</td>\n",
       "</tr>\n",
       "<tr>\n",
       "  <th>neighbourhood_el congrés i els indians</th>                     <td>  362.0409</td> <td>  993.041</td> <td>    0.365</td> <td> 0.715</td> <td>-1584.528</td> <td> 2308.609</td>\n",
       "</tr>\n",
       "<tr>\n",
       "  <th>neighbourhood_el fort pienc</th>                                <td>  370.1739</td> <td>  927.200</td> <td>    0.399</td> <td> 0.690</td> <td>-1447.332</td> <td> 2187.679</td>\n",
       "</tr>\n",
       "<tr>\n",
       "  <th>neighbourhood_el guinardó</th>                                  <td>  282.7792</td> <td>  976.880</td> <td>    0.289</td> <td> 0.772</td> <td>-1632.110</td> <td> 2197.668</td>\n",
       "</tr>\n",
       "<tr>\n",
       "  <th>neighbourhood_el parc i la llacuna del poblenou</th>            <td>  449.0932</td> <td>  925.325</td> <td>    0.485</td> <td> 0.627</td> <td>-1364.738</td> <td> 2262.925</td>\n",
       "</tr>\n",
       "<tr>\n",
       "  <th>neighbourhood_el poble sec - aei parc montjuïc</th>             <td>  270.9089</td> <td>  872.471</td> <td>    0.311</td> <td> 0.756</td> <td>-1439.317</td> <td> 1981.135</td>\n",
       "</tr>\n",
       "<tr>\n",
       "  <th>neighbourhood_el poblenou</th>                                  <td>  612.5381</td> <td>  938.870</td> <td>    0.652</td> <td> 0.514</td> <td>-1227.843</td> <td> 2452.919</td>\n",
       "</tr>\n",
       "<tr>\n",
       "  <th>neighbourhood_el putxet i el farró</th>                         <td>  145.7862</td> <td>  947.153</td> <td>    0.154</td> <td> 0.878</td> <td>-1710.831</td> <td> 2002.404</td>\n",
       "</tr>\n",
       "<tr>\n",
       "  <th>neighbourhood_el raval</th>                                     <td>  230.3642</td> <td>  888.162</td> <td>    0.259</td> <td> 0.795</td> <td>-1510.619</td> <td> 1971.348</td>\n",
       "</tr>\n",
       "<tr>\n",
       "  <th>neighbourhood_el turó de la peira</th>                          <td>  351.7656</td> <td> 1012.835</td> <td>    0.347</td> <td> 0.728</td> <td>-1633.603</td> <td> 2337.134</td>\n",
       "</tr>\n",
       "<tr>\n",
       "  <th>neighbourhood_horta</th>                                        <td>  286.5606</td> <td> 1011.921</td> <td>    0.283</td> <td> 0.777</td> <td>-1697.017</td> <td> 2270.138</td>\n",
       "</tr>\n",
       "<tr>\n",
       "  <th>neighbourhood_hostafrancs</th>                                  <td>  827.3325</td> <td>  881.660</td> <td>    0.938</td> <td> 0.348</td> <td> -900.907</td> <td> 2555.572</td>\n",
       "</tr>\n",
       "<tr>\n",
       "  <th>neighbourhood_l'antiga esquerra de l'eixample</th>              <td>  367.6466</td> <td>  907.478</td> <td>    0.405</td> <td> 0.685</td> <td>-1411.200</td> <td> 2146.493</td>\n",
       "</tr>\n",
       "<tr>\n",
       "  <th>neighbourhood_la barceloneta</th>                               <td>  539.8316</td> <td>  888.808</td> <td>    0.607</td> <td> 0.544</td> <td>-1202.418</td> <td> 2282.081</td>\n",
       "</tr>\n",
       "<tr>\n",
       "  <th>neighbourhood_la bordeta</th>                                   <td>   55.4799</td> <td>  871.401</td> <td>    0.064</td> <td> 0.949</td> <td>-1652.649</td> <td> 1763.609</td>\n",
       "</tr>\n",
       "<tr>\n",
       "  <th>neighbourhood_la dreta de l'eixample</th>                       <td>  615.9862</td> <td>  916.977</td> <td>    0.672</td> <td> 0.502</td> <td>-1181.480</td> <td> 2413.452</td>\n",
       "</tr>\n",
       "<tr>\n",
       "  <th>neighbourhood_la font d'en fargues</th>                         <td> 2581.6406</td> <td> 1015.508</td> <td>    2.542</td> <td> 0.011</td> <td>  591.033</td> <td> 4572.248</td>\n",
       "</tr>\n",
       "<tr>\n",
       "  <th>neighbourhood_la font de la guatlla</th>                        <td>  139.9752</td> <td>  875.859</td> <td>    0.160</td> <td> 0.873</td> <td>-1576.893</td> <td> 1856.843</td>\n",
       "</tr>\n",
       "<tr>\n",
       "  <th>neighbourhood_la guineueta</th>                                 <td>  341.2280</td> <td> 1064.731</td> <td>    0.320</td> <td> 0.749</td> <td>-1745.867</td> <td> 2428.323</td>\n",
       "</tr>\n",
       "<tr>\n",
       "  <th>neighbourhood_la marina de port</th>                            <td> -131.3133</td> <td>  856.279</td> <td>   -0.153</td> <td> 0.878</td> <td>-1809.799</td> <td> 1547.172</td>\n",
       "</tr>\n",
       "<tr>\n",
       "  <th>neighbourhood_la maternitat i sant ramon</th>                   <td>  -57.8130</td> <td>  889.849</td> <td>   -0.065</td> <td> 0.948</td> <td>-1802.103</td> <td> 1686.477</td>\n",
       "</tr>\n",
       "<tr>\n",
       "  <th>neighbourhood_la nova esquerra de l'eixample</th>               <td>  264.6756</td> <td>  895.029</td> <td>    0.296</td> <td> 0.767</td> <td>-1489.768</td> <td> 2019.119</td>\n",
       "</tr>\n",
       "<tr>\n",
       "  <th>neighbourhood_la prosperitat</th>                               <td>  284.2654</td> <td> 1045.616</td> <td>    0.272</td> <td> 0.786</td> <td>-1765.361</td> <td> 2333.892</td>\n",
       "</tr>\n",
       "<tr>\n",
       "  <th>neighbourhood_la sagrada família</th>                           <td>  403.4895</td> <td>  943.072</td> <td>    0.428</td> <td> 0.669</td> <td>-1445.129</td> <td> 2252.108</td>\n",
       "</tr>\n",
       "<tr>\n",
       "  <th>neighbourhood_la sagrera</th>                                   <td>  421.6366</td> <td>  994.712</td> <td>    0.424</td> <td> 0.672</td> <td>-1528.208</td> <td> 2371.481</td>\n",
       "</tr>\n",
       "<tr>\n",
       "  <th>neighbourhood_la salut</th>                                     <td>  213.5273</td> <td>  960.671</td> <td>    0.222</td> <td> 0.824</td> <td>-1669.590</td> <td> 2096.645</td>\n",
       "</tr>\n",
       "<tr>\n",
       "  <th>neighbourhood_la teixonera</th>                                 <td> -295.2657</td> <td>  993.267</td> <td>   -0.297</td> <td> 0.766</td> <td>-2242.277</td> <td> 1651.745</td>\n",
       "</tr>\n",
       "<tr>\n",
       "  <th>neighbourhood_la trinitat nova</th>                             <td>  218.3446</td> <td> 1114.169</td> <td>    0.196</td> <td> 0.845</td> <td>-1965.661</td> <td> 2402.350</td>\n",
       "</tr>\n",
       "<tr>\n",
       "  <th>neighbourhood_la trinitat vella</th>                            <td>  342.9484</td> <td> 1081.029</td> <td>    0.317</td> <td> 0.751</td> <td>-1776.095</td> <td> 2461.992</td>\n",
       "</tr>\n",
       "<tr>\n",
       "  <th>neighbourhood_la vall d'hebron</th>                             <td>  -65.8449</td> <td> 1154.439</td> <td>   -0.057</td> <td> 0.955</td> <td>-2328.788</td> <td> 2197.098</td>\n",
       "</tr>\n",
       "<tr>\n",
       "  <th>neighbourhood_la verneda i la pau</th>                          <td>  468.2804</td> <td> 1001.635</td> <td>    0.468</td> <td> 0.640</td> <td>-1495.133</td> <td> 2431.694</td>\n",
       "</tr>\n",
       "<tr>\n",
       "  <th>neighbourhood_la vila de gràcia</th>                            <td>  398.9947</td> <td>  936.240</td> <td>    0.426</td> <td> 0.670</td> <td>-1436.232</td> <td> 2234.221</td>\n",
       "</tr>\n",
       "<tr>\n",
       "  <th>neighbourhood_les corts</th>                                    <td>  198.8403</td> <td>  904.250</td> <td>    0.220</td> <td> 0.826</td> <td>-1573.679</td> <td> 1971.360</td>\n",
       "</tr>\n",
       "<tr>\n",
       "  <th>neighbourhood_les roquetes</th>                                 <td>  306.0658</td> <td> 1090.569</td> <td>    0.281</td> <td> 0.779</td> <td>-1831.677</td> <td> 2443.809</td>\n",
       "</tr>\n",
       "<tr>\n",
       "  <th>neighbourhood_les tres torres</th>                              <td>  223.3326</td> <td>  931.064</td> <td>    0.240</td> <td> 0.810</td> <td>-1601.748</td> <td> 2048.413</td>\n",
       "</tr>\n",
       "<tr>\n",
       "  <th>neighbourhood_montbau</th>                                      <td>  253.4808</td> <td> 1065.395</td> <td>    0.238</td> <td> 0.812</td> <td>-1834.916</td> <td> 2341.877</td>\n",
       "</tr>\n",
       "<tr>\n",
       "  <th>neighbourhood_navas</th>                                        <td>  429.9618</td> <td>  973.374</td> <td>    0.442</td> <td> 0.659</td> <td>-1478.055</td> <td> 2337.979</td>\n",
       "</tr>\n",
       "<tr>\n",
       "  <th>neighbourhood_pedralbes</th>                                    <td>  379.3253</td> <td>  916.557</td> <td>    0.414</td> <td> 0.679</td> <td>-1417.318</td> <td> 2175.969</td>\n",
       "</tr>\n",
       "<tr>\n",
       "  <th>neighbourhood_porta</th>                                        <td>  389.7852</td> <td> 1020.063</td> <td>    0.382</td> <td> 0.702</td> <td>-1609.752</td> <td> 2389.322</td>\n",
       "</tr>\n",
       "<tr>\n",
       "  <th>neighbourhood_sant andreu</th>                                  <td>  361.1188</td> <td> 1015.544</td> <td>    0.356</td> <td> 0.722</td> <td>-1629.560</td> <td> 2351.798</td>\n",
       "</tr>\n",
       "<tr>\n",
       "  <th>neighbourhood_sant antoni</th>                                  <td>  259.7658</td> <td>  893.451</td> <td>    0.291</td> <td> 0.771</td> <td>-1491.585</td> <td> 2011.116</td>\n",
       "</tr>\n",
       "<tr>\n",
       "  <th>neighbourhood_sant genís dels agudells</th>                     <td>  747.4315</td> <td> 1046.185</td> <td>    0.714</td> <td> 0.475</td> <td>-1303.310</td> <td> 2798.173</td>\n",
       "</tr>\n",
       "<tr>\n",
       "  <th>neighbourhood_sant gervasi - galvany</th>                       <td>  423.1587</td> <td>  926.455</td> <td>    0.457</td> <td> 0.648</td> <td>-1392.888</td> <td> 2239.205</td>\n",
       "</tr>\n",
       "<tr>\n",
       "  <th>neighbourhood_sant gervasi - la bonanova</th>                   <td>  418.7284</td> <td>  948.482</td> <td>    0.441</td> <td> 0.659</td> <td>-1440.494</td> <td> 2277.951</td>\n",
       "</tr>\n",
       "<tr>\n",
       "  <th>neighbourhood_sant martí de provençals</th>                     <td>  425.9120</td> <td>  979.172</td> <td>    0.435</td> <td> 0.664</td> <td>-1493.470</td> <td> 2345.294</td>\n",
       "</tr>\n",
       "<tr>\n",
       "  <th>neighbourhood_sant pere, santa caterina i la ribera</th>        <td>  424.8387</td> <td>  901.497</td> <td>    0.471</td> <td> 0.637</td> <td>-1342.284</td> <td> 2191.962</td>\n",
       "</tr>\n",
       "<tr>\n",
       "  <th>neighbourhood_sants</th>                                        <td>   37.0572</td> <td>  881.130</td> <td>    0.042</td> <td> 0.966</td> <td>-1690.143</td> <td> 1764.257</td>\n",
       "</tr>\n",
       "<tr>\n",
       "  <th>neighbourhood_sarrià</th>                                       <td>  377.6531</td> <td>  932.658</td> <td>    0.405</td> <td> 0.686</td> <td>-1450.553</td> <td> 2205.859</td>\n",
       "</tr>\n",
       "<tr>\n",
       "  <th>neighbourhood_torre baró</th>                                   <td>  310.9440</td> <td> 1334.257</td> <td>    0.233</td> <td> 0.816</td> <td>-2304.478</td> <td> 2926.366</td>\n",
       "</tr>\n",
       "<tr>\n",
       "  <th>neighbourhood_vallcarca i els penitents</th>                    <td>  224.6084</td> <td>  964.374</td> <td>    0.233</td> <td> 0.816</td> <td>-1665.766</td> <td> 2114.982</td>\n",
       "</tr>\n",
       "<tr>\n",
       "  <th>neighbourhood_vallvidrera, el tibidabo i les planes</th>        <td>   56.0155</td> <td>  987.799</td> <td>    0.057</td> <td> 0.955</td> <td>-1880.277</td> <td> 1992.308</td>\n",
       "</tr>\n",
       "<tr>\n",
       "  <th>neighbourhood_verdun</th>                                       <td>  507.7932</td> <td> 1128.550</td> <td>    0.450</td> <td> 0.653</td> <td>-1704.401</td> <td> 2719.987</td>\n",
       "</tr>\n",
       "<tr>\n",
       "  <th>neighbourhood_vilapicina i la torre llobeta</th>                <td>  308.4005</td> <td> 1003.745</td> <td>    0.307</td> <td> 0.759</td> <td>-1659.149</td> <td> 2275.950</td>\n",
       "</tr>\n",
       "<tr>\n",
       "  <th>realestate_size_Grans</th>                                      <td> 4898.8523</td> <td> 1.26e+04</td> <td>    0.389</td> <td> 0.698</td> <td>-1.98e+04</td> <td> 2.96e+04</td>\n",
       "</tr>\n",
       "<tr>\n",
       "  <th>realestate_size_Mitja</th>                                      <td> 4729.0675</td> <td> 1.26e+04</td> <td>    0.375</td> <td> 0.708</td> <td>   -2e+04</td> <td> 2.94e+04</td>\n",
       "</tr>\n",
       "<tr>\n",
       "  <th>realestate_size_Molt grans</th>                                 <td> 5029.4246</td> <td> 1.26e+04</td> <td>    0.399</td> <td> 0.690</td> <td>-1.97e+04</td> <td> 2.97e+04</td>\n",
       "</tr>\n",
       "<tr>\n",
       "  <th>realestate_size_Particular</th>                                 <td> 4674.8737</td> <td> 1.26e+04</td> <td>    0.371</td> <td> 0.711</td> <td>   -2e+04</td> <td> 2.94e+04</td>\n",
       "</tr>\n",
       "<tr>\n",
       "  <th>realestate_size_Petit</th>                                      <td> 4704.6224</td> <td> 1.26e+04</td> <td>    0.373</td> <td> 0.709</td> <td>   -2e+04</td> <td> 2.94e+04</td>\n",
       "</tr>\n",
       "<tr>\n",
       "  <th>bathrooms</th>                                                  <td>  295.9737</td> <td>   17.234</td> <td>   17.173</td> <td> 0.000</td> <td>  262.191</td> <td>  329.757</td>\n",
       "</tr>\n",
       "<tr>\n",
       "  <th>discount</th>                                                   <td>    0.3119</td> <td>    0.040</td> <td>    7.813</td> <td> 0.000</td> <td>    0.234</td> <td>    0.390</td>\n",
       "</tr>\n",
       "<tr>\n",
       "  <th>latitude</th>                                                   <td> -575.7537</td> <td> 2244.014</td> <td>   -0.257</td> <td> 0.798</td> <td>-4974.490</td> <td> 3822.983</td>\n",
       "</tr>\n",
       "<tr>\n",
       "  <th>longitude</th>                                                  <td>-5804.8852</td> <td> 2067.011</td> <td>   -2.808</td> <td> 0.005</td> <td>-9856.660</td> <td>-1753.110</td>\n",
       "</tr>\n",
       "<tr>\n",
       "  <th>rooms</th>                                                      <td>  -44.2087</td> <td>   10.246</td> <td>   -4.315</td> <td> 0.000</td> <td>  -64.293</td> <td>  -24.125</td>\n",
       "</tr>\n",
       "<tr>\n",
       "  <th>sqft_m2</th>                                                    <td>   11.0921</td> <td>    0.220</td> <td>   50.319</td> <td> 0.000</td> <td>   10.660</td> <td>   11.524</td>\n",
       "</tr>\n",
       "</table>\n",
       "<table class=\"simpletable\">\n",
       "<tr>\n",
       "  <th>Omnibus:</th>       <td>14896.749</td> <th>  Durbin-Watson:     </th>   <td>   0.944</td>  \n",
       "</tr>\n",
       "<tr>\n",
       "  <th>Prob(Omnibus):</th>  <td> 0.000</td>   <th>  Jarque-Bera (JB):  </th> <td>21815890.159</td>\n",
       "</tr>\n",
       "<tr>\n",
       "  <th>Skew:</th>           <td> 9.066</td>   <th>  Prob(JB):          </th>   <td>    0.00</td>  \n",
       "</tr>\n",
       "<tr>\n",
       "  <th>Kurtosis:</th>       <td>233.857</td>  <th>  Cond. No.          </th>   <td>1.29e+16</td>  \n",
       "</tr>\n",
       "</table><br/><br/>Notes:<br/>[1] Standard Errors assume that the covariance matrix of the errors is correctly specified.<br/>[2] The smallest eigenvalue is 8.34e-24. This might indicate that there are<br/>strong multicollinearity problems or that the design matrix is singular."
      ],
      "text/plain": [
       "<class 'statsmodels.iolib.summary.Summary'>\n",
       "\"\"\"\n",
       "                            OLS Regression Results                            \n",
       "==============================================================================\n",
       "Dep. Variable:                  price   R-squared:                       0.595\n",
       "Model:                            OLS   Adj. R-squared:                  0.591\n",
       "Method:                 Least Squares   F-statistic:                     154.6\n",
       "Date:                Mon, 21 Dec 2020   Prob (F-statistic):               0.00\n",
       "Time:                        19:32:26   Log-Likelihood:                -79351.\n",
       "No. Observations:                9764   AIC:                         1.589e+05\n",
       "Df Residuals:                    9671   BIC:                         1.596e+05\n",
       "Df Model:                          92                                         \n",
       "Covariance Type:            nonrobust                                         \n",
       "==============================================================================================================================\n",
       "                                                                 coef    std err          t      P>|t|      [0.025      0.975]\n",
       "------------------------------------------------------------------------------------------------------------------------------\n",
       "building_subtype_Apartment                                  4211.8233   5729.218      0.735      0.462   -7018.643    1.54e+04\n",
       "building_subtype_Attic                                      4117.7463   5729.957      0.719      0.472   -7114.168    1.53e+04\n",
       "building_subtype_CountryHouse                              -1.604e+04   5912.692     -2.713      0.007   -2.76e+04   -4450.380\n",
       "building_subtype_Duplex                                     3822.2003   5731.142      0.667      0.505   -7412.038    1.51e+04\n",
       "building_subtype_Flat                                       3788.4442   5730.031      0.661      0.509   -7443.617     1.5e+04\n",
       "building_subtype_GroundFloorWithGarden                      3884.5898   5726.958      0.678      0.498   -7341.446    1.51e+04\n",
       "building_subtype_House_Chalet                               4368.3338   5737.173      0.761      0.446   -6877.726    1.56e+04\n",
       "building_subtype_Loft                                       3989.0087   5728.314      0.696      0.486   -7239.687    1.52e+04\n",
       "building_subtype_SemiDetached                               4825.7286   5742.887      0.840      0.401   -6431.531    1.61e+04\n",
       "building_subtype_SemidetachedHouse                          3256.8293   5737.739      0.568      0.570   -7990.340    1.45e+04\n",
       "building_subtype_Study                                      3812.6296   5730.310      0.665      0.506   -7419.977     1.5e+04\n",
       "conservation_state_-1.0                                     4066.8750   1.05e+04      0.387      0.699   -1.65e+04    2.47e+04\n",
       "conservation_state_1.0                                      4099.3003   1.05e+04      0.390      0.696   -1.65e+04    2.47e+04\n",
       "conservation_state_2.0                                      4055.9893   1.05e+04      0.386      0.699   -1.65e+04    2.47e+04\n",
       "conservation_state_3.0                                      4016.3879   1.05e+04      0.382      0.702   -1.66e+04    2.46e+04\n",
       "conservation_state_4.0                                      3716.2390   1.05e+04      0.353      0.724   -1.69e+04    2.43e+04\n",
       "conservation_state_8.0                                      4082.0489   1.05e+04      0.388      0.698   -1.65e+04    2.47e+04\n",
       "floor_elevator_False                                        1.204e+04   3.15e+04      0.382      0.703   -4.97e+04    7.38e+04\n",
       "floor_elevator_True                                           1.2e+04   3.15e+04      0.381      0.703   -4.98e+04    7.38e+04\n",
       "is_new_construction_False                                   1.135e+04   3.15e+04      0.360      0.719   -5.04e+04    7.31e+04\n",
       "is_new_construction_True                                    1.269e+04   3.15e+04      0.402      0.687   -4.91e+04    7.45e+04\n",
       "neighbourhood_can baró                                       164.3599    986.007      0.167      0.868   -1768.420    2097.139\n",
       "neighbourhood_can peguera                                    404.1565   1292.205      0.313      0.754   -2128.836    2937.149\n",
       "neighbourhood_canyelles                                      133.2780   1175.588      0.113      0.910   -2171.121    2437.677\n",
       "neighbourhood_ciutat meridiana                               326.0711   1343.437      0.243      0.808   -2307.346    2959.488\n",
       "neighbourhood_diagonal mar i el front marítim del poblenou  1387.0103    953.552      1.455      0.146    -482.151    3256.172\n",
       "neighbourhood_el baix guinardó                               318.8832    959.239      0.332      0.740   -1561.426    2199.193\n",
       "neighbourhood_el barri gòtic                                 373.1920    892.265      0.418      0.676   -1375.834    2122.218\n",
       "neighbourhood_el besòs i el maresme                          684.5552    978.451      0.700      0.484   -1233.413    2602.523\n",
       "neighbourhood_el bon pastor                                  548.7602   1118.618      0.491      0.624   -1643.966    2741.486\n",
       "neighbourhood_el camp d'en grassot i gràcia nova             278.4870    946.572      0.294      0.769   -1576.993    2133.967\n",
       "neighbourhood_el camp de l'arpa del clot                     363.9740    957.908      0.380      0.704   -1513.726    2241.674\n",
       "neighbourhood_el carmel                                      149.7152    988.664      0.151      0.880   -1788.273    2087.704\n",
       "neighbourhood_el clot                                        405.9271    959.511      0.423      0.672   -1474.915    2286.770\n",
       "neighbourhood_el coll                                        137.1961    976.566      0.140      0.888   -1777.078    2051.470\n",
       "neighbourhood_el congrés i els indians                       362.0409    993.041      0.365      0.715   -1584.528    2308.609\n",
       "neighbourhood_el fort pienc                                  370.1739    927.200      0.399      0.690   -1447.332    2187.679\n",
       "neighbourhood_el guinardó                                    282.7792    976.880      0.289      0.772   -1632.110    2197.668\n",
       "neighbourhood_el parc i la llacuna del poblenou              449.0932    925.325      0.485      0.627   -1364.738    2262.925\n",
       "neighbourhood_el poble sec - aei parc montjuïc               270.9089    872.471      0.311      0.756   -1439.317    1981.135\n",
       "neighbourhood_el poblenou                                    612.5381    938.870      0.652      0.514   -1227.843    2452.919\n",
       "neighbourhood_el putxet i el farró                           145.7862    947.153      0.154      0.878   -1710.831    2002.404\n",
       "neighbourhood_el raval                                       230.3642    888.162      0.259      0.795   -1510.619    1971.348\n",
       "neighbourhood_el turó de la peira                            351.7656   1012.835      0.347      0.728   -1633.603    2337.134\n",
       "neighbourhood_horta                                          286.5606   1011.921      0.283      0.777   -1697.017    2270.138\n",
       "neighbourhood_hostafrancs                                    827.3325    881.660      0.938      0.348    -900.907    2555.572\n",
       "neighbourhood_l'antiga esquerra de l'eixample                367.6466    907.478      0.405      0.685   -1411.200    2146.493\n",
       "neighbourhood_la barceloneta                                 539.8316    888.808      0.607      0.544   -1202.418    2282.081\n",
       "neighbourhood_la bordeta                                      55.4799    871.401      0.064      0.949   -1652.649    1763.609\n",
       "neighbourhood_la dreta de l'eixample                         615.9862    916.977      0.672      0.502   -1181.480    2413.452\n",
       "neighbourhood_la font d'en fargues                          2581.6406   1015.508      2.542      0.011     591.033    4572.248\n",
       "neighbourhood_la font de la guatlla                          139.9752    875.859      0.160      0.873   -1576.893    1856.843\n",
       "neighbourhood_la guineueta                                   341.2280   1064.731      0.320      0.749   -1745.867    2428.323\n",
       "neighbourhood_la marina de port                             -131.3133    856.279     -0.153      0.878   -1809.799    1547.172\n",
       "neighbourhood_la maternitat i sant ramon                     -57.8130    889.849     -0.065      0.948   -1802.103    1686.477\n",
       "neighbourhood_la nova esquerra de l'eixample                 264.6756    895.029      0.296      0.767   -1489.768    2019.119\n",
       "neighbourhood_la prosperitat                                 284.2654   1045.616      0.272      0.786   -1765.361    2333.892\n",
       "neighbourhood_la sagrada família                             403.4895    943.072      0.428      0.669   -1445.129    2252.108\n",
       "neighbourhood_la sagrera                                     421.6366    994.712      0.424      0.672   -1528.208    2371.481\n",
       "neighbourhood_la salut                                       213.5273    960.671      0.222      0.824   -1669.590    2096.645\n",
       "neighbourhood_la teixonera                                  -295.2657    993.267     -0.297      0.766   -2242.277    1651.745\n",
       "neighbourhood_la trinitat nova                               218.3446   1114.169      0.196      0.845   -1965.661    2402.350\n",
       "neighbourhood_la trinitat vella                              342.9484   1081.029      0.317      0.751   -1776.095    2461.992\n",
       "neighbourhood_la vall d'hebron                               -65.8449   1154.439     -0.057      0.955   -2328.788    2197.098\n",
       "neighbourhood_la verneda i la pau                            468.2804   1001.635      0.468      0.640   -1495.133    2431.694\n",
       "neighbourhood_la vila de gràcia                              398.9947    936.240      0.426      0.670   -1436.232    2234.221\n",
       "neighbourhood_les corts                                      198.8403    904.250      0.220      0.826   -1573.679    1971.360\n",
       "neighbourhood_les roquetes                                   306.0658   1090.569      0.281      0.779   -1831.677    2443.809\n",
       "neighbourhood_les tres torres                                223.3326    931.064      0.240      0.810   -1601.748    2048.413\n",
       "neighbourhood_montbau                                        253.4808   1065.395      0.238      0.812   -1834.916    2341.877\n",
       "neighbourhood_navas                                          429.9618    973.374      0.442      0.659   -1478.055    2337.979\n",
       "neighbourhood_pedralbes                                      379.3253    916.557      0.414      0.679   -1417.318    2175.969\n",
       "neighbourhood_porta                                          389.7852   1020.063      0.382      0.702   -1609.752    2389.322\n",
       "neighbourhood_sant andreu                                    361.1188   1015.544      0.356      0.722   -1629.560    2351.798\n",
       "neighbourhood_sant antoni                                    259.7658    893.451      0.291      0.771   -1491.585    2011.116\n",
       "neighbourhood_sant genís dels agudells                       747.4315   1046.185      0.714      0.475   -1303.310    2798.173\n",
       "neighbourhood_sant gervasi - galvany                         423.1587    926.455      0.457      0.648   -1392.888    2239.205\n",
       "neighbourhood_sant gervasi - la bonanova                     418.7284    948.482      0.441      0.659   -1440.494    2277.951\n",
       "neighbourhood_sant martí de provençals                       425.9120    979.172      0.435      0.664   -1493.470    2345.294\n",
       "neighbourhood_sant pere, santa caterina i la ribera          424.8387    901.497      0.471      0.637   -1342.284    2191.962\n",
       "neighbourhood_sants                                           37.0572    881.130      0.042      0.966   -1690.143    1764.257\n",
       "neighbourhood_sarrià                                         377.6531    932.658      0.405      0.686   -1450.553    2205.859\n",
       "neighbourhood_torre baró                                     310.9440   1334.257      0.233      0.816   -2304.478    2926.366\n",
       "neighbourhood_vallcarca i els penitents                      224.6084    964.374      0.233      0.816   -1665.766    2114.982\n",
       "neighbourhood_vallvidrera, el tibidabo i les planes           56.0155    987.799      0.057      0.955   -1880.277    1992.308\n",
       "neighbourhood_verdun                                         507.7932   1128.550      0.450      0.653   -1704.401    2719.987\n",
       "neighbourhood_vilapicina i la torre llobeta                  308.4005   1003.745      0.307      0.759   -1659.149    2275.950\n",
       "realestate_size_Grans                                       4898.8523   1.26e+04      0.389      0.698   -1.98e+04    2.96e+04\n",
       "realestate_size_Mitja                                       4729.0675   1.26e+04      0.375      0.708      -2e+04    2.94e+04\n",
       "realestate_size_Molt grans                                  5029.4246   1.26e+04      0.399      0.690   -1.97e+04    2.97e+04\n",
       "realestate_size_Particular                                  4674.8737   1.26e+04      0.371      0.711      -2e+04    2.94e+04\n",
       "realestate_size_Petit                                       4704.6224   1.26e+04      0.373      0.709      -2e+04    2.94e+04\n",
       "bathrooms                                                    295.9737     17.234     17.173      0.000     262.191     329.757\n",
       "discount                                                       0.3119      0.040      7.813      0.000       0.234       0.390\n",
       "latitude                                                    -575.7537   2244.014     -0.257      0.798   -4974.490    3822.983\n",
       "longitude                                                  -5804.8852   2067.011     -2.808      0.005   -9856.660   -1753.110\n",
       "rooms                                                        -44.2087     10.246     -4.315      0.000     -64.293     -24.125\n",
       "sqft_m2                                                       11.0921      0.220     50.319      0.000      10.660      11.524\n",
       "==============================================================================\n",
       "Omnibus:                    14896.749   Durbin-Watson:                   0.944\n",
       "Prob(Omnibus):                  0.000   Jarque-Bera (JB):         21815890.159\n",
       "Skew:                           9.066   Prob(JB):                         0.00\n",
       "Kurtosis:                     233.857   Cond. No.                     1.29e+16\n",
       "==============================================================================\n",
       "\n",
       "Notes:\n",
       "[1] Standard Errors assume that the covariance matrix of the errors is correctly specified.\n",
       "[2] The smallest eigenvalue is 8.34e-24. This might indicate that there are\n",
       "strong multicollinearity problems or that the design matrix is singular.\n",
       "\"\"\""
      ]
     },
     "execution_count": 50,
     "metadata": {},
     "output_type": "execute_result"
    }
   ],
   "source": [
    "from sklearn.linear_model import LinearRegression\n",
    "from sklearn.model_selection import cross_val_score\n",
    "from sklearn.preprocessing import StandardScaler\n",
    "\n",
    "from statsmodels.api import OLS\n",
    "import statsmodels.api as sm\n",
    "\n",
    "X = apartments_regression_cod.drop(columns = 'price')\n",
    "y = apartments_regression_cod['price']\n",
    "reg = OLS(y,X).fit()\n",
    "\n",
    "reg.summary()"
   ]
  },
  {
   "cell_type": "code",
   "execution_count": 51,
   "metadata": {},
   "outputs": [
    {
     "data": {
      "image/png": "[encoded data removed]",
      "text/plain": [
       "<Figure size 432x288 with 1 Axes>"
      ]
     },
     "metadata": {
      "needs_background": "light"
     },
     "output_type": "display_data"
    }
   ],
   "source": [
    "import scipy.stats as stats\n",
    "res = reg.resid # residuals\n",
    "fig = sm.qqplot(res, stats.t, fit=True, line=\"45\")\n",
    "\n",
    "plt.title('Q-Q plot')\n",
    "plt.show()\n",
    "\n"
   ]
  },
  {
   "cell_type": "markdown",
   "metadata": {},
   "source": [
    "Veiem que el model de regressió lineal no ens dona una capacitat predictiva gaire elevada, amb un R² proper al 0,6. Al resum del model, observem que moltes de les variables categòriques codificades no són especialment rellevants estadísticament. S'ha de mencionar, que el model de regressió lineal està enfocat a variables continues que originin una resposta lineal, així que no es sorprenen aquests resultats.\n",
    "Al Q-Q plot veiem que no es compleixen les condicions d'homoscedasticitat, fet que podriem imaginar després de l'anàlisis de la variable price. Podriem estudiar l'efecte dels valors extrems i proporcionar un model més precís per un rang de preus més acotat.\n",
    "\n",
    "A continuació, provarem amb un model no lineal."
   ]
  },
  {
   "cell_type": "markdown",
   "metadata": {},
   "source": [
    "### Regessió amb arbre"
   ]
  },
  {
   "cell_type": "code",
   "execution_count": 52,
   "metadata": {},
   "outputs": [
    {
     "data": {
      "text/plain": [
       "GradientBoostingRegressor(min_samples_split=20)"
      ]
     },
     "execution_count": 52,
     "metadata": {},
     "output_type": "execute_result"
    }
   ],
   "source": [
    "from sklearn.model_selection import train_test_split\n",
    "from sklearn.ensemble import GradientBoostingRegressor\n",
    "import seaborn as sb; \n",
    "from sklearn.ensemble import RandomForestClassifier\n",
    "\n",
    "\n",
    "\n",
    "X = apartments_regression_cod.drop(columns = 'price')\n",
    "y = apartments_regression_cod['price']\n",
    "\n",
    "X_train, X_test, y_train, y_test = train_test_split(X, y, test_size=0.33, random_state=42)\n",
    "model = GradientBoostingRegressor( max_depth=3, min_samples_split=20)\n",
    "\n",
    "model.fit(X_train, y_train)"
   ]
  },
  {
   "cell_type": "code",
   "execution_count": 53,
   "metadata": {},
   "outputs": [
    {
     "name": "stdout",
     "output_type": "stream",
     "text": [
      "El model té una precisió pel conjunt de test de: 66.64%\n"
     ]
    }
   ],
   "source": [
    "accuracy = model.score(X_test, y_test)\n",
    "\n",
    "print(\"El model té una precisió pel conjunt de test de: \"+str(round(accuracy*100,2))+\"%\")"
   ]
  },
  {
   "cell_type": "markdown",
   "metadata": {},
   "source": [
    "Sembla que aquest model millora la capacitat predictiva de la regressió lineal. La capacitat de treballar amb atributs categòrics i numèrics i la natura geomètrica del algoritme, són punts a favor d'aquest model que es traslladen en una millor predicció."
   ]
  },
  {
   "cell_type": "markdown",
   "metadata": {},
   "source": [
    "### Classificació sobre preu inflat"
   ]
  },
  {
   "cell_type": "markdown",
   "metadata": {},
   "source": [
    "Anem a construïr un altre model, en aquest cas no per predir el preu, sinó per saber si aquest està inflat respecte a la mitjana del barri o no."
   ]
  },
  {
   "cell_type": "code",
   "execution_count": 54,
   "metadata": {},
   "outputs": [],
   "source": [
    "apartments_classification = apartments.drop(columns=['realestate','building_type','link','neighb_meanprice'])\n",
    "cat_labels = apartments_classification.select_dtypes(include=['object', 'category','bool']).columns.to_list()\n",
    "numeric_labels = apartments_classification.select_dtypes(include=['float64', 'int']).columns.to_list()\n",
    "\n",
    "preprocessor = ColumnTransformer([('encoder', OneHotEncoder(), cat_labels)],\n",
    "                    remainder='passthrough'\n",
    "               )\n",
    "apartments_classification = preprocessor.fit_transform(apartments_classification)\n",
    "cat_labels_encoded = preprocessor.named_transformers_['encoder'].get_feature_names(cat_labels)\n",
    "new_labels = np.concatenate([cat_labels_encoded,numeric_labels])\n",
    "\n",
    "apartments_classification = pd.DataFrame(apartments_classification.todense(), columns=new_labels)\n",
    "apartments_classification['inflat'] = apartments_classification['diff_mitjana'] > 0\n",
    "apartments_classification = apartments_classification.drop(columns=['diff_mitjana'])"
   ]
  },
  {
   "cell_type": "code",
   "execution_count": 55,
   "metadata": {},
   "outputs": [
    {
     "name": "stdout",
     "output_type": "stream",
     "text": [
      "El model té una precisió de validació creudada: 79.15%\n",
      "El model té una precisió pel conjunt de test de: 80.7%\n"
     ]
    }
   ],
   "source": [
    "from sklearn.metrics import accuracy_score\n",
    "\n",
    "X = apartments_classification.drop(columns = 'inflat')\n",
    "y = apartments_classification['inflat']\n",
    "\n",
    "X_train, X_test, y_train, y_test = train_test_split(X, y, test_size=0.33, random_state=42)\n",
    "\n",
    "rf_tree = RandomForestClassifier(n_estimators=6, max_depth=10)\n",
    "\n",
    "rf_tree.fit(X_train, y_train)\n",
    "\n",
    "##CV\n",
    "\n",
    "accuracy_cv_rf = cross_val_score(rf_tree, X_train, y_train)\n",
    "print(\"El model té una precisió de validació creudada: \"+str(round(np.mean(accuracy_cv_rf)*100,2))+\"%\")\n",
    "\n",
    "### Precisió conjunt de test\n",
    "\n",
    "y_pred = rf_tree.predict(X = X_test)\n",
    "accuracy_rd = accuracy_score(y_test, y_pred)\n",
    "print(\"El model té una precisió pel conjunt de test de: \"+str(round(accuracy_rd*100,2))+\"%\")"
   ]
  },
  {
   "cell_type": "markdown",
   "metadata": {},
   "source": [
    "Obtenim bons resultats per aquest classificador, tant en el conjunt de test com el de validació creuada.\n",
    "\n",
    "A continuació, aprofitem que tenim les dades geogràfiques per veure si en podem treure alguna conclusió."
   ]
  },
  {
   "cell_type": "code",
   "execution_count": 56,
   "metadata": {},
   "outputs": [
    {
     "data": {
      "text/plain": [
       "<matplotlib.collections.PathCollection at 0x7fd9653ca320>"
      ]
     },
     "execution_count": 56,
     "metadata": {},
     "output_type": "execute_result"
    },
    {
     "data": {
      "image/png": "[encoded data removed]",
      "text/plain": [
       "<Figure size 432x288 with 1 Axes>"
      ]
     },
     "metadata": {
      "needs_background": "light"
     },
     "output_type": "display_data"
    }
   ],
   "source": [
    "plt.scatter(apartments.longitude,apartments.latitude, s=0.1, alpha=0.6, cmap='viridis')\n"
   ]
  },
  {
   "cell_type": "markdown",
   "metadata": {},
   "source": [
    "Ralitzarem un agrupament segons la diferència sobre la mitjana i visualitzarem el sesultat amb les coordenades espacials, per veure si observem algún patró.\n",
    "\n",
    "Per començar, fem un estudi de quin és el nombre òptim de clusters:"
   ]
  },
  {
   "cell_type": "code",
   "execution_count": 57,
   "metadata": {},
   "outputs": [
    {
     "data": {
      "image/png": "[encoded data removed]",
      "text/plain": [
       "<Figure size 432x288 with 1 Axes>"
      ]
     },
     "metadata": {
      "needs_background": "light"
     },
     "output_type": "display_data"
    }
   ],
   "source": [
    "from sklearn import cluster      \n",
    "\n",
    "Nc = range(1, 20)\n",
    "kmeans = [cluster.KMeans(n_clusters=i) for i in Nc]\n",
    "kmeans\n",
    "score = [kmeans[i].fit(apartments[['diff_mitjana']]).inertia_ for i in range(len(kmeans))]\n",
    "score\n",
    "plt.plot(Nc,score)\n",
    "plt.xlabel('K')\n",
    "plt.ylabel('SSE')\n",
    "plt.title('Corba Elbow')\n",
    "plt.xticks(Nc)\n",
    "plt.show()"
   ]
  },
  {
   "cell_type": "code",
   "execution_count": 58,
   "metadata": {},
   "outputs": [
    {
     "data": {
      "text/plain": [
       "Text(0.5, 1.0, 'Dataset Blobs: DBSCAN')"
      ]
     },
     "execution_count": 58,
     "metadata": {},
     "output_type": "execute_result"
    },
    {
     "data": {
      "image/png": "[encoded data removed]",
      "text/plain": [
       "<Figure size 720x576 with 1 Axes>"
      ]
     },
     "metadata": {
      "needs_background": "light"
     },
     "output_type": "display_data"
    }
   ],
   "source": [
    "X = apartments[[\"longitude\", \"latitude\"]].values\n",
    "from sklearn import cluster \n",
    "clustering = cluster.DBSCAN(eps=0.2, min_samples=6).fit(apartments[['diff_mitjana']].values)\n",
    "\n",
    "y_kmeans = clustering.fit_predict(apartments[['diff_mitjana']].values)\n",
    "plt.figure(figsize=(10, 8))\n",
    "plt.scatter(X[:, 0], X[:, 1], c=y_kmeans,alpha=1, s=0.3, cmap='prism')\n",
    "plt.title(\"Dataset Blobs: DBSCAN\")"
   ]
  },
  {
   "cell_type": "code",
   "execution_count": 59,
   "metadata": {},
   "outputs": [
    {
     "name": "stdout",
     "output_type": "stream",
     "text": [
      "0.9935785507395428\n"
     ]
    }
   ],
   "source": [
    "from scipy.cluster.hierarchy import dendrogram, linkage, cophenet, fcluster\n",
    "from scipy.spatial.distance import pdist\n",
    "\n",
    "X = apartments[[\"longitude\", \"latitude\"]].values\n",
    "\n",
    "Z = linkage(apartments[['diff_mitjana']].values, 'centroid')\n",
    "c, coph_dists = cophenet(Z, pdist(apartments[['diff_mitjana']].values))\n",
    "print(c)\n"
   ]
  },
  {
   "cell_type": "code",
   "execution_count": 60,
   "metadata": {},
   "outputs": [
    {
     "data": {
      "image/png": "[encoded data removed]",
      "text/plain": [
       "<Figure size 720x576 with 1 Axes>"
      ]
     },
     "metadata": {
      "needs_background": "light"
     },
     "output_type": "display_data"
    }
   ],
   "source": [
    "\n",
    "clusters = fcluster(Z, 15, criterion='maxclust')\n",
    "plt.figure(figsize=(10, 8))\n",
    "plt.scatter(X[:, 0], X[:, 1], c=clusters, cmap='tab20',alpha=1, s=0.3)\n",
    "plt.show()"
   ]
  },
  {
   "cell_type": "markdown",
   "metadata": {},
   "source": [
    "Veiem que tant DBSCAN com l'agorisme jeràrquic revelen zones tensionades, on el preu està molt per sobre de la mitjana del barri."
   ]
  }
 ],
 "metadata": {
  "kernelspec": {
   "display_name": "Python 3",
   "language": "python",
   "name": "python3"
  },
  "language_info": {
   "codemirror_mode": {
    "name": "ipython",
    "version": 3
   },
   "file_extension": ".py",
   "mimetype": "text/x-python",
   "name": "python",
   "nbconvert_exporter": "python",
   "pygments_lexer": "ipython3",
   "version": "3.6.9"
  }
 },
 "nbformat": 4,
 "nbformat_minor": 4
}
