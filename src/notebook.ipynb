{
 "cells": [
  {
   "cell_type": "markdown",
   "metadata": {},
   "source": [
    "# Pràctica 2: Neteja i anàlisi de dades\n",
    "\n",
    "## 1. Dataset\n",
    "\n",
    "El dataset emprat en aquesta pràctica és el generat a la PRA1 de l'assignatura, on vam recollir les dades de la web de Fotocasa dels pisos en lloguer a la ciutat de Barcelona (a data d'octubre de 2020), mitjançant scraping.\n",
    "\n",
    "L'objectiu de l'anàlisi de les dades d'aquest dataset és respondre a les següents qüestions:\n",
    "\n",
    "- Quines són les variables del dataset que influeixen de manera més significativa sobre el preu?\n",
    "- Hi ha diferències significatives en els preus de lloguer entre els diferents barris de la ciutat?\n",
    "- Hi ha diferències significatives en els preus de lloguer entre les diferents agències?\n",
    "- Es pot crear un model de regressió que permeti predir el preu d'un habitatge en base a les seves característiques?"
   ]
  },
  {
   "cell_type": "markdown",
   "metadata": {},
   "source": [
    "## 2. Selecció de dades"
   ]
  },
  {
   "cell_type": "markdown",
   "metadata": {},
   "source": [
    "Primerament, determinarem quines són les variables del nostre dataset i el seu tipus. Seguidament, eliminarem aquelles que no aportin informació útil de cara a la nostra anàlisi. Finalment, farem una eliminació de files duplicades."
   ]
  },
  {
   "cell_type": "code",
   "execution_count": 93,
   "metadata": {},
   "outputs": [],
   "source": [
    "import pandas as pd\n",
    "\n",
    "apartments = pd.read_csv('../csv/data_final.csv')"
   ]
  },
  {
   "cell_type": "markdown",
   "metadata": {},
   "source": [
    "### Eliminació de dimensions"
   ]
  },
  {
   "cell_type": "code",
   "execution_count": 94,
   "metadata": {
    "scrolled": true
   },
   "outputs": [
    {
     "data": {
      "text/plain": [
       "id                       int64\n",
       "address                 object\n",
       "bathrooms                int64\n",
       "building_subtype        object\n",
       "building_type           object\n",
       "conservation_state     float64\n",
       "date                    object\n",
       "discount                 int64\n",
       "floor_elevator           int64\n",
       "is_new_construction       bool\n",
       "latitude               float64\n",
       "link                    object\n",
       "longitude              float64\n",
       "price                  float64\n",
       "realestate              object\n",
       "realestate_id            int64\n",
       "rooms                    int64\n",
       "sqft_m2                  int64\n",
       "neighbourhood           object\n",
       "neighb_meanprice       float64\n",
       "dtype: object"
      ]
     },
     "execution_count": 94,
     "metadata": {},
     "output_type": "execute_result"
    }
   ],
   "source": [
    "apartments.dtypes"
   ]
  },
  {
   "cell_type": "markdown",
   "metadata": {},
   "source": [
    "Donats els objectius de la nostra anàlisi, hi ha certes columnes del dataset que podem eliminar:\n",
    "\n",
    "- __id__, que simplement conté l'índex de la fila dintre del dataset, de moment la deixem per si hem de sel·leccionar files per aquest índex.\n",
    "- __address__, que conté la direcció del pis. Ja tenim el barri disponible a la columna __neighbourhood__ i per tant, aquest camp aporta informació innecessària a la nostra anàlisi.\n",
    "- __date__, que conté la data en la que es va recollir la mostra. Solament la vam recollir un dia específic i per tant, no aporta cap informació rellevant a l'anàlisi actual.\n",
    "- __realestate_id__, que conté l'identificador de l'agència que oferta el pis en lloguer. Ens preferim quedar amb el nom ja que ens permetrà visualitzar la informació de manera més clara"
   ]
  },
  {
   "cell_type": "code",
   "execution_count": 95,
   "metadata": {},
   "outputs": [],
   "source": [
    "apartments = apartments.drop(columns=['address', 'date', 'realestate_id'])"
   ]
  },
  {
   "cell_type": "markdown",
   "metadata": {},
   "source": [
    "### Eliminació de files duplicades"
   ]
  },
  {
   "cell_type": "markdown",
   "metadata": {},
   "source": [
    "L'eliminació de files duplicades la portarem a terme en base a la variable __link__. Si tenim dues o més observacions del mateix pis de la web de Fotocasa, ens quedarem únicament amb la primera:"
   ]
  },
  {
   "cell_type": "code",
   "execution_count": 96,
   "metadata": {},
   "outputs": [
    {
     "data": {
      "text/html": [
       "<div>\n",
       "<style scoped>\n",
       "    .dataframe tbody tr th:only-of-type {\n",
       "        vertical-align: middle;\n",
       "    }\n",
       "\n",
       "    .dataframe tbody tr th {\n",
       "        vertical-align: top;\n",
       "    }\n",
       "\n",
       "    .dataframe thead th {\n",
       "        text-align: right;\n",
       "    }\n",
       "</style>\n",
       "<table border=\"1\" class=\"dataframe\">\n",
       "  <thead>\n",
       "    <tr style=\"text-align: right;\">\n",
       "      <th></th>\n",
       "      <th>id</th>\n",
       "      <th>bathrooms</th>\n",
       "      <th>building_subtype</th>\n",
       "      <th>building_type</th>\n",
       "      <th>conservation_state</th>\n",
       "      <th>discount</th>\n",
       "      <th>floor_elevator</th>\n",
       "      <th>is_new_construction</th>\n",
       "      <th>latitude</th>\n",
       "      <th>link</th>\n",
       "      <th>longitude</th>\n",
       "      <th>price</th>\n",
       "      <th>realestate</th>\n",
       "      <th>rooms</th>\n",
       "      <th>sqft_m2</th>\n",
       "      <th>neighbourhood</th>\n",
       "      <th>neighb_meanprice</th>\n",
       "    </tr>\n",
       "  </thead>\n",
       "  <tbody>\n",
       "    <tr>\n",
       "      <th>39</th>\n",
       "      <td>39</td>\n",
       "      <td>1</td>\n",
       "      <td>Apartment</td>\n",
       "      <td>Flat</td>\n",
       "      <td>NaN</td>\n",
       "      <td>0</td>\n",
       "      <td>0</td>\n",
       "      <td>False</td>\n",
       "      <td>41.38071</td>\n",
       "      <td>/es/alquiler/vivienda/barcelona-capital/el-rav...</td>\n",
       "      <td>2.168707</td>\n",
       "      <td>525.0</td>\n",
       "      <td>INVERSIONES INMOBILIARIAS Y FINANCIERAS SANT A...</td>\n",
       "      <td>0</td>\n",
       "      <td>35</td>\n",
       "      <td>el raval</td>\n",
       "      <td>14.323614</td>\n",
       "    </tr>\n",
       "    <tr>\n",
       "      <th>40</th>\n",
       "      <td>40</td>\n",
       "      <td>1</td>\n",
       "      <td>Apartment</td>\n",
       "      <td>Flat</td>\n",
       "      <td>NaN</td>\n",
       "      <td>0</td>\n",
       "      <td>0</td>\n",
       "      <td>False</td>\n",
       "      <td>41.38071</td>\n",
       "      <td>/es/alquiler/vivienda/barcelona-capital/el-rav...</td>\n",
       "      <td>2.168707</td>\n",
       "      <td>525.0</td>\n",
       "      <td>INVERSIONES INMOBILIARIAS Y FINANCIERAS SANT A...</td>\n",
       "      <td>0</td>\n",
       "      <td>35</td>\n",
       "      <td>el raval</td>\n",
       "      <td>14.323614</td>\n",
       "    </tr>\n",
       "    <tr>\n",
       "      <th>41</th>\n",
       "      <td>41</td>\n",
       "      <td>1</td>\n",
       "      <td>Apartment</td>\n",
       "      <td>Flat</td>\n",
       "      <td>NaN</td>\n",
       "      <td>0</td>\n",
       "      <td>0</td>\n",
       "      <td>False</td>\n",
       "      <td>41.38071</td>\n",
       "      <td>/es/alquiler/vivienda/barcelona-capital/el-rav...</td>\n",
       "      <td>2.168707</td>\n",
       "      <td>525.0</td>\n",
       "      <td>INVERSIONES INMOBILIARIAS Y FINANCIERAS SANT A...</td>\n",
       "      <td>0</td>\n",
       "      <td>35</td>\n",
       "      <td>el raval</td>\n",
       "      <td>14.323614</td>\n",
       "    </tr>\n",
       "    <tr>\n",
       "      <th>42</th>\n",
       "      <td>42</td>\n",
       "      <td>1</td>\n",
       "      <td>Apartment</td>\n",
       "      <td>Flat</td>\n",
       "      <td>NaN</td>\n",
       "      <td>0</td>\n",
       "      <td>0</td>\n",
       "      <td>False</td>\n",
       "      <td>41.38071</td>\n",
       "      <td>/es/alquiler/vivienda/barcelona-capital/el-rav...</td>\n",
       "      <td>2.168707</td>\n",
       "      <td>525.0</td>\n",
       "      <td>INVERSIONES INMOBILIARIAS Y FINANCIERAS SANT A...</td>\n",
       "      <td>0</td>\n",
       "      <td>35</td>\n",
       "      <td>el raval</td>\n",
       "      <td>14.323614</td>\n",
       "    </tr>\n",
       "    <tr>\n",
       "      <th>43</th>\n",
       "      <td>43</td>\n",
       "      <td>1</td>\n",
       "      <td>Apartment</td>\n",
       "      <td>Flat</td>\n",
       "      <td>NaN</td>\n",
       "      <td>0</td>\n",
       "      <td>0</td>\n",
       "      <td>False</td>\n",
       "      <td>41.38071</td>\n",
       "      <td>/es/alquiler/vivienda/barcelona-capital/el-rav...</td>\n",
       "      <td>2.168707</td>\n",
       "      <td>525.0</td>\n",
       "      <td>INVERSIONES INMOBILIARIAS Y FINANCIERAS SANT A...</td>\n",
       "      <td>0</td>\n",
       "      <td>35</td>\n",
       "      <td>el raval</td>\n",
       "      <td>14.323614</td>\n",
       "    </tr>\n",
       "    <tr>\n",
       "      <th>...</th>\n",
       "      <td>...</td>\n",
       "      <td>...</td>\n",
       "      <td>...</td>\n",
       "      <td>...</td>\n",
       "      <td>...</td>\n",
       "      <td>...</td>\n",
       "      <td>...</td>\n",
       "      <td>...</td>\n",
       "      <td>...</td>\n",
       "      <td>...</td>\n",
       "      <td>...</td>\n",
       "      <td>...</td>\n",
       "      <td>...</td>\n",
       "      <td>...</td>\n",
       "      <td>...</td>\n",
       "      <td>...</td>\n",
       "      <td>...</td>\n",
       "    </tr>\n",
       "    <tr>\n",
       "      <th>11803</th>\n",
       "      <td>11803</td>\n",
       "      <td>2</td>\n",
       "      <td>Attic</td>\n",
       "      <td>Flat</td>\n",
       "      <td>1.0</td>\n",
       "      <td>200</td>\n",
       "      <td>1</td>\n",
       "      <td>False</td>\n",
       "      <td>41.39394</td>\n",
       "      <td>/es/alquiler/vivienda/barcelona-capital/aire-a...</td>\n",
       "      <td>2.121359</td>\n",
       "      <td>3700.0</td>\n",
       "      <td>Stipek Ferrer Premium Properties</td>\n",
       "      <td>4</td>\n",
       "      <td>280</td>\n",
       "      <td>sarrià</td>\n",
       "      <td>16.866645</td>\n",
       "    </tr>\n",
       "    <tr>\n",
       "      <th>11804</th>\n",
       "      <td>11804</td>\n",
       "      <td>2</td>\n",
       "      <td>Attic</td>\n",
       "      <td>Flat</td>\n",
       "      <td>1.0</td>\n",
       "      <td>200</td>\n",
       "      <td>1</td>\n",
       "      <td>False</td>\n",
       "      <td>41.39394</td>\n",
       "      <td>/es/alquiler/vivienda/barcelona-capital/aire-a...</td>\n",
       "      <td>2.121359</td>\n",
       "      <td>3700.0</td>\n",
       "      <td>Stipek Ferrer Premium Properties</td>\n",
       "      <td>4</td>\n",
       "      <td>280</td>\n",
       "      <td>sarrià</td>\n",
       "      <td>16.866645</td>\n",
       "    </tr>\n",
       "    <tr>\n",
       "      <th>12007</th>\n",
       "      <td>12007</td>\n",
       "      <td>5</td>\n",
       "      <td>Flat</td>\n",
       "      <td>Flat</td>\n",
       "      <td>2.0</td>\n",
       "      <td>0</td>\n",
       "      <td>1</td>\n",
       "      <td>False</td>\n",
       "      <td>41.39514</td>\n",
       "      <td>/es/alquiler/vivienda/barcelona-capital/aire-a...</td>\n",
       "      <td>2.141838</td>\n",
       "      <td>5300.0</td>\n",
       "      <td>Max Ricart</td>\n",
       "      <td>6</td>\n",
       "      <td>280</td>\n",
       "      <td>sant gervasi - galvany</td>\n",
       "      <td>15.275452</td>\n",
       "    </tr>\n",
       "    <tr>\n",
       "      <th>12061</th>\n",
       "      <td>12061</td>\n",
       "      <td>2</td>\n",
       "      <td>Apartment</td>\n",
       "      <td>Flat</td>\n",
       "      <td>NaN</td>\n",
       "      <td>594</td>\n",
       "      <td>0</td>\n",
       "      <td>False</td>\n",
       "      <td>41.39498</td>\n",
       "      <td>/es/alquiler/vivienda/barcelona-capital/aire-a...</td>\n",
       "      <td>2.147670</td>\n",
       "      <td>6073.0</td>\n",
       "      <td>Homelike</td>\n",
       "      <td>4</td>\n",
       "      <td>100</td>\n",
       "      <td>sant gervasi - galvany</td>\n",
       "      <td>15.275452</td>\n",
       "    </tr>\n",
       "    <tr>\n",
       "      <th>12116</th>\n",
       "      <td>12116</td>\n",
       "      <td>7</td>\n",
       "      <td>House_Chalet</td>\n",
       "      <td>Flat</td>\n",
       "      <td>2.0</td>\n",
       "      <td>0</td>\n",
       "      <td>0</td>\n",
       "      <td>False</td>\n",
       "      <td>41.39722</td>\n",
       "      <td>/es/alquiler/vivienda/barcelona-capital/aire-a...</td>\n",
       "      <td>2.137248</td>\n",
       "      <td>9000.0</td>\n",
       "      <td>FINQUES CANO PUJOL</td>\n",
       "      <td>8</td>\n",
       "      <td>560</td>\n",
       "      <td>sant gervasi - galvany</td>\n",
       "      <td>15.275452</td>\n",
       "    </tr>\n",
       "  </tbody>\n",
       "</table>\n",
       "<p>2268 rows × 17 columns</p>\n",
       "</div>"
      ],
      "text/plain": [
       "          id  bathrooms building_subtype building_type  conservation_state  \\\n",
       "39        39          1        Apartment          Flat                 NaN   \n",
       "40        40          1        Apartment          Flat                 NaN   \n",
       "41        41          1        Apartment          Flat                 NaN   \n",
       "42        42          1        Apartment          Flat                 NaN   \n",
       "43        43          1        Apartment          Flat                 NaN   \n",
       "...      ...        ...              ...           ...                 ...   \n",
       "11803  11803          2            Attic          Flat                 1.0   \n",
       "11804  11804          2            Attic          Flat                 1.0   \n",
       "12007  12007          5             Flat          Flat                 2.0   \n",
       "12061  12061          2        Apartment          Flat                 NaN   \n",
       "12116  12116          7     House_Chalet          Flat                 2.0   \n",
       "\n",
       "       discount  floor_elevator  is_new_construction  latitude  \\\n",
       "39            0               0                False  41.38071   \n",
       "40            0               0                False  41.38071   \n",
       "41            0               0                False  41.38071   \n",
       "42            0               0                False  41.38071   \n",
       "43            0               0                False  41.38071   \n",
       "...         ...             ...                  ...       ...   \n",
       "11803       200               1                False  41.39394   \n",
       "11804       200               1                False  41.39394   \n",
       "12007         0               1                False  41.39514   \n",
       "12061       594               0                False  41.39498   \n",
       "12116         0               0                False  41.39722   \n",
       "\n",
       "                                                    link  longitude   price  \\\n",
       "39     /es/alquiler/vivienda/barcelona-capital/el-rav...   2.168707   525.0   \n",
       "40     /es/alquiler/vivienda/barcelona-capital/el-rav...   2.168707   525.0   \n",
       "41     /es/alquiler/vivienda/barcelona-capital/el-rav...   2.168707   525.0   \n",
       "42     /es/alquiler/vivienda/barcelona-capital/el-rav...   2.168707   525.0   \n",
       "43     /es/alquiler/vivienda/barcelona-capital/el-rav...   2.168707   525.0   \n",
       "...                                                  ...        ...     ...   \n",
       "11803  /es/alquiler/vivienda/barcelona-capital/aire-a...   2.121359  3700.0   \n",
       "11804  /es/alquiler/vivienda/barcelona-capital/aire-a...   2.121359  3700.0   \n",
       "12007  /es/alquiler/vivienda/barcelona-capital/aire-a...   2.141838  5300.0   \n",
       "12061  /es/alquiler/vivienda/barcelona-capital/aire-a...   2.147670  6073.0   \n",
       "12116  /es/alquiler/vivienda/barcelona-capital/aire-a...   2.137248  9000.0   \n",
       "\n",
       "                                              realestate  rooms  sqft_m2  \\\n",
       "39     INVERSIONES INMOBILIARIAS Y FINANCIERAS SANT A...      0       35   \n",
       "40     INVERSIONES INMOBILIARIAS Y FINANCIERAS SANT A...      0       35   \n",
       "41     INVERSIONES INMOBILIARIAS Y FINANCIERAS SANT A...      0       35   \n",
       "42     INVERSIONES INMOBILIARIAS Y FINANCIERAS SANT A...      0       35   \n",
       "43     INVERSIONES INMOBILIARIAS Y FINANCIERAS SANT A...      0       35   \n",
       "...                                                  ...    ...      ...   \n",
       "11803                   Stipek Ferrer Premium Properties      4      280   \n",
       "11804                   Stipek Ferrer Premium Properties      4      280   \n",
       "12007                                         Max Ricart      6      280   \n",
       "12061                                           Homelike      4      100   \n",
       "12116                                 FINQUES CANO PUJOL      8      560   \n",
       "\n",
       "                neighbourhood  neighb_meanprice  \n",
       "39                   el raval         14.323614  \n",
       "40                   el raval         14.323614  \n",
       "41                   el raval         14.323614  \n",
       "42                   el raval         14.323614  \n",
       "43                   el raval         14.323614  \n",
       "...                       ...               ...  \n",
       "11803                  sarrià         16.866645  \n",
       "11804                  sarrià         16.866645  \n",
       "12007  sant gervasi - galvany         15.275452  \n",
       "12061  sant gervasi - galvany         15.275452  \n",
       "12116  sant gervasi - galvany         15.275452  \n",
       "\n",
       "[2268 rows x 17 columns]"
      ]
     },
     "execution_count": 96,
     "metadata": {},
     "output_type": "execute_result"
    }
   ],
   "source": [
    "apartments.loc[apartments.duplicated('link')]"
   ]
  },
  {
   "cell_type": "code",
   "execution_count": 97,
   "metadata": {},
   "outputs": [],
   "source": [
    "apartments = apartments.drop_duplicates('link')"
   ]
  },
  {
   "cell_type": "markdown",
   "metadata": {},
   "source": [
    "### Tipus de dades\n",
    "\n",
    "Si observem els tipus de dades anteriors, es pot veure com __conservation_state__, __building_subtype__ y __building_type__ poden ser variables categòriques, o com __floor_elevator__ és en realitat una variable booleana. Podem aplicar la conversió sobre aquestes variables amb l'objectiu de millorar l'anàlisi:"
   ]
  },
  {
   "cell_type": "code",
   "execution_count": 98,
   "metadata": {},
   "outputs": [],
   "source": [
    "apartments = apartments.astype({\n",
    "    'conservation_state': 'category',\n",
    "    'building_subtype': 'category',\n",
    "    'building_type': 'category',\n",
    "    'floor_elevator': 'bool',\n",
    "    'neighbourhood':'category'\n",
    "})"
   ]
  },
  {
   "cell_type": "markdown",
   "metadata": {},
   "source": [
    "## 3. Neteja de dades"
   ]
  },
  {
   "cell_type": "markdown",
   "metadata": {},
   "source": [
    "### Valors buits\n",
    "\n",
    "Anem a determinar quins són els valors buits de cadascuna de les columnes:"
   ]
  },
  {
   "cell_type": "code",
   "execution_count": 99,
   "metadata": {},
   "outputs": [
    {
     "data": {
      "text/plain": [
       "id                        0\n",
       "bathrooms                 0\n",
       "building_subtype          0\n",
       "building_type             0\n",
       "conservation_state     5340\n",
       "discount                  0\n",
       "floor_elevator            0\n",
       "is_new_construction       0\n",
       "latitude                  0\n",
       "link                      0\n",
       "longitude                 0\n",
       "price                     4\n",
       "realestate              106\n",
       "rooms                     0\n",
       "sqft_m2                   0\n",
       "neighbourhood             1\n",
       "neighb_meanprice          1\n",
       "dtype: int64"
      ]
     },
     "execution_count": 99,
     "metadata": {},
     "output_type": "execute_result"
    }
   ],
   "source": [
    "apartments.isna().sum()"
   ]
  },
  {
   "cell_type": "markdown",
   "metadata": {},
   "source": [
    "Veiem que molts habitatges no tenen informació sobre l'estat de conservació. Omplirem amb -1 aquells que no en tinguin:"
   ]
  },
  {
   "cell_type": "code",
   "execution_count": 100,
   "metadata": {},
   "outputs": [],
   "source": [
    "apartments['conservation_state'] = apartments['conservation_state'].cat.add_categories(-1)\n",
    "\n",
    "apartments['conservation_state'] = apartments['conservation_state'].fillna(-1)"
   ]
  },
  {
   "cell_type": "markdown",
   "metadata": {},
   "source": [
    "Donat que volem respondre a la pregunta de si hi ha diferències de preu entre les diferents agències, eliminem les observacions que no tenen agència:"
   ]
  },
  {
   "cell_type": "code",
   "execution_count": 101,
   "metadata": {
    "scrolled": true
   },
   "outputs": [
    {
     "data": {
      "text/plain": [
       "id                     0\n",
       "bathrooms              0\n",
       "building_subtype       0\n",
       "building_type          0\n",
       "conservation_state     0\n",
       "discount               0\n",
       "floor_elevator         0\n",
       "is_new_construction    0\n",
       "latitude               0\n",
       "link                   0\n",
       "longitude              0\n",
       "price                  4\n",
       "realestate             0\n",
       "rooms                  0\n",
       "sqft_m2                0\n",
       "neighbourhood          1\n",
       "neighb_meanprice       1\n",
       "dtype: int64"
      ]
     },
     "execution_count": 101,
     "metadata": {},
     "output_type": "execute_result"
    }
   ],
   "source": [
    "apartments = apartments.dropna(subset=['realestate'])\n",
    "apartments.isna().sum()"
   ]
  },
  {
   "cell_type": "markdown",
   "metadata": {},
   "source": [
    "Pel que fa al preu, es tracta de poques observacions que tenen un valor buit per aquesta variable. Com que l'objectiu d'aquesta anàlisi gira entorn al preu, decidim inserir la informació de forma manual consultant la web de Fotocasa:"
   ]
  },
  {
   "cell_type": "code",
   "execution_count": 102,
   "metadata": {},
   "outputs": [
    {
     "data": {
      "text/plain": [
       "12154    /es/alquiler/vivienda/barcelona-capital/calefa...\n",
       "12155    /es/alquiler/vivienda/barcelona-capital/ascens...\n",
       "12156    /es/alquiler/vivienda/barcelona-capital/aire-a...\n",
       "12157    /es/alquiler/vivienda/barcelona-capital/aire-a...\n",
       "Name: link, dtype: object"
      ]
     },
     "execution_count": 102,
     "metadata": {},
     "output_type": "execute_result"
    }
   ],
   "source": [
    "apartments[apartments.price.isna()]['link']"
   ]
  },
  {
   "cell_type": "markdown",
   "metadata": {},
   "source": [
    "Les quatre observacions, un cop consultat el link al web de Fotocasa, corresponen a habitatges que no tenen preu, indicant-ho al web com pre \"a consultar\". Com necessitem treballar amb els preus, procedirem a eliminiar aquestes dades."
   ]
  },
  {
   "cell_type": "code",
   "execution_count": 103,
   "metadata": {},
   "outputs": [],
   "source": [
    "apartments = apartments.dropna(subset=['price'])"
   ]
  },
  {
   "cell_type": "markdown",
   "metadata": {},
   "source": [
    "Finalment, ens queda omplir manualment les observacions que no tenen barri, de nou, mitjançant l'enllaç de Fotocasa per veure si podem determinar aquesta informació:"
   ]
  },
  {
   "cell_type": "code",
   "execution_count": 104,
   "metadata": {
    "scrolled": true
   },
   "outputs": [
    {
     "data": {
      "text/html": [
       "<div>\n",
       "<style scoped>\n",
       "    .dataframe tbody tr th:only-of-type {\n",
       "        vertical-align: middle;\n",
       "    }\n",
       "\n",
       "    .dataframe tbody tr th {\n",
       "        vertical-align: top;\n",
       "    }\n",
       "\n",
       "    .dataframe thead th {\n",
       "        text-align: right;\n",
       "    }\n",
       "</style>\n",
       "<table border=\"1\" class=\"dataframe\">\n",
       "  <thead>\n",
       "    <tr style=\"text-align: right;\">\n",
       "      <th></th>\n",
       "      <th>id</th>\n",
       "      <th>bathrooms</th>\n",
       "      <th>building_subtype</th>\n",
       "      <th>building_type</th>\n",
       "      <th>conservation_state</th>\n",
       "      <th>discount</th>\n",
       "      <th>floor_elevator</th>\n",
       "      <th>is_new_construction</th>\n",
       "      <th>latitude</th>\n",
       "      <th>link</th>\n",
       "      <th>longitude</th>\n",
       "      <th>price</th>\n",
       "      <th>realestate</th>\n",
       "      <th>rooms</th>\n",
       "      <th>sqft_m2</th>\n",
       "      <th>neighbourhood</th>\n",
       "      <th>neighb_meanprice</th>\n",
       "    </tr>\n",
       "  </thead>\n",
       "  <tbody>\n",
       "    <tr>\n",
       "      <th>1384</th>\n",
       "      <td>1384</td>\n",
       "      <td>1</td>\n",
       "      <td>Flat</td>\n",
       "      <td>Flat</td>\n",
       "      <td>-1.0</td>\n",
       "      <td>0</td>\n",
       "      <td>False</td>\n",
       "      <td>False</td>\n",
       "      <td>41.35395</td>\n",
       "      <td>/es/alquiler/vivienda/barcelona-capital/la-mar...</td>\n",
       "      <td>2.148532</td>\n",
       "      <td>750.0</td>\n",
       "      <td>FINCAS LAFONT</td>\n",
       "      <td>3</td>\n",
       "      <td>70</td>\n",
       "      <td>NaN</td>\n",
       "      <td>NaN</td>\n",
       "    </tr>\n",
       "  </tbody>\n",
       "</table>\n",
       "</div>"
      ],
      "text/plain": [
       "        id  bathrooms building_subtype building_type conservation_state  \\\n",
       "1384  1384          1             Flat          Flat               -1.0   \n",
       "\n",
       "      discount  floor_elevator  is_new_construction  latitude  \\\n",
       "1384         0           False                False  41.35395   \n",
       "\n",
       "                                                   link  longitude  price  \\\n",
       "1384  /es/alquiler/vivienda/barcelona-capital/la-mar...   2.148532  750.0   \n",
       "\n",
       "         realestate  rooms  sqft_m2 neighbourhood  neighb_meanprice  \n",
       "1384  FINCAS LAFONT      3       70           NaN               NaN  "
      ]
     },
     "execution_count": 104,
     "metadata": {},
     "output_type": "execute_result"
    }
   ],
   "source": [
    "apartments[apartments.neighbourhood.isna()]"
   ]
  },
  {
   "cell_type": "markdown",
   "metadata": {},
   "source": [
    "Veiem que es correspon amb el barri de \"La marina de Port\", així que li assignem el preu mitjà d'aquest barri."
   ]
  },
  {
   "cell_type": "code",
   "execution_count": 105,
   "metadata": {},
   "outputs": [],
   "source": [
    "mean_price_marina = float(apartments[apartments['neighbourhood']=='la marina de port'].head(1)['neighb_meanprice'])\n",
    "\n",
    "apartments.loc[apartments.id ==1384, 'neighbourhood'] = 'la marina de port'\n",
    "apartments.loc[apartments.id ==1384, 'neighb_meanprice'] = mean_price_marina\n",
    "\n"
   ]
  },
  {
   "cell_type": "markdown",
   "metadata": {},
   "source": [
    "Podem observar que ara el dataset no té valors buits:"
   ]
  },
  {
   "cell_type": "code",
   "execution_count": 106,
   "metadata": {
    "scrolled": true
   },
   "outputs": [
    {
     "data": {
      "text/plain": [
       "id                     0\n",
       "bathrooms              0\n",
       "building_subtype       0\n",
       "building_type          0\n",
       "conservation_state     0\n",
       "discount               0\n",
       "floor_elevator         0\n",
       "is_new_construction    0\n",
       "latitude               0\n",
       "link                   0\n",
       "longitude              0\n",
       "price                  0\n",
       "realestate             0\n",
       "rooms                  0\n",
       "sqft_m2                0\n",
       "neighbourhood          0\n",
       "neighb_meanprice       0\n",
       "dtype: int64"
      ]
     },
     "execution_count": 106,
     "metadata": {},
     "output_type": "execute_result"
    }
   ],
   "source": [
    "apartments.isna().sum()"
   ]
  },
  {
   "cell_type": "markdown",
   "metadata": {},
   "source": [
    "Podem eliminar l'id:"
   ]
  },
  {
   "cell_type": "code",
   "execution_count": 107,
   "metadata": {},
   "outputs": [],
   "source": [
    "apartments = apartments.drop(columns=['id'])"
   ]
  },
  {
   "cell_type": "markdown",
   "metadata": {},
   "source": [
    "### Outliers"
   ]
  },
  {
   "cell_type": "markdown",
   "metadata": {},
   "source": [
    "El que primer farem, serà visualitzar a gràfics de tipus boxplot cadascuna de les variables quantitatives per tal de determinar si tenim o no outliers:"
   ]
  },
  {
   "cell_type": "code",
   "execution_count": 114,
   "metadata": {},
   "outputs": [
    {
     "data": {
      "image/png": "[encoded data removed]",
      "text/plain": [
       "<Figure size 1152x720 with 8 Axes>"
      ]
     },
     "metadata": {
      "needs_background": "light"
     },
     "output_type": "display_data"
    }
   ],
   "source": [
    "import matplotlib.pyplot as plt\n",
    "import numpy as np\n",
    "import math\n",
    "\n",
    "fig = plt.figure(figsize=(16,10))\n",
    "numeric_attributes = apartments.select_dtypes(include=np.number).columns\n",
    "for idx, column in enumerate(numeric_attributes):\n",
    "    ax = fig.add_subplot(2, math.ceil(len(numeric_attributes)/2), idx+1)\n",
    "    ax.boxplot(apartments[[column]], labels=[column])"
   ]
  },
  {
   "cell_type": "markdown",
   "metadata": {},
   "source": [
    "Sembla evident que tenim prou valors extrems al dataset per a cadascuna de les variables quantitatives. El que cal és determinar si aquests valors són reals i per tant els hem de tenir en compte a l'anàlisi, o d'altra banda podem eliminar aquells que considerem outliers."
   ]
  },
  {
   "cell_type": "markdown",
   "metadata": {},
   "source": [
    "Si seleccionam els 5 preus més alts del dataset, podem comprovar com es tracta de valors vàlids quan accedim al detall a la pàgina de Fotocasa:"
   ]
  },
  {
   "cell_type": "code",
   "execution_count": 109,
   "metadata": {},
   "outputs": [
    {
     "data": {
      "text/html": [
       "<div>\n",
       "<style scoped>\n",
       "    .dataframe tbody tr th:only-of-type {\n",
       "        vertical-align: middle;\n",
       "    }\n",
       "\n",
       "    .dataframe tbody tr th {\n",
       "        vertical-align: top;\n",
       "    }\n",
       "\n",
       "    .dataframe thead th {\n",
       "        text-align: right;\n",
       "    }\n",
       "</style>\n",
       "<table border=\"1\" class=\"dataframe\">\n",
       "  <thead>\n",
       "    <tr style=\"text-align: right;\">\n",
       "      <th></th>\n",
       "      <th>link</th>\n",
       "      <th>rooms</th>\n",
       "      <th>bathrooms</th>\n",
       "      <th>realestate</th>\n",
       "      <th>sqft_m2</th>\n",
       "      <th>price</th>\n",
       "    </tr>\n",
       "  </thead>\n",
       "  <tbody>\n",
       "    <tr>\n",
       "      <th>12153</th>\n",
       "      <td>/es/alquiler/vivienda/barcelona-capital/aire-a...</td>\n",
       "      <td>4</td>\n",
       "      <td>4</td>\n",
       "      <td>VIP PISOS</td>\n",
       "      <td>600</td>\n",
       "      <td>29000.0</td>\n",
       "    </tr>\n",
       "    <tr>\n",
       "      <th>12152</th>\n",
       "      <td>/es/alquiler/vivienda/barcelona-capital/aire-a...</td>\n",
       "      <td>8</td>\n",
       "      <td>7</td>\n",
       "      <td>Homelike</td>\n",
       "      <td>550</td>\n",
       "      <td>28279.0</td>\n",
       "    </tr>\n",
       "    <tr>\n",
       "      <th>12151</th>\n",
       "      <td>/es/alquiler/vivienda/barcelona-capital/aire-a...</td>\n",
       "      <td>21</td>\n",
       "      <td>21</td>\n",
       "      <td>ENGEL &amp; VOELKERS</td>\n",
       "      <td>2500</td>\n",
       "      <td>25000.0</td>\n",
       "    </tr>\n",
       "    <tr>\n",
       "      <th>12150</th>\n",
       "      <td>/es/alquiler/vivienda/barcelona-capital/aire-a...</td>\n",
       "      <td>3</td>\n",
       "      <td>2</td>\n",
       "      <td>Homelike</td>\n",
       "      <td>85</td>\n",
       "      <td>23092.0</td>\n",
       "    </tr>\n",
       "    <tr>\n",
       "      <th>12149</th>\n",
       "      <td>/es/alquiler/vivienda/barcelona-capital/aire-a...</td>\n",
       "      <td>2</td>\n",
       "      <td>1</td>\n",
       "      <td>Homelike</td>\n",
       "      <td>54</td>\n",
       "      <td>22839.0</td>\n",
       "    </tr>\n",
       "  </tbody>\n",
       "</table>\n",
       "</div>"
      ],
      "text/plain": [
       "                                                    link  rooms  bathrooms  \\\n",
       "12153  /es/alquiler/vivienda/barcelona-capital/aire-a...      4          4   \n",
       "12152  /es/alquiler/vivienda/barcelona-capital/aire-a...      8          7   \n",
       "12151  /es/alquiler/vivienda/barcelona-capital/aire-a...     21         21   \n",
       "12150  /es/alquiler/vivienda/barcelona-capital/aire-a...      3          2   \n",
       "12149  /es/alquiler/vivienda/barcelona-capital/aire-a...      2          1   \n",
       "\n",
       "             realestate  sqft_m2    price  \n",
       "12153         VIP PISOS      600  29000.0  \n",
       "12152          Homelike      550  28279.0  \n",
       "12151  ENGEL & VOELKERS     2500  25000.0  \n",
       "12150          Homelike       85  23092.0  \n",
       "12149          Homelike       54  22839.0  "
      ]
     },
     "execution_count": 109,
     "metadata": {},
     "output_type": "execute_result"
    }
   ],
   "source": [
    "apartments.sort_values('price', ascending=False).head()[['link', 'rooms', 'bathrooms', 'realestate', 'sqft_m2', 'price']]"
   ]
  },
  {
   "cell_type": "markdown",
   "metadata": {},
   "source": [
    "Sembla per tant que existeixen uns pocs pisos al dataset amb preus molt elevants, i característiques com nombre d'habitacions, metres quadrats o nombre de banys amb valors que tot i semblar extrems, són vàlids. Per aquest motiu, decidim __mantenir__ aquestes observacions per tal de dur a terme l'anàlisi de dades.\n",
    "\n",
    "D'altra banda, sí que hem d'examinar la variable latitude i longitude, hi veiem valors sospitosos. Esperem que tots els habitages es trobin a la ciutat de Barcelona, per tant, que tinguin coordenades molt semblants."
   ]
  },
  {
   "cell_type": "code",
   "execution_count": null,
   "metadata": {},
   "outputs": [],
   "source": []
  }
 ],
 "metadata": {
  "kernelspec": {
   "display_name": "Python 3",
   "language": "python",
   "name": "python3"
  },
  "language_info": {
   "codemirror_mode": {
    "name": "ipython",
    "version": 3
   },
   "file_extension": ".py",
   "mimetype": "text/x-python",
   "name": "python",
   "nbconvert_exporter": "python",
   "pygments_lexer": "ipython3",
   "version": "3.6.9"
  }
 },
 "nbformat": 4,
 "nbformat_minor": 4
}
