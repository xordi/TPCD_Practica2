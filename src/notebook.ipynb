{
 "cells": [
  {
   "cell_type": "markdown",
   "metadata": {},
   "source": [
    "# Pràctica 2: Neteja i anàlisi de dades\n",
    "\n",
    "## 1. Dataset\n",
    "\n",
    "El dataset emprat en aquesta pràctica és el generat a la PRA1 de l'assignatura, on vam recollir les dades de la web de Fotocasa dels pisos en lloguer a la ciutat de Barcelona (a data d'octubre de 2020), mitjançant scraping.\n",
    "\n",
    "L'objectiu de l'anàlisi de les dades d'aquest dataset és respondre a les següents qüestions:\n",
    "\n",
    "- Quines són les variables del dataset que influeixen de manera més significativa sobre el preu?\n",
    "- Hi ha diferències significatives en els preus de lloguer entre els diferents barris de la ciutat?\n",
    "- Hi ha diferències significatives en els preus de lloguer entre les diferents agències?\n",
    "- Es pot crear un model de regressió que permeti predir el preu d'un habitatge en base a les seves característiques?"
   ]
  },
  {
   "cell_type": "markdown",
   "metadata": {},
   "source": [
    "## 2. Selecció de dades"
   ]
  },
  {
   "cell_type": "markdown",
   "metadata": {},
   "source": [
    "Primerament, determinarem quines són les variables del nostre dataset i el seu tipus. Seguidament, eliminarem aquelles que no aportin informació útil de cara a la nostra anàlisi. Finalment, farem una eliminació de files duplicades."
   ]
  },
  {
   "cell_type": "code",
   "execution_count": 1,
   "metadata": {},
   "outputs": [],
   "source": [
    "import pandas as pd\n",
    "\n",
    "apartments = pd.read_csv('../csv/data_final.csv')"
   ]
  },
  {
   "cell_type": "markdown",
   "metadata": {},
   "source": [
    "### Eliminació de dimensions"
   ]
  },
  {
   "cell_type": "code",
   "execution_count": 2,
   "metadata": {
    "scrolled": false
   },
   "outputs": [
    {
     "data": {
      "text/plain": [
       "id                       int64\n",
       "address                 object\n",
       "bathrooms                int64\n",
       "building_subtype        object\n",
       "building_type           object\n",
       "conservation_state     float64\n",
       "date                    object\n",
       "discount                 int64\n",
       "floor_elevator           int64\n",
       "is_new_construction       bool\n",
       "latitude               float64\n",
       "link                    object\n",
       "longitude              float64\n",
       "price                  float64\n",
       "realestate              object\n",
       "realestate_id            int64\n",
       "rooms                    int64\n",
       "sqft_m2                  int64\n",
       "neighbourhood           object\n",
       "neighb_meanprice       float64\n",
       "dtype: object"
      ]
     },
     "execution_count": 2,
     "metadata": {},
     "output_type": "execute_result"
    }
   ],
   "source": [
    "apartments.dtypes"
   ]
  },
  {
   "cell_type": "markdown",
   "metadata": {},
   "source": [
    "Donats els objectius de la nostra anàlisi, hi ha certes columnes del dataset que podem eliminar:\n",
    "\n",
    "- __id__, que simplement conté l'índex de la fila dintre del dataset, de moment la deixem per si hem de sel·leccionar files per aquest índex.\n",
    "- __address__, que conté la direcció del pis. Ja tenim el barri disponible a la columna __neighbourhood__ i per tant, aquest camp aporta informació innecessària a la nostra anàlisi.\n",
    "- __date__, que conté la data en la que es va recollir la mostra. Solament la vam recollir un dia específic i per tant, no aporta cap informació rellevant a l'anàlisi actual.\n",
    "- __realestate_id__, que conté l'identificador de l'agència que oferta el pis en lloguer. Ens preferim quedar amb el nom ja que ens permetrà visualitzar la informació de manera més clara"
   ]
  },
  {
   "cell_type": "code",
   "execution_count": 3,
   "metadata": {},
   "outputs": [],
   "source": [
    "apartments = apartments.drop(columns=['address', 'date', 'realestate_id'])"
   ]
  },
  {
   "cell_type": "markdown",
   "metadata": {},
   "source": [
    "### Eliminació de files duplicades"
   ]
  },
  {
   "cell_type": "markdown",
   "metadata": {},
   "source": [
    "L'eliminació de files duplicades la portarem a terme en base a la variable __link__. Si tenim dues o més observacions del mateix pis de la web de Fotocasa, ens quedarem únicament amb la primera:"
   ]
  },
  {
   "cell_type": "code",
   "execution_count": 4,
   "metadata": {},
   "outputs": [
    {
     "data": {
      "text/html": [
       "<div>\n",
       "<style scoped>\n",
       "    .dataframe tbody tr th:only-of-type {\n",
       "        vertical-align: middle;\n",
       "    }\n",
       "\n",
       "    .dataframe tbody tr th {\n",
       "        vertical-align: top;\n",
       "    }\n",
       "\n",
       "    .dataframe thead th {\n",
       "        text-align: right;\n",
       "    }\n",
       "</style>\n",
       "<table border=\"1\" class=\"dataframe\">\n",
       "  <thead>\n",
       "    <tr style=\"text-align: right;\">\n",
       "      <th></th>\n",
       "      <th>id</th>\n",
       "      <th>bathrooms</th>\n",
       "      <th>building_subtype</th>\n",
       "      <th>building_type</th>\n",
       "      <th>conservation_state</th>\n",
       "      <th>discount</th>\n",
       "      <th>floor_elevator</th>\n",
       "      <th>is_new_construction</th>\n",
       "      <th>latitude</th>\n",
       "      <th>link</th>\n",
       "      <th>longitude</th>\n",
       "      <th>price</th>\n",
       "      <th>realestate</th>\n",
       "      <th>rooms</th>\n",
       "      <th>sqft_m2</th>\n",
       "      <th>neighbourhood</th>\n",
       "      <th>neighb_meanprice</th>\n",
       "    </tr>\n",
       "  </thead>\n",
       "  <tbody>\n",
       "    <tr>\n",
       "      <th>39</th>\n",
       "      <td>39</td>\n",
       "      <td>1</td>\n",
       "      <td>Apartment</td>\n",
       "      <td>Flat</td>\n",
       "      <td>NaN</td>\n",
       "      <td>0</td>\n",
       "      <td>0</td>\n",
       "      <td>False</td>\n",
       "      <td>41.38071</td>\n",
       "      <td>/es/alquiler/vivienda/barcelona-capital/el-rav...</td>\n",
       "      <td>2.168707</td>\n",
       "      <td>525.0</td>\n",
       "      <td>INVERSIONES INMOBILIARIAS Y FINANCIERAS SANT A...</td>\n",
       "      <td>0</td>\n",
       "      <td>35</td>\n",
       "      <td>el raval</td>\n",
       "      <td>14.323614</td>\n",
       "    </tr>\n",
       "    <tr>\n",
       "      <th>40</th>\n",
       "      <td>40</td>\n",
       "      <td>1</td>\n",
       "      <td>Apartment</td>\n",
       "      <td>Flat</td>\n",
       "      <td>NaN</td>\n",
       "      <td>0</td>\n",
       "      <td>0</td>\n",
       "      <td>False</td>\n",
       "      <td>41.38071</td>\n",
       "      <td>/es/alquiler/vivienda/barcelona-capital/el-rav...</td>\n",
       "      <td>2.168707</td>\n",
       "      <td>525.0</td>\n",
       "      <td>INVERSIONES INMOBILIARIAS Y FINANCIERAS SANT A...</td>\n",
       "      <td>0</td>\n",
       "      <td>35</td>\n",
       "      <td>el raval</td>\n",
       "      <td>14.323614</td>\n",
       "    </tr>\n",
       "    <tr>\n",
       "      <th>41</th>\n",
       "      <td>41</td>\n",
       "      <td>1</td>\n",
       "      <td>Apartment</td>\n",
       "      <td>Flat</td>\n",
       "      <td>NaN</td>\n",
       "      <td>0</td>\n",
       "      <td>0</td>\n",
       "      <td>False</td>\n",
       "      <td>41.38071</td>\n",
       "      <td>/es/alquiler/vivienda/barcelona-capital/el-rav...</td>\n",
       "      <td>2.168707</td>\n",
       "      <td>525.0</td>\n",
       "      <td>INVERSIONES INMOBILIARIAS Y FINANCIERAS SANT A...</td>\n",
       "      <td>0</td>\n",
       "      <td>35</td>\n",
       "      <td>el raval</td>\n",
       "      <td>14.323614</td>\n",
       "    </tr>\n",
       "    <tr>\n",
       "      <th>42</th>\n",
       "      <td>42</td>\n",
       "      <td>1</td>\n",
       "      <td>Apartment</td>\n",
       "      <td>Flat</td>\n",
       "      <td>NaN</td>\n",
       "      <td>0</td>\n",
       "      <td>0</td>\n",
       "      <td>False</td>\n",
       "      <td>41.38071</td>\n",
       "      <td>/es/alquiler/vivienda/barcelona-capital/el-rav...</td>\n",
       "      <td>2.168707</td>\n",
       "      <td>525.0</td>\n",
       "      <td>INVERSIONES INMOBILIARIAS Y FINANCIERAS SANT A...</td>\n",
       "      <td>0</td>\n",
       "      <td>35</td>\n",
       "      <td>el raval</td>\n",
       "      <td>14.323614</td>\n",
       "    </tr>\n",
       "    <tr>\n",
       "      <th>43</th>\n",
       "      <td>43</td>\n",
       "      <td>1</td>\n",
       "      <td>Apartment</td>\n",
       "      <td>Flat</td>\n",
       "      <td>NaN</td>\n",
       "      <td>0</td>\n",
       "      <td>0</td>\n",
       "      <td>False</td>\n",
       "      <td>41.38071</td>\n",
       "      <td>/es/alquiler/vivienda/barcelona-capital/el-rav...</td>\n",
       "      <td>2.168707</td>\n",
       "      <td>525.0</td>\n",
       "      <td>INVERSIONES INMOBILIARIAS Y FINANCIERAS SANT A...</td>\n",
       "      <td>0</td>\n",
       "      <td>35</td>\n",
       "      <td>el raval</td>\n",
       "      <td>14.323614</td>\n",
       "    </tr>\n",
       "    <tr>\n",
       "      <th>...</th>\n",
       "      <td>...</td>\n",
       "      <td>...</td>\n",
       "      <td>...</td>\n",
       "      <td>...</td>\n",
       "      <td>...</td>\n",
       "      <td>...</td>\n",
       "      <td>...</td>\n",
       "      <td>...</td>\n",
       "      <td>...</td>\n",
       "      <td>...</td>\n",
       "      <td>...</td>\n",
       "      <td>...</td>\n",
       "      <td>...</td>\n",
       "      <td>...</td>\n",
       "      <td>...</td>\n",
       "      <td>...</td>\n",
       "      <td>...</td>\n",
       "    </tr>\n",
       "    <tr>\n",
       "      <th>11803</th>\n",
       "      <td>11803</td>\n",
       "      <td>2</td>\n",
       "      <td>Attic</td>\n",
       "      <td>Flat</td>\n",
       "      <td>1.0</td>\n",
       "      <td>200</td>\n",
       "      <td>1</td>\n",
       "      <td>False</td>\n",
       "      <td>41.39394</td>\n",
       "      <td>/es/alquiler/vivienda/barcelona-capital/aire-a...</td>\n",
       "      <td>2.121359</td>\n",
       "      <td>3700.0</td>\n",
       "      <td>Stipek Ferrer Premium Properties</td>\n",
       "      <td>4</td>\n",
       "      <td>280</td>\n",
       "      <td>sarrià</td>\n",
       "      <td>16.866645</td>\n",
       "    </tr>\n",
       "    <tr>\n",
       "      <th>11804</th>\n",
       "      <td>11804</td>\n",
       "      <td>2</td>\n",
       "      <td>Attic</td>\n",
       "      <td>Flat</td>\n",
       "      <td>1.0</td>\n",
       "      <td>200</td>\n",
       "      <td>1</td>\n",
       "      <td>False</td>\n",
       "      <td>41.39394</td>\n",
       "      <td>/es/alquiler/vivienda/barcelona-capital/aire-a...</td>\n",
       "      <td>2.121359</td>\n",
       "      <td>3700.0</td>\n",
       "      <td>Stipek Ferrer Premium Properties</td>\n",
       "      <td>4</td>\n",
       "      <td>280</td>\n",
       "      <td>sarrià</td>\n",
       "      <td>16.866645</td>\n",
       "    </tr>\n",
       "    <tr>\n",
       "      <th>12007</th>\n",
       "      <td>12007</td>\n",
       "      <td>5</td>\n",
       "      <td>Flat</td>\n",
       "      <td>Flat</td>\n",
       "      <td>2.0</td>\n",
       "      <td>0</td>\n",
       "      <td>1</td>\n",
       "      <td>False</td>\n",
       "      <td>41.39514</td>\n",
       "      <td>/es/alquiler/vivienda/barcelona-capital/aire-a...</td>\n",
       "      <td>2.141838</td>\n",
       "      <td>5300.0</td>\n",
       "      <td>Max Ricart</td>\n",
       "      <td>6</td>\n",
       "      <td>280</td>\n",
       "      <td>sant gervasi - galvany</td>\n",
       "      <td>15.275452</td>\n",
       "    </tr>\n",
       "    <tr>\n",
       "      <th>12061</th>\n",
       "      <td>12061</td>\n",
       "      <td>2</td>\n",
       "      <td>Apartment</td>\n",
       "      <td>Flat</td>\n",
       "      <td>NaN</td>\n",
       "      <td>594</td>\n",
       "      <td>0</td>\n",
       "      <td>False</td>\n",
       "      <td>41.39498</td>\n",
       "      <td>/es/alquiler/vivienda/barcelona-capital/aire-a...</td>\n",
       "      <td>2.147670</td>\n",
       "      <td>6073.0</td>\n",
       "      <td>Homelike</td>\n",
       "      <td>4</td>\n",
       "      <td>100</td>\n",
       "      <td>sant gervasi - galvany</td>\n",
       "      <td>15.275452</td>\n",
       "    </tr>\n",
       "    <tr>\n",
       "      <th>12116</th>\n",
       "      <td>12116</td>\n",
       "      <td>7</td>\n",
       "      <td>House_Chalet</td>\n",
       "      <td>Flat</td>\n",
       "      <td>2.0</td>\n",
       "      <td>0</td>\n",
       "      <td>0</td>\n",
       "      <td>False</td>\n",
       "      <td>41.39722</td>\n",
       "      <td>/es/alquiler/vivienda/barcelona-capital/aire-a...</td>\n",
       "      <td>2.137248</td>\n",
       "      <td>9000.0</td>\n",
       "      <td>FINQUES CANO PUJOL</td>\n",
       "      <td>8</td>\n",
       "      <td>560</td>\n",
       "      <td>sant gervasi - galvany</td>\n",
       "      <td>15.275452</td>\n",
       "    </tr>\n",
       "  </tbody>\n",
       "</table>\n",
       "<p>2268 rows × 17 columns</p>\n",
       "</div>"
      ],
      "text/plain": [
       "          id  bathrooms building_subtype building_type  conservation_state  \\\n",
       "39        39          1        Apartment          Flat                 NaN   \n",
       "40        40          1        Apartment          Flat                 NaN   \n",
       "41        41          1        Apartment          Flat                 NaN   \n",
       "42        42          1        Apartment          Flat                 NaN   \n",
       "43        43          1        Apartment          Flat                 NaN   \n",
       "...      ...        ...              ...           ...                 ...   \n",
       "11803  11803          2            Attic          Flat                 1.0   \n",
       "11804  11804          2            Attic          Flat                 1.0   \n",
       "12007  12007          5             Flat          Flat                 2.0   \n",
       "12061  12061          2        Apartment          Flat                 NaN   \n",
       "12116  12116          7     House_Chalet          Flat                 2.0   \n",
       "\n",
       "       discount  floor_elevator  is_new_construction  latitude  \\\n",
       "39            0               0                False  41.38071   \n",
       "40            0               0                False  41.38071   \n",
       "41            0               0                False  41.38071   \n",
       "42            0               0                False  41.38071   \n",
       "43            0               0                False  41.38071   \n",
       "...         ...             ...                  ...       ...   \n",
       "11803       200               1                False  41.39394   \n",
       "11804       200               1                False  41.39394   \n",
       "12007         0               1                False  41.39514   \n",
       "12061       594               0                False  41.39498   \n",
       "12116         0               0                False  41.39722   \n",
       "\n",
       "                                                    link  longitude   price  \\\n",
       "39     /es/alquiler/vivienda/barcelona-capital/el-rav...   2.168707   525.0   \n",
       "40     /es/alquiler/vivienda/barcelona-capital/el-rav...   2.168707   525.0   \n",
       "41     /es/alquiler/vivienda/barcelona-capital/el-rav...   2.168707   525.0   \n",
       "42     /es/alquiler/vivienda/barcelona-capital/el-rav...   2.168707   525.0   \n",
       "43     /es/alquiler/vivienda/barcelona-capital/el-rav...   2.168707   525.0   \n",
       "...                                                  ...        ...     ...   \n",
       "11803  /es/alquiler/vivienda/barcelona-capital/aire-a...   2.121359  3700.0   \n",
       "11804  /es/alquiler/vivienda/barcelona-capital/aire-a...   2.121359  3700.0   \n",
       "12007  /es/alquiler/vivienda/barcelona-capital/aire-a...   2.141838  5300.0   \n",
       "12061  /es/alquiler/vivienda/barcelona-capital/aire-a...   2.147670  6073.0   \n",
       "12116  /es/alquiler/vivienda/barcelona-capital/aire-a...   2.137248  9000.0   \n",
       "\n",
       "                                              realestate  rooms  sqft_m2  \\\n",
       "39     INVERSIONES INMOBILIARIAS Y FINANCIERAS SANT A...      0       35   \n",
       "40     INVERSIONES INMOBILIARIAS Y FINANCIERAS SANT A...      0       35   \n",
       "41     INVERSIONES INMOBILIARIAS Y FINANCIERAS SANT A...      0       35   \n",
       "42     INVERSIONES INMOBILIARIAS Y FINANCIERAS SANT A...      0       35   \n",
       "43     INVERSIONES INMOBILIARIAS Y FINANCIERAS SANT A...      0       35   \n",
       "...                                                  ...    ...      ...   \n",
       "11803                   Stipek Ferrer Premium Properties      4      280   \n",
       "11804                   Stipek Ferrer Premium Properties      4      280   \n",
       "12007                                         Max Ricart      6      280   \n",
       "12061                                           Homelike      4      100   \n",
       "12116                                 FINQUES CANO PUJOL      8      560   \n",
       "\n",
       "                neighbourhood  neighb_meanprice  \n",
       "39                   el raval         14.323614  \n",
       "40                   el raval         14.323614  \n",
       "41                   el raval         14.323614  \n",
       "42                   el raval         14.323614  \n",
       "43                   el raval         14.323614  \n",
       "...                       ...               ...  \n",
       "11803                  sarrià         16.866645  \n",
       "11804                  sarrià         16.866645  \n",
       "12007  sant gervasi - galvany         15.275452  \n",
       "12061  sant gervasi - galvany         15.275452  \n",
       "12116  sant gervasi - galvany         15.275452  \n",
       "\n",
       "[2268 rows x 17 columns]"
      ]
     },
     "execution_count": 4,
     "metadata": {},
     "output_type": "execute_result"
    }
   ],
   "source": [
    "apartments.loc[apartments.duplicated('link')]"
   ]
  },
  {
   "cell_type": "code",
   "execution_count": 5,
   "metadata": {},
   "outputs": [],
   "source": [
    "apartments = apartments.drop_duplicates('link')"
   ]
  },
  {
   "cell_type": "markdown",
   "metadata": {},
   "source": [
    "### Tipus de dades\n",
    "\n",
    "Si observem els tipus de dades anteriors, es pot veure com __conservation_state__, __building_subtype__ y __building_type__ poden ser variables categòriques, o com __floor_elevator__ és en realitat una variable booleana. Podem aplicar la conversió sobre aquestes variables amb l'objectiu de millorar l'anàlisi:"
   ]
  },
  {
   "cell_type": "code",
   "execution_count": 6,
   "metadata": {},
   "outputs": [],
   "source": [
    "apartments = apartments.astype({\n",
    "    'conservation_state': 'category',\n",
    "    'building_subtype': 'category',\n",
    "    'building_type': 'category',\n",
    "    'floor_elevator': 'bool',\n",
    "    'neighbourhood':'category'\n",
    "})"
   ]
  },
  {
   "cell_type": "markdown",
   "metadata": {},
   "source": [
    "## 3. Neteja de dades"
   ]
  },
  {
   "cell_type": "markdown",
   "metadata": {},
   "source": [
    "### Valors buits\n",
    "\n",
    "Anem a determinar quins són els valors buits de cadascuna de les columnes:"
   ]
  },
  {
   "cell_type": "code",
   "execution_count": 7,
   "metadata": {},
   "outputs": [
    {
     "data": {
      "text/plain": [
       "id                        0\n",
       "bathrooms                 0\n",
       "building_subtype          0\n",
       "building_type             0\n",
       "conservation_state     5340\n",
       "discount                  0\n",
       "floor_elevator            0\n",
       "is_new_construction       0\n",
       "latitude                  0\n",
       "link                      0\n",
       "longitude                 0\n",
       "price                     4\n",
       "realestate              106\n",
       "rooms                     0\n",
       "sqft_m2                   0\n",
       "neighbourhood             1\n",
       "neighb_meanprice          1\n",
       "dtype: int64"
      ]
     },
     "execution_count": 7,
     "metadata": {},
     "output_type": "execute_result"
    }
   ],
   "source": [
    "apartments.isna().sum()"
   ]
  },
  {
   "cell_type": "markdown",
   "metadata": {},
   "source": [
    "Veiem que molts habitatges no tenen informació sobre l'estat de conservació. Omplirem amb -1 aquells que no en tinguin:"
   ]
  },
  {
   "cell_type": "code",
   "execution_count": 8,
   "metadata": {},
   "outputs": [],
   "source": [
    "apartments['conservation_state'] = apartments['conservation_state'].cat.add_categories(-1)\n",
    "\n",
    "apartments['conservation_state'] = apartments['conservation_state'].fillna(-1)"
   ]
  },
  {
   "cell_type": "markdown",
   "metadata": {},
   "source": [
    "Donat que volem respondre a la pregunta de si hi ha diferències de preu entre les diferents agències, eliminem les observacions que no tenen agència:"
   ]
  },
  {
   "cell_type": "code",
   "execution_count": 9,
   "metadata": {
    "scrolled": true
   },
   "outputs": [
    {
     "data": {
      "text/plain": [
       "id                     0\n",
       "bathrooms              0\n",
       "building_subtype       0\n",
       "building_type          0\n",
       "conservation_state     0\n",
       "discount               0\n",
       "floor_elevator         0\n",
       "is_new_construction    0\n",
       "latitude               0\n",
       "link                   0\n",
       "longitude              0\n",
       "price                  4\n",
       "realestate             0\n",
       "rooms                  0\n",
       "sqft_m2                0\n",
       "neighbourhood          1\n",
       "neighb_meanprice       1\n",
       "dtype: int64"
      ]
     },
     "execution_count": 9,
     "metadata": {},
     "output_type": "execute_result"
    }
   ],
   "source": [
    "apartments = apartments.dropna(subset=['realestate'])\n",
    "apartments.isna().sum()"
   ]
  },
  {
   "cell_type": "markdown",
   "metadata": {},
   "source": [
    "Pel que fa al preu, es tracta de poques observacions que tenen un valor buit per aquesta variable. Com que l'objectiu d'aquesta anàlisi gira entorn al preu, decidim inserir la informació de forma manual consultant la web de Fotocasa:"
   ]
  },
  {
   "cell_type": "code",
   "execution_count": 10,
   "metadata": {},
   "outputs": [
    {
     "data": {
      "text/plain": [
       "12154    /es/alquiler/vivienda/barcelona-capital/calefa...\n",
       "12155    /es/alquiler/vivienda/barcelona-capital/ascens...\n",
       "12156    /es/alquiler/vivienda/barcelona-capital/aire-a...\n",
       "12157    /es/alquiler/vivienda/barcelona-capital/aire-a...\n",
       "Name: link, dtype: object"
      ]
     },
     "execution_count": 10,
     "metadata": {},
     "output_type": "execute_result"
    }
   ],
   "source": [
    "apartments[apartments.price.isna()]['link']"
   ]
  },
  {
   "cell_type": "markdown",
   "metadata": {},
   "source": [
    "Les quatre observacions, un cop consultat el link al web de Fotocasa, corresponen a habitatges que no tenen preu, indicant-ho al web com pre \"a consultar\". Com necessitem treballar amb els preus, procedirem a eliminiar aquestes dades."
   ]
  },
  {
   "cell_type": "code",
   "execution_count": 11,
   "metadata": {},
   "outputs": [],
   "source": [
    "apartments = apartments.dropna(subset=['price'])"
   ]
  },
  {
   "cell_type": "markdown",
   "metadata": {},
   "source": [
    "Finalment, ens queda omplir manualment les observacions que no tenen barri, de nou, mitjançant l'enllaç de Fotocasa per veure si podem determinar aquesta informació:"
   ]
  },
  {
   "cell_type": "code",
   "execution_count": 12,
   "metadata": {
    "scrolled": true
   },
   "outputs": [
    {
     "data": {
      "text/html": [
       "<div>\n",
       "<style scoped>\n",
       "    .dataframe tbody tr th:only-of-type {\n",
       "        vertical-align: middle;\n",
       "    }\n",
       "\n",
       "    .dataframe tbody tr th {\n",
       "        vertical-align: top;\n",
       "    }\n",
       "\n",
       "    .dataframe thead th {\n",
       "        text-align: right;\n",
       "    }\n",
       "</style>\n",
       "<table border=\"1\" class=\"dataframe\">\n",
       "  <thead>\n",
       "    <tr style=\"text-align: right;\">\n",
       "      <th></th>\n",
       "      <th>id</th>\n",
       "      <th>bathrooms</th>\n",
       "      <th>building_subtype</th>\n",
       "      <th>building_type</th>\n",
       "      <th>conservation_state</th>\n",
       "      <th>discount</th>\n",
       "      <th>floor_elevator</th>\n",
       "      <th>is_new_construction</th>\n",
       "      <th>latitude</th>\n",
       "      <th>link</th>\n",
       "      <th>longitude</th>\n",
       "      <th>price</th>\n",
       "      <th>realestate</th>\n",
       "      <th>rooms</th>\n",
       "      <th>sqft_m2</th>\n",
       "      <th>neighbourhood</th>\n",
       "      <th>neighb_meanprice</th>\n",
       "    </tr>\n",
       "  </thead>\n",
       "  <tbody>\n",
       "    <tr>\n",
       "      <th>1384</th>\n",
       "      <td>1384</td>\n",
       "      <td>1</td>\n",
       "      <td>Flat</td>\n",
       "      <td>Flat</td>\n",
       "      <td>-1.0</td>\n",
       "      <td>0</td>\n",
       "      <td>False</td>\n",
       "      <td>False</td>\n",
       "      <td>41.35395</td>\n",
       "      <td>/es/alquiler/vivienda/barcelona-capital/la-mar...</td>\n",
       "      <td>2.148532</td>\n",
       "      <td>750.0</td>\n",
       "      <td>FINCAS LAFONT</td>\n",
       "      <td>3</td>\n",
       "      <td>70</td>\n",
       "      <td>NaN</td>\n",
       "      <td>NaN</td>\n",
       "    </tr>\n",
       "  </tbody>\n",
       "</table>\n",
       "</div>"
      ],
      "text/plain": [
       "        id  bathrooms building_subtype building_type conservation_state  \\\n",
       "1384  1384          1             Flat          Flat               -1.0   \n",
       "\n",
       "      discount  floor_elevator  is_new_construction  latitude  \\\n",
       "1384         0           False                False  41.35395   \n",
       "\n",
       "                                                   link  longitude  price  \\\n",
       "1384  /es/alquiler/vivienda/barcelona-capital/la-mar...   2.148532  750.0   \n",
       "\n",
       "         realestate  rooms  sqft_m2 neighbourhood  neighb_meanprice  \n",
       "1384  FINCAS LAFONT      3       70           NaN               NaN  "
      ]
     },
     "execution_count": 12,
     "metadata": {},
     "output_type": "execute_result"
    }
   ],
   "source": [
    "apartments[apartments.neighbourhood.isna()]"
   ]
  },
  {
   "cell_type": "markdown",
   "metadata": {},
   "source": [
    "Veiem que es correspon amb el barri de \"La marina de Port\", així que li assignem el preu mitjà d'aquest barri."
   ]
  },
  {
   "cell_type": "code",
   "execution_count": 13,
   "metadata": {},
   "outputs": [],
   "source": [
    "mean_price_marina = float(apartments[apartments['neighbourhood']=='la marina de port'].head(1)['neighb_meanprice'])\n",
    "\n",
    "apartments.loc[apartments.id ==1384, 'neighbourhood'] = 'la marina de port'\n",
    "apartments.loc[apartments.id ==1384, 'neighb_meanprice'] = mean_price_marina\n",
    "\n"
   ]
  },
  {
   "cell_type": "markdown",
   "metadata": {},
   "source": [
    "Podem observar que ara el dataset no té valors buits:"
   ]
  },
  {
   "cell_type": "code",
   "execution_count": 14,
   "metadata": {
    "scrolled": true
   },
   "outputs": [
    {
     "data": {
      "text/plain": [
       "id                     0\n",
       "bathrooms              0\n",
       "building_subtype       0\n",
       "building_type          0\n",
       "conservation_state     0\n",
       "discount               0\n",
       "floor_elevator         0\n",
       "is_new_construction    0\n",
       "latitude               0\n",
       "link                   0\n",
       "longitude              0\n",
       "price                  0\n",
       "realestate             0\n",
       "rooms                  0\n",
       "sqft_m2                0\n",
       "neighbourhood          0\n",
       "neighb_meanprice       0\n",
       "dtype: int64"
      ]
     },
     "execution_count": 14,
     "metadata": {},
     "output_type": "execute_result"
    }
   ],
   "source": [
    "apartments.isna().sum()"
   ]
  },
  {
   "cell_type": "markdown",
   "metadata": {},
   "source": [
    "Podem eliminar l'id:"
   ]
  },
  {
   "cell_type": "code",
   "execution_count": 15,
   "metadata": {},
   "outputs": [],
   "source": [
    "apartments = apartments.drop(columns=['id'])"
   ]
  },
  {
   "cell_type": "markdown",
   "metadata": {},
   "source": [
    "### Outliers"
   ]
  },
  {
   "cell_type": "markdown",
   "metadata": {},
   "source": [
    "El que primer farem, serà visualitzar a gràfics de tipus boxplot cadascuna de les variables quantitatives per tal de determinar si tenim o no outliers:"
   ]
  },
  {
   "cell_type": "code",
   "execution_count": 16,
   "metadata": {
    "scrolled": false
   },
   "outputs": [
    {
     "data": {
      "image/png": "[encoded data removed]",
      "text/plain": [
       "<Figure size 1152x720 with 8 Axes>"
      ]
     },
     "metadata": {
      "needs_background": "light"
     },
     "output_type": "display_data"
    }
   ],
   "source": [
    "import matplotlib.pyplot as plt\n",
    "import numpy as np\n",
    "import math\n",
    "\n",
    "fig = plt.figure(figsize=(16,10))\n",
    "numeric_attributes = apartments.select_dtypes(include=np.number).columns\n",
    "for idx, column in enumerate(numeric_attributes):\n",
    "    ax = fig.add_subplot(2, math.ceil(len(numeric_attributes)/2), idx+1)\n",
    "    ax.boxplot(apartments[[column]], labels=[column])"
   ]
  },
  {
   "cell_type": "markdown",
   "metadata": {},
   "source": [
    "Sembla evident que tenim prou valors extrems al dataset per a cadascuna de les variables quantitatives. El que cal és determinar si aquests valors són reals i per tant els hem de tenir en compte a l'anàlisi, o d'altra banda podem eliminar aquells que considerem outliers."
   ]
  },
  {
   "cell_type": "markdown",
   "metadata": {},
   "source": [
    "#### Price\n",
    "Si seleccionam els 5 preus més alts del dataset, podem comprovar com es tracta de valors vàlids quan accedim al detall a la pàgina de Fotocasa:"
   ]
  },
  {
   "cell_type": "code",
   "execution_count": 17,
   "metadata": {
    "scrolled": true
   },
   "outputs": [
    {
     "data": {
      "text/html": [
       "<div>\n",
       "<style scoped>\n",
       "    .dataframe tbody tr th:only-of-type {\n",
       "        vertical-align: middle;\n",
       "    }\n",
       "\n",
       "    .dataframe tbody tr th {\n",
       "        vertical-align: top;\n",
       "    }\n",
       "\n",
       "    .dataframe thead th {\n",
       "        text-align: right;\n",
       "    }\n",
       "</style>\n",
       "<table border=\"1\" class=\"dataframe\">\n",
       "  <thead>\n",
       "    <tr style=\"text-align: right;\">\n",
       "      <th></th>\n",
       "      <th>link</th>\n",
       "      <th>rooms</th>\n",
       "      <th>bathrooms</th>\n",
       "      <th>realestate</th>\n",
       "      <th>sqft_m2</th>\n",
       "      <th>price</th>\n",
       "    </tr>\n",
       "  </thead>\n",
       "  <tbody>\n",
       "    <tr>\n",
       "      <th>12153</th>\n",
       "      <td>/es/alquiler/vivienda/barcelona-capital/aire-a...</td>\n",
       "      <td>4</td>\n",
       "      <td>4</td>\n",
       "      <td>VIP PISOS</td>\n",
       "      <td>600</td>\n",
       "      <td>29000.0</td>\n",
       "    </tr>\n",
       "    <tr>\n",
       "      <th>12152</th>\n",
       "      <td>/es/alquiler/vivienda/barcelona-capital/aire-a...</td>\n",
       "      <td>8</td>\n",
       "      <td>7</td>\n",
       "      <td>Homelike</td>\n",
       "      <td>550</td>\n",
       "      <td>28279.0</td>\n",
       "    </tr>\n",
       "    <tr>\n",
       "      <th>12151</th>\n",
       "      <td>/es/alquiler/vivienda/barcelona-capital/aire-a...</td>\n",
       "      <td>21</td>\n",
       "      <td>21</td>\n",
       "      <td>ENGEL &amp; VOELKERS</td>\n",
       "      <td>2500</td>\n",
       "      <td>25000.0</td>\n",
       "    </tr>\n",
       "    <tr>\n",
       "      <th>12150</th>\n",
       "      <td>/es/alquiler/vivienda/barcelona-capital/aire-a...</td>\n",
       "      <td>3</td>\n",
       "      <td>2</td>\n",
       "      <td>Homelike</td>\n",
       "      <td>85</td>\n",
       "      <td>23092.0</td>\n",
       "    </tr>\n",
       "    <tr>\n",
       "      <th>12149</th>\n",
       "      <td>/es/alquiler/vivienda/barcelona-capital/aire-a...</td>\n",
       "      <td>2</td>\n",
       "      <td>1</td>\n",
       "      <td>Homelike</td>\n",
       "      <td>54</td>\n",
       "      <td>22839.0</td>\n",
       "    </tr>\n",
       "  </tbody>\n",
       "</table>\n",
       "</div>"
      ],
      "text/plain": [
       "                                                    link  rooms  bathrooms  \\\n",
       "12153  /es/alquiler/vivienda/barcelona-capital/aire-a...      4          4   \n",
       "12152  /es/alquiler/vivienda/barcelona-capital/aire-a...      8          7   \n",
       "12151  /es/alquiler/vivienda/barcelona-capital/aire-a...     21         21   \n",
       "12150  /es/alquiler/vivienda/barcelona-capital/aire-a...      3          2   \n",
       "12149  /es/alquiler/vivienda/barcelona-capital/aire-a...      2          1   \n",
       "\n",
       "             realestate  sqft_m2    price  \n",
       "12153         VIP PISOS      600  29000.0  \n",
       "12152          Homelike      550  28279.0  \n",
       "12151  ENGEL & VOELKERS     2500  25000.0  \n",
       "12150          Homelike       85  23092.0  \n",
       "12149          Homelike       54  22839.0  "
      ]
     },
     "execution_count": 17,
     "metadata": {},
     "output_type": "execute_result"
    }
   ],
   "source": [
    "apartments.sort_values('price', ascending=False).head()[['link', 'rooms', 'bathrooms', 'realestate', 'sqft_m2', 'price']]"
   ]
  },
  {
   "cell_type": "markdown",
   "metadata": {},
   "source": [
    "Sembla per tant que existeixen uns pocs pisos al dataset amb preus molt elevants, i característiques com nombre d'habitacions, metres quadrats o nombre de banys amb valors que tot i semblar extrems, són vàlids. Per aquest motiu, decidim __mantenir__ aquestes observacions per tal de dur a terme l'anàlisi de dades."
   ]
  },
  {
   "cell_type": "markdown",
   "metadata": {},
   "source": [
    "#### Latitude i Longitude\n",
    "\n",
    "Si s'examinen les variables latitude i longitude, hi veiem valors sospitosos. La latitud és un valor que oscil·la entre -90 i 90, mentre que la longitud ho fa entre -180 i 180. Per tant, qualsevol observació d'aquestes variables fora d'aquest rang es podria considerar un outlier. D'altra banda, esperem que tots els habitages es trobin a la ciutat de Barcelona, per tant, que tinguin coordenades molt semblants."
   ]
  },
  {
   "cell_type": "code",
   "execution_count": 29,
   "metadata": {},
   "outputs": [
    {
     "data": {
      "text/html": [
       "<div>\n",
       "<style scoped>\n",
       "    .dataframe tbody tr th:only-of-type {\n",
       "        vertical-align: middle;\n",
       "    }\n",
       "\n",
       "    .dataframe tbody tr th {\n",
       "        vertical-align: top;\n",
       "    }\n",
       "\n",
       "    .dataframe thead th {\n",
       "        text-align: right;\n",
       "    }\n",
       "</style>\n",
       "<table border=\"1\" class=\"dataframe\">\n",
       "  <thead>\n",
       "    <tr style=\"text-align: right;\">\n",
       "      <th></th>\n",
       "      <th>link</th>\n",
       "      <th>latitude</th>\n",
       "      <th>longitude</th>\n",
       "      <th>neighbourhood</th>\n",
       "      <th>price</th>\n",
       "    </tr>\n",
       "  </thead>\n",
       "  <tbody>\n",
       "    <tr>\n",
       "      <th>3979</th>\n",
       "      <td>/es/alquiler/vivienda/barcelona-capital/aire-a...</td>\n",
       "      <td>41436.0</td>\n",
       "      <td>2.173259</td>\n",
       "      <td>porta</td>\n",
       "      <td>950.0</td>\n",
       "    </tr>\n",
       "    <tr>\n",
       "      <th>4177</th>\n",
       "      <td>/es/alquiler/vivienda/barcelona-capital/aire-a...</td>\n",
       "      <td>41428.0</td>\n",
       "      <td>2.189229</td>\n",
       "      <td>la sagrera</td>\n",
       "      <td>955.0</td>\n",
       "    </tr>\n",
       "    <tr>\n",
       "      <th>1266</th>\n",
       "      <td>/es/alquiler/vivienda/barcelona-capital/ascens...</td>\n",
       "      <td>41424.0</td>\n",
       "      <td>2.151020</td>\n",
       "      <td>la teixonera</td>\n",
       "      <td>750.0</td>\n",
       "    </tr>\n",
       "    <tr>\n",
       "      <th>3694</th>\n",
       "      <td>/es/alquiler/vivienda/barcelona-capital/aire-a...</td>\n",
       "      <td>41422.0</td>\n",
       "      <td>2.188695</td>\n",
       "      <td>sant antoni</td>\n",
       "      <td>910.0</td>\n",
       "    </tr>\n",
       "    <tr>\n",
       "      <th>6027</th>\n",
       "      <td>/es/alquiler/vivienda/barcelona-capital/calefa...</td>\n",
       "      <td>41418.0</td>\n",
       "      <td>2.171966</td>\n",
       "      <td>el guinardó</td>\n",
       "      <td>1100.0</td>\n",
       "    </tr>\n",
       "    <tr>\n",
       "      <th>...</th>\n",
       "      <td>...</td>\n",
       "      <td>...</td>\n",
       "      <td>...</td>\n",
       "      <td>...</td>\n",
       "      <td>...</td>\n",
       "    </tr>\n",
       "    <tr>\n",
       "      <th>4181</th>\n",
       "      <td>/es/alquiler/vivienda/barcelona-capital/aire-a...</td>\n",
       "      <td>41373.0</td>\n",
       "      <td>2.157460</td>\n",
       "      <td>el poble sec - aei parc montjuïc</td>\n",
       "      <td>955.0</td>\n",
       "    </tr>\n",
       "    <tr>\n",
       "      <th>6920</th>\n",
       "      <td>/es/alquiler/vivienda/barcelona-capital/aire-a...</td>\n",
       "      <td>41372.0</td>\n",
       "      <td>2.138111</td>\n",
       "      <td>la bordeta</td>\n",
       "      <td>1200.0</td>\n",
       "    </tr>\n",
       "    <tr>\n",
       "      <th>7003</th>\n",
       "      <td>/es/alquiler/vivienda/barcelona-capital/aire-a...</td>\n",
       "      <td>41372.0</td>\n",
       "      <td>2.127435</td>\n",
       "      <td>sants</td>\n",
       "      <td>1200.0</td>\n",
       "    </tr>\n",
       "    <tr>\n",
       "      <th>2567</th>\n",
       "      <td>/es/alquiler/vivienda/barcelona-capital/aire-a...</td>\n",
       "      <td>41372.0</td>\n",
       "      <td>2.147444</td>\n",
       "      <td>la font de la guatlla</td>\n",
       "      <td>850.0</td>\n",
       "    </tr>\n",
       "    <tr>\n",
       "      <th>171</th>\n",
       "      <td>/es/alquiler/vivienda/barcelona-capital/amuebl...</td>\n",
       "      <td>41371.0</td>\n",
       "      <td>2.148023</td>\n",
       "      <td>la font de la guatlla</td>\n",
       "      <td>580.0</td>\n",
       "    </tr>\n",
       "  </tbody>\n",
       "</table>\n",
       "<p>87 rows × 5 columns</p>\n",
       "</div>"
      ],
      "text/plain": [
       "                                                   link  latitude  longitude  \\\n",
       "3979  /es/alquiler/vivienda/barcelona-capital/aire-a...   41436.0   2.173259   \n",
       "4177  /es/alquiler/vivienda/barcelona-capital/aire-a...   41428.0   2.189229   \n",
       "1266  /es/alquiler/vivienda/barcelona-capital/ascens...   41424.0   2.151020   \n",
       "3694  /es/alquiler/vivienda/barcelona-capital/aire-a...   41422.0   2.188695   \n",
       "6027  /es/alquiler/vivienda/barcelona-capital/calefa...   41418.0   2.171966   \n",
       "...                                                 ...       ...        ...   \n",
       "4181  /es/alquiler/vivienda/barcelona-capital/aire-a...   41373.0   2.157460   \n",
       "6920  /es/alquiler/vivienda/barcelona-capital/aire-a...   41372.0   2.138111   \n",
       "7003  /es/alquiler/vivienda/barcelona-capital/aire-a...   41372.0   2.127435   \n",
       "2567  /es/alquiler/vivienda/barcelona-capital/aire-a...   41372.0   2.147444   \n",
       "171   /es/alquiler/vivienda/barcelona-capital/amuebl...   41371.0   2.148023   \n",
       "\n",
       "                         neighbourhood   price  \n",
       "3979                             porta   950.0  \n",
       "4177                        la sagrera   955.0  \n",
       "1266                      la teixonera   750.0  \n",
       "3694                       sant antoni   910.0  \n",
       "6027                       el guinardó  1100.0  \n",
       "...                                ...     ...  \n",
       "4181  el poble sec - aei parc montjuïc   955.0  \n",
       "6920                        la bordeta  1200.0  \n",
       "7003                             sants  1200.0  \n",
       "2567             la font de la guatlla   850.0  \n",
       "171              la font de la guatlla   580.0  \n",
       "\n",
       "[87 rows x 5 columns]"
      ]
     },
     "execution_count": 29,
     "metadata": {},
     "output_type": "execute_result"
    }
   ],
   "source": [
    "apartments[(apartments['latitude'] > 90) | (apartments['latitude'] < -90)].sort_values('latitude', ascending=False).head(100)[['link', 'latitude', 'longitude', 'neighbourhood', 'price']]"
   ]
  },
  {
   "cell_type": "markdown",
   "metadata": {},
   "source": [
    "Pel que fa a __latitude__, sembla que existeix un error a l'hora d'interpretar els decimals. Les observacions que tenim pels pisos de Barcelona, tenen una latitud oscil·la entre els següents rangs:"
   ]
  },
  {
   "cell_type": "code",
   "execution_count": 30,
   "metadata": {},
   "outputs": [
    {
     "data": {
      "text/plain": [
       "41.46262"
      ]
     },
     "execution_count": 30,
     "metadata": {},
     "output_type": "execute_result"
    }
   ],
   "source": [
    "apartments[(apartments['latitude']) < 90]['latitude'].max()"
   ]
  },
  {
   "cell_type": "code",
   "execution_count": 31,
   "metadata": {},
   "outputs": [
    {
     "data": {
      "text/plain": [
       "41.35395"
      ]
     },
     "execution_count": 31,
     "metadata": {},
     "output_type": "execute_result"
    }
   ],
   "source": [
    "apartments[(apartments['latitude']) < 90]['latitude'].min()"
   ]
  },
  {
   "cell_type": "markdown",
   "metadata": {},
   "source": [
    "Podem corregir fàcilment els valors incorrectes, ja que tots són superiors a 41370, dividint  el valor de __latitude__ entre 1000 per a aquestes observacions:"
   ]
  },
  {
   "cell_type": "code",
   "execution_count": 36,
   "metadata": {
    "scrolled": true
   },
   "outputs": [
    {
     "data": {
      "text/html": [
       "<div>\n",
       "<style scoped>\n",
       "    .dataframe tbody tr th:only-of-type {\n",
       "        vertical-align: middle;\n",
       "    }\n",
       "\n",
       "    .dataframe tbody tr th {\n",
       "        vertical-align: top;\n",
       "    }\n",
       "\n",
       "    .dataframe thead th {\n",
       "        text-align: right;\n",
       "    }\n",
       "</style>\n",
       "<table border=\"1\" class=\"dataframe\">\n",
       "  <thead>\n",
       "    <tr style=\"text-align: right;\">\n",
       "      <th></th>\n",
       "      <th>link</th>\n",
       "      <th>latitude</th>\n",
       "      <th>longitude</th>\n",
       "      <th>neighbourhood</th>\n",
       "      <th>price</th>\n",
       "    </tr>\n",
       "  </thead>\n",
       "  <tbody>\n",
       "    <tr>\n",
       "      <th>228</th>\n",
       "      <td>/es/alquiler/vivienda/barcelona-capital/terraz...</td>\n",
       "      <td>41.46262</td>\n",
       "      <td>2.180195</td>\n",
       "      <td>ciutat meridiana</td>\n",
       "      <td>600.0</td>\n",
       "    </tr>\n",
       "    <tr>\n",
       "      <th>15</th>\n",
       "      <td>/es/alquiler/vivienda/barcelona-capital/terraz...</td>\n",
       "      <td>41.45524</td>\n",
       "      <td>2.174660</td>\n",
       "      <td>torre baró</td>\n",
       "      <td>490.0</td>\n",
       "    </tr>\n",
       "    <tr>\n",
       "      <th>609</th>\n",
       "      <td>/es/alquiler/vivienda/barcelona-capital/terraz...</td>\n",
       "      <td>41.45345</td>\n",
       "      <td>2.190106</td>\n",
       "      <td>la trinitat vella</td>\n",
       "      <td>675.0</td>\n",
       "    </tr>\n",
       "    <tr>\n",
       "      <th>978</th>\n",
       "      <td>/es/alquiler/vivienda/barcelona-capital/amuebl...</td>\n",
       "      <td>41.45231</td>\n",
       "      <td>2.191007</td>\n",
       "      <td>la trinitat vella</td>\n",
       "      <td>715.0</td>\n",
       "    </tr>\n",
       "    <tr>\n",
       "      <th>509</th>\n",
       "      <td>/es/alquiler/vivienda/barcelona-capital/aire-a...</td>\n",
       "      <td>41.45208</td>\n",
       "      <td>2.192924</td>\n",
       "      <td>la trinitat vella</td>\n",
       "      <td>650.0</td>\n",
       "    </tr>\n",
       "    <tr>\n",
       "      <th>578</th>\n",
       "      <td>/es/alquiler/vivienda/barcelona-capital/aire-a...</td>\n",
       "      <td>41.45131</td>\n",
       "      <td>2.190549</td>\n",
       "      <td>la trinitat vella</td>\n",
       "      <td>664.0</td>\n",
       "    </tr>\n",
       "    <tr>\n",
       "      <th>296</th>\n",
       "      <td>/es/alquiler/vivienda/barcelona-capital/terraz...</td>\n",
       "      <td>41.45129</td>\n",
       "      <td>2.189722</td>\n",
       "      <td>la trinitat vella</td>\n",
       "      <td>647.0</td>\n",
       "    </tr>\n",
       "    <tr>\n",
       "      <th>222</th>\n",
       "      <td>/es/alquiler/vivienda/barcelona-capital/terraz...</td>\n",
       "      <td>41.45118</td>\n",
       "      <td>2.189822</td>\n",
       "      <td>la trinitat vella</td>\n",
       "      <td>600.0</td>\n",
       "    </tr>\n",
       "    <tr>\n",
       "      <th>1344</th>\n",
       "      <td>/es/alquiler/vivienda/barcelona-capital/no-amu...</td>\n",
       "      <td>41.45047</td>\n",
       "      <td>2.191933</td>\n",
       "      <td>la trinitat vella</td>\n",
       "      <td>750.0</td>\n",
       "    </tr>\n",
       "    <tr>\n",
       "      <th>7797</th>\n",
       "      <td>/es/alquiler/vivienda/barcelona-capital/calefa...</td>\n",
       "      <td>41.44968</td>\n",
       "      <td>2.190399</td>\n",
       "      <td>la trinitat vella</td>\n",
       "      <td>1250.0</td>\n",
       "    </tr>\n",
       "  </tbody>\n",
       "</table>\n",
       "</div>"
      ],
      "text/plain": [
       "                                                   link  latitude  longitude  \\\n",
       "228   /es/alquiler/vivienda/barcelona-capital/terraz...  41.46262   2.180195   \n",
       "15    /es/alquiler/vivienda/barcelona-capital/terraz...  41.45524   2.174660   \n",
       "609   /es/alquiler/vivienda/barcelona-capital/terraz...  41.45345   2.190106   \n",
       "978   /es/alquiler/vivienda/barcelona-capital/amuebl...  41.45231   2.191007   \n",
       "509   /es/alquiler/vivienda/barcelona-capital/aire-a...  41.45208   2.192924   \n",
       "578   /es/alquiler/vivienda/barcelona-capital/aire-a...  41.45131   2.190549   \n",
       "296   /es/alquiler/vivienda/barcelona-capital/terraz...  41.45129   2.189722   \n",
       "222   /es/alquiler/vivienda/barcelona-capital/terraz...  41.45118   2.189822   \n",
       "1344  /es/alquiler/vivienda/barcelona-capital/no-amu...  41.45047   2.191933   \n",
       "7797  /es/alquiler/vivienda/barcelona-capital/calefa...  41.44968   2.190399   \n",
       "\n",
       "          neighbourhood   price  \n",
       "228    ciutat meridiana   600.0  \n",
       "15           torre baró   490.0  \n",
       "609   la trinitat vella   675.0  \n",
       "978   la trinitat vella   715.0  \n",
       "509   la trinitat vella   650.0  \n",
       "578   la trinitat vella   664.0  \n",
       "296   la trinitat vella   647.0  \n",
       "222   la trinitat vella   600.0  \n",
       "1344  la trinitat vella   750.0  \n",
       "7797  la trinitat vella  1250.0  "
      ]
     },
     "execution_count": 36,
     "metadata": {},
     "output_type": "execute_result"
    }
   ],
   "source": [
    "apartments.loc[apartments['latitude'] > 41370, 'latitude'] = apartments['latitude']/1000\n",
    "apartments.sort_values('latitude', ascending=False).head(10)[['link', 'latitude', 'longitude', 'neighbourhood', 'price']]"
   ]
  },
  {
   "cell_type": "markdown",
   "metadata": {},
   "source": [
    "Podem aplicar el mateix procés per al camp __longitude__:"
   ]
  },
  {
   "cell_type": "code",
   "execution_count": 40,
   "metadata": {
    "scrolled": false
   },
   "outputs": [
    {
     "data": {
      "text/html": [
       "<div>\n",
       "<style scoped>\n",
       "    .dataframe tbody tr th:only-of-type {\n",
       "        vertical-align: middle;\n",
       "    }\n",
       "\n",
       "    .dataframe tbody tr th {\n",
       "        vertical-align: top;\n",
       "    }\n",
       "\n",
       "    .dataframe thead th {\n",
       "        text-align: right;\n",
       "    }\n",
       "</style>\n",
       "<table border=\"1\" class=\"dataframe\">\n",
       "  <thead>\n",
       "    <tr style=\"text-align: right;\">\n",
       "      <th></th>\n",
       "      <th>link</th>\n",
       "      <th>latitude</th>\n",
       "      <th>longitude</th>\n",
       "      <th>neighbourhood</th>\n",
       "      <th>price</th>\n",
       "    </tr>\n",
       "  </thead>\n",
       "  <tbody>\n",
       "    <tr>\n",
       "      <th>4023</th>\n",
       "      <td>/es/alquiler/vivienda/barcelona-capital/aire-a...</td>\n",
       "      <td>41.39861</td>\n",
       "      <td>2206.0</td>\n",
       "      <td>el poblenou</td>\n",
       "      <td>950.0</td>\n",
       "    </tr>\n",
       "    <tr>\n",
       "      <th>1430</th>\n",
       "      <td>/es/alquiler/vivienda/barcelona-capital/ascens...</td>\n",
       "      <td>41.41937</td>\n",
       "      <td>2188.0</td>\n",
       "      <td>navas</td>\n",
       "      <td>750.0</td>\n",
       "    </tr>\n",
       "    <tr>\n",
       "      <th>3229</th>\n",
       "      <td>/es/alquiler/vivienda/barcelona-capital/calefa...</td>\n",
       "      <td>41.38230</td>\n",
       "      <td>2188.0</td>\n",
       "      <td>la barceloneta</td>\n",
       "      <td>900.0</td>\n",
       "    </tr>\n",
       "    <tr>\n",
       "      <th>2042</th>\n",
       "      <td>/es/alquiler/vivienda/barcelona-capital/aire-a...</td>\n",
       "      <td>41.43369</td>\n",
       "      <td>2186.0</td>\n",
       "      <td>sant andreu</td>\n",
       "      <td>800.0</td>\n",
       "    </tr>\n",
       "    <tr>\n",
       "      <th>411</th>\n",
       "      <td>/es/alquiler/vivienda/barcelona-capital/sant-p...</td>\n",
       "      <td>41.38697</td>\n",
       "      <td>2177.0</td>\n",
       "      <td>sant pere, santa caterina i la ribera</td>\n",
       "      <td>650.0</td>\n",
       "    </tr>\n",
       "    <tr>\n",
       "      <th>4265</th>\n",
       "      <td>/es/alquiler/vivienda/barcelona-capital/aire-a...</td>\n",
       "      <td>41.38697</td>\n",
       "      <td>2177.0</td>\n",
       "      <td>sant pere, santa caterina i la ribera</td>\n",
       "      <td>975.0</td>\n",
       "    </tr>\n",
       "    <tr>\n",
       "      <th>5685</th>\n",
       "      <td>/es/alquiler/vivienda/barcelona-capital/calefa...</td>\n",
       "      <td>41.40808</td>\n",
       "      <td>2169.0</td>\n",
       "      <td>el baix guinardó</td>\n",
       "      <td>1090.0</td>\n",
       "    </tr>\n",
       "    <tr>\n",
       "      <th>5683</th>\n",
       "      <td>/es/alquiler/vivienda/barcelona-capital/calefa...</td>\n",
       "      <td>41.40816</td>\n",
       "      <td>2169.0</td>\n",
       "      <td>el baix guinardó</td>\n",
       "      <td>1090.0</td>\n",
       "    </tr>\n",
       "    <tr>\n",
       "      <th>2899</th>\n",
       "      <td>/es/alquiler/vivienda/barcelona-capital/ascens...</td>\n",
       "      <td>41.37688</td>\n",
       "      <td>2168.0</td>\n",
       "      <td>el raval</td>\n",
       "      <td>855.0</td>\n",
       "    </tr>\n",
       "    <tr>\n",
       "      <th>896</th>\n",
       "      <td>/es/alquiler/vivienda/barcelona-capital/can-ba...</td>\n",
       "      <td>41.41630</td>\n",
       "      <td>2164.0</td>\n",
       "      <td>can baró</td>\n",
       "      <td>700.0</td>\n",
       "    </tr>\n",
       "    <tr>\n",
       "      <th>8972</th>\n",
       "      <td>/es/alquiler/vivienda/barcelona-capital/aire-a...</td>\n",
       "      <td>41.39114</td>\n",
       "      <td>2164.0</td>\n",
       "      <td>la dreta de l'eixample</td>\n",
       "      <td>1490.0</td>\n",
       "    </tr>\n",
       "    <tr>\n",
       "      <th>1140</th>\n",
       "      <td>/es/alquiler/vivienda/barcelona-capital/ascens...</td>\n",
       "      <td>41.38768</td>\n",
       "      <td>2161.0</td>\n",
       "      <td>l'antiga esquerra de l'eixample</td>\n",
       "      <td>738.0</td>\n",
       "    </tr>\n",
       "    <tr>\n",
       "      <th>8145</th>\n",
       "      <td>/es/alquiler/vivienda/barcelona-capital/aire-a...</td>\n",
       "      <td>41.39986</td>\n",
       "      <td>2159.0</td>\n",
       "      <td>la vila de gràcia</td>\n",
       "      <td>1300.0</td>\n",
       "    </tr>\n",
       "    <tr>\n",
       "      <th>7232</th>\n",
       "      <td>/es/alquiler/vivienda/barcelona-capital/terraz...</td>\n",
       "      <td>41.40638</td>\n",
       "      <td>2146.0</td>\n",
       "      <td>el putxet i el farró</td>\n",
       "      <td>1200.0</td>\n",
       "    </tr>\n",
       "    <tr>\n",
       "      <th>7437</th>\n",
       "      <td>/es/alquiler/vivienda/barcelona-capital/calefa...</td>\n",
       "      <td>41.40638</td>\n",
       "      <td>2146.0</td>\n",
       "      <td>el putxet i el farró</td>\n",
       "      <td>1200.0</td>\n",
       "    </tr>\n",
       "    <tr>\n",
       "      <th>10100</th>\n",
       "      <td>/es/alquiler/vivienda/barcelona-capital/aire-a...</td>\n",
       "      <td>41.40403</td>\n",
       "      <td>2142.0</td>\n",
       "      <td>el putxet i el farró</td>\n",
       "      <td>1750.0</td>\n",
       "    </tr>\n",
       "    <tr>\n",
       "      <th>9729</th>\n",
       "      <td>/es/alquiler/vivienda/barcelona-capital/aire-a...</td>\n",
       "      <td>41.39605</td>\n",
       "      <td>2137.0</td>\n",
       "      <td>sant gervasi - galvany</td>\n",
       "      <td>1650.0</td>\n",
       "    </tr>\n",
       "    <tr>\n",
       "      <th>10196</th>\n",
       "      <td>/es/alquiler/vivienda/barcelona-capital/aire-a...</td>\n",
       "      <td>41.38006</td>\n",
       "      <td>2111.0</td>\n",
       "      <td>la maternitat i sant ramon</td>\n",
       "      <td>1800.0</td>\n",
       "    </tr>\n",
       "  </tbody>\n",
       "</table>\n",
       "</div>"
      ],
      "text/plain": [
       "                                                    link  latitude  longitude  \\\n",
       "4023   /es/alquiler/vivienda/barcelona-capital/aire-a...  41.39861     2206.0   \n",
       "1430   /es/alquiler/vivienda/barcelona-capital/ascens...  41.41937     2188.0   \n",
       "3229   /es/alquiler/vivienda/barcelona-capital/calefa...  41.38230     2188.0   \n",
       "2042   /es/alquiler/vivienda/barcelona-capital/aire-a...  41.43369     2186.0   \n",
       "411    /es/alquiler/vivienda/barcelona-capital/sant-p...  41.38697     2177.0   \n",
       "4265   /es/alquiler/vivienda/barcelona-capital/aire-a...  41.38697     2177.0   \n",
       "5685   /es/alquiler/vivienda/barcelona-capital/calefa...  41.40808     2169.0   \n",
       "5683   /es/alquiler/vivienda/barcelona-capital/calefa...  41.40816     2169.0   \n",
       "2899   /es/alquiler/vivienda/barcelona-capital/ascens...  41.37688     2168.0   \n",
       "896    /es/alquiler/vivienda/barcelona-capital/can-ba...  41.41630     2164.0   \n",
       "8972   /es/alquiler/vivienda/barcelona-capital/aire-a...  41.39114     2164.0   \n",
       "1140   /es/alquiler/vivienda/barcelona-capital/ascens...  41.38768     2161.0   \n",
       "8145   /es/alquiler/vivienda/barcelona-capital/aire-a...  41.39986     2159.0   \n",
       "7232   /es/alquiler/vivienda/barcelona-capital/terraz...  41.40638     2146.0   \n",
       "7437   /es/alquiler/vivienda/barcelona-capital/calefa...  41.40638     2146.0   \n",
       "10100  /es/alquiler/vivienda/barcelona-capital/aire-a...  41.40403     2142.0   \n",
       "9729   /es/alquiler/vivienda/barcelona-capital/aire-a...  41.39605     2137.0   \n",
       "10196  /es/alquiler/vivienda/barcelona-capital/aire-a...  41.38006     2111.0   \n",
       "\n",
       "                               neighbourhood   price  \n",
       "4023                             el poblenou   950.0  \n",
       "1430                                   navas   750.0  \n",
       "3229                          la barceloneta   900.0  \n",
       "2042                             sant andreu   800.0  \n",
       "411    sant pere, santa caterina i la ribera   650.0  \n",
       "4265   sant pere, santa caterina i la ribera   975.0  \n",
       "5685                        el baix guinardó  1090.0  \n",
       "5683                        el baix guinardó  1090.0  \n",
       "2899                                el raval   855.0  \n",
       "896                                 can baró   700.0  \n",
       "8972                  la dreta de l'eixample  1490.0  \n",
       "1140         l'antiga esquerra de l'eixample   738.0  \n",
       "8145                       la vila de gràcia  1300.0  \n",
       "7232                    el putxet i el farró  1200.0  \n",
       "7437                    el putxet i el farró  1200.0  \n",
       "10100                   el putxet i el farró  1750.0  \n",
       "9729                  sant gervasi - galvany  1650.0  \n",
       "10196             la maternitat i sant ramon  1800.0  "
      ]
     },
     "execution_count": 40,
     "metadata": {},
     "output_type": "execute_result"
    }
   ],
   "source": [
    "apartments[(apartments['longitude'] > 180) | (apartments['longitude'] < -180)].sort_values('longitude', ascending=False).head(100)[['link', 'latitude', 'longitude', 'neighbourhood', 'price']]"
   ]
  },
  {
   "cell_type": "markdown",
   "metadata": {},
   "source": [
    "Les observacions pels pisos de Barcelona oscil·len entre els següents rangs:"
   ]
  },
  {
   "cell_type": "code",
   "execution_count": 38,
   "metadata": {},
   "outputs": [
    {
     "data": {
      "text/plain": [
       "2.224126"
      ]
     },
     "execution_count": 38,
     "metadata": {},
     "output_type": "execute_result"
    }
   ],
   "source": [
    "apartments[(apartments['longitude']) < 180]['longitude'].max()"
   ]
  },
  {
   "cell_type": "code",
   "execution_count": 39,
   "metadata": {},
   "outputs": [
    {
     "data": {
      "text/plain": [
       "2.0915220000000003"
      ]
     },
     "execution_count": 39,
     "metadata": {},
     "output_type": "execute_result"
    }
   ],
   "source": [
    "apartments[(apartments['longitude']) < 180]['longitude'].min()"
   ]
  },
  {
   "cell_type": "markdown",
   "metadata": {},
   "source": [
    "De nou, si dividim els valors de __longitude__ superiors a 2110 entre 1000, corregirem els valors d'aquestes observacions:"
   ]
  },
  {
   "cell_type": "code",
   "execution_count": 41,
   "metadata": {},
   "outputs": [
    {
     "data": {
      "text/html": [
       "<div>\n",
       "<style scoped>\n",
       "    .dataframe tbody tr th:only-of-type {\n",
       "        vertical-align: middle;\n",
       "    }\n",
       "\n",
       "    .dataframe tbody tr th {\n",
       "        vertical-align: top;\n",
       "    }\n",
       "\n",
       "    .dataframe thead th {\n",
       "        text-align: right;\n",
       "    }\n",
       "</style>\n",
       "<table border=\"1\" class=\"dataframe\">\n",
       "  <thead>\n",
       "    <tr style=\"text-align: right;\">\n",
       "      <th></th>\n",
       "      <th>link</th>\n",
       "      <th>latitude</th>\n",
       "      <th>longitude</th>\n",
       "      <th>neighbourhood</th>\n",
       "      <th>price</th>\n",
       "    </tr>\n",
       "  </thead>\n",
       "  <tbody>\n",
       "    <tr>\n",
       "      <th>8502</th>\n",
       "      <td>/es/alquiler/vivienda/barcelona-capital/aire-a...</td>\n",
       "      <td>41.41129</td>\n",
       "      <td>2.224126</td>\n",
       "      <td>el besòs i el maresme</td>\n",
       "      <td>1350.0</td>\n",
       "    </tr>\n",
       "    <tr>\n",
       "      <th>10272</th>\n",
       "      <td>/es/alquiler/vivienda/barcelona-capital/aire-a...</td>\n",
       "      <td>41.41315</td>\n",
       "      <td>2.222797</td>\n",
       "      <td>el besòs i el maresme</td>\n",
       "      <td>1800.0</td>\n",
       "    </tr>\n",
       "    <tr>\n",
       "      <th>11252</th>\n",
       "      <td>/es/alquiler/vivienda/barcelona-capital/aire-a...</td>\n",
       "      <td>41.41155</td>\n",
       "      <td>2.221454</td>\n",
       "      <td>el besòs i el maresme</td>\n",
       "      <td>2600.0</td>\n",
       "    </tr>\n",
       "    <tr>\n",
       "      <th>10433</th>\n",
       "      <td>/es/alquiler/vivienda/barcelona-capital/aire-a...</td>\n",
       "      <td>41.41163</td>\n",
       "      <td>2.220950</td>\n",
       "      <td>el besòs i el maresme</td>\n",
       "      <td>1900.0</td>\n",
       "    </tr>\n",
       "    <tr>\n",
       "      <th>10232</th>\n",
       "      <td>/es/alquiler/vivienda/barcelona-capital/aire-a...</td>\n",
       "      <td>41.41353</td>\n",
       "      <td>2.220937</td>\n",
       "      <td>el besòs i el maresme</td>\n",
       "      <td>1800.0</td>\n",
       "    </tr>\n",
       "    <tr>\n",
       "      <th>9594</th>\n",
       "      <td>/es/alquiler/vivienda/barcelona-capital/aire-a...</td>\n",
       "      <td>41.41261</td>\n",
       "      <td>2.220891</td>\n",
       "      <td>el besòs i el maresme</td>\n",
       "      <td>1600.0</td>\n",
       "    </tr>\n",
       "    <tr>\n",
       "      <th>8157</th>\n",
       "      <td>/es/alquiler/vivienda/barcelona-capital/aire-a...</td>\n",
       "      <td>41.41361</td>\n",
       "      <td>2.220773</td>\n",
       "      <td>el besòs i el maresme</td>\n",
       "      <td>1300.0</td>\n",
       "    </tr>\n",
       "    <tr>\n",
       "      <th>11048</th>\n",
       "      <td>/es/alquiler/vivienda/barcelona-capital/calefa...</td>\n",
       "      <td>41.41253</td>\n",
       "      <td>2.220563</td>\n",
       "      <td>el besòs i el maresme</td>\n",
       "      <td>2400.0</td>\n",
       "    </tr>\n",
       "    <tr>\n",
       "      <th>8611</th>\n",
       "      <td>/es/alquiler/vivienda/barcelona-capital/aire-a...</td>\n",
       "      <td>41.40981</td>\n",
       "      <td>2.220171</td>\n",
       "      <td>diagonal mar i el front marítim del poblenou</td>\n",
       "      <td>1400.0</td>\n",
       "    </tr>\n",
       "    <tr>\n",
       "      <th>11098</th>\n",
       "      <td>/es/alquiler/vivienda/barcelona-capital/aire-a...</td>\n",
       "      <td>41.41261</td>\n",
       "      <td>2.220109</td>\n",
       "      <td>el besòs i el maresme</td>\n",
       "      <td>2500.0</td>\n",
       "    </tr>\n",
       "  </tbody>\n",
       "</table>\n",
       "</div>"
      ],
      "text/plain": [
       "                                                    link  latitude  longitude  \\\n",
       "8502   /es/alquiler/vivienda/barcelona-capital/aire-a...  41.41129   2.224126   \n",
       "10272  /es/alquiler/vivienda/barcelona-capital/aire-a...  41.41315   2.222797   \n",
       "11252  /es/alquiler/vivienda/barcelona-capital/aire-a...  41.41155   2.221454   \n",
       "10433  /es/alquiler/vivienda/barcelona-capital/aire-a...  41.41163   2.220950   \n",
       "10232  /es/alquiler/vivienda/barcelona-capital/aire-a...  41.41353   2.220937   \n",
       "9594   /es/alquiler/vivienda/barcelona-capital/aire-a...  41.41261   2.220891   \n",
       "8157   /es/alquiler/vivienda/barcelona-capital/aire-a...  41.41361   2.220773   \n",
       "11048  /es/alquiler/vivienda/barcelona-capital/calefa...  41.41253   2.220563   \n",
       "8611   /es/alquiler/vivienda/barcelona-capital/aire-a...  41.40981   2.220171   \n",
       "11098  /es/alquiler/vivienda/barcelona-capital/aire-a...  41.41261   2.220109   \n",
       "\n",
       "                                      neighbourhood   price  \n",
       "8502                          el besòs i el maresme  1350.0  \n",
       "10272                         el besòs i el maresme  1800.0  \n",
       "11252                         el besòs i el maresme  2600.0  \n",
       "10433                         el besòs i el maresme  1900.0  \n",
       "10232                         el besòs i el maresme  1800.0  \n",
       "9594                          el besòs i el maresme  1600.0  \n",
       "8157                          el besòs i el maresme  1300.0  \n",
       "11048                         el besòs i el maresme  2400.0  \n",
       "8611   diagonal mar i el front marítim del poblenou  1400.0  \n",
       "11098                         el besòs i el maresme  2500.0  "
      ]
     },
     "execution_count": 41,
     "metadata": {},
     "output_type": "execute_result"
    }
   ],
   "source": [
    "apartments.loc[apartments['longitude'] > 2110, 'longitude'] = apartments['longitude']/1000\n",
    "apartments.sort_values('longitude', ascending=False).head(10)[['link', 'latitude', 'longitude', 'neighbourhood', 'price']]"
   ]
  },
  {
   "cell_type": "markdown",
   "metadata": {},
   "source": [
    "#### Bathrooms"
   ]
  },
  {
   "cell_type": "markdown",
   "metadata": {},
   "source": [
    "Per a aquest camp, tot i que hem comentat que hi ha valors alts que considerem vàlids, si observem el boxplot veiem que hi ha una observació que té un valor molt extrem:"
   ]
  },
  {
   "cell_type": "code",
   "execution_count": 54,
   "metadata": {},
   "outputs": [
    {
     "data": {
      "text/html": [
       "<div>\n",
       "<style scoped>\n",
       "    .dataframe tbody tr th:only-of-type {\n",
       "        vertical-align: middle;\n",
       "    }\n",
       "\n",
       "    .dataframe tbody tr th {\n",
       "        vertical-align: top;\n",
       "    }\n",
       "\n",
       "    .dataframe thead th {\n",
       "        text-align: right;\n",
       "    }\n",
       "</style>\n",
       "<table border=\"1\" class=\"dataframe\">\n",
       "  <thead>\n",
       "    <tr style=\"text-align: right;\">\n",
       "      <th></th>\n",
       "      <th>link</th>\n",
       "      <th>bathrooms</th>\n",
       "      <th>rooms</th>\n",
       "      <th>sqft_m2</th>\n",
       "      <th>price</th>\n",
       "    </tr>\n",
       "  </thead>\n",
       "  <tbody>\n",
       "    <tr>\n",
       "      <th>10875</th>\n",
       "      <td>/es/alquiler/vivienda/barcelona-capital/aire-a...</td>\n",
       "      <td>1901</td>\n",
       "      <td>3</td>\n",
       "      <td>135</td>\n",
       "      <td>2200.0</td>\n",
       "    </tr>\n",
       "  </tbody>\n",
       "</table>\n",
       "</div>"
      ],
      "text/plain": [
       "                                                    link  bathrooms  rooms  \\\n",
       "10875  /es/alquiler/vivienda/barcelona-capital/aire-a...       1901      3   \n",
       "\n",
       "       sqft_m2   price  \n",
       "10875      135  2200.0  "
      ]
     },
     "execution_count": 54,
     "metadata": {},
     "output_type": "execute_result"
    }
   ],
   "source": [
    "apartments[apartments['bathrooms'] > 100][['link', 'bathrooms', 'rooms', 'sqft_m2', 'price']]\n"
   ]
  },
  {
   "cell_type": "markdown",
   "metadata": {},
   "source": [
    "A la web de Fotocasa, s'indica també aquest valor. Tot i això, no és lògic tenir 1901 banys a un pis de 135 metres quadrats de 3 habitacions i per tant, decidim eliminar aquesta observació:"
   ]
  },
  {
   "cell_type": "code",
   "execution_count": 55,
   "metadata": {},
   "outputs": [],
   "source": [
    "apartments = apartments.drop(index=10875)"
   ]
  },
  {
   "cell_type": "code",
   "execution_count": 58,
   "metadata": {},
   "outputs": [
    {
     "data": {
      "text/plain": [
       "21"
      ]
     },
     "execution_count": 58,
     "metadata": {},
     "output_type": "execute_result"
    }
   ],
   "source": [
    "apartments.bathrooms.max()"
   ]
  },
  {
   "cell_type": "markdown",
   "metadata": {},
   "source": [
    "### Fitxer csv amb les dades finals a analitzar"
   ]
  },
  {
   "cell_type": "code",
   "execution_count": 104,
   "metadata": {},
   "outputs": [],
   "source": [
    "apartments.to_csv('../csv/data_clean.csv')"
   ]
  },
  {
   "cell_type": "markdown",
   "metadata": {},
   "source": [
    "## 4. Anàlisi"
   ]
  },
  {
   "cell_type": "markdown",
   "metadata": {},
   "source": [
    "### Grups a comparar\n",
    "\n",
    "- Es vol comparar si hi ha diferències de preus estadísticament significatives entre els diferents barris. Cada barri serà, per tant, un grup diferent.\n",
    "- Es vol comparar si hi ha diferències de preus estadísticament significatives entre les diferents agències. Cada agència serà, per tant, un grup diferent."
   ]
  },
  {
   "cell_type": "markdown",
   "metadata": {},
   "source": [
    "### Comprovació de la normalitat de la variable price\n",
    "\n",
    "Atès que les anàlisi d'estadística inferencial que portarem a terme impliquen en tots els casos la variable __price__, serà necessari comprovar prèviament la normalitat d'aquesta variable per tal de saber si hem d'aplicar proves paramètriques o no paramètriques. "
   ]
  },
  {
   "cell_type": "markdown",
   "metadata": {},
   "source": [
    "Anem a visualitzar l'histograma i el gràfic Q-Q de la variable price per tenir una orientació visual de si aquesta variable segueix o no una distribució normal:"
   ]
  },
  {
   "cell_type": "code",
   "execution_count": 88,
   "metadata": {},
   "outputs": [
    {
     "data": {
      "image/png": "[encoded data removed]",
      "text/plain": [
       "<Figure size 1152x576 with 2 Axes>"
      ]
     },
     "metadata": {
      "needs_background": "light"
     },
     "output_type": "display_data"
    }
   ],
   "source": [
    "from scipy import stats\n",
    "\n",
    "fig = plt.figure(figsize=(16,8))\n",
    "\n",
    "ax = fig.add_subplot(1, 2, 1)\n",
    "ax.hist(apartments.price, 500, density=True)\n",
    "\n",
    "ax = fig.add_subplot(1, 2, 2)\n",
    "stats.probplot(apartments.price, dist='norm', plot=plt)\n",
    "pass"
   ]
  },
  {
   "cell_type": "markdown",
   "metadata": {},
   "source": [
    "A simple vista, no sembla que la variable __price__ segueixi una distribució normal. Per tal de comprovar-ho, portarem a terme la prova de Kolmogorov-Smirnov. El motiu de portar a terme aquesta prova i no la de Shapiro-Wilk, és perquè amb la implementació de Scipy, per un nombre de mostres superior a 5000, el p-value pot no esser precís."
   ]
  },
  {
   "cell_type": "code",
   "execution_count": 87,
   "metadata": {},
   "outputs": [
    {
     "data": {
      "text/plain": [
       "KstestResult(statistic=0.24484544125865293, pvalue=0.0)"
      ]
     },
     "execution_count": 87,
     "metadata": {},
     "output_type": "execute_result"
    }
   ],
   "source": [
    "stats.kstest(apartments.price, 'norm', args=(apartments.price.mean(), apartments.price.std()))"
   ]
  },
  {
   "cell_type": "markdown",
   "metadata": {},
   "source": [
    "Podem veure que el p-value es 0 en el nostre cas, més petit que el valor de significació 0.05. Per tant podem rebutjar la hipòtesi nul·la i concloure que la variable __price no segueix una distribució normal__."
   ]
  },
  {
   "cell_type": "markdown",
   "metadata": {},
   "source": [
    "### Comprovació de l'homoscedasticitat de la variable price per als diferents grups\n",
    "\n",
    "Per comprovar l'homoscedasticitat de la variable __price__ per als diferents grups que volem comparar, emprarem el test de Fligner-Killeen, ja que prèviament hem observat que aquesta variable no segueix una distribució normal."
   ]
  },
  {
   "cell_type": "markdown",
   "metadata": {},
   "source": [
    "#### Homoscedasticitat dels preus dels barris"
   ]
  },
  {
   "cell_type": "code",
   "execution_count": 94,
   "metadata": {},
   "outputs": [
    {
     "data": {
      "text/plain": [
       "FlignerResult(statistic=2111.855406114203, pvalue=0.0)"
      ]
     },
     "execution_count": 94,
     "metadata": {},
     "output_type": "execute_result"
    }
   ],
   "source": [
    "neighbourhood_grouped_samples = apartments.groupby('neighbourhood')['price'].apply(pd.Series.tolist).tolist()\n",
    "stats.fligner(*neighbourhood_grouped_samples)"
   ]
  },
  {
   "cell_type": "markdown",
   "metadata": {},
   "source": [
    "Donat el p-value és < 0.05, podem concloure doncs que __price__ presenta variàncies estadísticament diferents entre els barris de Barcelona."
   ]
  },
  {
   "cell_type": "markdown",
   "metadata": {},
   "source": [
    "#### Homoscedasticitat dels preus de les agències"
   ]
  },
  {
   "cell_type": "code",
   "execution_count": 103,
   "metadata": {},
   "outputs": [
    {
     "data": {
      "text/plain": [
       "FlignerResult(statistic=3503.2652150704203, pvalue=1.3734179778945182e-260)"
      ]
     },
     "execution_count": 103,
     "metadata": {},
     "output_type": "execute_result"
    }
   ],
   "source": [
    "realestate_grouped_samples = apartments.groupby('realestate')['price'].apply(pd.Series.tolist).tolist()\n",
    "stats.fligner(*realestate_grouped_samples)"
   ]
  },
  {
   "cell_type": "markdown",
   "metadata": {},
   "source": [
    "Donat que el p-value és < 0.05, podem concloure que __price__ presenta variàncies estadísticament diferents entre les agències immoniliaries."
   ]
  },
  {
   "cell_type": "markdown",
   "metadata": {},
   "source": [
    "### Comprovació de mitjanes de la variable price per als diferents grups\n",
    "\n",
    "Ja hem vist com la variable __price__ no segueix una distribució normal, i com per als grups que es volen analitzar, la variància de __price__ entre ells presenta diferències estadísticament significants. Donat tot això, haurem d'emprar proves no paramètriques, en concret el test de Kruskal-Wallis, per tal de saber si la mitjana entre els diferents grups (que són més de dos tant en el cas dels barris com en el cas de les agències) presenta diferències estadísticament significants."
   ]
  },
  {
   "cell_type": "markdown",
   "metadata": {},
   "source": [
    "#### Comparació de mitjanes de preus entre els diferents barris"
   ]
  },
  {
   "cell_type": "code",
   "execution_count": 97,
   "metadata": {},
   "outputs": [
    {
     "data": {
      "text/plain": [
       "KruskalResult(statistic=2644.2441409847634, pvalue=0.0)"
      ]
     },
     "execution_count": 97,
     "metadata": {},
     "output_type": "execute_result"
    }
   ],
   "source": [
    "stats.kruskal(*neighbourhood_grouped_samples)"
   ]
  },
  {
   "cell_type": "markdown",
   "metadata": {},
   "source": [
    "Donat que el p-value és < 0.05, podem concloure que hi ha difències de preu estadísticament significatives entre els barris de Barcelona."
   ]
  },
  {
   "cell_type": "markdown",
   "metadata": {},
   "source": [
    "#### Comparació de mitjanes de preus entre les diferents agències"
   ]
  },
  {
   "cell_type": "code",
   "execution_count": 102,
   "metadata": {},
   "outputs": [
    {
     "data": {
      "text/plain": [
       "KruskalResult(statistic=4897.200567356908, pvalue=0.0)"
      ]
     },
     "execution_count": 102,
     "metadata": {},
     "output_type": "execute_result"
    }
   ],
   "source": [
    "stats.kruskal(*realestate_grouped_samples)"
   ]
  },
  {
   "cell_type": "markdown",
   "metadata": {},
   "source": [
    "Donat que el p-value és < 0.05, podem concloure que hi ha diferències de preu estadísticament significatives entre les ofertes de les diferents agències."
   ]
  }
 ],
 "metadata": {
  "kernelspec": {
   "display_name": "Python 3",
   "language": "python",
   "name": "python3"
  },
  "language_info": {
   "codemirror_mode": {
    "name": "ipython",
    "version": 3
   },
   "file_extension": ".py",
   "mimetype": "text/x-python",
   "name": "python",
   "nbconvert_exporter": "python",
   "pygments_lexer": "ipython3",
   "version": "3.8.2"
  }
 },
 "nbformat": 4,
 "nbformat_minor": 4
}
