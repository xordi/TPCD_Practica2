{
 "cells": [
  {
   "cell_type": "markdown",
   "metadata": {},
   "source": [
    "# Pràctica 2: Neteja i anàlisi de dades\n",
    "\n",
    "## 1. Dataset\n",
    "\n",
    "El dataset emprat en aquesta pràctica és el generat a la PRA1 de l'assignatura, on vam recollir les dades de la web de Fotocasa dels pisos en lloguer a la ciutat de Barcelona (a data d'octubre de 2020), mitjançant scraping.\n",
    "\n",
    "L'objectiu de l'anàlisi de les dades d'aquest dataset és respondre a les següents qüestions:\n",
    "\n",
    "- Quines són les variables del dataset que influeixen de manera més significativa sobre el preu?\n",
    "- Hi ha diferències significatives en els preus de lloguer entre els diferents barris de la ciutat?\n",
    "- Hi ha diferències significatives en els preus de lloguer entre les diferents agències?\n",
    "- Es pot crear un model de regressió que permeti predir el preu d'un habitatge en base a les seves característiques?"
   ]
  },
  {
   "cell_type": "markdown",
   "metadata": {},
   "source": [
    "## 2. Selecció de dades"
   ]
  },
  {
   "cell_type": "markdown",
   "metadata": {},
   "source": [
    "Primerament, determinarem quines són les variables del nostre dataset i el seu tipus. Seguidament, eliminarem aquelles que no aportin informació útil de cara a la nostra anàlisi. Finalment, farem una eliminació de files duplicades."
   ]
  },
  {
   "cell_type": "code",
   "execution_count": 235,
   "metadata": {},
   "outputs": [],
   "source": [
    "import pandas as pd\n",
    "\n",
    "apartments = pd.read_csv('../csv/data_final.csv')"
   ]
  },
  {
   "cell_type": "markdown",
   "metadata": {},
   "source": [
    "### Eliminació de dimensions"
   ]
  },
  {
   "cell_type": "code",
   "execution_count": 236,
   "metadata": {
    "scrolled": false
   },
   "outputs": [
    {
     "data": {
      "text/plain": [
       "id                       int64\n",
       "address                 object\n",
       "bathrooms                int64\n",
       "building_subtype        object\n",
       "building_type           object\n",
       "conservation_state     float64\n",
       "date                    object\n",
       "discount                 int64\n",
       "floor_elevator           int64\n",
       "is_new_construction       bool\n",
       "latitude               float64\n",
       "link                    object\n",
       "longitude              float64\n",
       "price                  float64\n",
       "realestate              object\n",
       "realestate_id            int64\n",
       "rooms                    int64\n",
       "sqft_m2                  int64\n",
       "neighbourhood           object\n",
       "neighb_meanprice       float64\n",
       "dtype: object"
      ]
     },
     "execution_count": 236,
     "metadata": {},
     "output_type": "execute_result"
    }
   ],
   "source": [
    "apartments.dtypes"
   ]
  },
  {
   "cell_type": "markdown",
   "metadata": {},
   "source": [
    "Donats els objectius de la nostra anàlisi, hi ha certes columnes del dataset que podem eliminar:\n",
    "\n",
    "- __id__, que simplement conté l'índex de la fila dintre del dataset, de moment la deixem per si hem de sel·leccionar files per aquest índex.\n",
    "- __address__, que conté la direcció del pis. Ja tenim el barri disponible a la columna __neighbourhood__ i per tant, aquest camp aporta informació innecessària a la nostra anàlisi.\n",
    "- __date__, que conté la data en la que es va recollir la mostra. Solament la vam recollir un dia específic i per tant, no aporta cap informació rellevant a l'anàlisi actual.\n",
    "- __realestate_id__, que conté l'identificador de l'agència que oferta el pis en lloguer. Ens preferim quedar amb el nom ja que ens permetrà visualitzar la informació de manera més clara"
   ]
  },
  {
   "cell_type": "code",
   "execution_count": 237,
   "metadata": {},
   "outputs": [],
   "source": [
    "apartments = apartments.drop(columns=['address', 'date', 'realestate_id'])"
   ]
  },
  {
   "cell_type": "markdown",
   "metadata": {},
   "source": [
    "### Eliminació de files duplicades"
   ]
  },
  {
   "cell_type": "markdown",
   "metadata": {},
   "source": [
    "L'eliminació de files duplicades la portarem a terme en base a la variable __link__. Si tenim dues o més observacions del mateix pis de la web de Fotocasa, ens quedarem únicament amb la primera:"
   ]
  },
  {
   "cell_type": "code",
   "execution_count": 238,
   "metadata": {},
   "outputs": [
    {
     "data": {
      "text/html": [
       "<div>\n",
       "<style scoped>\n",
       "    .dataframe tbody tr th:only-of-type {\n",
       "        vertical-align: middle;\n",
       "    }\n",
       "\n",
       "    .dataframe tbody tr th {\n",
       "        vertical-align: top;\n",
       "    }\n",
       "\n",
       "    .dataframe thead th {\n",
       "        text-align: right;\n",
       "    }\n",
       "</style>\n",
       "<table border=\"1\" class=\"dataframe\">\n",
       "  <thead>\n",
       "    <tr style=\"text-align: right;\">\n",
       "      <th></th>\n",
       "      <th>id</th>\n",
       "      <th>bathrooms</th>\n",
       "      <th>building_subtype</th>\n",
       "      <th>building_type</th>\n",
       "      <th>conservation_state</th>\n",
       "      <th>discount</th>\n",
       "      <th>floor_elevator</th>\n",
       "      <th>is_new_construction</th>\n",
       "      <th>latitude</th>\n",
       "      <th>link</th>\n",
       "      <th>longitude</th>\n",
       "      <th>price</th>\n",
       "      <th>realestate</th>\n",
       "      <th>rooms</th>\n",
       "      <th>sqft_m2</th>\n",
       "      <th>neighbourhood</th>\n",
       "      <th>neighb_meanprice</th>\n",
       "    </tr>\n",
       "  </thead>\n",
       "  <tbody>\n",
       "    <tr>\n",
       "      <th>39</th>\n",
       "      <td>39</td>\n",
       "      <td>1</td>\n",
       "      <td>Apartment</td>\n",
       "      <td>Flat</td>\n",
       "      <td>NaN</td>\n",
       "      <td>0</td>\n",
       "      <td>0</td>\n",
       "      <td>False</td>\n",
       "      <td>41.38071</td>\n",
       "      <td>/es/alquiler/vivienda/barcelona-capital/el-rav...</td>\n",
       "      <td>2.168707</td>\n",
       "      <td>525.0</td>\n",
       "      <td>INVERSIONES INMOBILIARIAS Y FINANCIERAS SANT A...</td>\n",
       "      <td>0</td>\n",
       "      <td>35</td>\n",
       "      <td>el raval</td>\n",
       "      <td>14.323614</td>\n",
       "    </tr>\n",
       "    <tr>\n",
       "      <th>40</th>\n",
       "      <td>40</td>\n",
       "      <td>1</td>\n",
       "      <td>Apartment</td>\n",
       "      <td>Flat</td>\n",
       "      <td>NaN</td>\n",
       "      <td>0</td>\n",
       "      <td>0</td>\n",
       "      <td>False</td>\n",
       "      <td>41.38071</td>\n",
       "      <td>/es/alquiler/vivienda/barcelona-capital/el-rav...</td>\n",
       "      <td>2.168707</td>\n",
       "      <td>525.0</td>\n",
       "      <td>INVERSIONES INMOBILIARIAS Y FINANCIERAS SANT A...</td>\n",
       "      <td>0</td>\n",
       "      <td>35</td>\n",
       "      <td>el raval</td>\n",
       "      <td>14.323614</td>\n",
       "    </tr>\n",
       "    <tr>\n",
       "      <th>41</th>\n",
       "      <td>41</td>\n",
       "      <td>1</td>\n",
       "      <td>Apartment</td>\n",
       "      <td>Flat</td>\n",
       "      <td>NaN</td>\n",
       "      <td>0</td>\n",
       "      <td>0</td>\n",
       "      <td>False</td>\n",
       "      <td>41.38071</td>\n",
       "      <td>/es/alquiler/vivienda/barcelona-capital/el-rav...</td>\n",
       "      <td>2.168707</td>\n",
       "      <td>525.0</td>\n",
       "      <td>INVERSIONES INMOBILIARIAS Y FINANCIERAS SANT A...</td>\n",
       "      <td>0</td>\n",
       "      <td>35</td>\n",
       "      <td>el raval</td>\n",
       "      <td>14.323614</td>\n",
       "    </tr>\n",
       "    <tr>\n",
       "      <th>42</th>\n",
       "      <td>42</td>\n",
       "      <td>1</td>\n",
       "      <td>Apartment</td>\n",
       "      <td>Flat</td>\n",
       "      <td>NaN</td>\n",
       "      <td>0</td>\n",
       "      <td>0</td>\n",
       "      <td>False</td>\n",
       "      <td>41.38071</td>\n",
       "      <td>/es/alquiler/vivienda/barcelona-capital/el-rav...</td>\n",
       "      <td>2.168707</td>\n",
       "      <td>525.0</td>\n",
       "      <td>INVERSIONES INMOBILIARIAS Y FINANCIERAS SANT A...</td>\n",
       "      <td>0</td>\n",
       "      <td>35</td>\n",
       "      <td>el raval</td>\n",
       "      <td>14.323614</td>\n",
       "    </tr>\n",
       "    <tr>\n",
       "      <th>43</th>\n",
       "      <td>43</td>\n",
       "      <td>1</td>\n",
       "      <td>Apartment</td>\n",
       "      <td>Flat</td>\n",
       "      <td>NaN</td>\n",
       "      <td>0</td>\n",
       "      <td>0</td>\n",
       "      <td>False</td>\n",
       "      <td>41.38071</td>\n",
       "      <td>/es/alquiler/vivienda/barcelona-capital/el-rav...</td>\n",
       "      <td>2.168707</td>\n",
       "      <td>525.0</td>\n",
       "      <td>INVERSIONES INMOBILIARIAS Y FINANCIERAS SANT A...</td>\n",
       "      <td>0</td>\n",
       "      <td>35</td>\n",
       "      <td>el raval</td>\n",
       "      <td>14.323614</td>\n",
       "    </tr>\n",
       "    <tr>\n",
       "      <th>...</th>\n",
       "      <td>...</td>\n",
       "      <td>...</td>\n",
       "      <td>...</td>\n",
       "      <td>...</td>\n",
       "      <td>...</td>\n",
       "      <td>...</td>\n",
       "      <td>...</td>\n",
       "      <td>...</td>\n",
       "      <td>...</td>\n",
       "      <td>...</td>\n",
       "      <td>...</td>\n",
       "      <td>...</td>\n",
       "      <td>...</td>\n",
       "      <td>...</td>\n",
       "      <td>...</td>\n",
       "      <td>...</td>\n",
       "      <td>...</td>\n",
       "    </tr>\n",
       "    <tr>\n",
       "      <th>11803</th>\n",
       "      <td>11803</td>\n",
       "      <td>2</td>\n",
       "      <td>Attic</td>\n",
       "      <td>Flat</td>\n",
       "      <td>1.0</td>\n",
       "      <td>200</td>\n",
       "      <td>1</td>\n",
       "      <td>False</td>\n",
       "      <td>41.39394</td>\n",
       "      <td>/es/alquiler/vivienda/barcelona-capital/aire-a...</td>\n",
       "      <td>2.121359</td>\n",
       "      <td>3700.0</td>\n",
       "      <td>Stipek Ferrer Premium Properties</td>\n",
       "      <td>4</td>\n",
       "      <td>280</td>\n",
       "      <td>sarrià</td>\n",
       "      <td>16.866645</td>\n",
       "    </tr>\n",
       "    <tr>\n",
       "      <th>11804</th>\n",
       "      <td>11804</td>\n",
       "      <td>2</td>\n",
       "      <td>Attic</td>\n",
       "      <td>Flat</td>\n",
       "      <td>1.0</td>\n",
       "      <td>200</td>\n",
       "      <td>1</td>\n",
       "      <td>False</td>\n",
       "      <td>41.39394</td>\n",
       "      <td>/es/alquiler/vivienda/barcelona-capital/aire-a...</td>\n",
       "      <td>2.121359</td>\n",
       "      <td>3700.0</td>\n",
       "      <td>Stipek Ferrer Premium Properties</td>\n",
       "      <td>4</td>\n",
       "      <td>280</td>\n",
       "      <td>sarrià</td>\n",
       "      <td>16.866645</td>\n",
       "    </tr>\n",
       "    <tr>\n",
       "      <th>12007</th>\n",
       "      <td>12007</td>\n",
       "      <td>5</td>\n",
       "      <td>Flat</td>\n",
       "      <td>Flat</td>\n",
       "      <td>2.0</td>\n",
       "      <td>0</td>\n",
       "      <td>1</td>\n",
       "      <td>False</td>\n",
       "      <td>41.39514</td>\n",
       "      <td>/es/alquiler/vivienda/barcelona-capital/aire-a...</td>\n",
       "      <td>2.141838</td>\n",
       "      <td>5300.0</td>\n",
       "      <td>Max Ricart</td>\n",
       "      <td>6</td>\n",
       "      <td>280</td>\n",
       "      <td>sant gervasi - galvany</td>\n",
       "      <td>15.275452</td>\n",
       "    </tr>\n",
       "    <tr>\n",
       "      <th>12061</th>\n",
       "      <td>12061</td>\n",
       "      <td>2</td>\n",
       "      <td>Apartment</td>\n",
       "      <td>Flat</td>\n",
       "      <td>NaN</td>\n",
       "      <td>594</td>\n",
       "      <td>0</td>\n",
       "      <td>False</td>\n",
       "      <td>41.39498</td>\n",
       "      <td>/es/alquiler/vivienda/barcelona-capital/aire-a...</td>\n",
       "      <td>2.147670</td>\n",
       "      <td>6073.0</td>\n",
       "      <td>Homelike</td>\n",
       "      <td>4</td>\n",
       "      <td>100</td>\n",
       "      <td>sant gervasi - galvany</td>\n",
       "      <td>15.275452</td>\n",
       "    </tr>\n",
       "    <tr>\n",
       "      <th>12116</th>\n",
       "      <td>12116</td>\n",
       "      <td>7</td>\n",
       "      <td>House_Chalet</td>\n",
       "      <td>Flat</td>\n",
       "      <td>2.0</td>\n",
       "      <td>0</td>\n",
       "      <td>0</td>\n",
       "      <td>False</td>\n",
       "      <td>41.39722</td>\n",
       "      <td>/es/alquiler/vivienda/barcelona-capital/aire-a...</td>\n",
       "      <td>2.137248</td>\n",
       "      <td>9000.0</td>\n",
       "      <td>FINQUES CANO PUJOL</td>\n",
       "      <td>8</td>\n",
       "      <td>560</td>\n",
       "      <td>sant gervasi - galvany</td>\n",
       "      <td>15.275452</td>\n",
       "    </tr>\n",
       "  </tbody>\n",
       "</table>\n",
       "<p>2268 rows × 17 columns</p>\n",
       "</div>"
      ],
      "text/plain": [
       "          id  bathrooms building_subtype building_type  conservation_state  \\\n",
       "39        39          1        Apartment          Flat                 NaN   \n",
       "40        40          1        Apartment          Flat                 NaN   \n",
       "41        41          1        Apartment          Flat                 NaN   \n",
       "42        42          1        Apartment          Flat                 NaN   \n",
       "43        43          1        Apartment          Flat                 NaN   \n",
       "...      ...        ...              ...           ...                 ...   \n",
       "11803  11803          2            Attic          Flat                 1.0   \n",
       "11804  11804          2            Attic          Flat                 1.0   \n",
       "12007  12007          5             Flat          Flat                 2.0   \n",
       "12061  12061          2        Apartment          Flat                 NaN   \n",
       "12116  12116          7     House_Chalet          Flat                 2.0   \n",
       "\n",
       "       discount  floor_elevator  is_new_construction  latitude  \\\n",
       "39            0               0                False  41.38071   \n",
       "40            0               0                False  41.38071   \n",
       "41            0               0                False  41.38071   \n",
       "42            0               0                False  41.38071   \n",
       "43            0               0                False  41.38071   \n",
       "...         ...             ...                  ...       ...   \n",
       "11803       200               1                False  41.39394   \n",
       "11804       200               1                False  41.39394   \n",
       "12007         0               1                False  41.39514   \n",
       "12061       594               0                False  41.39498   \n",
       "12116         0               0                False  41.39722   \n",
       "\n",
       "                                                    link  longitude   price  \\\n",
       "39     /es/alquiler/vivienda/barcelona-capital/el-rav...   2.168707   525.0   \n",
       "40     /es/alquiler/vivienda/barcelona-capital/el-rav...   2.168707   525.0   \n",
       "41     /es/alquiler/vivienda/barcelona-capital/el-rav...   2.168707   525.0   \n",
       "42     /es/alquiler/vivienda/barcelona-capital/el-rav...   2.168707   525.0   \n",
       "43     /es/alquiler/vivienda/barcelona-capital/el-rav...   2.168707   525.0   \n",
       "...                                                  ...        ...     ...   \n",
       "11803  /es/alquiler/vivienda/barcelona-capital/aire-a...   2.121359  3700.0   \n",
       "11804  /es/alquiler/vivienda/barcelona-capital/aire-a...   2.121359  3700.0   \n",
       "12007  /es/alquiler/vivienda/barcelona-capital/aire-a...   2.141838  5300.0   \n",
       "12061  /es/alquiler/vivienda/barcelona-capital/aire-a...   2.147670  6073.0   \n",
       "12116  /es/alquiler/vivienda/barcelona-capital/aire-a...   2.137248  9000.0   \n",
       "\n",
       "                                              realestate  rooms  sqft_m2  \\\n",
       "39     INVERSIONES INMOBILIARIAS Y FINANCIERAS SANT A...      0       35   \n",
       "40     INVERSIONES INMOBILIARIAS Y FINANCIERAS SANT A...      0       35   \n",
       "41     INVERSIONES INMOBILIARIAS Y FINANCIERAS SANT A...      0       35   \n",
       "42     INVERSIONES INMOBILIARIAS Y FINANCIERAS SANT A...      0       35   \n",
       "43     INVERSIONES INMOBILIARIAS Y FINANCIERAS SANT A...      0       35   \n",
       "...                                                  ...    ...      ...   \n",
       "11803                   Stipek Ferrer Premium Properties      4      280   \n",
       "11804                   Stipek Ferrer Premium Properties      4      280   \n",
       "12007                                         Max Ricart      6      280   \n",
       "12061                                           Homelike      4      100   \n",
       "12116                                 FINQUES CANO PUJOL      8      560   \n",
       "\n",
       "                neighbourhood  neighb_meanprice  \n",
       "39                   el raval         14.323614  \n",
       "40                   el raval         14.323614  \n",
       "41                   el raval         14.323614  \n",
       "42                   el raval         14.323614  \n",
       "43                   el raval         14.323614  \n",
       "...                       ...               ...  \n",
       "11803                  sarrià         16.866645  \n",
       "11804                  sarrià         16.866645  \n",
       "12007  sant gervasi - galvany         15.275452  \n",
       "12061  sant gervasi - galvany         15.275452  \n",
       "12116  sant gervasi - galvany         15.275452  \n",
       "\n",
       "[2268 rows x 17 columns]"
      ]
     },
     "execution_count": 238,
     "metadata": {},
     "output_type": "execute_result"
    }
   ],
   "source": [
    "apartments.loc[apartments.duplicated('link')]"
   ]
  },
  {
   "cell_type": "code",
   "execution_count": 239,
   "metadata": {},
   "outputs": [],
   "source": [
    "apartments = apartments.drop_duplicates('link')"
   ]
  },
  {
   "cell_type": "markdown",
   "metadata": {},
   "source": [
    "### Tipus de dades\n",
    "\n",
    "Si observem els tipus de dades anteriors, es pot veure com __conservation_state__, __building_subtype__ y __building_type__ poden ser variables categòriques, o com __floor_elevator__ és en realitat una variable booleana. Podem aplicar la conversió sobre aquestes variables amb l'objectiu de millorar l'anàlisi:"
   ]
  },
  {
   "cell_type": "code",
   "execution_count": 240,
   "metadata": {},
   "outputs": [],
   "source": [
    "apartments = apartments.astype({\n",
    "    'conservation_state': 'category',\n",
    "    'building_subtype': 'category',\n",
    "    'building_type': 'category',\n",
    "    'floor_elevator': 'bool',\n",
    "    'neighbourhood':'category'\n",
    "})"
   ]
  },
  {
   "cell_type": "markdown",
   "metadata": {},
   "source": [
    "## 3. Neteja de dades"
   ]
  },
  {
   "cell_type": "markdown",
   "metadata": {},
   "source": [
    "### Valors buits\n",
    "\n",
    "Anem a determinar quins són els valors buits de cadascuna de les columnes:"
   ]
  },
  {
   "cell_type": "code",
   "execution_count": 241,
   "metadata": {},
   "outputs": [
    {
     "data": {
      "text/plain": [
       "id                        0\n",
       "bathrooms                 0\n",
       "building_subtype          0\n",
       "building_type             0\n",
       "conservation_state     5340\n",
       "discount                  0\n",
       "floor_elevator            0\n",
       "is_new_construction       0\n",
       "latitude                  0\n",
       "link                      0\n",
       "longitude                 0\n",
       "price                     4\n",
       "realestate              106\n",
       "rooms                     0\n",
       "sqft_m2                   0\n",
       "neighbourhood             1\n",
       "neighb_meanprice          1\n",
       "dtype: int64"
      ]
     },
     "execution_count": 241,
     "metadata": {},
     "output_type": "execute_result"
    }
   ],
   "source": [
    "apartments.isna().sum()"
   ]
  },
  {
   "cell_type": "markdown",
   "metadata": {},
   "source": [
    "Veiem que molts habitatges no tenen informació sobre l'estat de conservació. Omplirem amb -1 aquells que no en tinguin:"
   ]
  },
  {
   "cell_type": "code",
   "execution_count": 242,
   "metadata": {},
   "outputs": [],
   "source": [
    "apartments['conservation_state'] = apartments['conservation_state'].cat.add_categories(-1)\n",
    "\n",
    "apartments['conservation_state'] = apartments['conservation_state'].fillna(-1)"
   ]
  },
  {
   "cell_type": "markdown",
   "metadata": {},
   "source": [
    "Donat que volem respondre a la pregunta de si hi ha diferències de preu entre les diferents agències, eliminem les observacions que no tenen agència:"
   ]
  },
  {
   "cell_type": "code",
   "execution_count": 243,
   "metadata": {
    "scrolled": true
   },
   "outputs": [
    {
     "data": {
      "text/plain": [
       "id                     0\n",
       "bathrooms              0\n",
       "building_subtype       0\n",
       "building_type          0\n",
       "conservation_state     0\n",
       "discount               0\n",
       "floor_elevator         0\n",
       "is_new_construction    0\n",
       "latitude               0\n",
       "link                   0\n",
       "longitude              0\n",
       "price                  4\n",
       "realestate             0\n",
       "rooms                  0\n",
       "sqft_m2                0\n",
       "neighbourhood          1\n",
       "neighb_meanprice       1\n",
       "dtype: int64"
      ]
     },
     "execution_count": 243,
     "metadata": {},
     "output_type": "execute_result"
    }
   ],
   "source": [
    "apartments = apartments.dropna(subset=['realestate'])\n",
    "apartments.isna().sum()"
   ]
  },
  {
   "cell_type": "markdown",
   "metadata": {},
   "source": [
    "Pel que fa al preu, es tracta de poques observacions que tenen un valor buit per aquesta variable. Com que l'objectiu d'aquesta anàlisi gira entorn al preu, decidim inserir la informació de forma manual consultant la web de Fotocasa:"
   ]
  },
  {
   "cell_type": "code",
   "execution_count": 244,
   "metadata": {},
   "outputs": [
    {
     "data": {
      "text/plain": [
       "12154    /es/alquiler/vivienda/barcelona-capital/calefa...\n",
       "12155    /es/alquiler/vivienda/barcelona-capital/ascens...\n",
       "12156    /es/alquiler/vivienda/barcelona-capital/aire-a...\n",
       "12157    /es/alquiler/vivienda/barcelona-capital/aire-a...\n",
       "Name: link, dtype: object"
      ]
     },
     "execution_count": 244,
     "metadata": {},
     "output_type": "execute_result"
    }
   ],
   "source": [
    "apartments[apartments.price.isna()]['link']"
   ]
  },
  {
   "cell_type": "markdown",
   "metadata": {},
   "source": [
    "Les quatre observacions, un cop consultat el link al web de Fotocasa, corresponen a habitatges que no tenen preu, indicant-ho al web com pre \"a consultar\". Com necessitem treballar amb els preus, procedirem a eliminiar aquestes dades."
   ]
  },
  {
   "cell_type": "code",
   "execution_count": 245,
   "metadata": {},
   "outputs": [],
   "source": [
    "apartments = apartments.dropna(subset=['price'])"
   ]
  },
  {
   "cell_type": "markdown",
   "metadata": {},
   "source": [
    "Finalment, ens queda omplir manualment les observacions que no tenen barri, de nou, mitjançant l'enllaç de Fotocasa per veure si podem determinar aquesta informació:"
   ]
  },
  {
   "cell_type": "code",
   "execution_count": 246,
   "metadata": {
    "scrolled": true
   },
   "outputs": [
    {
     "data": {
      "text/html": [
       "<div>\n",
       "<style scoped>\n",
       "    .dataframe tbody tr th:only-of-type {\n",
       "        vertical-align: middle;\n",
       "    }\n",
       "\n",
       "    .dataframe tbody tr th {\n",
       "        vertical-align: top;\n",
       "    }\n",
       "\n",
       "    .dataframe thead th {\n",
       "        text-align: right;\n",
       "    }\n",
       "</style>\n",
       "<table border=\"1\" class=\"dataframe\">\n",
       "  <thead>\n",
       "    <tr style=\"text-align: right;\">\n",
       "      <th></th>\n",
       "      <th>id</th>\n",
       "      <th>bathrooms</th>\n",
       "      <th>building_subtype</th>\n",
       "      <th>building_type</th>\n",
       "      <th>conservation_state</th>\n",
       "      <th>discount</th>\n",
       "      <th>floor_elevator</th>\n",
       "      <th>is_new_construction</th>\n",
       "      <th>latitude</th>\n",
       "      <th>link</th>\n",
       "      <th>longitude</th>\n",
       "      <th>price</th>\n",
       "      <th>realestate</th>\n",
       "      <th>rooms</th>\n",
       "      <th>sqft_m2</th>\n",
       "      <th>neighbourhood</th>\n",
       "      <th>neighb_meanprice</th>\n",
       "    </tr>\n",
       "  </thead>\n",
       "  <tbody>\n",
       "    <tr>\n",
       "      <th>1384</th>\n",
       "      <td>1384</td>\n",
       "      <td>1</td>\n",
       "      <td>Flat</td>\n",
       "      <td>Flat</td>\n",
       "      <td>-1.0</td>\n",
       "      <td>0</td>\n",
       "      <td>False</td>\n",
       "      <td>False</td>\n",
       "      <td>41.35395</td>\n",
       "      <td>/es/alquiler/vivienda/barcelona-capital/la-mar...</td>\n",
       "      <td>2.148532</td>\n",
       "      <td>750.0</td>\n",
       "      <td>FINCAS LAFONT</td>\n",
       "      <td>3</td>\n",
       "      <td>70</td>\n",
       "      <td>NaN</td>\n",
       "      <td>NaN</td>\n",
       "    </tr>\n",
       "  </tbody>\n",
       "</table>\n",
       "</div>"
      ],
      "text/plain": [
       "        id  bathrooms building_subtype building_type conservation_state  \\\n",
       "1384  1384          1             Flat          Flat               -1.0   \n",
       "\n",
       "      discount  floor_elevator  is_new_construction  latitude  \\\n",
       "1384         0           False                False  41.35395   \n",
       "\n",
       "                                                   link  longitude  price  \\\n",
       "1384  /es/alquiler/vivienda/barcelona-capital/la-mar...   2.148532  750.0   \n",
       "\n",
       "         realestate  rooms  sqft_m2 neighbourhood  neighb_meanprice  \n",
       "1384  FINCAS LAFONT      3       70           NaN               NaN  "
      ]
     },
     "execution_count": 246,
     "metadata": {},
     "output_type": "execute_result"
    }
   ],
   "source": [
    "apartments[apartments.neighbourhood.isna()]"
   ]
  },
  {
   "cell_type": "markdown",
   "metadata": {},
   "source": [
    "Veiem que es correspon amb el barri de \"La marina de Port\", així que li assignem el preu mitjà d'aquest barri."
   ]
  },
  {
   "cell_type": "code",
   "execution_count": 247,
   "metadata": {},
   "outputs": [],
   "source": [
    "mean_price_marina = float(apartments[apartments['neighbourhood']=='la marina de port'].head(1)['neighb_meanprice'])\n",
    "\n",
    "apartments.loc[apartments.id ==1384, 'neighbourhood'] = 'la marina de port'\n",
    "apartments.loc[apartments.id ==1384, 'neighb_meanprice'] = mean_price_marina\n",
    "\n"
   ]
  },
  {
   "cell_type": "markdown",
   "metadata": {},
   "source": [
    "Podem observar que ara el dataset no té valors buits:"
   ]
  },
  {
   "cell_type": "code",
   "execution_count": 248,
   "metadata": {
    "scrolled": true
   },
   "outputs": [
    {
     "data": {
      "text/plain": [
       "id                     0\n",
       "bathrooms              0\n",
       "building_subtype       0\n",
       "building_type          0\n",
       "conservation_state     0\n",
       "discount               0\n",
       "floor_elevator         0\n",
       "is_new_construction    0\n",
       "latitude               0\n",
       "link                   0\n",
       "longitude              0\n",
       "price                  0\n",
       "realestate             0\n",
       "rooms                  0\n",
       "sqft_m2                0\n",
       "neighbourhood          0\n",
       "neighb_meanprice       0\n",
       "dtype: int64"
      ]
     },
     "execution_count": 248,
     "metadata": {},
     "output_type": "execute_result"
    }
   ],
   "source": [
    "apartments.isna().sum()"
   ]
  },
  {
   "cell_type": "markdown",
   "metadata": {},
   "source": [
    "Podem eliminar l'id:"
   ]
  },
  {
   "cell_type": "code",
   "execution_count": 249,
   "metadata": {},
   "outputs": [],
   "source": [
    "apartments = apartments.drop(columns=['id'])"
   ]
  },
  {
   "cell_type": "markdown",
   "metadata": {},
   "source": [
    "### Outliers"
   ]
  },
  {
   "cell_type": "markdown",
   "metadata": {},
   "source": [
    "El que primer farem, serà visualitzar a gràfics de tipus boxplot cadascuna de les variables quantitatives per tal de determinar si tenim o no outliers:"
   ]
  },
  {
   "cell_type": "code",
   "execution_count": 250,
   "metadata": {
    "scrolled": false
   },
   "outputs": [
    {
     "data": {
      "image/png": "[encoded data removed]",
      "text/plain": [
       "<Figure size 1152x720 with 8 Axes>"
      ]
     },
     "metadata": {
      "needs_background": "light"
     },
     "output_type": "display_data"
    }
   ],
   "source": [
    "import matplotlib.pyplot as plt\n",
    "import numpy as np\n",
    "import math\n",
    "\n",
    "fig = plt.figure(figsize=(16,10))\n",
    "numeric_attributes = apartments.select_dtypes(include=np.number).columns\n",
    "for idx, column in enumerate(numeric_attributes):\n",
    "    ax = fig.add_subplot(2, math.ceil(len(numeric_attributes)/2), idx+1)\n",
    "    ax.boxplot(apartments[[column]], labels=[column])"
   ]
  },
  {
   "cell_type": "markdown",
   "metadata": {},
   "source": [
    "Sembla evident que tenim prou valors extrems al dataset per a cadascuna de les variables quantitatives. El que cal és determinar si aquests valors són reals i per tant els hem de tenir en compte a l'anàlisi, o d'altra banda podem eliminar aquells que considerem outliers."
   ]
  },
  {
   "cell_type": "markdown",
   "metadata": {},
   "source": [
    "#### Price\n",
    "Si seleccionam els 5 preus més alts del dataset, podem comprovar com es tracta de valors vàlids quan accedim al detall a la pàgina de Fotocasa:"
   ]
  },
  {
   "cell_type": "code",
   "execution_count": 251,
   "metadata": {
    "scrolled": true
   },
   "outputs": [
    {
     "data": {
      "text/html": [
       "<div>\n",
       "<style scoped>\n",
       "    .dataframe tbody tr th:only-of-type {\n",
       "        vertical-align: middle;\n",
       "    }\n",
       "\n",
       "    .dataframe tbody tr th {\n",
       "        vertical-align: top;\n",
       "    }\n",
       "\n",
       "    .dataframe thead th {\n",
       "        text-align: right;\n",
       "    }\n",
       "</style>\n",
       "<table border=\"1\" class=\"dataframe\">\n",
       "  <thead>\n",
       "    <tr style=\"text-align: right;\">\n",
       "      <th></th>\n",
       "      <th>link</th>\n",
       "      <th>rooms</th>\n",
       "      <th>bathrooms</th>\n",
       "      <th>realestate</th>\n",
       "      <th>sqft_m2</th>\n",
       "      <th>price</th>\n",
       "    </tr>\n",
       "  </thead>\n",
       "  <tbody>\n",
       "    <tr>\n",
       "      <th>12153</th>\n",
       "      <td>/es/alquiler/vivienda/barcelona-capital/aire-a...</td>\n",
       "      <td>4</td>\n",
       "      <td>4</td>\n",
       "      <td>VIP PISOS</td>\n",
       "      <td>600</td>\n",
       "      <td>29000.0</td>\n",
       "    </tr>\n",
       "    <tr>\n",
       "      <th>12152</th>\n",
       "      <td>/es/alquiler/vivienda/barcelona-capital/aire-a...</td>\n",
       "      <td>8</td>\n",
       "      <td>7</td>\n",
       "      <td>Homelike</td>\n",
       "      <td>550</td>\n",
       "      <td>28279.0</td>\n",
       "    </tr>\n",
       "    <tr>\n",
       "      <th>12151</th>\n",
       "      <td>/es/alquiler/vivienda/barcelona-capital/aire-a...</td>\n",
       "      <td>21</td>\n",
       "      <td>21</td>\n",
       "      <td>ENGEL &amp; VOELKERS</td>\n",
       "      <td>2500</td>\n",
       "      <td>25000.0</td>\n",
       "    </tr>\n",
       "    <tr>\n",
       "      <th>12150</th>\n",
       "      <td>/es/alquiler/vivienda/barcelona-capital/aire-a...</td>\n",
       "      <td>3</td>\n",
       "      <td>2</td>\n",
       "      <td>Homelike</td>\n",
       "      <td>85</td>\n",
       "      <td>23092.0</td>\n",
       "    </tr>\n",
       "    <tr>\n",
       "      <th>12149</th>\n",
       "      <td>/es/alquiler/vivienda/barcelona-capital/aire-a...</td>\n",
       "      <td>2</td>\n",
       "      <td>1</td>\n",
       "      <td>Homelike</td>\n",
       "      <td>54</td>\n",
       "      <td>22839.0</td>\n",
       "    </tr>\n",
       "  </tbody>\n",
       "</table>\n",
       "</div>"
      ],
      "text/plain": [
       "                                                    link  rooms  bathrooms  \\\n",
       "12153  /es/alquiler/vivienda/barcelona-capital/aire-a...      4          4   \n",
       "12152  /es/alquiler/vivienda/barcelona-capital/aire-a...      8          7   \n",
       "12151  /es/alquiler/vivienda/barcelona-capital/aire-a...     21         21   \n",
       "12150  /es/alquiler/vivienda/barcelona-capital/aire-a...      3          2   \n",
       "12149  /es/alquiler/vivienda/barcelona-capital/aire-a...      2          1   \n",
       "\n",
       "             realestate  sqft_m2    price  \n",
       "12153         VIP PISOS      600  29000.0  \n",
       "12152          Homelike      550  28279.0  \n",
       "12151  ENGEL & VOELKERS     2500  25000.0  \n",
       "12150          Homelike       85  23092.0  \n",
       "12149          Homelike       54  22839.0  "
      ]
     },
     "execution_count": 251,
     "metadata": {},
     "output_type": "execute_result"
    }
   ],
   "source": [
    "apartments.sort_values('price', ascending=False).head()[['link', 'rooms', 'bathrooms', 'realestate', 'sqft_m2', 'price']]"
   ]
  },
  {
   "cell_type": "markdown",
   "metadata": {},
   "source": [
    "Sembla per tant que existeixen uns pocs pisos al dataset amb preus molt elevants, i característiques com nombre d'habitacions, metres quadrats o nombre de banys amb valors que tot i semblar extrems, són vàlids. Per aquest motiu, decidim __mantenir__ aquestes observacions per tal de dur a terme l'anàlisi de dades."
   ]
  },
  {
   "cell_type": "code",
   "execution_count": null,
   "metadata": {},
   "outputs": [],
   "source": []
  },
  {
   "cell_type": "markdown",
   "metadata": {},
   "source": [
    "#### Latitude i Longitude\n",
    "\n",
    "Si s'examinen les variables latitude i longitude, hi veiem valors sospitosos. La latitud és un valor que oscil·la entre -90 i 90, mentre que la longitud ho fa entre -180 i 180. Per tant, qualsevol observació d'aquestes variables fora d'aquest rang es podria considerar un outlier. D'altra banda, esperem que tots els habitages es trobin a la ciutat de Barcelona, per tant, que tinguin coordenades molt semblants."
   ]
  },
  {
   "cell_type": "code",
   "execution_count": 252,
   "metadata": {},
   "outputs": [
    {
     "data": {
      "text/html": [
       "<div>\n",
       "<style scoped>\n",
       "    .dataframe tbody tr th:only-of-type {\n",
       "        vertical-align: middle;\n",
       "    }\n",
       "\n",
       "    .dataframe tbody tr th {\n",
       "        vertical-align: top;\n",
       "    }\n",
       "\n",
       "    .dataframe thead th {\n",
       "        text-align: right;\n",
       "    }\n",
       "</style>\n",
       "<table border=\"1\" class=\"dataframe\">\n",
       "  <thead>\n",
       "    <tr style=\"text-align: right;\">\n",
       "      <th></th>\n",
       "      <th>link</th>\n",
       "      <th>latitude</th>\n",
       "      <th>longitude</th>\n",
       "      <th>neighbourhood</th>\n",
       "      <th>price</th>\n",
       "    </tr>\n",
       "  </thead>\n",
       "  <tbody>\n",
       "    <tr>\n",
       "      <th>3979</th>\n",
       "      <td>/es/alquiler/vivienda/barcelona-capital/aire-a...</td>\n",
       "      <td>41436.0</td>\n",
       "      <td>2.173259</td>\n",
       "      <td>porta</td>\n",
       "      <td>950.0</td>\n",
       "    </tr>\n",
       "    <tr>\n",
       "      <th>4177</th>\n",
       "      <td>/es/alquiler/vivienda/barcelona-capital/aire-a...</td>\n",
       "      <td>41428.0</td>\n",
       "      <td>2.189229</td>\n",
       "      <td>la sagrera</td>\n",
       "      <td>955.0</td>\n",
       "    </tr>\n",
       "    <tr>\n",
       "      <th>1266</th>\n",
       "      <td>/es/alquiler/vivienda/barcelona-capital/ascens...</td>\n",
       "      <td>41424.0</td>\n",
       "      <td>2.151020</td>\n",
       "      <td>la teixonera</td>\n",
       "      <td>750.0</td>\n",
       "    </tr>\n",
       "    <tr>\n",
       "      <th>3694</th>\n",
       "      <td>/es/alquiler/vivienda/barcelona-capital/aire-a...</td>\n",
       "      <td>41422.0</td>\n",
       "      <td>2.188695</td>\n",
       "      <td>sant antoni</td>\n",
       "      <td>910.0</td>\n",
       "    </tr>\n",
       "    <tr>\n",
       "      <th>6027</th>\n",
       "      <td>/es/alquiler/vivienda/barcelona-capital/calefa...</td>\n",
       "      <td>41418.0</td>\n",
       "      <td>2.171966</td>\n",
       "      <td>el guinardó</td>\n",
       "      <td>1100.0</td>\n",
       "    </tr>\n",
       "    <tr>\n",
       "      <th>...</th>\n",
       "      <td>...</td>\n",
       "      <td>...</td>\n",
       "      <td>...</td>\n",
       "      <td>...</td>\n",
       "      <td>...</td>\n",
       "    </tr>\n",
       "    <tr>\n",
       "      <th>4181</th>\n",
       "      <td>/es/alquiler/vivienda/barcelona-capital/aire-a...</td>\n",
       "      <td>41373.0</td>\n",
       "      <td>2.157460</td>\n",
       "      <td>el poble sec - aei parc montjuïc</td>\n",
       "      <td>955.0</td>\n",
       "    </tr>\n",
       "    <tr>\n",
       "      <th>6920</th>\n",
       "      <td>/es/alquiler/vivienda/barcelona-capital/aire-a...</td>\n",
       "      <td>41372.0</td>\n",
       "      <td>2.138111</td>\n",
       "      <td>la bordeta</td>\n",
       "      <td>1200.0</td>\n",
       "    </tr>\n",
       "    <tr>\n",
       "      <th>7003</th>\n",
       "      <td>/es/alquiler/vivienda/barcelona-capital/aire-a...</td>\n",
       "      <td>41372.0</td>\n",
       "      <td>2.127435</td>\n",
       "      <td>sants</td>\n",
       "      <td>1200.0</td>\n",
       "    </tr>\n",
       "    <tr>\n",
       "      <th>2567</th>\n",
       "      <td>/es/alquiler/vivienda/barcelona-capital/aire-a...</td>\n",
       "      <td>41372.0</td>\n",
       "      <td>2.147444</td>\n",
       "      <td>la font de la guatlla</td>\n",
       "      <td>850.0</td>\n",
       "    </tr>\n",
       "    <tr>\n",
       "      <th>171</th>\n",
       "      <td>/es/alquiler/vivienda/barcelona-capital/amuebl...</td>\n",
       "      <td>41371.0</td>\n",
       "      <td>2.148023</td>\n",
       "      <td>la font de la guatlla</td>\n",
       "      <td>580.0</td>\n",
       "    </tr>\n",
       "  </tbody>\n",
       "</table>\n",
       "<p>87 rows × 5 columns</p>\n",
       "</div>"
      ],
      "text/plain": [
       "                                                   link  latitude  longitude  \\\n",
       "3979  /es/alquiler/vivienda/barcelona-capital/aire-a...   41436.0   2.173259   \n",
       "4177  /es/alquiler/vivienda/barcelona-capital/aire-a...   41428.0   2.189229   \n",
       "1266  /es/alquiler/vivienda/barcelona-capital/ascens...   41424.0   2.151020   \n",
       "3694  /es/alquiler/vivienda/barcelona-capital/aire-a...   41422.0   2.188695   \n",
       "6027  /es/alquiler/vivienda/barcelona-capital/calefa...   41418.0   2.171966   \n",
       "...                                                 ...       ...        ...   \n",
       "4181  /es/alquiler/vivienda/barcelona-capital/aire-a...   41373.0   2.157460   \n",
       "6920  /es/alquiler/vivienda/barcelona-capital/aire-a...   41372.0   2.138111   \n",
       "7003  /es/alquiler/vivienda/barcelona-capital/aire-a...   41372.0   2.127435   \n",
       "2567  /es/alquiler/vivienda/barcelona-capital/aire-a...   41372.0   2.147444   \n",
       "171   /es/alquiler/vivienda/barcelona-capital/amuebl...   41371.0   2.148023   \n",
       "\n",
       "                         neighbourhood   price  \n",
       "3979                             porta   950.0  \n",
       "4177                        la sagrera   955.0  \n",
       "1266                      la teixonera   750.0  \n",
       "3694                       sant antoni   910.0  \n",
       "6027                       el guinardó  1100.0  \n",
       "...                                ...     ...  \n",
       "4181  el poble sec - aei parc montjuïc   955.0  \n",
       "6920                        la bordeta  1200.0  \n",
       "7003                             sants  1200.0  \n",
       "2567             la font de la guatlla   850.0  \n",
       "171              la font de la guatlla   580.0  \n",
       "\n",
       "[87 rows x 5 columns]"
      ]
     },
     "execution_count": 252,
     "metadata": {},
     "output_type": "execute_result"
    }
   ],
   "source": [
    "apartments[(apartments['latitude'] > 90) | (apartments['latitude'] < -90)].sort_values('latitude', ascending=False).head(100)[['link', 'latitude', 'longitude', 'neighbourhood', 'price']]"
   ]
  },
  {
   "cell_type": "markdown",
   "metadata": {},
   "source": [
    "Pel que fa a __latitude__, sembla que existeix un error a l'hora d'interpretar els decimals. Les observacions que tenim pels pisos de Barcelona, tenen una latitud que oscil·la entre els següents valors:"
   ]
  },
  {
   "cell_type": "code",
   "execution_count": 253,
   "metadata": {},
   "outputs": [
    {
     "data": {
      "text/plain": [
       "41.46262"
      ]
     },
     "execution_count": 253,
     "metadata": {},
     "output_type": "execute_result"
    }
   ],
   "source": [
    "apartments[(apartments['latitude']) < 90]['latitude'].max()"
   ]
  },
  {
   "cell_type": "code",
   "execution_count": 254,
   "metadata": {},
   "outputs": [
    {
     "data": {
      "text/plain": [
       "41.35395"
      ]
     },
     "execution_count": 254,
     "metadata": {},
     "output_type": "execute_result"
    }
   ],
   "source": [
    "apartments[(apartments['latitude']) < 90]['latitude'].min()"
   ]
  },
  {
   "cell_type": "markdown",
   "metadata": {},
   "source": [
    "Podem corregir fàcilment els valors incorrectes, ja que tots són superiors a 41370, dividint  el valor de __latitude__ entre 1000 per a aquestes observacions:"
   ]
  },
  {
   "cell_type": "code",
   "execution_count": 255,
   "metadata": {
    "scrolled": true
   },
   "outputs": [
    {
     "data": {
      "text/html": [
       "<div>\n",
       "<style scoped>\n",
       "    .dataframe tbody tr th:only-of-type {\n",
       "        vertical-align: middle;\n",
       "    }\n",
       "\n",
       "    .dataframe tbody tr th {\n",
       "        vertical-align: top;\n",
       "    }\n",
       "\n",
       "    .dataframe thead th {\n",
       "        text-align: right;\n",
       "    }\n",
       "</style>\n",
       "<table border=\"1\" class=\"dataframe\">\n",
       "  <thead>\n",
       "    <tr style=\"text-align: right;\">\n",
       "      <th></th>\n",
       "      <th>link</th>\n",
       "      <th>latitude</th>\n",
       "      <th>longitude</th>\n",
       "      <th>neighbourhood</th>\n",
       "      <th>price</th>\n",
       "    </tr>\n",
       "  </thead>\n",
       "  <tbody>\n",
       "    <tr>\n",
       "      <th>228</th>\n",
       "      <td>/es/alquiler/vivienda/barcelona-capital/terraz...</td>\n",
       "      <td>41.46262</td>\n",
       "      <td>2.180195</td>\n",
       "      <td>ciutat meridiana</td>\n",
       "      <td>600.0</td>\n",
       "    </tr>\n",
       "    <tr>\n",
       "      <th>15</th>\n",
       "      <td>/es/alquiler/vivienda/barcelona-capital/terraz...</td>\n",
       "      <td>41.45524</td>\n",
       "      <td>2.174660</td>\n",
       "      <td>torre baró</td>\n",
       "      <td>490.0</td>\n",
       "    </tr>\n",
       "    <tr>\n",
       "      <th>609</th>\n",
       "      <td>/es/alquiler/vivienda/barcelona-capital/terraz...</td>\n",
       "      <td>41.45345</td>\n",
       "      <td>2.190106</td>\n",
       "      <td>la trinitat vella</td>\n",
       "      <td>675.0</td>\n",
       "    </tr>\n",
       "    <tr>\n",
       "      <th>978</th>\n",
       "      <td>/es/alquiler/vivienda/barcelona-capital/amuebl...</td>\n",
       "      <td>41.45231</td>\n",
       "      <td>2.191007</td>\n",
       "      <td>la trinitat vella</td>\n",
       "      <td>715.0</td>\n",
       "    </tr>\n",
       "    <tr>\n",
       "      <th>509</th>\n",
       "      <td>/es/alquiler/vivienda/barcelona-capital/aire-a...</td>\n",
       "      <td>41.45208</td>\n",
       "      <td>2.192924</td>\n",
       "      <td>la trinitat vella</td>\n",
       "      <td>650.0</td>\n",
       "    </tr>\n",
       "    <tr>\n",
       "      <th>578</th>\n",
       "      <td>/es/alquiler/vivienda/barcelona-capital/aire-a...</td>\n",
       "      <td>41.45131</td>\n",
       "      <td>2.190549</td>\n",
       "      <td>la trinitat vella</td>\n",
       "      <td>664.0</td>\n",
       "    </tr>\n",
       "    <tr>\n",
       "      <th>296</th>\n",
       "      <td>/es/alquiler/vivienda/barcelona-capital/terraz...</td>\n",
       "      <td>41.45129</td>\n",
       "      <td>2.189722</td>\n",
       "      <td>la trinitat vella</td>\n",
       "      <td>647.0</td>\n",
       "    </tr>\n",
       "    <tr>\n",
       "      <th>222</th>\n",
       "      <td>/es/alquiler/vivienda/barcelona-capital/terraz...</td>\n",
       "      <td>41.45118</td>\n",
       "      <td>2.189822</td>\n",
       "      <td>la trinitat vella</td>\n",
       "      <td>600.0</td>\n",
       "    </tr>\n",
       "    <tr>\n",
       "      <th>1344</th>\n",
       "      <td>/es/alquiler/vivienda/barcelona-capital/no-amu...</td>\n",
       "      <td>41.45047</td>\n",
       "      <td>2.191933</td>\n",
       "      <td>la trinitat vella</td>\n",
       "      <td>750.0</td>\n",
       "    </tr>\n",
       "    <tr>\n",
       "      <th>7797</th>\n",
       "      <td>/es/alquiler/vivienda/barcelona-capital/calefa...</td>\n",
       "      <td>41.44968</td>\n",
       "      <td>2.190399</td>\n",
       "      <td>la trinitat vella</td>\n",
       "      <td>1250.0</td>\n",
       "    </tr>\n",
       "  </tbody>\n",
       "</table>\n",
       "</div>"
      ],
      "text/plain": [
       "                                                   link  latitude  longitude  \\\n",
       "228   /es/alquiler/vivienda/barcelona-capital/terraz...  41.46262   2.180195   \n",
       "15    /es/alquiler/vivienda/barcelona-capital/terraz...  41.45524   2.174660   \n",
       "609   /es/alquiler/vivienda/barcelona-capital/terraz...  41.45345   2.190106   \n",
       "978   /es/alquiler/vivienda/barcelona-capital/amuebl...  41.45231   2.191007   \n",
       "509   /es/alquiler/vivienda/barcelona-capital/aire-a...  41.45208   2.192924   \n",
       "578   /es/alquiler/vivienda/barcelona-capital/aire-a...  41.45131   2.190549   \n",
       "296   /es/alquiler/vivienda/barcelona-capital/terraz...  41.45129   2.189722   \n",
       "222   /es/alquiler/vivienda/barcelona-capital/terraz...  41.45118   2.189822   \n",
       "1344  /es/alquiler/vivienda/barcelona-capital/no-amu...  41.45047   2.191933   \n",
       "7797  /es/alquiler/vivienda/barcelona-capital/calefa...  41.44968   2.190399   \n",
       "\n",
       "          neighbourhood   price  \n",
       "228    ciutat meridiana   600.0  \n",
       "15           torre baró   490.0  \n",
       "609   la trinitat vella   675.0  \n",
       "978   la trinitat vella   715.0  \n",
       "509   la trinitat vella   650.0  \n",
       "578   la trinitat vella   664.0  \n",
       "296   la trinitat vella   647.0  \n",
       "222   la trinitat vella   600.0  \n",
       "1344  la trinitat vella   750.0  \n",
       "7797  la trinitat vella  1250.0  "
      ]
     },
     "execution_count": 255,
     "metadata": {},
     "output_type": "execute_result"
    }
   ],
   "source": [
    "apartments.loc[apartments['latitude'] > 41370, 'latitude'] = apartments['latitude']/1000\n",
    "apartments.sort_values('latitude', ascending=False).head(10)[['link', 'latitude', 'longitude', 'neighbourhood', 'price']]"
   ]
  },
  {
   "cell_type": "markdown",
   "metadata": {},
   "source": [
    "Podem aplicar el mateix procés per al camp __longitude__:"
   ]
  },
  {
   "cell_type": "code",
   "execution_count": 256,
   "metadata": {
    "scrolled": false
   },
   "outputs": [
    {
     "data": {
      "text/html": [
       "<div>\n",
       "<style scoped>\n",
       "    .dataframe tbody tr th:only-of-type {\n",
       "        vertical-align: middle;\n",
       "    }\n",
       "\n",
       "    .dataframe tbody tr th {\n",
       "        vertical-align: top;\n",
       "    }\n",
       "\n",
       "    .dataframe thead th {\n",
       "        text-align: right;\n",
       "    }\n",
       "</style>\n",
       "<table border=\"1\" class=\"dataframe\">\n",
       "  <thead>\n",
       "    <tr style=\"text-align: right;\">\n",
       "      <th></th>\n",
       "      <th>link</th>\n",
       "      <th>latitude</th>\n",
       "      <th>longitude</th>\n",
       "      <th>neighbourhood</th>\n",
       "      <th>price</th>\n",
       "    </tr>\n",
       "  </thead>\n",
       "  <tbody>\n",
       "    <tr>\n",
       "      <th>4023</th>\n",
       "      <td>/es/alquiler/vivienda/barcelona-capital/aire-a...</td>\n",
       "      <td>41.39861</td>\n",
       "      <td>2206.0</td>\n",
       "      <td>el poblenou</td>\n",
       "      <td>950.0</td>\n",
       "    </tr>\n",
       "    <tr>\n",
       "      <th>1430</th>\n",
       "      <td>/es/alquiler/vivienda/barcelona-capital/ascens...</td>\n",
       "      <td>41.41937</td>\n",
       "      <td>2188.0</td>\n",
       "      <td>navas</td>\n",
       "      <td>750.0</td>\n",
       "    </tr>\n",
       "    <tr>\n",
       "      <th>3229</th>\n",
       "      <td>/es/alquiler/vivienda/barcelona-capital/calefa...</td>\n",
       "      <td>41.38230</td>\n",
       "      <td>2188.0</td>\n",
       "      <td>la barceloneta</td>\n",
       "      <td>900.0</td>\n",
       "    </tr>\n",
       "    <tr>\n",
       "      <th>2042</th>\n",
       "      <td>/es/alquiler/vivienda/barcelona-capital/aire-a...</td>\n",
       "      <td>41.43369</td>\n",
       "      <td>2186.0</td>\n",
       "      <td>sant andreu</td>\n",
       "      <td>800.0</td>\n",
       "    </tr>\n",
       "    <tr>\n",
       "      <th>411</th>\n",
       "      <td>/es/alquiler/vivienda/barcelona-capital/sant-p...</td>\n",
       "      <td>41.38697</td>\n",
       "      <td>2177.0</td>\n",
       "      <td>sant pere, santa caterina i la ribera</td>\n",
       "      <td>650.0</td>\n",
       "    </tr>\n",
       "    <tr>\n",
       "      <th>4265</th>\n",
       "      <td>/es/alquiler/vivienda/barcelona-capital/aire-a...</td>\n",
       "      <td>41.38697</td>\n",
       "      <td>2177.0</td>\n",
       "      <td>sant pere, santa caterina i la ribera</td>\n",
       "      <td>975.0</td>\n",
       "    </tr>\n",
       "    <tr>\n",
       "      <th>5685</th>\n",
       "      <td>/es/alquiler/vivienda/barcelona-capital/calefa...</td>\n",
       "      <td>41.40808</td>\n",
       "      <td>2169.0</td>\n",
       "      <td>el baix guinardó</td>\n",
       "      <td>1090.0</td>\n",
       "    </tr>\n",
       "    <tr>\n",
       "      <th>5683</th>\n",
       "      <td>/es/alquiler/vivienda/barcelona-capital/calefa...</td>\n",
       "      <td>41.40816</td>\n",
       "      <td>2169.0</td>\n",
       "      <td>el baix guinardó</td>\n",
       "      <td>1090.0</td>\n",
       "    </tr>\n",
       "    <tr>\n",
       "      <th>2899</th>\n",
       "      <td>/es/alquiler/vivienda/barcelona-capital/ascens...</td>\n",
       "      <td>41.37688</td>\n",
       "      <td>2168.0</td>\n",
       "      <td>el raval</td>\n",
       "      <td>855.0</td>\n",
       "    </tr>\n",
       "    <tr>\n",
       "      <th>896</th>\n",
       "      <td>/es/alquiler/vivienda/barcelona-capital/can-ba...</td>\n",
       "      <td>41.41630</td>\n",
       "      <td>2164.0</td>\n",
       "      <td>can baró</td>\n",
       "      <td>700.0</td>\n",
       "    </tr>\n",
       "    <tr>\n",
       "      <th>8972</th>\n",
       "      <td>/es/alquiler/vivienda/barcelona-capital/aire-a...</td>\n",
       "      <td>41.39114</td>\n",
       "      <td>2164.0</td>\n",
       "      <td>la dreta de l'eixample</td>\n",
       "      <td>1490.0</td>\n",
       "    </tr>\n",
       "    <tr>\n",
       "      <th>1140</th>\n",
       "      <td>/es/alquiler/vivienda/barcelona-capital/ascens...</td>\n",
       "      <td>41.38768</td>\n",
       "      <td>2161.0</td>\n",
       "      <td>l'antiga esquerra de l'eixample</td>\n",
       "      <td>738.0</td>\n",
       "    </tr>\n",
       "    <tr>\n",
       "      <th>8145</th>\n",
       "      <td>/es/alquiler/vivienda/barcelona-capital/aire-a...</td>\n",
       "      <td>41.39986</td>\n",
       "      <td>2159.0</td>\n",
       "      <td>la vila de gràcia</td>\n",
       "      <td>1300.0</td>\n",
       "    </tr>\n",
       "    <tr>\n",
       "      <th>7232</th>\n",
       "      <td>/es/alquiler/vivienda/barcelona-capital/terraz...</td>\n",
       "      <td>41.40638</td>\n",
       "      <td>2146.0</td>\n",
       "      <td>el putxet i el farró</td>\n",
       "      <td>1200.0</td>\n",
       "    </tr>\n",
       "    <tr>\n",
       "      <th>7437</th>\n",
       "      <td>/es/alquiler/vivienda/barcelona-capital/calefa...</td>\n",
       "      <td>41.40638</td>\n",
       "      <td>2146.0</td>\n",
       "      <td>el putxet i el farró</td>\n",
       "      <td>1200.0</td>\n",
       "    </tr>\n",
       "    <tr>\n",
       "      <th>10100</th>\n",
       "      <td>/es/alquiler/vivienda/barcelona-capital/aire-a...</td>\n",
       "      <td>41.40403</td>\n",
       "      <td>2142.0</td>\n",
       "      <td>el putxet i el farró</td>\n",
       "      <td>1750.0</td>\n",
       "    </tr>\n",
       "    <tr>\n",
       "      <th>9729</th>\n",
       "      <td>/es/alquiler/vivienda/barcelona-capital/aire-a...</td>\n",
       "      <td>41.39605</td>\n",
       "      <td>2137.0</td>\n",
       "      <td>sant gervasi - galvany</td>\n",
       "      <td>1650.0</td>\n",
       "    </tr>\n",
       "    <tr>\n",
       "      <th>10196</th>\n",
       "      <td>/es/alquiler/vivienda/barcelona-capital/aire-a...</td>\n",
       "      <td>41.38006</td>\n",
       "      <td>2111.0</td>\n",
       "      <td>la maternitat i sant ramon</td>\n",
       "      <td>1800.0</td>\n",
       "    </tr>\n",
       "  </tbody>\n",
       "</table>\n",
       "</div>"
      ],
      "text/plain": [
       "                                                    link  latitude  longitude  \\\n",
       "4023   /es/alquiler/vivienda/barcelona-capital/aire-a...  41.39861     2206.0   \n",
       "1430   /es/alquiler/vivienda/barcelona-capital/ascens...  41.41937     2188.0   \n",
       "3229   /es/alquiler/vivienda/barcelona-capital/calefa...  41.38230     2188.0   \n",
       "2042   /es/alquiler/vivienda/barcelona-capital/aire-a...  41.43369     2186.0   \n",
       "411    /es/alquiler/vivienda/barcelona-capital/sant-p...  41.38697     2177.0   \n",
       "4265   /es/alquiler/vivienda/barcelona-capital/aire-a...  41.38697     2177.0   \n",
       "5685   /es/alquiler/vivienda/barcelona-capital/calefa...  41.40808     2169.0   \n",
       "5683   /es/alquiler/vivienda/barcelona-capital/calefa...  41.40816     2169.0   \n",
       "2899   /es/alquiler/vivienda/barcelona-capital/ascens...  41.37688     2168.0   \n",
       "896    /es/alquiler/vivienda/barcelona-capital/can-ba...  41.41630     2164.0   \n",
       "8972   /es/alquiler/vivienda/barcelona-capital/aire-a...  41.39114     2164.0   \n",
       "1140   /es/alquiler/vivienda/barcelona-capital/ascens...  41.38768     2161.0   \n",
       "8145   /es/alquiler/vivienda/barcelona-capital/aire-a...  41.39986     2159.0   \n",
       "7232   /es/alquiler/vivienda/barcelona-capital/terraz...  41.40638     2146.0   \n",
       "7437   /es/alquiler/vivienda/barcelona-capital/calefa...  41.40638     2146.0   \n",
       "10100  /es/alquiler/vivienda/barcelona-capital/aire-a...  41.40403     2142.0   \n",
       "9729   /es/alquiler/vivienda/barcelona-capital/aire-a...  41.39605     2137.0   \n",
       "10196  /es/alquiler/vivienda/barcelona-capital/aire-a...  41.38006     2111.0   \n",
       "\n",
       "                               neighbourhood   price  \n",
       "4023                             el poblenou   950.0  \n",
       "1430                                   navas   750.0  \n",
       "3229                          la barceloneta   900.0  \n",
       "2042                             sant andreu   800.0  \n",
       "411    sant pere, santa caterina i la ribera   650.0  \n",
       "4265   sant pere, santa caterina i la ribera   975.0  \n",
       "5685                        el baix guinardó  1090.0  \n",
       "5683                        el baix guinardó  1090.0  \n",
       "2899                                el raval   855.0  \n",
       "896                                 can baró   700.0  \n",
       "8972                  la dreta de l'eixample  1490.0  \n",
       "1140         l'antiga esquerra de l'eixample   738.0  \n",
       "8145                       la vila de gràcia  1300.0  \n",
       "7232                    el putxet i el farró  1200.0  \n",
       "7437                    el putxet i el farró  1200.0  \n",
       "10100                   el putxet i el farró  1750.0  \n",
       "9729                  sant gervasi - galvany  1650.0  \n",
       "10196             la maternitat i sant ramon  1800.0  "
      ]
     },
     "execution_count": 256,
     "metadata": {},
     "output_type": "execute_result"
    }
   ],
   "source": [
    "apartments[(apartments['longitude'] > 180) | (apartments['longitude'] < -180)].sort_values('longitude', ascending=False).head(100)[['link', 'latitude', 'longitude', 'neighbourhood', 'price']]"
   ]
  },
  {
   "cell_type": "markdown",
   "metadata": {},
   "source": [
    "Les observacions pels pisos de Barcelona tenen una longitud que oscil·la entre els següents valors:"
   ]
  },
  {
   "cell_type": "code",
   "execution_count": 257,
   "metadata": {},
   "outputs": [
    {
     "data": {
      "text/plain": [
       "2.224126"
      ]
     },
     "execution_count": 257,
     "metadata": {},
     "output_type": "execute_result"
    }
   ],
   "source": [
    "apartments[(apartments['longitude']) < 180]['longitude'].max()"
   ]
  },
  {
   "cell_type": "code",
   "execution_count": 258,
   "metadata": {},
   "outputs": [
    {
     "data": {
      "text/plain": [
       "2.0915220000000003"
      ]
     },
     "execution_count": 258,
     "metadata": {},
     "output_type": "execute_result"
    }
   ],
   "source": [
    "apartments[(apartments['longitude']) < 180]['longitude'].min()"
   ]
  },
  {
   "cell_type": "markdown",
   "metadata": {},
   "source": [
    "De nou, si dividim els valors de __longitude__ superiors a 2110 entre 1000, corregirem els valors d'aquestes observacions:"
   ]
  },
  {
   "cell_type": "code",
   "execution_count": 259,
   "metadata": {},
   "outputs": [
    {
     "data": {
      "text/html": [
       "<div>\n",
       "<style scoped>\n",
       "    .dataframe tbody tr th:only-of-type {\n",
       "        vertical-align: middle;\n",
       "    }\n",
       "\n",
       "    .dataframe tbody tr th {\n",
       "        vertical-align: top;\n",
       "    }\n",
       "\n",
       "    .dataframe thead th {\n",
       "        text-align: right;\n",
       "    }\n",
       "</style>\n",
       "<table border=\"1\" class=\"dataframe\">\n",
       "  <thead>\n",
       "    <tr style=\"text-align: right;\">\n",
       "      <th></th>\n",
       "      <th>link</th>\n",
       "      <th>latitude</th>\n",
       "      <th>longitude</th>\n",
       "      <th>neighbourhood</th>\n",
       "      <th>price</th>\n",
       "    </tr>\n",
       "  </thead>\n",
       "  <tbody>\n",
       "    <tr>\n",
       "      <th>8502</th>\n",
       "      <td>/es/alquiler/vivienda/barcelona-capital/aire-a...</td>\n",
       "      <td>41.41129</td>\n",
       "      <td>2.224126</td>\n",
       "      <td>el besòs i el maresme</td>\n",
       "      <td>1350.0</td>\n",
       "    </tr>\n",
       "    <tr>\n",
       "      <th>10272</th>\n",
       "      <td>/es/alquiler/vivienda/barcelona-capital/aire-a...</td>\n",
       "      <td>41.41315</td>\n",
       "      <td>2.222797</td>\n",
       "      <td>el besòs i el maresme</td>\n",
       "      <td>1800.0</td>\n",
       "    </tr>\n",
       "    <tr>\n",
       "      <th>11252</th>\n",
       "      <td>/es/alquiler/vivienda/barcelona-capital/aire-a...</td>\n",
       "      <td>41.41155</td>\n",
       "      <td>2.221454</td>\n",
       "      <td>el besòs i el maresme</td>\n",
       "      <td>2600.0</td>\n",
       "    </tr>\n",
       "    <tr>\n",
       "      <th>10433</th>\n",
       "      <td>/es/alquiler/vivienda/barcelona-capital/aire-a...</td>\n",
       "      <td>41.41163</td>\n",
       "      <td>2.220950</td>\n",
       "      <td>el besòs i el maresme</td>\n",
       "      <td>1900.0</td>\n",
       "    </tr>\n",
       "    <tr>\n",
       "      <th>10232</th>\n",
       "      <td>/es/alquiler/vivienda/barcelona-capital/aire-a...</td>\n",
       "      <td>41.41353</td>\n",
       "      <td>2.220937</td>\n",
       "      <td>el besòs i el maresme</td>\n",
       "      <td>1800.0</td>\n",
       "    </tr>\n",
       "    <tr>\n",
       "      <th>9594</th>\n",
       "      <td>/es/alquiler/vivienda/barcelona-capital/aire-a...</td>\n",
       "      <td>41.41261</td>\n",
       "      <td>2.220891</td>\n",
       "      <td>el besòs i el maresme</td>\n",
       "      <td>1600.0</td>\n",
       "    </tr>\n",
       "    <tr>\n",
       "      <th>8157</th>\n",
       "      <td>/es/alquiler/vivienda/barcelona-capital/aire-a...</td>\n",
       "      <td>41.41361</td>\n",
       "      <td>2.220773</td>\n",
       "      <td>el besòs i el maresme</td>\n",
       "      <td>1300.0</td>\n",
       "    </tr>\n",
       "    <tr>\n",
       "      <th>11048</th>\n",
       "      <td>/es/alquiler/vivienda/barcelona-capital/calefa...</td>\n",
       "      <td>41.41253</td>\n",
       "      <td>2.220563</td>\n",
       "      <td>el besòs i el maresme</td>\n",
       "      <td>2400.0</td>\n",
       "    </tr>\n",
       "    <tr>\n",
       "      <th>8611</th>\n",
       "      <td>/es/alquiler/vivienda/barcelona-capital/aire-a...</td>\n",
       "      <td>41.40981</td>\n",
       "      <td>2.220171</td>\n",
       "      <td>diagonal mar i el front marítim del poblenou</td>\n",
       "      <td>1400.0</td>\n",
       "    </tr>\n",
       "    <tr>\n",
       "      <th>11098</th>\n",
       "      <td>/es/alquiler/vivienda/barcelona-capital/aire-a...</td>\n",
       "      <td>41.41261</td>\n",
       "      <td>2.220109</td>\n",
       "      <td>el besòs i el maresme</td>\n",
       "      <td>2500.0</td>\n",
       "    </tr>\n",
       "  </tbody>\n",
       "</table>\n",
       "</div>"
      ],
      "text/plain": [
       "                                                    link  latitude  longitude  \\\n",
       "8502   /es/alquiler/vivienda/barcelona-capital/aire-a...  41.41129   2.224126   \n",
       "10272  /es/alquiler/vivienda/barcelona-capital/aire-a...  41.41315   2.222797   \n",
       "11252  /es/alquiler/vivienda/barcelona-capital/aire-a...  41.41155   2.221454   \n",
       "10433  /es/alquiler/vivienda/barcelona-capital/aire-a...  41.41163   2.220950   \n",
       "10232  /es/alquiler/vivienda/barcelona-capital/aire-a...  41.41353   2.220937   \n",
       "9594   /es/alquiler/vivienda/barcelona-capital/aire-a...  41.41261   2.220891   \n",
       "8157   /es/alquiler/vivienda/barcelona-capital/aire-a...  41.41361   2.220773   \n",
       "11048  /es/alquiler/vivienda/barcelona-capital/calefa...  41.41253   2.220563   \n",
       "8611   /es/alquiler/vivienda/barcelona-capital/aire-a...  41.40981   2.220171   \n",
       "11098  /es/alquiler/vivienda/barcelona-capital/aire-a...  41.41261   2.220109   \n",
       "\n",
       "                                      neighbourhood   price  \n",
       "8502                          el besòs i el maresme  1350.0  \n",
       "10272                         el besòs i el maresme  1800.0  \n",
       "11252                         el besòs i el maresme  2600.0  \n",
       "10433                         el besòs i el maresme  1900.0  \n",
       "10232                         el besòs i el maresme  1800.0  \n",
       "9594                          el besòs i el maresme  1600.0  \n",
       "8157                          el besòs i el maresme  1300.0  \n",
       "11048                         el besòs i el maresme  2400.0  \n",
       "8611   diagonal mar i el front marítim del poblenou  1400.0  \n",
       "11098                         el besòs i el maresme  2500.0  "
      ]
     },
     "execution_count": 259,
     "metadata": {},
     "output_type": "execute_result"
    }
   ],
   "source": [
    "apartments.loc[apartments['longitude'] > 2110, 'longitude'] = apartments['longitude']/1000\n",
    "apartments.sort_values('longitude', ascending=False).head(10)[['link', 'latitude', 'longitude', 'neighbourhood', 'price']]"
   ]
  },
  {
   "cell_type": "markdown",
   "metadata": {},
   "source": [
    "#### Bathrooms"
   ]
  },
  {
   "cell_type": "markdown",
   "metadata": {},
   "source": [
    "Per a aquest camp, tot i que hem comentat que hi ha valors alts que considerem vàlids, si observem el boxplot veiem que hi ha una observació que té un valor molt extrem:"
   ]
  },
  {
   "cell_type": "code",
   "execution_count": 260,
   "metadata": {},
   "outputs": [
    {
     "data": {
      "text/html": [
       "<div>\n",
       "<style scoped>\n",
       "    .dataframe tbody tr th:only-of-type {\n",
       "        vertical-align: middle;\n",
       "    }\n",
       "\n",
       "    .dataframe tbody tr th {\n",
       "        vertical-align: top;\n",
       "    }\n",
       "\n",
       "    .dataframe thead th {\n",
       "        text-align: right;\n",
       "    }\n",
       "</style>\n",
       "<table border=\"1\" class=\"dataframe\">\n",
       "  <thead>\n",
       "    <tr style=\"text-align: right;\">\n",
       "      <th></th>\n",
       "      <th>link</th>\n",
       "      <th>bathrooms</th>\n",
       "      <th>rooms</th>\n",
       "      <th>sqft_m2</th>\n",
       "      <th>price</th>\n",
       "    </tr>\n",
       "  </thead>\n",
       "  <tbody>\n",
       "    <tr>\n",
       "      <th>10875</th>\n",
       "      <td>/es/alquiler/vivienda/barcelona-capital/aire-a...</td>\n",
       "      <td>1901</td>\n",
       "      <td>3</td>\n",
       "      <td>135</td>\n",
       "      <td>2200.0</td>\n",
       "    </tr>\n",
       "  </tbody>\n",
       "</table>\n",
       "</div>"
      ],
      "text/plain": [
       "                                                    link  bathrooms  rooms  \\\n",
       "10875  /es/alquiler/vivienda/barcelona-capital/aire-a...       1901      3   \n",
       "\n",
       "       sqft_m2   price  \n",
       "10875      135  2200.0  "
      ]
     },
     "execution_count": 260,
     "metadata": {},
     "output_type": "execute_result"
    }
   ],
   "source": [
    "apartments[apartments['bathrooms'] > 100][['link', 'bathrooms', 'rooms', 'sqft_m2', 'price']]\n"
   ]
  },
  {
   "cell_type": "markdown",
   "metadata": {},
   "source": [
    "A la web de Fotocasa, s'indica també aquest valor. Tot i això, no és lògic tenir 1901 banys a un pis de 135 metres quadrats de 3 habitacions i per tant, decidim eliminar aquesta observació:"
   ]
  },
  {
   "cell_type": "code",
   "execution_count": 261,
   "metadata": {},
   "outputs": [],
   "source": [
    "apartments = apartments.drop(index=10875)"
   ]
  },
  {
   "cell_type": "code",
   "execution_count": 262,
   "metadata": {},
   "outputs": [
    {
     "data": {
      "text/plain": [
       "21"
      ]
     },
     "execution_count": 262,
     "metadata": {},
     "output_type": "execute_result"
    }
   ],
   "source": [
    "apartments.bathrooms.max()"
   ]
  },
  {
   "cell_type": "markdown",
   "metadata": {},
   "source": [
    "#### Superfície:"
   ]
  },
  {
   "cell_type": "code",
   "execution_count": 263,
   "metadata": {},
   "outputs": [],
   "source": [
    "apartments = apartments[apartments['sqft_m2'] != 0]"
   ]
  },
  {
   "cell_type": "markdown",
   "metadata": {},
   "source": [
    "### Fitxer csv amb les dades finals a analitzar"
   ]
  },
  {
   "cell_type": "code",
   "execution_count": 264,
   "metadata": {},
   "outputs": [],
   "source": [
    "apartments.to_csv('../csv/data_clean.csv')"
   ]
  },
  {
   "cell_type": "markdown",
   "metadata": {},
   "source": [
    "## 4. Anàlisi"
   ]
  },
  {
   "cell_type": "markdown",
   "metadata": {},
   "source": [
    "### Grups a comparar\n",
    "\n",
    "- Es vol comparar si hi ha diferències de preus estadísticament significatives entre els diferents barris. Cada barri serà, per tant, un grup diferent.\n",
    "- Es vol comparar si hi ha diferències de preus estadísticament significatives entre les diferents agències. Cada agència serà, per tant, un grup diferent."
   ]
  },
  {
   "cell_type": "markdown",
   "metadata": {},
   "source": [
    "### Comprovació de la normalitat de la variable price\n",
    "\n",
    "Atès que les anàlisi d'estadística inferencial que portarem a terme impliquen en tots els casos la variable __price__, serà necessari comprovar prèviament la normalitat d'aquesta variable per tal de saber si hem d'aplicar proves paramètriques o no paramètriques. "
   ]
  },
  {
   "cell_type": "markdown",
   "metadata": {},
   "source": [
    "Anem a visualitzar l'histograma i el gràfic Q-Q de la variable price per tenir una orientació visual de si aquesta variable segueix o no una distribució normal:"
   ]
  },
  {
   "cell_type": "code",
   "execution_count": 265,
   "metadata": {},
   "outputs": [
    {
     "data": {
      "image/png": "[encoded data removed]",
      "text/plain": [
       "<Figure size 1152x576 with 2 Axes>"
      ]
     },
     "metadata": {
      "needs_background": "light"
     },
     "output_type": "display_data"
    }
   ],
   "source": [
    "from scipy import stats\n",
    "\n",
    "fig = plt.figure(figsize=(16,8))\n",
    "\n",
    "ax = fig.add_subplot(1, 2, 1)\n",
    "ax.hist(apartments.price, 500, density=True)\n",
    "\n",
    "ax = fig.add_subplot(1, 2, 2)\n",
    "stats.probplot(apartments.price, dist='norm', plot=plt)\n",
    "pass"
   ]
  },
  {
   "cell_type": "markdown",
   "metadata": {},
   "source": [
    "A simple vista, no sembla que la variable __price__ segueixi una distribució normal. Per tal de comprovar-ho, portarem a terme la prova de Kolmogorov-Smirnov. El motiu de portar a terme aquesta prova i no la de Shapiro-Wilk, és perquè amb la implementació de Scipy, per un nombre de mostres superior a 5000, el p-value pot no esser precís."
   ]
  },
  {
   "cell_type": "code",
   "execution_count": 266,
   "metadata": {},
   "outputs": [
    {
     "data": {
      "text/plain": [
       "KstestResult(statistic=0.2449490400964482, pvalue=0.0)"
      ]
     },
     "execution_count": 266,
     "metadata": {},
     "output_type": "execute_result"
    }
   ],
   "source": [
    "stats.kstest(apartments.price, 'norm', args=(apartments.price.mean(), apartments.price.std()))"
   ]
  },
  {
   "cell_type": "markdown",
   "metadata": {},
   "source": [
    "Podem veure que el p-value és 0 en el nostre cas, més petit que el valor de significació escollit: 0.05. Per tant podem rebutjar la hipòtesi nul·la i concloure que la variable __price no segueix una distribució normal__."
   ]
  },
  {
   "cell_type": "markdown",
   "metadata": {},
   "source": [
    "### Comprovació de l'homoscedasticitat de la variable price per als diferents grups\n",
    "\n",
    "Per comprovar l'homoscedasticitat de la variable __price__ per als diferents grups que volem comparar, emprarem el test de Fligner-Killeen, ja que prèviament hem observat que aquesta variable no segueix una distribució normal."
   ]
  },
  {
   "cell_type": "markdown",
   "metadata": {},
   "source": [
    "#### Homoscedasticitat dels preus dels barris"
   ]
  },
  {
   "cell_type": "code",
   "execution_count": 267,
   "metadata": {},
   "outputs": [
    {
     "data": {
      "text/plain": [
       "FlignerResult(statistic=2104.733108385882, pvalue=0.0)"
      ]
     },
     "execution_count": 267,
     "metadata": {},
     "output_type": "execute_result"
    }
   ],
   "source": [
    "neighbourhood_grouped_samples = apartments.groupby('neighbourhood')['price'].apply(pd.Series.tolist).tolist()\n",
    "stats.fligner(*neighbourhood_grouped_samples)"
   ]
  },
  {
   "cell_type": "markdown",
   "metadata": {},
   "source": [
    "Donat el p-value és < 0.05 (el valor de significació escollit), podem concloure doncs que __price__ presenta variàncies estadísticament diferents entre els barris de Barcelona."
   ]
  },
  {
   "cell_type": "markdown",
   "metadata": {},
   "source": [
    "#### Homoscedasticitat dels preus de les agències"
   ]
  },
  {
   "cell_type": "code",
   "execution_count": 268,
   "metadata": {},
   "outputs": [
    {
     "data": {
      "text/plain": [
       "FlignerResult(statistic=3493.643125045974, pvalue=1.0719141814502517e-260)"
      ]
     },
     "execution_count": 268,
     "metadata": {},
     "output_type": "execute_result"
    }
   ],
   "source": [
    "realestate_grouped_samples = apartments.groupby('realestate')['price'].apply(pd.Series.tolist).tolist()\n",
    "stats.fligner(*realestate_grouped_samples)"
   ]
  },
  {
   "cell_type": "markdown",
   "metadata": {},
   "source": [
    "Donat que el p-value és < 0.05 (el valor de significació escollit), podem concloure que __price__ presenta variàncies estadísticament diferents entre les agències immoniliaries."
   ]
  },
  {
   "cell_type": "markdown",
   "metadata": {},
   "source": [
    "### Comprovació de mitjanes de la variable price per als diferents grups\n",
    "\n",
    "Ja hem vist com la variable __price__ no segueix una distribució normal, i com per als grups que es volen analitzar, la variància de __price__ entre ells presenta diferències estadísticament significants. Donat tot això, haurem d'emprar proves no paramètriques, en concret el test de Kruskal-Wallis, per tal de saber si la mitjana entre els diferents grups (que són més de dos tant en el cas dels barris com en el cas de les agències) presenta diferències estadísticament significants."
   ]
  },
  {
   "cell_type": "markdown",
   "metadata": {},
   "source": [
    "#### Comparació de mitjanes de preus entre els diferents barris"
   ]
  },
  {
   "cell_type": "code",
   "execution_count": 269,
   "metadata": {},
   "outputs": [
    {
     "data": {
      "text/plain": [
       "KruskalResult(statistic=2637.6757596495586, pvalue=0.0)"
      ]
     },
     "execution_count": 269,
     "metadata": {},
     "output_type": "execute_result"
    }
   ],
   "source": [
    "stats.kruskal(*neighbourhood_grouped_samples)"
   ]
  },
  {
   "cell_type": "markdown",
   "metadata": {},
   "source": [
    "Donat que el p-value és < 0.05 (el valor de significació escollit), podem concloure que hi ha difències de preu estadísticament significatives entre els barris de Barcelona."
   ]
  },
  {
   "cell_type": "markdown",
   "metadata": {},
   "source": [
    "#### Comparació de mitjanes de preus entre les diferents agències"
   ]
  },
  {
   "cell_type": "code",
   "execution_count": 270,
   "metadata": {},
   "outputs": [
    {
     "data": {
      "text/plain": [
       "KruskalResult(statistic=4887.593854046478, pvalue=0.0)"
      ]
     },
     "execution_count": 270,
     "metadata": {},
     "output_type": "execute_result"
    }
   ],
   "source": [
    "stats.kruskal(*realestate_grouped_samples)"
   ]
  },
  {
   "cell_type": "markdown",
   "metadata": {},
   "source": [
    "Donat que el p-value és < 0.05 (el valor de significació escollit), podem concloure que hi ha diferències de preu estadísticament significatives entre les ofertes de les diferents agències."
   ]
  },
  {
   "cell_type": "markdown",
   "metadata": {},
   "source": [
    "### Model de regressió:"
   ]
  },
  {
   "cell_type": "markdown",
   "metadata": {},
   "source": [
    "Anem a construïr un mode de regressió lineal que ens permeti fer prediccions sobre el preu dels habitatges. Per fer això, primer haure de fer unes tranformacions a les dades, per que siguin manejables.\n",
    "\n",
    "#### Codificació de les variables quantitatives\n",
    "En un model de regressió no podem treballar directament amb dades categóriques. Hem de codificar-les per poder-les incloure en el nostre model. Optarem per One-Hot-Encoding, que ens permet introduïr variables dummy per cada una de les categòries d'una variable.\n"
   ]
  },
  {
   "cell_type": "code",
   "execution_count": 271,
   "metadata": {},
   "outputs": [
    {
     "data": {
      "text/plain": [
       "ENGEL & VOELKERS                         836\n",
       "Homelike                                 760\n",
       "APROPERTIES REAL ESTATE Nº Aicat 6388    481\n",
       "SH BARCELONA                             381\n",
       "AREA CASA                                332\n",
       "                                        ... \n",
       "FLAT HUNTER BARCELONA                      1\n",
       "SWEET HOME BCN  SANTA COLOMA               1\n",
       "FINCAS LLULL DIAGONAL MAR                  1\n",
       "INMO OLAYA                                 1\n",
       "HOMIM                                      1\n",
       "Name: realestate, Length: 1046, dtype: int64"
      ]
     },
     "execution_count": 271,
     "metadata": {},
     "output_type": "execute_result"
    }
   ],
   "source": [
    "apartments.realestate.value_counts()"
   ]
  },
  {
   "cell_type": "markdown",
   "metadata": {},
   "source": [
    "Veiem que per la variable realestate tenim moltes categóries. Per reduir-ne el número, les classificarem segons el nombre d'habitatges que posen en lloguer. Anem a veure com es distribuexi la quantitat d'habitatges que té cada immobiliària."
   ]
  },
  {
   "cell_type": "code",
   "execution_count": 272,
   "metadata": {},
   "outputs": [
    {
     "data": {
      "text/html": [
       "<div>\n",
       "<style scoped>\n",
       "    .dataframe tbody tr th:only-of-type {\n",
       "        vertical-align: middle;\n",
       "    }\n",
       "\n",
       "    .dataframe tbody tr th {\n",
       "        vertical-align: top;\n",
       "    }\n",
       "\n",
       "    .dataframe thead th {\n",
       "        text-align: right;\n",
       "    }\n",
       "</style>\n",
       "<table border=\"1\" class=\"dataframe\">\n",
       "  <thead>\n",
       "    <tr style=\"text-align: right;\">\n",
       "      <th></th>\n",
       "      <th>counts</th>\n",
       "    </tr>\n",
       "  </thead>\n",
       "  <tbody>\n",
       "    <tr>\n",
       "      <th>count</th>\n",
       "      <td>1046.000000</td>\n",
       "    </tr>\n",
       "    <tr>\n",
       "      <th>mean</th>\n",
       "      <td>9.334608</td>\n",
       "    </tr>\n",
       "    <tr>\n",
       "      <th>std</th>\n",
       "      <td>42.954420</td>\n",
       "    </tr>\n",
       "    <tr>\n",
       "      <th>min</th>\n",
       "      <td>1.000000</td>\n",
       "    </tr>\n",
       "    <tr>\n",
       "      <th>25%</th>\n",
       "      <td>1.000000</td>\n",
       "    </tr>\n",
       "    <tr>\n",
       "      <th>50%</th>\n",
       "      <td>3.000000</td>\n",
       "    </tr>\n",
       "    <tr>\n",
       "      <th>75%</th>\n",
       "      <td>7.000000</td>\n",
       "    </tr>\n",
       "    <tr>\n",
       "      <th>max</th>\n",
       "      <td>836.000000</td>\n",
       "    </tr>\n",
       "  </tbody>\n",
       "</table>\n",
       "</div>"
      ],
      "text/plain": [
       "            counts\n",
       "count  1046.000000\n",
       "mean      9.334608\n",
       "std      42.954420\n",
       "min       1.000000\n",
       "25%       1.000000\n",
       "50%       3.000000\n",
       "75%       7.000000\n",
       "max     836.000000"
      ]
     },
     "execution_count": 272,
     "metadata": {},
     "output_type": "execute_result"
    }
   ],
   "source": [
    "counts_realestate = apartments.realestate.value_counts().to_frame().reset_index()\n",
    "counts_realestate.columns = ['realestate', 'counts']\n",
    "\n",
    "counts_realestate.describe()"
   ]
  },
  {
   "cell_type": "code",
   "execution_count": 273,
   "metadata": {},
   "outputs": [
    {
     "data": {
      "text/plain": [
       "<AxesSubplot:>"
      ]
     },
     "execution_count": 273,
     "metadata": {},
     "output_type": "execute_result"
    },
    {
     "data": {
      "image/png": "[encoded data removed]",
      "text/plain": [
       "<Figure size 432x288 with 1 Axes>"
      ]
     },
     "metadata": {
      "needs_background": "light"
     },
     "output_type": "display_data"
    }
   ],
   "source": [
    "counts_realestate.boxplot()"
   ]
  },
  {
   "cell_type": "markdown",
   "metadata": {},
   "source": [
    "Explorant les dades hem vist que TECNOCASA apareix disgregada en diferents oficines. Comencem per assignar-li la mateixa immobiliària"
   ]
  },
  {
   "cell_type": "code",
   "execution_count": 274,
   "metadata": {},
   "outputs": [
    {
     "data": {
      "text/html": [
       "<div>\n",
       "<style scoped>\n",
       "    .dataframe tbody tr th:only-of-type {\n",
       "        vertical-align: middle;\n",
       "    }\n",
       "\n",
       "    .dataframe tbody tr th {\n",
       "        vertical-align: top;\n",
       "    }\n",
       "\n",
       "    .dataframe thead th {\n",
       "        text-align: right;\n",
       "    }\n",
       "</style>\n",
       "<table border=\"1\" class=\"dataframe\">\n",
       "  <thead>\n",
       "    <tr style=\"text-align: right;\">\n",
       "      <th></th>\n",
       "      <th>realestate</th>\n",
       "      <th>counts</th>\n",
       "    </tr>\n",
       "  </thead>\n",
       "  <tbody>\n",
       "    <tr>\n",
       "      <th>57</th>\n",
       "      <td>TECNOCASA RIERA ALTA MAR</td>\n",
       "      <td>24</td>\n",
       "    </tr>\n",
       "    <tr>\n",
       "      <th>127</th>\n",
       "      <td>TECNOCASA - ESTUDI AVINGUDA DE ROMA</td>\n",
       "      <td>13</td>\n",
       "    </tr>\n",
       "    <tr>\n",
       "      <th>178</th>\n",
       "      <td>TECNOCASA</td>\n",
       "      <td>9</td>\n",
       "    </tr>\n",
       "    <tr>\n",
       "      <th>382</th>\n",
       "      <td>TECNOCASA - ESTUDI MARINA 311</td>\n",
       "      <td>4</td>\n",
       "    </tr>\n",
       "    <tr>\n",
       "      <th>427</th>\n",
       "      <td>TECNOCASA-ESTUDI GRAN DE SANT ANDREU</td>\n",
       "      <td>4</td>\n",
       "    </tr>\n",
       "    <tr>\n",
       "      <th>453</th>\n",
       "      <td>TECNOCASA AVDA. MISTRAL</td>\n",
       "      <td>3</td>\n",
       "    </tr>\n",
       "    <tr>\n",
       "      <th>488</th>\n",
       "      <td>TECNOCASA - PISOS BORNE MAR</td>\n",
       "      <td>3</td>\n",
       "    </tr>\n",
       "    <tr>\n",
       "      <th>528</th>\n",
       "      <td>TECNOCASA - HOME GUINARDO</td>\n",
       "      <td>3</td>\n",
       "    </tr>\n",
       "    <tr>\n",
       "      <th>535</th>\n",
       "      <td>TECNOCASA - PROJECTE LA PROSPERITAT</td>\n",
       "      <td>3</td>\n",
       "    </tr>\n",
       "    <tr>\n",
       "      <th>565</th>\n",
       "      <td>TECNOCASA - ESTUDI CAP MARAGALL</td>\n",
       "      <td>2</td>\n",
       "    </tr>\n",
       "    <tr>\n",
       "      <th>650</th>\n",
       "      <td>TECNOCASA ESTUDI MERIDIANA</td>\n",
       "      <td>2</td>\n",
       "    </tr>\n",
       "    <tr>\n",
       "      <th>667</th>\n",
       "      <td>TECNOCASA - ESTUDI PROJECTE SANT ANDREU</td>\n",
       "      <td>2</td>\n",
       "    </tr>\n",
       "    <tr>\n",
       "      <th>760</th>\n",
       "      <td>TECNOCASA -  ESTUDI NOU GAUDI</td>\n",
       "      <td>1</td>\n",
       "    </tr>\n",
       "    <tr>\n",
       "      <th>789</th>\n",
       "      <td>TECNOCASA - ESTUDI NAPOLS</td>\n",
       "      <td>1</td>\n",
       "    </tr>\n",
       "    <tr>\n",
       "      <th>814</th>\n",
       "      <td>TECNOCASA - ESTUDIO PROYECTO MARAGALL 2004</td>\n",
       "      <td>1</td>\n",
       "    </tr>\n",
       "  </tbody>\n",
       "</table>\n",
       "</div>"
      ],
      "text/plain": [
       "                                     realestate  counts\n",
       "57                     TECNOCASA RIERA ALTA MAR      24\n",
       "127         TECNOCASA - ESTUDI AVINGUDA DE ROMA      13\n",
       "178                                   TECNOCASA       9\n",
       "382               TECNOCASA - ESTUDI MARINA 311       4\n",
       "427        TECNOCASA-ESTUDI GRAN DE SANT ANDREU       4\n",
       "453                     TECNOCASA AVDA. MISTRAL       3\n",
       "488                 TECNOCASA - PISOS BORNE MAR       3\n",
       "528                   TECNOCASA - HOME GUINARDO       3\n",
       "535         TECNOCASA - PROJECTE LA PROSPERITAT       3\n",
       "565             TECNOCASA - ESTUDI CAP MARAGALL       2\n",
       "650                  TECNOCASA ESTUDI MERIDIANA       2\n",
       "667     TECNOCASA - ESTUDI PROJECTE SANT ANDREU       2\n",
       "760               TECNOCASA -  ESTUDI NOU GAUDI       1\n",
       "789                   TECNOCASA - ESTUDI NAPOLS       1\n",
       "814  TECNOCASA - ESTUDIO PROYECTO MARAGALL 2004       1"
      ]
     },
     "execution_count": 274,
     "metadata": {},
     "output_type": "execute_result"
    }
   ],
   "source": [
    "counts_realestate[counts_realestate.realestate.astype(str).str.contains('TECNOCASA')]"
   ]
  },
  {
   "cell_type": "code",
   "execution_count": 275,
   "metadata": {},
   "outputs": [],
   "source": [
    "apartments.loc[apartments.realestate.astype(str).str.contains('TECNOCASA'),'realestate'] = 'TECNOCASA'\n",
    "counts_realestate = apartments.realestate.value_counts().to_frame().reset_index()\n",
    "counts_realestate.columns = ['realestate', 'counts']"
   ]
  },
  {
   "cell_type": "markdown",
   "metadata": {},
   "source": [
    "Farem la suposició on tots aquells valors de realstate que només tinguin un habitatge els etiquetarem com a porpietaris particulars."
   ]
  },
  {
   "cell_type": "code",
   "execution_count": 276,
   "metadata": {},
   "outputs": [],
   "source": [
    "particulars = counts_realestate[counts_realestate.counts==1].realestate\n",
    "apartments.loc[apartments.realestate.isin(particulars),\"realestate_size\"] = 'Particular'"
   ]
  },
  {
   "cell_type": "markdown",
   "metadata": {},
   "source": [
    "Entre 2 i 10, els classificarem com a petits propietaris."
   ]
  },
  {
   "cell_type": "code",
   "execution_count": 277,
   "metadata": {},
   "outputs": [],
   "source": [
    "petits_propietaris = counts_realestate[np.logical_and(counts_realestate.counts>1, counts_realestate.counts<=10)].realestate\n",
    "apartments.loc[apartments.realestate.isin(petits_propietaris),\"realestate_size\"] = 'Petit'"
   ]
  },
  {
   "cell_type": "markdown",
   "metadata": {},
   "source": [
    "Entre 11 i 50 els classificarem com a propietaris mitjans."
   ]
  },
  {
   "cell_type": "code",
   "execution_count": 278,
   "metadata": {},
   "outputs": [],
   "source": [
    "mitja = counts_realestate[np.logical_and(counts_realestate.counts>10, counts_realestate.counts<=50)].realestate\n",
    "apartments.loc[apartments.realestate.isin(mitja),\"realestate_size\"] = 'Mitja'"
   ]
  },
  {
   "cell_type": "markdown",
   "metadata": {},
   "source": [
    "Més de 50 i menys de 300 com a grans propietaris"
   ]
  },
  {
   "cell_type": "code",
   "execution_count": 279,
   "metadata": {},
   "outputs": [],
   "source": [
    "grans = counts_realestate[np.logical_and(counts_realestate.counts>50, counts_realestate.counts<=300)].realestate\n",
    "apartments.loc[apartments.realestate.isin(grans),\"realestate_size\"] = 'Grans'"
   ]
  },
  {
   "cell_type": "markdown",
   "metadata": {},
   "source": [
    "Més de 300, com a molt grans proietaris."
   ]
  },
  {
   "cell_type": "code",
   "execution_count": 280,
   "metadata": {},
   "outputs": [],
   "source": [
    "molt_grans = counts_realestate[counts_realestate.counts>300].realestate\n",
    "apartments.loc[apartments.realestate.isin(molt_grans),\"realestate_size\"] = 'Molt grans'"
   ]
  },
  {
   "cell_type": "markdown",
   "metadata": {},
   "source": [
    "Hem simplificat notablement la informació sobre les immobiliàries. Ara preparem el dataset amb les variables que es poden ser útils. "
   ]
  },
  {
   "cell_type": "code",
   "execution_count": 281,
   "metadata": {},
   "outputs": [
    {
     "data": {
      "text/html": [
       "<div>\n",
       "<style scoped>\n",
       "    .dataframe tbody tr th:only-of-type {\n",
       "        vertical-align: middle;\n",
       "    }\n",
       "\n",
       "    .dataframe tbody tr th {\n",
       "        vertical-align: top;\n",
       "    }\n",
       "\n",
       "    .dataframe thead th {\n",
       "        text-align: right;\n",
       "    }\n",
       "</style>\n",
       "<table border=\"1\" class=\"dataframe\">\n",
       "  <thead>\n",
       "    <tr style=\"text-align: right;\">\n",
       "      <th></th>\n",
       "      <th>bathrooms</th>\n",
       "      <th>building_subtype</th>\n",
       "      <th>conservation_state</th>\n",
       "      <th>discount</th>\n",
       "      <th>floor_elevator</th>\n",
       "      <th>is_new_construction</th>\n",
       "      <th>price</th>\n",
       "      <th>rooms</th>\n",
       "      <th>sqft_m2</th>\n",
       "      <th>neighbourhood</th>\n",
       "      <th>realestate_size</th>\n",
       "    </tr>\n",
       "  </thead>\n",
       "  <tbody>\n",
       "    <tr>\n",
       "      <th>0</th>\n",
       "      <td>1</td>\n",
       "      <td>Study</td>\n",
       "      <td>3.0</td>\n",
       "      <td>0</td>\n",
       "      <td>True</td>\n",
       "      <td>False</td>\n",
       "      <td>320.0</td>\n",
       "      <td>0</td>\n",
       "      <td>15</td>\n",
       "      <td>sant antoni</td>\n",
       "      <td>Petit</td>\n",
       "    </tr>\n",
       "    <tr>\n",
       "      <th>2</th>\n",
       "      <td>1</td>\n",
       "      <td>Flat</td>\n",
       "      <td>2.0</td>\n",
       "      <td>0</td>\n",
       "      <td>False</td>\n",
       "      <td>False</td>\n",
       "      <td>400.0</td>\n",
       "      <td>2</td>\n",
       "      <td>63</td>\n",
       "      <td>el turó de la peira</td>\n",
       "      <td>Petit</td>\n",
       "    </tr>\n",
       "    <tr>\n",
       "      <th>3</th>\n",
       "      <td>1</td>\n",
       "      <td>Study</td>\n",
       "      <td>2.0</td>\n",
       "      <td>0</td>\n",
       "      <td>True</td>\n",
       "      <td>False</td>\n",
       "      <td>430.0</td>\n",
       "      <td>0</td>\n",
       "      <td>17</td>\n",
       "      <td>hostafrancs</td>\n",
       "      <td>Petit</td>\n",
       "    </tr>\n",
       "    <tr>\n",
       "      <th>4</th>\n",
       "      <td>2</td>\n",
       "      <td>Flat</td>\n",
       "      <td>3.0</td>\n",
       "      <td>0</td>\n",
       "      <td>True</td>\n",
       "      <td>False</td>\n",
       "      <td>450.0</td>\n",
       "      <td>1</td>\n",
       "      <td>29</td>\n",
       "      <td>la marina de port</td>\n",
       "      <td>Petit</td>\n",
       "    </tr>\n",
       "    <tr>\n",
       "      <th>5</th>\n",
       "      <td>1</td>\n",
       "      <td>Apartment</td>\n",
       "      <td>3.0</td>\n",
       "      <td>0</td>\n",
       "      <td>False</td>\n",
       "      <td>False</td>\n",
       "      <td>450.0</td>\n",
       "      <td>0</td>\n",
       "      <td>25</td>\n",
       "      <td>sant antoni</td>\n",
       "      <td>Petit</td>\n",
       "    </tr>\n",
       "    <tr>\n",
       "      <th>...</th>\n",
       "      <td>...</td>\n",
       "      <td>...</td>\n",
       "      <td>...</td>\n",
       "      <td>...</td>\n",
       "      <td>...</td>\n",
       "      <td>...</td>\n",
       "      <td>...</td>\n",
       "      <td>...</td>\n",
       "      <td>...</td>\n",
       "      <td>...</td>\n",
       "      <td>...</td>\n",
       "    </tr>\n",
       "    <tr>\n",
       "      <th>12149</th>\n",
       "      <td>1</td>\n",
       "      <td>Apartment</td>\n",
       "      <td>-1.0</td>\n",
       "      <td>0</td>\n",
       "      <td>False</td>\n",
       "      <td>False</td>\n",
       "      <td>22839.0</td>\n",
       "      <td>2</td>\n",
       "      <td>54</td>\n",
       "      <td>hostafrancs</td>\n",
       "      <td>Molt grans</td>\n",
       "    </tr>\n",
       "    <tr>\n",
       "      <th>12150</th>\n",
       "      <td>2</td>\n",
       "      <td>Apartment</td>\n",
       "      <td>-1.0</td>\n",
       "      <td>0</td>\n",
       "      <td>False</td>\n",
       "      <td>False</td>\n",
       "      <td>23092.0</td>\n",
       "      <td>3</td>\n",
       "      <td>85</td>\n",
       "      <td>la nova esquerra de l'eixample</td>\n",
       "      <td>Molt grans</td>\n",
       "    </tr>\n",
       "    <tr>\n",
       "      <th>12151</th>\n",
       "      <td>21</td>\n",
       "      <td>CountryHouse</td>\n",
       "      <td>1.0</td>\n",
       "      <td>30000</td>\n",
       "      <td>False</td>\n",
       "      <td>False</td>\n",
       "      <td>25000.0</td>\n",
       "      <td>21</td>\n",
       "      <td>2500</td>\n",
       "      <td>la font d'en fargues</td>\n",
       "      <td>Molt grans</td>\n",
       "    </tr>\n",
       "    <tr>\n",
       "      <th>12152</th>\n",
       "      <td>7</td>\n",
       "      <td>Apartment</td>\n",
       "      <td>-1.0</td>\n",
       "      <td>0</td>\n",
       "      <td>False</td>\n",
       "      <td>False</td>\n",
       "      <td>28279.0</td>\n",
       "      <td>8</td>\n",
       "      <td>550</td>\n",
       "      <td>la font d'en fargues</td>\n",
       "      <td>Molt grans</td>\n",
       "    </tr>\n",
       "    <tr>\n",
       "      <th>12153</th>\n",
       "      <td>4</td>\n",
       "      <td>Flat</td>\n",
       "      <td>2.0</td>\n",
       "      <td>0</td>\n",
       "      <td>True</td>\n",
       "      <td>False</td>\n",
       "      <td>29000.0</td>\n",
       "      <td>4</td>\n",
       "      <td>600</td>\n",
       "      <td>l'antiga esquerra de l'eixample</td>\n",
       "      <td>Petit</td>\n",
       "    </tr>\n",
       "  </tbody>\n",
       "</table>\n",
       "<p>9764 rows × 11 columns</p>\n",
       "</div>"
      ],
      "text/plain": [
       "       bathrooms building_subtype conservation_state  discount  \\\n",
       "0              1            Study                3.0         0   \n",
       "2              1             Flat                2.0         0   \n",
       "3              1            Study                2.0         0   \n",
       "4              2             Flat                3.0         0   \n",
       "5              1        Apartment                3.0         0   \n",
       "...          ...              ...                ...       ...   \n",
       "12149          1        Apartment               -1.0         0   \n",
       "12150          2        Apartment               -1.0         0   \n",
       "12151         21     CountryHouse                1.0     30000   \n",
       "12152          7        Apartment               -1.0         0   \n",
       "12153          4             Flat                2.0         0   \n",
       "\n",
       "       floor_elevator  is_new_construction    price  rooms  sqft_m2  \\\n",
       "0                True                False    320.0      0       15   \n",
       "2               False                False    400.0      2       63   \n",
       "3                True                False    430.0      0       17   \n",
       "4                True                False    450.0      1       29   \n",
       "5               False                False    450.0      0       25   \n",
       "...               ...                  ...      ...    ...      ...   \n",
       "12149           False                False  22839.0      2       54   \n",
       "12150           False                False  23092.0      3       85   \n",
       "12151           False                False  25000.0     21     2500   \n",
       "12152           False                False  28279.0      8      550   \n",
       "12153            True                False  29000.0      4      600   \n",
       "\n",
       "                         neighbourhood realestate_size  \n",
       "0                          sant antoni           Petit  \n",
       "2                  el turó de la peira           Petit  \n",
       "3                          hostafrancs           Petit  \n",
       "4                    la marina de port           Petit  \n",
       "5                          sant antoni           Petit  \n",
       "...                                ...             ...  \n",
       "12149                      hostafrancs      Molt grans  \n",
       "12150   la nova esquerra de l'eixample      Molt grans  \n",
       "12151             la font d'en fargues      Molt grans  \n",
       "12152             la font d'en fargues      Molt grans  \n",
       "12153  l'antiga esquerra de l'eixample           Petit  \n",
       "\n",
       "[9764 rows x 11 columns]"
      ]
     },
     "execution_count": 281,
     "metadata": {},
     "output_type": "execute_result"
    }
   ],
   "source": [
    "apartments.realestate_size.astype('category')\n",
    "apartments.realestate_size.value_counts()\n",
    "apartments_regression = apartments.drop(columns=['realestate','building_type','latitude','longitude','link','neighb_meanprice'])\n",
    "apartments_regression"
   ]
  },
  {
   "cell_type": "markdown",
   "metadata": {},
   "source": [
    "Ara codifiquem les variables:"
   ]
  },
  {
   "cell_type": "code",
   "execution_count": 282,
   "metadata": {},
   "outputs": [
    {
     "data": {
      "text/html": [
       "<div>\n",
       "<style scoped>\n",
       "    .dataframe tbody tr th:only-of-type {\n",
       "        vertical-align: middle;\n",
       "    }\n",
       "\n",
       "    .dataframe tbody tr th {\n",
       "        vertical-align: top;\n",
       "    }\n",
       "\n",
       "    .dataframe thead th {\n",
       "        text-align: right;\n",
       "    }\n",
       "</style>\n",
       "<table border=\"1\" class=\"dataframe\">\n",
       "  <thead>\n",
       "    <tr style=\"text-align: right;\">\n",
       "      <th></th>\n",
       "      <th>building_subtype_Apartment</th>\n",
       "      <th>building_subtype_Attic</th>\n",
       "      <th>building_subtype_CountryHouse</th>\n",
       "      <th>building_subtype_Duplex</th>\n",
       "      <th>building_subtype_Flat</th>\n",
       "      <th>building_subtype_GroundFloorWithGarden</th>\n",
       "      <th>building_subtype_House_Chalet</th>\n",
       "      <th>building_subtype_Loft</th>\n",
       "      <th>building_subtype_SemiDetached</th>\n",
       "      <th>building_subtype_SemidetachedHouse</th>\n",
       "      <th>...</th>\n",
       "      <th>realestate_size_Grans</th>\n",
       "      <th>realestate_size_Mitja</th>\n",
       "      <th>realestate_size_Molt grans</th>\n",
       "      <th>realestate_size_Particular</th>\n",
       "      <th>realestate_size_Petit</th>\n",
       "      <th>bathrooms</th>\n",
       "      <th>discount</th>\n",
       "      <th>price</th>\n",
       "      <th>rooms</th>\n",
       "      <th>sqft_m2</th>\n",
       "    </tr>\n",
       "  </thead>\n",
       "  <tbody>\n",
       "    <tr>\n",
       "      <th>0</th>\n",
       "      <td>0.0</td>\n",
       "      <td>0.0</td>\n",
       "      <td>0.0</td>\n",
       "      <td>0.0</td>\n",
       "      <td>0.0</td>\n",
       "      <td>0.0</td>\n",
       "      <td>0.0</td>\n",
       "      <td>0.0</td>\n",
       "      <td>0.0</td>\n",
       "      <td>0.0</td>\n",
       "      <td>...</td>\n",
       "      <td>0.0</td>\n",
       "      <td>0.0</td>\n",
       "      <td>0.0</td>\n",
       "      <td>0.0</td>\n",
       "      <td>1.0</td>\n",
       "      <td>1.0</td>\n",
       "      <td>0.0</td>\n",
       "      <td>320.0</td>\n",
       "      <td>0.0</td>\n",
       "      <td>15.0</td>\n",
       "    </tr>\n",
       "    <tr>\n",
       "      <th>1</th>\n",
       "      <td>0.0</td>\n",
       "      <td>0.0</td>\n",
       "      <td>0.0</td>\n",
       "      <td>0.0</td>\n",
       "      <td>1.0</td>\n",
       "      <td>0.0</td>\n",
       "      <td>0.0</td>\n",
       "      <td>0.0</td>\n",
       "      <td>0.0</td>\n",
       "      <td>0.0</td>\n",
       "      <td>...</td>\n",
       "      <td>0.0</td>\n",
       "      <td>0.0</td>\n",
       "      <td>0.0</td>\n",
       "      <td>0.0</td>\n",
       "      <td>1.0</td>\n",
       "      <td>1.0</td>\n",
       "      <td>0.0</td>\n",
       "      <td>400.0</td>\n",
       "      <td>2.0</td>\n",
       "      <td>63.0</td>\n",
       "    </tr>\n",
       "    <tr>\n",
       "      <th>2</th>\n",
       "      <td>0.0</td>\n",
       "      <td>0.0</td>\n",
       "      <td>0.0</td>\n",
       "      <td>0.0</td>\n",
       "      <td>0.0</td>\n",
       "      <td>0.0</td>\n",
       "      <td>0.0</td>\n",
       "      <td>0.0</td>\n",
       "      <td>0.0</td>\n",
       "      <td>0.0</td>\n",
       "      <td>...</td>\n",
       "      <td>0.0</td>\n",
       "      <td>0.0</td>\n",
       "      <td>0.0</td>\n",
       "      <td>0.0</td>\n",
       "      <td>1.0</td>\n",
       "      <td>1.0</td>\n",
       "      <td>0.0</td>\n",
       "      <td>430.0</td>\n",
       "      <td>0.0</td>\n",
       "      <td>17.0</td>\n",
       "    </tr>\n",
       "    <tr>\n",
       "      <th>3</th>\n",
       "      <td>0.0</td>\n",
       "      <td>0.0</td>\n",
       "      <td>0.0</td>\n",
       "      <td>0.0</td>\n",
       "      <td>1.0</td>\n",
       "      <td>0.0</td>\n",
       "      <td>0.0</td>\n",
       "      <td>0.0</td>\n",
       "      <td>0.0</td>\n",
       "      <td>0.0</td>\n",
       "      <td>...</td>\n",
       "      <td>0.0</td>\n",
       "      <td>0.0</td>\n",
       "      <td>0.0</td>\n",
       "      <td>0.0</td>\n",
       "      <td>1.0</td>\n",
       "      <td>2.0</td>\n",
       "      <td>0.0</td>\n",
       "      <td>450.0</td>\n",
       "      <td>1.0</td>\n",
       "      <td>29.0</td>\n",
       "    </tr>\n",
       "    <tr>\n",
       "      <th>4</th>\n",
       "      <td>1.0</td>\n",
       "      <td>0.0</td>\n",
       "      <td>0.0</td>\n",
       "      <td>0.0</td>\n",
       "      <td>0.0</td>\n",
       "      <td>0.0</td>\n",
       "      <td>0.0</td>\n",
       "      <td>0.0</td>\n",
       "      <td>0.0</td>\n",
       "      <td>0.0</td>\n",
       "      <td>...</td>\n",
       "      <td>0.0</td>\n",
       "      <td>0.0</td>\n",
       "      <td>0.0</td>\n",
       "      <td>0.0</td>\n",
       "      <td>1.0</td>\n",
       "      <td>1.0</td>\n",
       "      <td>0.0</td>\n",
       "      <td>450.0</td>\n",
       "      <td>0.0</td>\n",
       "      <td>25.0</td>\n",
       "    </tr>\n",
       "    <tr>\n",
       "      <th>...</th>\n",
       "      <td>...</td>\n",
       "      <td>...</td>\n",
       "      <td>...</td>\n",
       "      <td>...</td>\n",
       "      <td>...</td>\n",
       "      <td>...</td>\n",
       "      <td>...</td>\n",
       "      <td>...</td>\n",
       "      <td>...</td>\n",
       "      <td>...</td>\n",
       "      <td>...</td>\n",
       "      <td>...</td>\n",
       "      <td>...</td>\n",
       "      <td>...</td>\n",
       "      <td>...</td>\n",
       "      <td>...</td>\n",
       "      <td>...</td>\n",
       "      <td>...</td>\n",
       "      <td>...</td>\n",
       "      <td>...</td>\n",
       "      <td>...</td>\n",
       "    </tr>\n",
       "    <tr>\n",
       "      <th>9759</th>\n",
       "      <td>1.0</td>\n",
       "      <td>0.0</td>\n",
       "      <td>0.0</td>\n",
       "      <td>0.0</td>\n",
       "      <td>0.0</td>\n",
       "      <td>0.0</td>\n",
       "      <td>0.0</td>\n",
       "      <td>0.0</td>\n",
       "      <td>0.0</td>\n",
       "      <td>0.0</td>\n",
       "      <td>...</td>\n",
       "      <td>0.0</td>\n",
       "      <td>0.0</td>\n",
       "      <td>1.0</td>\n",
       "      <td>0.0</td>\n",
       "      <td>0.0</td>\n",
       "      <td>1.0</td>\n",
       "      <td>0.0</td>\n",
       "      <td>22839.0</td>\n",
       "      <td>2.0</td>\n",
       "      <td>54.0</td>\n",
       "    </tr>\n",
       "    <tr>\n",
       "      <th>9760</th>\n",
       "      <td>1.0</td>\n",
       "      <td>0.0</td>\n",
       "      <td>0.0</td>\n",
       "      <td>0.0</td>\n",
       "      <td>0.0</td>\n",
       "      <td>0.0</td>\n",
       "      <td>0.0</td>\n",
       "      <td>0.0</td>\n",
       "      <td>0.0</td>\n",
       "      <td>0.0</td>\n",
       "      <td>...</td>\n",
       "      <td>0.0</td>\n",
       "      <td>0.0</td>\n",
       "      <td>1.0</td>\n",
       "      <td>0.0</td>\n",
       "      <td>0.0</td>\n",
       "      <td>2.0</td>\n",
       "      <td>0.0</td>\n",
       "      <td>23092.0</td>\n",
       "      <td>3.0</td>\n",
       "      <td>85.0</td>\n",
       "    </tr>\n",
       "    <tr>\n",
       "      <th>9761</th>\n",
       "      <td>0.0</td>\n",
       "      <td>0.0</td>\n",
       "      <td>1.0</td>\n",
       "      <td>0.0</td>\n",
       "      <td>0.0</td>\n",
       "      <td>0.0</td>\n",
       "      <td>0.0</td>\n",
       "      <td>0.0</td>\n",
       "      <td>0.0</td>\n",
       "      <td>0.0</td>\n",
       "      <td>...</td>\n",
       "      <td>0.0</td>\n",
       "      <td>0.0</td>\n",
       "      <td>1.0</td>\n",
       "      <td>0.0</td>\n",
       "      <td>0.0</td>\n",
       "      <td>21.0</td>\n",
       "      <td>30000.0</td>\n",
       "      <td>25000.0</td>\n",
       "      <td>21.0</td>\n",
       "      <td>2500.0</td>\n",
       "    </tr>\n",
       "    <tr>\n",
       "      <th>9762</th>\n",
       "      <td>1.0</td>\n",
       "      <td>0.0</td>\n",
       "      <td>0.0</td>\n",
       "      <td>0.0</td>\n",
       "      <td>0.0</td>\n",
       "      <td>0.0</td>\n",
       "      <td>0.0</td>\n",
       "      <td>0.0</td>\n",
       "      <td>0.0</td>\n",
       "      <td>0.0</td>\n",
       "      <td>...</td>\n",
       "      <td>0.0</td>\n",
       "      <td>0.0</td>\n",
       "      <td>1.0</td>\n",
       "      <td>0.0</td>\n",
       "      <td>0.0</td>\n",
       "      <td>7.0</td>\n",
       "      <td>0.0</td>\n",
       "      <td>28279.0</td>\n",
       "      <td>8.0</td>\n",
       "      <td>550.0</td>\n",
       "    </tr>\n",
       "    <tr>\n",
       "      <th>9763</th>\n",
       "      <td>0.0</td>\n",
       "      <td>0.0</td>\n",
       "      <td>0.0</td>\n",
       "      <td>0.0</td>\n",
       "      <td>1.0</td>\n",
       "      <td>0.0</td>\n",
       "      <td>0.0</td>\n",
       "      <td>0.0</td>\n",
       "      <td>0.0</td>\n",
       "      <td>0.0</td>\n",
       "      <td>...</td>\n",
       "      <td>0.0</td>\n",
       "      <td>0.0</td>\n",
       "      <td>0.0</td>\n",
       "      <td>0.0</td>\n",
       "      <td>1.0</td>\n",
       "      <td>4.0</td>\n",
       "      <td>0.0</td>\n",
       "      <td>29000.0</td>\n",
       "      <td>4.0</td>\n",
       "      <td>600.0</td>\n",
       "    </tr>\n",
       "  </tbody>\n",
       "</table>\n",
       "<p>9764 rows × 97 columns</p>\n",
       "</div>"
      ],
      "text/plain": [
       "      building_subtype_Apartment  building_subtype_Attic  \\\n",
       "0                            0.0                     0.0   \n",
       "1                            0.0                     0.0   \n",
       "2                            0.0                     0.0   \n",
       "3                            0.0                     0.0   \n",
       "4                            1.0                     0.0   \n",
       "...                          ...                     ...   \n",
       "9759                         1.0                     0.0   \n",
       "9760                         1.0                     0.0   \n",
       "9761                         0.0                     0.0   \n",
       "9762                         1.0                     0.0   \n",
       "9763                         0.0                     0.0   \n",
       "\n",
       "      building_subtype_CountryHouse  building_subtype_Duplex  \\\n",
       "0                               0.0                      0.0   \n",
       "1                               0.0                      0.0   \n",
       "2                               0.0                      0.0   \n",
       "3                               0.0                      0.0   \n",
       "4                               0.0                      0.0   \n",
       "...                             ...                      ...   \n",
       "9759                            0.0                      0.0   \n",
       "9760                            0.0                      0.0   \n",
       "9761                            1.0                      0.0   \n",
       "9762                            0.0                      0.0   \n",
       "9763                            0.0                      0.0   \n",
       "\n",
       "      building_subtype_Flat  building_subtype_GroundFloorWithGarden  \\\n",
       "0                       0.0                                     0.0   \n",
       "1                       1.0                                     0.0   \n",
       "2                       0.0                                     0.0   \n",
       "3                       1.0                                     0.0   \n",
       "4                       0.0                                     0.0   \n",
       "...                     ...                                     ...   \n",
       "9759                    0.0                                     0.0   \n",
       "9760                    0.0                                     0.0   \n",
       "9761                    0.0                                     0.0   \n",
       "9762                    0.0                                     0.0   \n",
       "9763                    1.0                                     0.0   \n",
       "\n",
       "      building_subtype_House_Chalet  building_subtype_Loft  \\\n",
       "0                               0.0                    0.0   \n",
       "1                               0.0                    0.0   \n",
       "2                               0.0                    0.0   \n",
       "3                               0.0                    0.0   \n",
       "4                               0.0                    0.0   \n",
       "...                             ...                    ...   \n",
       "9759                            0.0                    0.0   \n",
       "9760                            0.0                    0.0   \n",
       "9761                            0.0                    0.0   \n",
       "9762                            0.0                    0.0   \n",
       "9763                            0.0                    0.0   \n",
       "\n",
       "      building_subtype_SemiDetached  building_subtype_SemidetachedHouse  ...  \\\n",
       "0                               0.0                                 0.0  ...   \n",
       "1                               0.0                                 0.0  ...   \n",
       "2                               0.0                                 0.0  ...   \n",
       "3                               0.0                                 0.0  ...   \n",
       "4                               0.0                                 0.0  ...   \n",
       "...                             ...                                 ...  ...   \n",
       "9759                            0.0                                 0.0  ...   \n",
       "9760                            0.0                                 0.0  ...   \n",
       "9761                            0.0                                 0.0  ...   \n",
       "9762                            0.0                                 0.0  ...   \n",
       "9763                            0.0                                 0.0  ...   \n",
       "\n",
       "      realestate_size_Grans  realestate_size_Mitja  \\\n",
       "0                       0.0                    0.0   \n",
       "1                       0.0                    0.0   \n",
       "2                       0.0                    0.0   \n",
       "3                       0.0                    0.0   \n",
       "4                       0.0                    0.0   \n",
       "...                     ...                    ...   \n",
       "9759                    0.0                    0.0   \n",
       "9760                    0.0                    0.0   \n",
       "9761                    0.0                    0.0   \n",
       "9762                    0.0                    0.0   \n",
       "9763                    0.0                    0.0   \n",
       "\n",
       "      realestate_size_Molt grans  realestate_size_Particular  \\\n",
       "0                            0.0                         0.0   \n",
       "1                            0.0                         0.0   \n",
       "2                            0.0                         0.0   \n",
       "3                            0.0                         0.0   \n",
       "4                            0.0                         0.0   \n",
       "...                          ...                         ...   \n",
       "9759                         1.0                         0.0   \n",
       "9760                         1.0                         0.0   \n",
       "9761                         1.0                         0.0   \n",
       "9762                         1.0                         0.0   \n",
       "9763                         0.0                         0.0   \n",
       "\n",
       "      realestate_size_Petit  bathrooms  discount    price  rooms  sqft_m2  \n",
       "0                       1.0        1.0       0.0    320.0    0.0     15.0  \n",
       "1                       1.0        1.0       0.0    400.0    2.0     63.0  \n",
       "2                       1.0        1.0       0.0    430.0    0.0     17.0  \n",
       "3                       1.0        2.0       0.0    450.0    1.0     29.0  \n",
       "4                       1.0        1.0       0.0    450.0    0.0     25.0  \n",
       "...                     ...        ...       ...      ...    ...      ...  \n",
       "9759                    0.0        1.0       0.0  22839.0    2.0     54.0  \n",
       "9760                    0.0        2.0       0.0  23092.0    3.0     85.0  \n",
       "9761                    0.0       21.0   30000.0  25000.0   21.0   2500.0  \n",
       "9762                    0.0        7.0       0.0  28279.0    8.0    550.0  \n",
       "9763                    1.0        4.0       0.0  29000.0    4.0    600.0  \n",
       "\n",
       "[9764 rows x 97 columns]"
      ]
     },
     "execution_count": 282,
     "metadata": {},
     "output_type": "execute_result"
    }
   ],
   "source": [
    "from sklearn.compose import ColumnTransformer\n",
    "from sklearn.preprocessing import OneHotEncoder\n",
    "\n",
    "cat_labels = apartments_regression.select_dtypes(include=['object', 'category','bool']).columns.to_list()\n",
    "numeric_labels = apartments_regression.select_dtypes(include=['float64', 'int']).columns.to_list()\n",
    "\n",
    "\n",
    "preprocessor = ColumnTransformer([('encoder', OneHotEncoder(), cat_labels)],\n",
    "                    remainder='passthrough'\n",
    "               )\n",
    "\n",
    "apartments_regression_cod = preprocessor.fit_transform(apartments_regression)\n",
    "\n",
    "cat_labels_encoded = preprocessor.named_transformers_['encoder'].get_feature_names(cat_labels)\n",
    "\n",
    "new_labels = np.concatenate([cat_labels_encoded,numeric_labels])\n",
    "\n",
    "apartments_regression_cod = pd.DataFrame(apartments_regression_cod.todense(), columns=new_labels)\n",
    "apartments_regression_cod"
   ]
  },
  {
   "cell_type": "code",
   "execution_count": 283,
   "metadata": {},
   "outputs": [
    {
     "data": {
      "text/html": [
       "<table class=\"simpletable\">\n",
       "<caption>OLS Regression Results</caption>\n",
       "<tr>\n",
       "  <th>Dep. Variable:</th>          <td>price</td>      <th>  R-squared:         </th> <td>   0.595</td> \n",
       "</tr>\n",
       "<tr>\n",
       "  <th>Model:</th>                   <td>OLS</td>       <th>  Adj. R-squared:    </th> <td>   0.591</td> \n",
       "</tr>\n",
       "<tr>\n",
       "  <th>Method:</th>             <td>Least Squares</td>  <th>  F-statistic:       </th> <td>   157.9</td> \n",
       "</tr>\n",
       "<tr>\n",
       "  <th>Date:</th>             <td>Sat, 19 Dec 2020</td> <th>  Prob (F-statistic):</th>  <td>  0.00</td>  \n",
       "</tr>\n",
       "<tr>\n",
       "  <th>Time:</th>                 <td>02:24:34</td>     <th>  Log-Likelihood:    </th> <td> -79355.</td> \n",
       "</tr>\n",
       "<tr>\n",
       "  <th>No. Observations:</th>      <td>  9764</td>      <th>  AIC:               </th> <td>1.589e+05</td>\n",
       "</tr>\n",
       "<tr>\n",
       "  <th>Df Residuals:</th>          <td>  9673</td>      <th>  BIC:               </th> <td>1.595e+05</td>\n",
       "</tr>\n",
       "<tr>\n",
       "  <th>Df Model:</th>              <td>    90</td>      <th>                     </th>     <td> </td>    \n",
       "</tr>\n",
       "<tr>\n",
       "  <th>Covariance Type:</th>      <td>nonrobust</td>    <th>                     </th>     <td> </td>    \n",
       "</tr>\n",
       "</table>\n",
       "<table class=\"simpletable\">\n",
       "<tr>\n",
       "                               <td></td>                                 <th>coef</th>     <th>std err</th>      <th>t</th>      <th>P>|t|</th>  <th>[0.025</th>    <th>0.975]</th>  \n",
       "</tr>\n",
       "<tr>\n",
       "  <th>building_subtype_Apartment</th>                                 <td> 1966.9313</td> <td>  140.274</td> <td>   14.022</td> <td> 0.000</td> <td> 1691.965</td> <td> 2241.897</td>\n",
       "</tr>\n",
       "<tr>\n",
       "  <th>building_subtype_Attic</th>                                     <td> 1874.7437</td> <td>  142.756</td> <td>   13.132</td> <td> 0.000</td> <td> 1594.912</td> <td> 2154.576</td>\n",
       "</tr>\n",
       "<tr>\n",
       "  <th>building_subtype_CountryHouse</th>                              <td>-1.836e+04</td> <td> 1369.860</td> <td>  -13.402</td> <td> 0.000</td> <td> -2.1e+04</td> <td>-1.57e+04</td>\n",
       "</tr>\n",
       "<tr>\n",
       "  <th>building_subtype_Duplex</th>                                    <td> 1576.9783</td> <td>  149.920</td> <td>   10.519</td> <td> 0.000</td> <td> 1283.104</td> <td> 1870.853</td>\n",
       "</tr>\n",
       "<tr>\n",
       "  <th>building_subtype_Flat</th>                                      <td> 1544.8037</td> <td>  139.066</td> <td>   11.108</td> <td> 0.000</td> <td> 1272.206</td> <td> 1817.402</td>\n",
       "</tr>\n",
       "<tr>\n",
       "  <th>building_subtype_GroundFloorWithGarden</th>                     <td> 1651.1624</td> <td>  181.881</td> <td>    9.078</td> <td> 0.000</td> <td> 1294.637</td> <td> 2007.688</td>\n",
       "</tr>\n",
       "<tr>\n",
       "  <th>building_subtype_House_Chalet</th>                              <td> 2142.9416</td> <td>  165.064</td> <td>   12.983</td> <td> 0.000</td> <td> 1819.382</td> <td> 2466.501</td>\n",
       "</tr>\n",
       "<tr>\n",
       "  <th>building_subtype_Loft</th>                                      <td> 1741.4019</td> <td>  151.487</td> <td>   11.495</td> <td> 0.000</td> <td> 1444.455</td> <td> 2038.348</td>\n",
       "</tr>\n",
       "<tr>\n",
       "  <th>building_subtype_SemiDetached</th>                              <td> 2573.6427</td> <td>  372.433</td> <td>    6.910</td> <td> 0.000</td> <td> 1843.595</td> <td> 3303.690</td>\n",
       "</tr>\n",
       "<tr>\n",
       "  <th>building_subtype_SemidetachedHouse</th>                         <td> 1026.6869</td> <td>  255.913</td> <td>    4.012</td> <td> 0.000</td> <td>  525.044</td> <td> 1528.330</td>\n",
       "</tr>\n",
       "<tr>\n",
       "  <th>building_subtype_Study</th>                                     <td> 1567.6828</td> <td>  156.865</td> <td>    9.994</td> <td> 0.000</td> <td> 1260.194</td> <td> 1875.171</td>\n",
       "</tr>\n",
       "<tr>\n",
       "  <th>conservation_state_-1.0</th>                                    <td>  -52.1125</td> <td>   59.119</td> <td>   -0.881</td> <td> 0.378</td> <td> -167.997</td> <td>   63.772</td>\n",
       "</tr>\n",
       "<tr>\n",
       "  <th>conservation_state_1.0</th>                                     <td>  -18.9703</td> <td>   60.525</td> <td>   -0.313</td> <td> 0.754</td> <td> -137.611</td> <td>   99.671</td>\n",
       "</tr>\n",
       "<tr>\n",
       "  <th>conservation_state_2.0</th>                                     <td>  -62.1951</td> <td>   61.094</td> <td>   -1.018</td> <td> 0.309</td> <td> -181.951</td> <td>   57.561</td>\n",
       "</tr>\n",
       "<tr>\n",
       "  <th>conservation_state_3.0</th>                                     <td> -100.8410</td> <td>   61.528</td> <td>   -1.639</td> <td> 0.101</td> <td> -221.450</td> <td>   19.768</td>\n",
       "</tr>\n",
       "<tr>\n",
       "  <th>conservation_state_4.0</th>                                     <td> -420.6374</td> <td>  227.377</td> <td>   -1.850</td> <td> 0.064</td> <td> -866.345</td> <td>   25.070</td>\n",
       "</tr>\n",
       "<tr>\n",
       "  <th>conservation_state_8.0</th>                                     <td>  -36.7623</td> <td>  230.010</td> <td>   -0.160</td> <td> 0.873</td> <td> -487.630</td> <td>  414.105</td>\n",
       "</tr>\n",
       "<tr>\n",
       "  <th>floor_elevator_False</th>                                       <td> -326.8931</td> <td>   58.313</td> <td>   -5.606</td> <td> 0.000</td> <td> -441.199</td> <td> -212.587</td>\n",
       "</tr>\n",
       "<tr>\n",
       "  <th>floor_elevator_True</th>                                        <td> -364.6255</td> <td>   59.686</td> <td>   -6.109</td> <td> 0.000</td> <td> -481.622</td> <td> -247.629</td>\n",
       "</tr>\n",
       "<tr>\n",
       "  <th>is_new_construction_False</th>                                  <td>-1013.9400</td> <td>   63.642</td> <td>  -15.932</td> <td> 0.000</td> <td>-1138.692</td> <td> -889.188</td>\n",
       "</tr>\n",
       "<tr>\n",
       "  <th>is_new_construction_True</th>                                   <td>  322.4215</td> <td>   79.049</td> <td>    4.079</td> <td> 0.000</td> <td>  167.468</td> <td>  477.375</td>\n",
       "</tr>\n",
       "<tr>\n",
       "  <th>neighbourhood_can baró</th>                                     <td> -198.3134</td> <td>  199.505</td> <td>   -0.994</td> <td> 0.320</td> <td> -589.385</td> <td>  192.758</td>\n",
       "</tr>\n",
       "<tr>\n",
       "  <th>neighbourhood_can peguera</th>                                  <td>  -10.7664</td> <td>  811.760</td> <td>   -0.013</td> <td> 0.989</td> <td>-1601.985</td> <td> 1580.452</td>\n",
       "</tr>\n",
       "<tr>\n",
       "  <th>neighbourhood_canyelles</th>                                    <td> -257.5109</td> <td>  574.475</td> <td>   -0.448</td> <td> 0.654</td> <td>-1383.603</td> <td>  868.581</td>\n",
       "</tr>\n",
       "<tr>\n",
       "  <th>neighbourhood_ciutat meridiana</th>                             <td> -165.9916</td> <td>  811.612</td> <td>   -0.205</td> <td> 0.838</td> <td>-1756.921</td> <td> 1424.938</td>\n",
       "</tr>\n",
       "<tr>\n",
       "  <th>neighbourhood_diagonal mar i el front marítim del poblenou</th> <td>  734.0839</td> <td>   90.263</td> <td>    8.133</td> <td> 0.000</td> <td>  557.149</td> <td>  911.019</td>\n",
       "</tr>\n",
       "<tr>\n",
       "  <th>neighbourhood_el baix guinardó</th>                             <td>  -81.0063</td> <td>   87.377</td> <td>   -0.927</td> <td> 0.354</td> <td> -252.284</td> <td>   90.272</td>\n",
       "</tr>\n",
       "<tr>\n",
       "  <th>neighbourhood_el barri gòtic</th>                               <td>  -51.1299</td> <td>   46.679</td> <td>   -1.095</td> <td> 0.273</td> <td> -142.630</td> <td>   40.370</td>\n",
       "</tr>\n",
       "<tr>\n",
       "  <th>neighbourhood_el besòs i el maresme</th>                        <td>    8.5030</td> <td>  132.225</td> <td>    0.064</td> <td> 0.949</td> <td> -250.685</td> <td>  267.691</td>\n",
       "</tr>\n",
       "<tr>\n",
       "  <th>neighbourhood_el bon pastor</th>                                <td>  -59.9877</td> <td>  469.344</td> <td>   -0.128</td> <td> 0.898</td> <td> -980.001</td> <td>  860.025</td>\n",
       "</tr>\n",
       "<tr>\n",
       "  <th>neighbourhood_el camp d'en grassot i gràcia nova</th>           <td>  -94.9975</td> <td>   70.151</td> <td>   -1.354</td> <td> 0.176</td> <td> -232.509</td> <td>   42.514</td>\n",
       "</tr>\n",
       "<tr>\n",
       "  <th>neighbourhood_el camp de l'arpa del clot</th>                   <td> -109.6218</td> <td>   64.313</td> <td>   -1.705</td> <td> 0.088</td> <td> -235.688</td> <td>   16.445</td>\n",
       "</tr>\n",
       "<tr>\n",
       "  <th>neighbourhood_el carmel</th>                                    <td> -182.9703</td> <td>  126.607</td> <td>   -1.445</td> <td> 0.148</td> <td> -431.146</td> <td>   65.205</td>\n",
       "</tr>\n",
       "<tr>\n",
       "  <th>neighbourhood_el clot</th>                                      <td> -108.9470</td> <td>  101.507</td> <td>   -1.073</td> <td> 0.283</td> <td> -307.922</td> <td>   90.028</td>\n",
       "</tr>\n",
       "<tr>\n",
       "  <th>neighbourhood_el coll</th>                                      <td> -143.7702</td> <td>  133.972</td> <td>   -1.073</td> <td> 0.283</td> <td> -406.383</td> <td>  118.842</td>\n",
       "</tr>\n",
       "<tr>\n",
       "  <th>neighbourhood_el congrés i els indians</th>                     <td> -113.2809</td> <td>  140.924</td> <td>   -0.804</td> <td> 0.422</td> <td> -389.522</td> <td>  162.960</td>\n",
       "</tr>\n",
       "<tr>\n",
       "  <th>neighbourhood_el fort pienc</th>                                <td>  -85.1035</td> <td>   66.936</td> <td>   -1.271</td> <td> 0.204</td> <td> -216.312</td> <td>   46.105</td>\n",
       "</tr>\n",
       "<tr>\n",
       "  <th>neighbourhood_el guinardó</th>                                  <td> -158.7499</td> <td>   82.249</td> <td>   -1.930</td> <td> 0.054</td> <td> -319.975</td> <td>    2.475</td>\n",
       "</tr>\n",
       "<tr>\n",
       "  <th>neighbourhood_el parc i la llacuna del poblenou</th>            <td>  -54.4369</td> <td>   90.676</td> <td>   -0.600</td> <td> 0.548</td> <td> -232.181</td> <td>  123.307</td>\n",
       "</tr>\n",
       "<tr>\n",
       "  <th>neighbourhood_el poble sec - aei parc montjuïc</th>             <td>  -71.9433</td> <td>   61.859</td> <td>   -1.163</td> <td> 0.245</td> <td> -193.199</td> <td>   49.312</td>\n",
       "</tr>\n",
       "<tr>\n",
       "  <th>neighbourhood_el poblenou</th>                                  <td>   32.4917</td> <td>   58.767</td> <td>    0.553</td> <td> 0.580</td> <td>  -82.704</td> <td>  147.687</td>\n",
       "</tr>\n",
       "<tr>\n",
       "  <th>neighbourhood_el putxet i el farró</th>                         <td> -108.0867</td> <td>   56.245</td> <td>   -1.922</td> <td> 0.055</td> <td> -218.340</td> <td>    2.166</td>\n",
       "</tr>\n",
       "<tr>\n",
       "  <th>neighbourhood_el raval</th>                                     <td> -148.1495</td> <td>   48.281</td> <td>   -3.068</td> <td> 0.002</td> <td> -242.790</td> <td>  -53.509</td>\n",
       "</tr>\n",
       "<tr>\n",
       "  <th>neighbourhood_el turó de la peira</th>                          <td>  -62.1333</td> <td>  151.650</td> <td>   -0.410</td> <td> 0.682</td> <td> -359.398</td> <td>  235.132</td>\n",
       "</tr>\n",
       "<tr>\n",
       "  <th>neighbourhood_horta</th>                                        <td>  -73.6670</td> <td>  135.562</td> <td>   -0.543</td> <td> 0.587</td> <td> -339.397</td> <td>  192.063</td>\n",
       "</tr>\n",
       "<tr>\n",
       "  <th>neighbourhood_hostafrancs</th>                                  <td>  596.4894</td> <td>  108.877</td> <td>    5.479</td> <td> 0.000</td> <td>  383.068</td> <td>  809.911</td>\n",
       "</tr>\n",
       "<tr>\n",
       "  <th>neighbourhood_l'antiga esquerra de l'eixample</th>              <td>   59.8973</td> <td>   47.716</td> <td>    1.255</td> <td> 0.209</td> <td>  -33.635</td> <td>  153.430</td>\n",
       "</tr>\n",
       "<tr>\n",
       "  <th>neighbourhood_la barceloneta</th>                               <td>   42.4159</td> <td>   64.379</td> <td>    0.659</td> <td> 0.510</td> <td>  -83.780</td> <td>  168.612</td>\n",
       "</tr>\n",
       "<tr>\n",
       "  <th>neighbourhood_la bordeta</th>                                   <td> -127.1951</td> <td>  111.317</td> <td>   -1.143</td> <td> 0.253</td> <td> -345.400</td> <td>   91.010</td>\n",
       "</tr>\n",
       "<tr>\n",
       "  <th>neighbourhood_la dreta de l'eixample</th>                       <td>  233.0018</td> <td>   42.963</td> <td>    5.423</td> <td> 0.000</td> <td>  148.784</td> <td>  317.219</td>\n",
       "</tr>\n",
       "<tr>\n",
       "  <th>neighbourhood_la font d'en fargues</th>                         <td> 2187.3647</td> <td>  236.773</td> <td>    9.238</td> <td> 0.000</td> <td> 1723.240</td> <td> 2651.489</td>\n",
       "</tr>\n",
       "<tr>\n",
       "  <th>neighbourhood_la font de la guatlla</th>                        <td> -101.5140</td> <td>  130.876</td> <td>   -0.776</td> <td> 0.438</td> <td> -358.058</td> <td>  155.030</td>\n",
       "</tr>\n",
       "<tr>\n",
       "  <th>neighbourhood_la guineueta</th>                                 <td>  -66.0456</td> <td>  308.417</td> <td>   -0.214</td> <td> 0.830</td> <td> -670.607</td> <td>  538.516</td>\n",
       "</tr>\n",
       "<tr>\n",
       "  <th>neighbourhood_la marina de port</th>                            <td> -326.2008</td> <td>  137.261</td> <td>   -2.377</td> <td> 0.017</td> <td> -595.260</td> <td>  -57.141</td>\n",
       "</tr>\n",
       "<tr>\n",
       "  <th>neighbourhood_la maternitat i sant ramon</th>                   <td> -164.1869</td> <td>   68.569</td> <td>   -2.394</td> <td> 0.017</td> <td> -298.597</td> <td>  -29.776</td>\n",
       "</tr>\n",
       "<tr>\n",
       "  <th>neighbourhood_la nova esquerra de l'eixample</th>               <td>   -1.5073</td> <td>   50.518</td> <td>   -0.030</td> <td> 0.976</td> <td> -100.534</td> <td>   97.519</td>\n",
       "</tr>\n",
       "<tr>\n",
       "  <th>neighbourhood_la prosperitat</th>                               <td> -213.1810</td> <td>  194.332</td> <td>   -1.097</td> <td> 0.273</td> <td> -594.112</td> <td>  167.750</td>\n",
       "</tr>\n",
       "<tr>\n",
       "  <th>neighbourhood_la sagrada família</th>                           <td>  -32.1646</td> <td>   52.646</td> <td>   -0.611</td> <td> 0.541</td> <td> -135.362</td> <td>   71.033</td>\n",
       "</tr>\n",
       "<tr>\n",
       "  <th>neighbourhood_la sagrera</th>                                   <td>  -89.3869</td> <td>  141.041</td> <td>   -0.634</td> <td> 0.526</td> <td> -365.857</td> <td>  187.083</td>\n",
       "</tr>\n",
       "<tr>\n",
       "  <th>neighbourhood_la salut</th>                                     <td>  -98.7176</td> <td>  108.752</td> <td>   -0.908</td> <td> 0.364</td> <td> -311.894</td> <td>  114.459</td>\n",
       "</tr>\n",
       "<tr>\n",
       "  <th>neighbourhood_la teixonera</th>                                 <td> -586.2300</td> <td>  149.902</td> <td>   -3.911</td> <td> 0.000</td> <td> -880.069</td> <td> -292.391</td>\n",
       "</tr>\n",
       "<tr>\n",
       "  <th>neighbourhood_la trinitat nova</th>                             <td> -287.4149</td> <td>  407.026</td> <td>   -0.706</td> <td> 0.480</td> <td>-1085.271</td> <td>  510.441</td>\n",
       "</tr>\n",
       "<tr>\n",
       "  <th>neighbourhood_la trinitat vella</th>                            <td> -205.0952</td> <td>  272.614</td> <td>   -0.752</td> <td> 0.452</td> <td> -739.476</td> <td>  329.286</td>\n",
       "</tr>\n",
       "<tr>\n",
       "  <th>neighbourhood_la vall d'hebron</th>                             <td> -362.0428</td> <td>  574.412</td> <td>   -0.630</td> <td> 0.529</td> <td>-1488.011</td> <td>  763.926</td>\n",
       "</tr>\n",
       "<tr>\n",
       "  <th>neighbourhood_la verneda i la pau</th>                          <td> -135.9163</td> <td>  199.576</td> <td>   -0.681</td> <td> 0.496</td> <td> -527.127</td> <td>  255.294</td>\n",
       "</tr>\n",
       "<tr>\n",
       "  <th>neighbourhood_la vila de gràcia</th>                            <td>   71.5025</td> <td>   48.472</td> <td>    1.475</td> <td> 0.140</td> <td>  -23.513</td> <td>  166.518</td>\n",
       "</tr>\n",
       "<tr>\n",
       "  <th>neighbourhood_les corts</th>                                    <td>    4.3138</td> <td>   59.487</td> <td>    0.073</td> <td> 0.942</td> <td> -112.293</td> <td>  120.921</td>\n",
       "</tr>\n",
       "<tr>\n",
       "  <th>neighbourhood_les roquetes</th>                                 <td> -151.3758</td> <td>  333.358</td> <td>   -0.454</td> <td> 0.650</td> <td> -804.827</td> <td>  502.075</td>\n",
       "</tr>\n",
       "<tr>\n",
       "  <th>neighbourhood_les tres torres</th>                              <td>   57.6697</td> <td>   88.189</td> <td>    0.654</td> <td> 0.513</td> <td> -115.200</td> <td>  230.539</td>\n",
       "</tr>\n",
       "<tr>\n",
       "  <th>neighbourhood_montbau</th>                                      <td>   -4.7893</td> <td>  364.437</td> <td>   -0.013</td> <td> 0.990</td> <td> -719.162</td> <td>  709.583</td>\n",
       "</tr>\n",
       "<tr>\n",
       "  <th>neighbourhood_navas</th>                                        <td>  -72.0668</td> <td>  109.794</td> <td>   -0.656</td> <td> 0.512</td> <td> -287.286</td> <td>  143.153</td>\n",
       "</tr>\n",
       "<tr>\n",
       "  <th>neighbourhood_pedralbes</th>                                    <td>  287.4525</td> <td>   92.933</td> <td>    3.093</td> <td> 0.002</td> <td>  105.284</td> <td>  469.621</td>\n",
       "</tr>\n",
       "<tr>\n",
       "  <th>neighbourhood_porta</th>                                        <td>  -69.0167</td> <td>  176.130</td> <td>   -0.392</td> <td> 0.695</td> <td> -414.269</td> <td>  276.235</td>\n",
       "</tr>\n",
       "<tr>\n",
       "  <th>neighbourhood_sant andreu</th>                                  <td> -160.4625</td> <td>  112.240</td> <td>   -1.430</td> <td> 0.153</td> <td> -380.477</td> <td>   59.552</td>\n",
       "</tr>\n",
       "<tr>\n",
       "  <th>neighbourhood_sant antoni</th>                                  <td>  -79.6247</td> <td>   55.650</td> <td>   -1.431</td> <td> 0.153</td> <td> -188.711</td> <td>   29.462</td>\n",
       "</tr>\n",
       "<tr>\n",
       "  <th>neighbourhood_sant genís dels agudells</th>                     <td>  526.6828</td> <td>  364.937</td> <td>    1.443</td> <td> 0.149</td> <td> -188.671</td> <td> 1242.037</td>\n",
       "</tr>\n",
       "<tr>\n",
       "  <th>neighbourhood_sant gervasi - galvany</th>                       <td>  181.4897</td> <td>   47.625</td> <td>    3.811</td> <td> 0.000</td> <td>   88.134</td> <td>  274.846</td>\n",
       "</tr>\n",
       "<tr>\n",
       "  <th>neighbourhood_sant gervasi - la bonanova</th>                   <td>  222.2683</td> <td>   63.935</td> <td>    3.476</td> <td> 0.001</td> <td>   96.943</td> <td>  347.594</td>\n",
       "</tr>\n",
       "<tr>\n",
       "  <th>neighbourhood_sant martí de provençals</th>                     <td> -145.0842</td> <td>  145.040</td> <td>   -1.000</td> <td> 0.317</td> <td> -429.393</td> <td>  139.224</td>\n",
       "</tr>\n",
       "<tr>\n",
       "  <th>neighbourhood_sant pere, santa caterina i la ribera</th>        <td>  -25.1701</td> <td>   48.089</td> <td>   -0.523</td> <td> 0.601</td> <td> -119.434</td> <td>   69.094</td>\n",
       "</tr>\n",
       "<tr>\n",
       "  <th>neighbourhood_sants</th>                                        <td> -129.9863</td> <td>   57.378</td> <td>   -2.265</td> <td> 0.024</td> <td> -242.459</td> <td>  -17.513</td>\n",
       "</tr>\n",
       "<tr>\n",
       "  <th>neighbourhood_sarrià</th>                                       <td>  257.7697</td> <td>   67.669</td> <td>    3.809</td> <td> 0.000</td> <td>  125.123</td> <td>  390.416</td>\n",
       "</tr>\n",
       "<tr>\n",
       "  <th>neighbourhood_torre baró</th>                                   <td> -138.3700</td> <td>  815.271</td> <td>   -0.170</td> <td> 0.865</td> <td>-1736.471</td> <td> 1459.731</td>\n",
       "</tr>\n",
       "<tr>\n",
       "  <th>neighbourhood_vallcarca i els penitents</th>                    <td>  -31.3328</td> <td>  108.964</td> <td>   -0.288</td> <td> 0.774</td> <td> -244.926</td> <td>  182.260</td>\n",
       "</tr>\n",
       "<tr>\n",
       "  <th>neighbourhood_vallvidrera, el tibidabo i les planes</th>        <td>   21.5536</td> <td>  195.840</td> <td>    0.110</td> <td> 0.912</td> <td> -362.334</td> <td>  405.441</td>\n",
       "</tr>\n",
       "<tr>\n",
       "  <th>neighbourhood_verdun</th>                                       <td>   60.2572</td> <td>  469.337</td> <td>    0.128</td> <td> 0.898</td> <td> -859.741</td> <td>  980.256</td>\n",
       "</tr>\n",
       "<tr>\n",
       "  <th>neighbourhood_vilapicina i la torre llobeta</th>                <td> -132.0840</td> <td>  135.505</td> <td>   -0.975</td> <td> 0.330</td> <td> -397.703</td> <td>  133.535</td>\n",
       "</tr>\n",
       "<tr>\n",
       "  <th>realestate_size_Grans</th>                                      <td>  -45.7021</td> <td>   30.078</td> <td>   -1.519</td> <td> 0.129</td> <td> -104.662</td> <td>   13.257</td>\n",
       "</tr>\n",
       "<tr>\n",
       "  <th>realestate_size_Mitja</th>                                      <td> -216.7015</td> <td>   28.914</td> <td>   -7.495</td> <td> 0.000</td> <td> -273.378</td> <td> -160.025</td>\n",
       "</tr>\n",
       "<tr>\n",
       "  <th>realestate_size_Molt grans</th>                                 <td>   84.0650</td> <td>   30.419</td> <td>    2.764</td> <td> 0.006</td> <td>   24.438</td> <td>  143.692</td>\n",
       "</tr>\n",
       "<tr>\n",
       "  <th>realestate_size_Particular</th>                                 <td> -272.3555</td> <td>   43.143</td> <td>   -6.313</td> <td> 0.000</td> <td> -356.926</td> <td> -187.785</td>\n",
       "</tr>\n",
       "<tr>\n",
       "  <th>realestate_size_Petit</th>                                      <td> -240.8244</td> <td>   29.341</td> <td>   -8.208</td> <td> 0.000</td> <td> -298.339</td> <td> -183.309</td>\n",
       "</tr>\n",
       "<tr>\n",
       "  <th>bathrooms</th>                                                  <td>  296.2016</td> <td>   17.226</td> <td>   17.195</td> <td> 0.000</td> <td>  262.435</td> <td>  329.968</td>\n",
       "</tr>\n",
       "<tr>\n",
       "  <th>discount</th>                                                   <td>    0.3117</td> <td>    0.040</td> <td>    7.806</td> <td> 0.000</td> <td>    0.233</td> <td>    0.390</td>\n",
       "</tr>\n",
       "<tr>\n",
       "  <th>rooms</th>                                                      <td>  -44.2363</td> <td>   10.244</td> <td>   -4.318</td> <td> 0.000</td> <td>  -64.316</td> <td>  -24.156</td>\n",
       "</tr>\n",
       "<tr>\n",
       "  <th>sqft_m2</th>                                                    <td>   11.1224</td> <td>    0.220</td> <td>   50.513</td> <td> 0.000</td> <td>   10.691</td> <td>   11.554</td>\n",
       "</tr>\n",
       "</table>\n",
       "<table class=\"simpletable\">\n",
       "<tr>\n",
       "  <th>Omnibus:</th>       <td>14884.068</td> <th>  Durbin-Watson:     </th>   <td>   0.944</td>  \n",
       "</tr>\n",
       "<tr>\n",
       "  <th>Prob(Omnibus):</th>  <td> 0.000</td>   <th>  Jarque-Bera (JB):  </th> <td>21817769.847</td>\n",
       "</tr>\n",
       "<tr>\n",
       "  <th>Skew:</th>           <td> 9.049</td>   <th>  Prob(JB):          </th>   <td>    0.00</td>  \n",
       "</tr>\n",
       "<tr>\n",
       "  <th>Kurtosis:</th>       <td>233.869</td>  <th>  Cond. No.          </th>   <td>1.60e+17</td>  \n",
       "</tr>\n",
       "</table><br/><br/>Notes:<br/>[1] Standard Errors assume that the covariance matrix of the errors is correctly specified.<br/>[2] The smallest eigenvalue is 5.44e-26. This might indicate that there are<br/>strong multicollinearity problems or that the design matrix is singular."
      ],
      "text/plain": [
       "<class 'statsmodels.iolib.summary.Summary'>\n",
       "\"\"\"\n",
       "                            OLS Regression Results                            \n",
       "==============================================================================\n",
       "Dep. Variable:                  price   R-squared:                       0.595\n",
       "Model:                            OLS   Adj. R-squared:                  0.591\n",
       "Method:                 Least Squares   F-statistic:                     157.9\n",
       "Date:                Sat, 19 Dec 2020   Prob (F-statistic):               0.00\n",
       "Time:                        02:24:34   Log-Likelihood:                -79355.\n",
       "No. Observations:                9764   AIC:                         1.589e+05\n",
       "Df Residuals:                    9673   BIC:                         1.595e+05\n",
       "Df Model:                          90                                         \n",
       "Covariance Type:            nonrobust                                         \n",
       "==============================================================================================================================\n",
       "                                                                 coef    std err          t      P>|t|      [0.025      0.975]\n",
       "------------------------------------------------------------------------------------------------------------------------------\n",
       "building_subtype_Apartment                                  1966.9313    140.274     14.022      0.000    1691.965    2241.897\n",
       "building_subtype_Attic                                      1874.7437    142.756     13.132      0.000    1594.912    2154.576\n",
       "building_subtype_CountryHouse                              -1.836e+04   1369.860    -13.402      0.000    -2.1e+04   -1.57e+04\n",
       "building_subtype_Duplex                                     1576.9783    149.920     10.519      0.000    1283.104    1870.853\n",
       "building_subtype_Flat                                       1544.8037    139.066     11.108      0.000    1272.206    1817.402\n",
       "building_subtype_GroundFloorWithGarden                      1651.1624    181.881      9.078      0.000    1294.637    2007.688\n",
       "building_subtype_House_Chalet                               2142.9416    165.064     12.983      0.000    1819.382    2466.501\n",
       "building_subtype_Loft                                       1741.4019    151.487     11.495      0.000    1444.455    2038.348\n",
       "building_subtype_SemiDetached                               2573.6427    372.433      6.910      0.000    1843.595    3303.690\n",
       "building_subtype_SemidetachedHouse                          1026.6869    255.913      4.012      0.000     525.044    1528.330\n",
       "building_subtype_Study                                      1567.6828    156.865      9.994      0.000    1260.194    1875.171\n",
       "conservation_state_-1.0                                      -52.1125     59.119     -0.881      0.378    -167.997      63.772\n",
       "conservation_state_1.0                                       -18.9703     60.525     -0.313      0.754    -137.611      99.671\n",
       "conservation_state_2.0                                       -62.1951     61.094     -1.018      0.309    -181.951      57.561\n",
       "conservation_state_3.0                                      -100.8410     61.528     -1.639      0.101    -221.450      19.768\n",
       "conservation_state_4.0                                      -420.6374    227.377     -1.850      0.064    -866.345      25.070\n",
       "conservation_state_8.0                                       -36.7623    230.010     -0.160      0.873    -487.630     414.105\n",
       "floor_elevator_False                                        -326.8931     58.313     -5.606      0.000    -441.199    -212.587\n",
       "floor_elevator_True                                         -364.6255     59.686     -6.109      0.000    -481.622    -247.629\n",
       "is_new_construction_False                                  -1013.9400     63.642    -15.932      0.000   -1138.692    -889.188\n",
       "is_new_construction_True                                     322.4215     79.049      4.079      0.000     167.468     477.375\n",
       "neighbourhood_can baró                                      -198.3134    199.505     -0.994      0.320    -589.385     192.758\n",
       "neighbourhood_can peguera                                    -10.7664    811.760     -0.013      0.989   -1601.985    1580.452\n",
       "neighbourhood_canyelles                                     -257.5109    574.475     -0.448      0.654   -1383.603     868.581\n",
       "neighbourhood_ciutat meridiana                              -165.9916    811.612     -0.205      0.838   -1756.921    1424.938\n",
       "neighbourhood_diagonal mar i el front marítim del poblenou   734.0839     90.263      8.133      0.000     557.149     911.019\n",
       "neighbourhood_el baix guinardó                               -81.0063     87.377     -0.927      0.354    -252.284      90.272\n",
       "neighbourhood_el barri gòtic                                 -51.1299     46.679     -1.095      0.273    -142.630      40.370\n",
       "neighbourhood_el besòs i el maresme                            8.5030    132.225      0.064      0.949    -250.685     267.691\n",
       "neighbourhood_el bon pastor                                  -59.9877    469.344     -0.128      0.898    -980.001     860.025\n",
       "neighbourhood_el camp d'en grassot i gràcia nova             -94.9975     70.151     -1.354      0.176    -232.509      42.514\n",
       "neighbourhood_el camp de l'arpa del clot                    -109.6218     64.313     -1.705      0.088    -235.688      16.445\n",
       "neighbourhood_el carmel                                     -182.9703    126.607     -1.445      0.148    -431.146      65.205\n",
       "neighbourhood_el clot                                       -108.9470    101.507     -1.073      0.283    -307.922      90.028\n",
       "neighbourhood_el coll                                       -143.7702    133.972     -1.073      0.283    -406.383     118.842\n",
       "neighbourhood_el congrés i els indians                      -113.2809    140.924     -0.804      0.422    -389.522     162.960\n",
       "neighbourhood_el fort pienc                                  -85.1035     66.936     -1.271      0.204    -216.312      46.105\n",
       "neighbourhood_el guinardó                                   -158.7499     82.249     -1.930      0.054    -319.975       2.475\n",
       "neighbourhood_el parc i la llacuna del poblenou              -54.4369     90.676     -0.600      0.548    -232.181     123.307\n",
       "neighbourhood_el poble sec - aei parc montjuïc               -71.9433     61.859     -1.163      0.245    -193.199      49.312\n",
       "neighbourhood_el poblenou                                     32.4917     58.767      0.553      0.580     -82.704     147.687\n",
       "neighbourhood_el putxet i el farró                          -108.0867     56.245     -1.922      0.055    -218.340       2.166\n",
       "neighbourhood_el raval                                      -148.1495     48.281     -3.068      0.002    -242.790     -53.509\n",
       "neighbourhood_el turó de la peira                            -62.1333    151.650     -0.410      0.682    -359.398     235.132\n",
       "neighbourhood_horta                                          -73.6670    135.562     -0.543      0.587    -339.397     192.063\n",
       "neighbourhood_hostafrancs                                    596.4894    108.877      5.479      0.000     383.068     809.911\n",
       "neighbourhood_l'antiga esquerra de l'eixample                 59.8973     47.716      1.255      0.209     -33.635     153.430\n",
       "neighbourhood_la barceloneta                                  42.4159     64.379      0.659      0.510     -83.780     168.612\n",
       "neighbourhood_la bordeta                                    -127.1951    111.317     -1.143      0.253    -345.400      91.010\n",
       "neighbourhood_la dreta de l'eixample                         233.0018     42.963      5.423      0.000     148.784     317.219\n",
       "neighbourhood_la font d'en fargues                          2187.3647    236.773      9.238      0.000    1723.240    2651.489\n",
       "neighbourhood_la font de la guatlla                         -101.5140    130.876     -0.776      0.438    -358.058     155.030\n",
       "neighbourhood_la guineueta                                   -66.0456    308.417     -0.214      0.830    -670.607     538.516\n",
       "neighbourhood_la marina de port                             -326.2008    137.261     -2.377      0.017    -595.260     -57.141\n",
       "neighbourhood_la maternitat i sant ramon                    -164.1869     68.569     -2.394      0.017    -298.597     -29.776\n",
       "neighbourhood_la nova esquerra de l'eixample                  -1.5073     50.518     -0.030      0.976    -100.534      97.519\n",
       "neighbourhood_la prosperitat                                -213.1810    194.332     -1.097      0.273    -594.112     167.750\n",
       "neighbourhood_la sagrada família                             -32.1646     52.646     -0.611      0.541    -135.362      71.033\n",
       "neighbourhood_la sagrera                                     -89.3869    141.041     -0.634      0.526    -365.857     187.083\n",
       "neighbourhood_la salut                                       -98.7176    108.752     -0.908      0.364    -311.894     114.459\n",
       "neighbourhood_la teixonera                                  -586.2300    149.902     -3.911      0.000    -880.069    -292.391\n",
       "neighbourhood_la trinitat nova                              -287.4149    407.026     -0.706      0.480   -1085.271     510.441\n",
       "neighbourhood_la trinitat vella                             -205.0952    272.614     -0.752      0.452    -739.476     329.286\n",
       "neighbourhood_la vall d'hebron                              -362.0428    574.412     -0.630      0.529   -1488.011     763.926\n",
       "neighbourhood_la verneda i la pau                           -135.9163    199.576     -0.681      0.496    -527.127     255.294\n",
       "neighbourhood_la vila de gràcia                               71.5025     48.472      1.475      0.140     -23.513     166.518\n",
       "neighbourhood_les corts                                        4.3138     59.487      0.073      0.942    -112.293     120.921\n",
       "neighbourhood_les roquetes                                  -151.3758    333.358     -0.454      0.650    -804.827     502.075\n",
       "neighbourhood_les tres torres                                 57.6697     88.189      0.654      0.513    -115.200     230.539\n",
       "neighbourhood_montbau                                         -4.7893    364.437     -0.013      0.990    -719.162     709.583\n",
       "neighbourhood_navas                                          -72.0668    109.794     -0.656      0.512    -287.286     143.153\n",
       "neighbourhood_pedralbes                                      287.4525     92.933      3.093      0.002     105.284     469.621\n",
       "neighbourhood_porta                                          -69.0167    176.130     -0.392      0.695    -414.269     276.235\n",
       "neighbourhood_sant andreu                                   -160.4625    112.240     -1.430      0.153    -380.477      59.552\n",
       "neighbourhood_sant antoni                                    -79.6247     55.650     -1.431      0.153    -188.711      29.462\n",
       "neighbourhood_sant genís dels agudells                       526.6828    364.937      1.443      0.149    -188.671    1242.037\n",
       "neighbourhood_sant gervasi - galvany                         181.4897     47.625      3.811      0.000      88.134     274.846\n",
       "neighbourhood_sant gervasi - la bonanova                     222.2683     63.935      3.476      0.001      96.943     347.594\n",
       "neighbourhood_sant martí de provençals                      -145.0842    145.040     -1.000      0.317    -429.393     139.224\n",
       "neighbourhood_sant pere, santa caterina i la ribera          -25.1701     48.089     -0.523      0.601    -119.434      69.094\n",
       "neighbourhood_sants                                         -129.9863     57.378     -2.265      0.024    -242.459     -17.513\n",
       "neighbourhood_sarrià                                         257.7697     67.669      3.809      0.000     125.123     390.416\n",
       "neighbourhood_torre baró                                    -138.3700    815.271     -0.170      0.865   -1736.471    1459.731\n",
       "neighbourhood_vallcarca i els penitents                      -31.3328    108.964     -0.288      0.774    -244.926     182.260\n",
       "neighbourhood_vallvidrera, el tibidabo i les planes           21.5536    195.840      0.110      0.912    -362.334     405.441\n",
       "neighbourhood_verdun                                          60.2572    469.337      0.128      0.898    -859.741     980.256\n",
       "neighbourhood_vilapicina i la torre llobeta                 -132.0840    135.505     -0.975      0.330    -397.703     133.535\n",
       "realestate_size_Grans                                        -45.7021     30.078     -1.519      0.129    -104.662      13.257\n",
       "realestate_size_Mitja                                       -216.7015     28.914     -7.495      0.000    -273.378    -160.025\n",
       "realestate_size_Molt grans                                    84.0650     30.419      2.764      0.006      24.438     143.692\n",
       "realestate_size_Particular                                  -272.3555     43.143     -6.313      0.000    -356.926    -187.785\n",
       "realestate_size_Petit                                       -240.8244     29.341     -8.208      0.000    -298.339    -183.309\n",
       "bathrooms                                                    296.2016     17.226     17.195      0.000     262.435     329.968\n",
       "discount                                                       0.3117      0.040      7.806      0.000       0.233       0.390\n",
       "rooms                                                        -44.2363     10.244     -4.318      0.000     -64.316     -24.156\n",
       "sqft_m2                                                       11.1224      0.220     50.513      0.000      10.691      11.554\n",
       "==============================================================================\n",
       "Omnibus:                    14884.068   Durbin-Watson:                   0.944\n",
       "Prob(Omnibus):                  0.000   Jarque-Bera (JB):         21817769.847\n",
       "Skew:                           9.049   Prob(JB):                         0.00\n",
       "Kurtosis:                     233.869   Cond. No.                     1.60e+17\n",
       "==============================================================================\n",
       "\n",
       "Notes:\n",
       "[1] Standard Errors assume that the covariance matrix of the errors is correctly specified.\n",
       "[2] The smallest eigenvalue is 5.44e-26. This might indicate that there are\n",
       "strong multicollinearity problems or that the design matrix is singular.\n",
       "\"\"\""
      ]
     },
     "execution_count": 283,
     "metadata": {},
     "output_type": "execute_result"
    }
   ],
   "source": [
    "from sklearn.linear_model import LinearRegression\n",
    "from sklearn.model_selection import cross_val_score\n",
    "from sklearn.preprocessing import StandardScaler\n",
    "\n",
    "from statsmodels.api import OLS\n",
    "import statsmodels.api as sm\n",
    "\n",
    "\n",
    "X = apartments_regression_cod.drop(columns = 'price')\n",
    "y = apartments_regression_cod['price']\n",
    "reg = OLS(y,X).fit()\n",
    "\n",
    "reg.summary()"
   ]
  },
  {
   "cell_type": "code",
   "execution_count": 284,
   "metadata": {},
   "outputs": [
    {
     "data": {
      "image/png": "[encoded data removed]",
      "text/plain": [
       "<Figure size 432x288 with 1 Axes>"
      ]
     },
     "metadata": {
      "needs_background": "light"
     },
     "output_type": "display_data"
    }
   ],
   "source": [
    "import scipy.stats as stats\n",
    "res = reg.resid # residuals\n",
    "fig = sm.qqplot(res, stats.t, fit=True, line=\"45\")\n",
    "plt.show()\n",
    "\n"
   ]
  },
  {
   "cell_type": "markdown",
   "metadata": {},
   "source": [
    "### Regessió amb arbre"
   ]
  },
  {
   "cell_type": "code",
   "execution_count": 285,
   "metadata": {},
   "outputs": [
    {
     "data": {
      "text/plain": [
       "GradientBoostingRegressor()"
      ]
     },
     "execution_count": 285,
     "metadata": {},
     "output_type": "execute_result"
    }
   ],
   "source": [
    "from sklearn.model_selection import train_test_split\n",
    "from sklearn.ensemble import GradientBoostingRegressor\n",
    "import seaborn as sb; \n",
    "\n",
    "\n",
    "X = apartments_regression_cod.drop(columns = 'price')\n",
    "y = apartments_regression_cod['price']\n",
    "\n",
    "X_train, X_test, y_train, y_test = train_test_split(X, y, test_size=0.33, random_state=42)\n",
    "model = GradientBoostingRegressor()\n",
    "\n",
    "model.fit(X_train, y_train)"
   ]
  },
  {
   "cell_type": "code",
   "execution_count": 286,
   "metadata": {},
   "outputs": [
    {
     "name": "stdout",
     "output_type": "stream",
     "text": [
      "El model té una precisió pel conjunt de test de: 64.54%\n"
     ]
    }
   ],
   "source": [
    "accuracy = model.score(X_test, y_test)\n",
    "\n",
    "print(\"El model té una precisió pel conjunt de test de: \"+str(round(accuracy*100,2))+\"%\")"
   ]
  },
  {
   "cell_type": "markdown",
   "metadata": {},
   "source": [
    "### Classificació sobre preu inflat"
   ]
  },
  {
   "cell_type": "code",
   "execution_count": 331,
   "metadata": {},
   "outputs": [
    {
     "data": {
      "text/plain": [
       "<matplotlib.collections.PathCollection at 0x7f46155df0f0>"
      ]
     },
     "execution_count": 331,
     "metadata": {},
     "output_type": "execute_result"
    },
    {
     "data": {
      "image/png": "[encoded data removed]",
      "text/plain": [
       "<Figure size 432x288 with 1 Axes>"
      ]
     },
     "metadata": {
      "needs_background": "light"
     },
     "output_type": "display_data"
    }
   ],
   "source": [
    "plt.scatter(apartments.longitude,apartments.latitude, s=0.1, alpha=0.6, cmap='viridis')\n"
   ]
  },
  {
   "cell_type": "code",
   "execution_count": 288,
   "metadata": {},
   "outputs": [
    {
     "data": {
      "image/png": "[encoded data removed]",
      "text/plain": [
       "<Figure size 432x288 with 1 Axes>"
      ]
     },
     "metadata": {
      "needs_background": "light"
     },
     "output_type": "display_data"
    }
   ],
   "source": [
    "Nc = range(1, 20)\n",
    "kmeans = [cluster.KMeans(n_clusters=i) for i in Nc]\n",
    "kmeans\n",
    "score = [kmeans[i].fit(X).inertia_ for i in range(len(kmeans))]\n",
    "score\n",
    "plt.plot(Nc,score)\n",
    "plt.xlabel('K')\n",
    "plt.ylabel('SSE')\n",
    "plt.title('Corba Elbow')\n",
    "plt.xticks(Nc)\n",
    "plt.show()"
   ]
  },
  {
   "cell_type": "code",
   "execution_count": 334,
   "metadata": {},
   "outputs": [
    {
     "data": {
      "text/plain": [
       "array([ 0, -1, -1, ...,  0, -1, -1])"
      ]
     },
     "execution_count": 334,
     "metadata": {},
     "output_type": "execute_result"
    },
    {
     "data": {
      "image/png": "[encoded data removed]",
      "text/plain": [
       "<Figure size 432x288 with 1 Axes>"
      ]
     },
     "metadata": {
      "needs_background": "light"
     },
     "output_type": "display_data"
    }
   ],
   "source": [
    "apartments['diff_mitjana'] = ((apartments['price']/(apartments.neighb_meanprice*apartments.sqft_m2))-1)*100\n",
    "X = apartments[[\"longitude\", \"latitude\"]].values\n",
    "from sklearn import cluster \n",
    "clustering = cluster.DBSCAN(eps=0.5, min_samples=20).fit(apartments[['diff_mitjana']].values)\n",
    "\n",
    "y_kmeans = clustering.fit_predict(apartments[['diff_mitjana']].values)\n",
    "plt.scatter(X[:, 0], X[:, 1], c=y_kmeans,alpha=1, s=0.3, cmap='tab20')\n",
    "plt.title(\"Dataset Blobs: DBSCAN\")\n",
    "y_kmeans"
   ]
  },
  {
   "cell_type": "code",
   "execution_count": 308,
   "metadata": {},
   "outputs": [
    {
     "name": "stdout",
     "output_type": "stream",
     "text": [
      "0.9935785507395428\n"
     ]
    }
   ],
   "source": [
    "from scipy.cluster.hierarchy import dendrogram, linkage, cophenet, fcluster\n",
    "from scipy.spatial.distance import pdist\n",
    "\n",
    "X = apartments[[\"longitude\", \"latitude\"]].values\n",
    "\n",
    "Z = linkage(apartments[['diff_mitjana']].values, 'centroid')\n",
    "c, coph_dists = cophenet(Z, pdist(apartments[['diff_mitjana']].values))\n",
    "print(c)\n"
   ]
  },
  {
   "cell_type": "code",
   "execution_count": 335,
   "metadata": {},
   "outputs": [
    {
     "data": {
      "image/png": "[encoded data removed]",
      "text/plain": [
       "<Figure size 720x576 with 1 Axes>"
      ]
     },
     "metadata": {
      "needs_background": "light"
     },
     "output_type": "display_data"
    }
   ],
   "source": [
    "\n",
    "clusters = fcluster(Z, 30, criterion='maxclust')\n",
    "plt.figure(figsize=(10, 8))\n",
    "plt.scatter(X[:, 0], X[:, 1], c=clusters, cmap='tab20',alpha=1, s=0.3)\n",
    "plt.show()"
   ]
  },
  {
   "cell_type": "code",
   "execution_count": null,
   "metadata": {},
   "outputs": [],
   "source": []
  }
 ],
 "metadata": {
  "kernelspec": {
   "display_name": "Python 3",
   "language": "python",
   "name": "python3"
  },
  "language_info": {
   "codemirror_mode": {
    "name": "ipython",
    "version": 3
   },
   "file_extension": ".py",
   "mimetype": "text/x-python",
   "name": "python",
   "nbconvert_exporter": "python",
   "pygments_lexer": "ipython3",
   "version": "3.6.9"
  }
 },
 "nbformat": 4,
 "nbformat_minor": 4
}
